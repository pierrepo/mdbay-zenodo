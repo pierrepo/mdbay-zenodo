{
 "cells": [
  {
   "cell_type": "markdown",
   "id": "equipped-fusion",
   "metadata": {},
   "source": [
    "# Search for molecular dynamics datasets in Zenodo"
   ]
  },
  {
   "cell_type": "code",
   "execution_count": 1,
   "id": "anticipated-trading",
   "metadata": {},
   "outputs": [],
   "source": [
    "from IPython.display import JSON\n",
    "import pandas as pd\n",
    "import requests"
   ]
  },
  {
   "cell_type": "markdown",
   "id": "visible-belfast",
   "metadata": {},
   "source": [
    "Create a token access here: <https://zenodo.org/account/settings/applications/tokens/new/>  \n",
    "and store it in the file `access_token.txt`. This file is ignored from git."
   ]
  },
  {
   "cell_type": "code",
   "execution_count": 2,
   "id": "formed-sword",
   "metadata": {},
   "outputs": [],
   "source": [
    "ACCESS_TOKEN = open(\"access_token.txt\", \"r\").read().strip()"
   ]
  },
  {
   "cell_type": "markdown",
   "id": "reserved-raleigh",
   "metadata": {},
   "source": [
    "Test token with basic query"
   ]
  },
  {
   "cell_type": "code",
   "execution_count": 3,
   "id": "binding-butterfly",
   "metadata": {},
   "outputs": [
    {
     "data": {
      "text/plain": [
       "200"
      ]
     },
     "execution_count": 3,
     "metadata": {},
     "output_type": "execute_result"
    }
   ],
   "source": [
    "r = requests.get('https://zenodo.org/api/deposit/depositions',\n",
    "                 params={'access_token': ACCESS_TOKEN})\n",
    "r.status_code"
   ]
  },
  {
   "cell_type": "code",
   "execution_count": 4,
   "id": "driving-differential",
   "metadata": {},
   "outputs": [],
   "source": [
    "def search_zenodo(page=1, hits_per_page=10, year=2016):\n",
    "    response = requests.get(\"https://zenodo.org/api/records\",\n",
    "                            params={\"q\": (\"(title:(+molecular +dynamics) OR description:(+molecular +dynamics)')\"\n",
    "                                         f\" AND publication_date:[{year}-01-01 TO {year}-12-31]\"\n",
    "                                          \" AND access_right:open\"),\n",
    "                                    \"type\": \"dataset\",\n",
    "                                    \"size\": hits_per_page,\n",
    "                                    \"page\": page,\n",
    "                                    \"status\": \"published\",\n",
    "                                    \"access_token\": ACCESS_TOKEN})\n",
    "    return response.json()"
   ]
  },
  {
   "cell_type": "markdown",
   "id": "economic-radius",
   "metadata": {},
   "source": [
    "### Test query"
   ]
  },
  {
   "cell_type": "code",
   "execution_count": 5,
   "id": "latest-immigration",
   "metadata": {},
   "outputs": [
    {
     "data": {
      "application/json": {
       "aggregations": {
        "access_right": {
         "buckets": [
          {
           "doc_count": 84,
           "key": "open"
          }
         ],
         "doc_count_error_upper_bound": 0,
         "sum_other_doc_count": 0
        },
        "file_type": {
         "buckets": [
          {
           "doc_count": 49,
           "key": "pdf"
          },
          {
           "doc_count": 13,
           "key": "gro"
          },
          {
           "doc_count": 13,
           "key": "xtc"
          },
          {
           "doc_count": 12,
           "key": "tpr"
          },
          {
           "doc_count": 10,
           "key": "top"
          },
          {
           "doc_count": 8,
           "key": "mdp"
          },
          {
           "doc_count": 8,
           "key": "ndx"
          },
          {
           "doc_count": 7,
           "key": "dcd"
          },
          {
           "doc_count": 7,
           "key": "gz"
          },
          {
           "doc_count": 5,
           "key": "zip"
          }
         ],
         "doc_count_error_upper_bound": 0,
         "sum_other_doc_count": 35
        },
        "keywords": {
         "buckets": [
          {
           "doc_count": 7,
           "key": "molecular dynamics"
          },
          {
           "doc_count": 4,
           "key": "ATP synthase"
          },
          {
           "doc_count": 4,
           "key": "permeability transition"
          },
          {
           "doc_count": 4,
           "key": "webinar"
          },
          {
           "doc_count": 2,
           "key": "CUDA"
          },
          {
           "doc_count": 2,
           "key": "Domain Specific Language"
          },
          {
           "doc_count": 2,
           "key": "Molecular Dynamics"
          },
          {
           "doc_count": 2,
           "key": "Performance Portable"
          },
          {
           "doc_count": 1,
           "key": "Adaptive resolution simulation"
          },
          {
           "doc_count": 1,
           "key": "Aging"
          }
         ],
         "doc_count_error_upper_bound": 0,
         "sum_other_doc_count": 111
        },
        "type": {
         "buckets": [
          {
           "doc_count": 45,
           "key": "publication",
           "subtype": {
            "buckets": [
             {
              "doc_count": 34,
              "key": "article"
             },
             {
              "doc_count": 4,
              "key": "workingpaper"
             },
             {
              "doc_count": 2,
              "key": "conferencepaper"
             },
             {
              "doc_count": 2,
              "key": "deliverable"
             },
             {
              "doc_count": 1,
              "key": "taxonomictreatment"
             },
             {
              "doc_count": 1,
              "key": "technicalnote"
             },
             {
              "doc_count": 1,
              "key": "thesis"
             }
            ],
            "doc_count_error_upper_bound": 0,
            "sum_other_doc_count": 0
           }
          },
          {
           "doc_count": 25,
           "key": "dataset",
           "subtype": {
            "buckets": [],
            "doc_count_error_upper_bound": 0,
            "sum_other_doc_count": 0
           }
          },
          {
           "doc_count": 7,
           "key": "software",
           "subtype": {
            "buckets": [],
            "doc_count_error_upper_bound": 0,
            "sum_other_doc_count": 0
           }
          },
          {
           "doc_count": 6,
           "key": "presentation",
           "subtype": {
            "buckets": [],
            "doc_count_error_upper_bound": 0,
            "sum_other_doc_count": 0
           }
          },
          {
           "doc_count": 1,
           "key": "poster",
           "subtype": {
            "buckets": [],
            "doc_count_error_upper_bound": 0,
            "sum_other_doc_count": 0
           }
          }
         ],
         "doc_count_error_upper_bound": 0,
         "sum_other_doc_count": 0
        }
       },
       "hits": {
        "hits": [
         {
          "conceptrecid": "757474",
          "created": "2017-02-02T09:39:35.153591+00:00",
          "doi": "10.5281/zenodo.267916",
          "files": [
           {
            "bucket": "8135d41d-f929-4d9d-8b64-faccfc0a5bba",
            "checksum": "md5:accc5227db707931b64d1f0f32895568",
            "key": "300ns_setup_I_all.pdb",
            "links": {
             "self": "https://zenodo.org/api/files/8135d41d-f929-4d9d-8b64-faccfc0a5bba/300ns_setup_I_all.pdb"
            },
            "size": 65072770,
            "type": "pdb"
           },
           {
            "bucket": "8135d41d-f929-4d9d-8b64-faccfc0a5bba",
            "checksum": "md5:46a6bb8125b10e434386911b9e9319c4",
            "key": "300ns_setup_II_all.pdb",
            "links": {
             "self": "https://zenodo.org/api/files/8135d41d-f929-4d9d-8b64-faccfc0a5bba/300ns_setup_II_all.pdb"
            },
            "size": 65072454,
            "type": "pdb"
           }
          ],
          "id": 267916,
          "links": {
           "badge": "https://zenodo.org/badge/doi/10.5281/zenodo.267916.svg",
           "bucket": "https://zenodo.org/api/files/8135d41d-f929-4d9d-8b64-faccfc0a5bba",
           "doi": "https://doi.org/10.5281/zenodo.267916",
           "html": "https://zenodo.org/record/267916",
           "latest": "https://zenodo.org/api/records/267916",
           "latest_html": "https://zenodo.org/record/267916",
           "self": "https://zenodo.org/api/records/267916"
          },
          "metadata": {
           "access_right": "open",
           "access_right_category": "success",
           "communities": [
            {
             "id": "zenodo"
            }
           ],
           "creators": [
            {
             "affiliation": "University of Helsinki, Finland",
             "name": "Outi Haapanen, Vivek Sharma"
            }
           ],
           "description": "<p>These are snapshots from the molecular dynamics simulations of complex I (setups I and II). These can be loaded in the VMD software for visualization, and 'segname' keyword can be used to distinguish the different parts of the protein.</p>",
           "doi": "10.5281/zenodo.267916",
           "license": {
            "id": "CC-BY-4.0"
           },
           "publication_date": "2017-02-02",
           "relations": {
            "version": [
             {
              "count": 1,
              "index": 0,
              "is_last": true,
              "last_child": {
               "pid_type": "recid",
               "pid_value": "267916"
              },
              "parent": {
               "pid_type": "recid",
               "pid_value": "757474"
              }
             }
            ]
           },
           "resource_type": {
            "title": "Dataset",
            "type": "dataset"
           },
           "title": "Simulation snapshots of complex I molecular dynamics simulation"
          },
          "owners": [
           26760
          ],
          "revision": 6,
          "stats": {
           "downloads": 27,
           "unique_downloads": 15,
           "unique_views": 135,
           "version_downloads": 27,
           "version_unique_downloads": 15,
           "version_unique_views": 135,
           "version_views": 141,
           "version_volume": 1756961946,
           "views": 141,
           "volume": 1756961946
          },
          "updated": "2020-01-24T19:22:38.211319+00:00"
         },
         {
          "conceptdoi": "10.5281/zenodo.894324",
          "conceptrecid": "894324",
          "created": "2017-09-18T13:09:23.838134+00:00",
          "doi": "10.5281/zenodo.894325",
          "files": [
           {
            "bucket": "5fe37736-746b-4307-a22e-d41f25a3c5fa",
            "checksum": "md5:5344307a97ed21670d493add286d3967",
            "key": "Anatase-001-traj.pdb.gz",
            "links": {
             "self": "https://zenodo.org/api/files/5fe37736-746b-4307-a22e-d41f25a3c5fa/Anatase-001-traj.pdb.gz"
            },
            "size": 905673742,
            "type": "gz"
           },
           {
            "bucket": "5fe37736-746b-4307-a22e-d41f25a3c5fa",
            "checksum": "md5:e803855d6685421dfc1e4e9271409038",
            "key": "Anatase-100-traj.pdb.gz",
            "links": {
             "self": "https://zenodo.org/api/files/5fe37736-746b-4307-a22e-d41f25a3c5fa/Anatase-100-traj.pdb.gz"
            },
            "size": 654879181,
            "type": "gz"
           },
           {
            "bucket": "5fe37736-746b-4307-a22e-d41f25a3c5fa",
            "checksum": "md5:b670e2e7aab7a63981e7f53cecec7387",
            "key": "Anatase-101-traj.pdb.gz",
            "links": {
             "self": "https://zenodo.org/api/files/5fe37736-746b-4307-a22e-d41f25a3c5fa/Anatase-101-traj.pdb.gz"
            },
            "size": 669859284,
            "type": "gz"
           },
           {
            "bucket": "5fe37736-746b-4307-a22e-d41f25a3c5fa",
            "checksum": "md5:26259de13bf5da9b57dc8443ba82a677",
            "key": "README",
            "links": {
             "self": "https://zenodo.org/api/files/5fe37736-746b-4307-a22e-d41f25a3c5fa/README"
            },
            "size": 549,
            "type": ""
           },
           {
            "bucket": "5fe37736-746b-4307-a22e-d41f25a3c5fa",
            "checksum": "md5:667e9cb3cd71d4cf1b45c55e8d63a4f6",
            "key": "Rutile-001-traj.pdb.gz",
            "links": {
             "self": "https://zenodo.org/api/files/5fe37736-746b-4307-a22e-d41f25a3c5fa/Rutile-001-traj.pdb.gz"
            },
            "size": 1171822480,
            "type": "gz"
           },
           {
            "bucket": "5fe37736-746b-4307-a22e-d41f25a3c5fa",
            "checksum": "md5:9f862976c0775d58f84b39c382a57015",
            "key": "Rutile-100-traj.pdb.gz",
            "links": {
             "self": "https://zenodo.org/api/files/5fe37736-746b-4307-a22e-d41f25a3c5fa/Rutile-100-traj.pdb.gz"
            },
            "size": 723773130,
            "type": "gz"
           },
           {
            "bucket": "5fe37736-746b-4307-a22e-d41f25a3c5fa",
            "checksum": "md5:f245e7b351108dd92879c8f178eef4d6",
            "key": "Rutile-110-traj.pdb.gz",
            "links": {
             "self": "https://zenodo.org/api/files/5fe37736-746b-4307-a22e-d41f25a3c5fa/Rutile-110-traj.pdb.gz"
            },
            "size": 683700579,
            "type": "gz"
           }
          ],
          "id": 894325,
          "links": {
           "badge": "https://zenodo.org/badge/doi/10.5281/zenodo.894325.svg",
           "bucket": "https://zenodo.org/api/files/5fe37736-746b-4307-a22e-d41f25a3c5fa",
           "conceptbadge": "https://zenodo.org/badge/doi/10.5281/zenodo.894324.svg",
           "conceptdoi": "https://doi.org/10.5281/zenodo.894324",
           "doi": "https://doi.org/10.5281/zenodo.894325",
           "html": "https://zenodo.org/record/894325",
           "latest": "https://zenodo.org/api/records/894325",
           "latest_html": "https://zenodo.org/record/894325",
           "self": "https://zenodo.org/api/records/894325"
          },
          "metadata": {
           "access_right": "open",
           "access_right_category": "success",
           "creators": [
            {
             "affiliation": "Stockholm University,  Dep. of materials and environmental chemistry",
             "name": "Agosta, Lorenzo"
            },
            {
             "affiliation": "Stockholm University,  Dep. of materials and environmental chemistry",
             "name": "Brandt, Erik"
            },
            {
             "affiliation": "Stockholm University,  Dep. of materials and environmental chemistry",
             "name": "Lyubartsev, Alexander"
            }
           ],
           "description": "<p>This data set contains trajectories of ab-initio molecular dynamics simulations of TiO<sub>2</sub> surfaces in water described in the paper:</p>\n\n<p>L.Agosta, E.G.Brandt and A.P.Lyubartsev<br>\n\"Diffusion and reaction pathways of water near fully hydrated TiO<sub>2</sub> surfaces from ab initio molecular dynamics\",<br>\nJ.Chem.Phys., 147, 024704 (2107)   doi: http://dx.doi.org/10.1063/1.4991381</p>\n\n<p>Trajectories of 6 fully hydrated TiO2 surfaces are stored under respective names. Each trajectory file contains 50 ps of simulation with frames saved every 0.0005 ps. Format: PDB, gzipped.</p>\n\n<p> </p>",
           "doi": "10.5281/zenodo.894325",
           "grants": [
            {
             "acronym": "SmartNanoTox",
             "code": "686098",
             "funder": {
              "acronyms": [],
              "doi": "10.13039/501100000780",
              "links": {
               "self": "https://zenodo.org/api/funders/10.13039/501100000780"
              },
              "name": "European Commission"
             },
             "links": {
              "self": "https://zenodo.org/api/grants/10.13039/501100000780::686098"
             },
             "program": "H2020",
             "title": "Smart Tools for Gauging Nano Hazards"
            }
           ],
           "journal": {
            "pages": "024704",
            "title": "Journal of Chemical Physics",
            "volume": "147"
           },
           "keywords": [
            "hydrated TiO2 surface",
            "ab-initio molecular dynamics",
            "water reactivity"
           ],
           "license": {
            "id": "CC-BY-4.0"
           },
           "publication_date": "2017-09-18",
           "related_identifiers": [
            {
             "identifier": "10.5281/zenodo.894324",
             "relation": "isVersionOf",
             "scheme": "doi"
            }
           ],
           "relations": {
            "version": [
             {
              "count": 1,
              "index": 0,
              "is_last": true,
              "last_child": {
               "pid_type": "recid",
               "pid_value": "894325"
              },
              "parent": {
               "pid_type": "recid",
               "pid_value": "894324"
              }
             }
            ]
           },
           "resource_type": {
            "title": "Dataset",
            "type": "dataset"
           },
           "title": "Ab-initio molecular dynamics trajectories of fully hydrated TiO2 surfaces"
          },
          "owners": [
           11108
          ],
          "revision": 6,
          "stats": {
           "downloads": 63,
           "unique_downloads": 23,
           "unique_views": 76,
           "version_downloads": 63,
           "version_unique_downloads": 23,
           "version_unique_views": 76,
           "version_views": 85,
           "version_volume": 38493193601,
           "views": 85,
           "volume": 38493193601
          },
          "updated": "2020-01-24T19:24:58.862465+00:00"
         },
         {
          "conceptrecid": "795564",
          "created": "2017-04-11T08:59:46.933694+00:00",
          "doi": "10.5281/zenodo.496147",
          "files": [
           {
            "bucket": "af29a254-b3db-4e45-9dc9-11af2c390b91",
            "checksum": "md5:0369e78e2bb7357e2aa6e0fbd7703d09",
            "key": "paper_data.tar.gz",
            "links": {
             "self": "https://zenodo.org/api/files/af29a254-b3db-4e45-9dc9-11af2c390b91/paper_data.tar.gz"
            },
            "size": 15648766,
            "type": "gz"
           }
          ],
          "id": 496147,
          "links": {
           "badge": "https://zenodo.org/badge/doi/10.5281/zenodo.496147.svg",
           "bucket": "https://zenodo.org/api/files/af29a254-b3db-4e45-9dc9-11af2c390b91",
           "doi": "https://doi.org/10.5281/zenodo.496147",
           "html": "https://zenodo.org/record/496147",
           "latest": "https://zenodo.org/api/records/496147",
           "latest_html": "https://zenodo.org/record/496147",
           "self": "https://zenodo.org/api/records/496147"
          },
          "metadata": {
           "access_right": "open",
           "access_right_category": "success",
           "creators": [
            {
             "affiliation": "University of Bath",
             "name": "Saunders,William Robert"
            }
           ],
           "description": "<p>The archive contains the supporting data for the results described in the paper titled \"A Domain Specific Language for Performance Portable Molecular Dynamics Algorithms\".</p>\n\n<p>For more information see either the individual README files or consult the project git repository:</p>\n\n<p>https://bitbucket.org/wrs20/ppmd</p>\n\n<p> </p>\n\n<p>Copyright W.R.Saunders 2017</p>",
           "doi": "10.5281/zenodo.496147",
           "keywords": [
            "Domain Specific Language",
            "Performance Portable",
            "CUDA",
            "Molecular Dynamics"
           ],
           "license": {
            "id": "CC-BY-4.0"
           },
           "publication_date": "2017-04-10",
           "relations": {
            "version": [
             {
              "count": 1,
              "index": 0,
              "is_last": true,
              "last_child": {
               "pid_type": "recid",
               "pid_value": "496147"
              },
              "parent": {
               "pid_type": "recid",
               "pid_value": "795564"
              }
             }
            ]
           },
           "resource_type": {
            "title": "Dataset",
            "type": "dataset"
           },
           "title": "Data Release: A Domain Specific Language for Performance Portable Molecular Dynamics Algorithms"
          },
          "owners": [
           30335
          ],
          "revision": 5,
          "stats": {
           "downloads": 1,
           "unique_downloads": 1,
           "unique_views": 13,
           "version_downloads": 1,
           "version_unique_downloads": 1,
           "version_unique_views": 13,
           "version_views": 15,
           "version_volume": 15648766,
           "views": 15,
           "volume": 15648766
          },
          "updated": "2020-01-24T19:21:52.701782+00:00"
         },
         {
          "conceptdoi": "10.5281/zenodo.847636",
          "conceptrecid": "847636",
          "created": "2017-08-23T14:48:19.553792+00:00",
          "doi": "10.5281/zenodo.847637",
          "files": [
           {
            "bucket": "19097435-7027-4270-b0f1-400d289eb8a3",
            "checksum": "md5:91fc5d558605d630d0f0a488ceb503c2",
            "key": "AT_P-gp_in_complex_bilayer_1.gro",
            "links": {
             "self": "https://zenodo.org/api/files/19097435-7027-4270-b0f1-400d289eb8a3/AT_P-gp_in_complex_bilayer_1.gro"
            },
            "size": 17912352,
            "type": "gro"
           },
           {
            "bucket": "19097435-7027-4270-b0f1-400d289eb8a3",
            "checksum": "md5:a019434c53a0aff3359981fb1e42da80",
            "key": "AT_P-gp_in_complex_bilayer_1.xtc",
            "links": {
             "self": "https://zenodo.org/api/files/19097435-7027-4270-b0f1-400d289eb8a3/AT_P-gp_in_complex_bilayer_1.xtc"
            },
            "size": 194679880,
            "type": "xtc"
           },
           {
            "bucket": "19097435-7027-4270-b0f1-400d289eb8a3",
            "checksum": "md5:97a768c99e0c4e5017a6d908de7ed010",
            "key": "AT_P-gp_in_complex_bilayer_2.gro",
            "links": {
             "self": "https://zenodo.org/api/files/19097435-7027-4270-b0f1-400d289eb8a3/AT_P-gp_in_complex_bilayer_2.gro"
            },
            "size": 17903106,
            "type": "gro"
           },
           {
            "bucket": "19097435-7027-4270-b0f1-400d289eb8a3",
            "checksum": "md5:8e019fe472fd5492ad32dc9318ec88b7",
            "key": "AT_P-gp_in_complex_bilayer_2.xtc",
            "links": {
             "self": "https://zenodo.org/api/files/19097435-7027-4270-b0f1-400d289eb8a3/AT_P-gp_in_complex_bilayer_2.xtc"
            },
            "size": 194731580,
            "type": "xtc"
           },
           {
            "bucket": "19097435-7027-4270-b0f1-400d289eb8a3",
            "checksum": "md5:7e347e5dad1fb469fa55a231debd168c",
            "key": "AT_P-gp_in_complex_bilayer_3.gro",
            "links": {
             "self": "https://zenodo.org/api/files/19097435-7027-4270-b0f1-400d289eb8a3/AT_P-gp_in_complex_bilayer_3.gro"
            },
            "size": 17894343,
            "type": "gro"
           },
           {
            "bucket": "19097435-7027-4270-b0f1-400d289eb8a3",
            "checksum": "md5:0463a8ea7420d54f6b7de2bd2b5ec63f",
            "key": "AT_P-gp_in_complex_bilayer_3.xtc",
            "links": {
             "self": "https://zenodo.org/api/files/19097435-7027-4270-b0f1-400d289eb8a3/AT_P-gp_in_complex_bilayer_3.xtc"
            },
            "size": 194486628,
            "type": "xtc"
           },
           {
            "bucket": "19097435-7027-4270-b0f1-400d289eb8a3",
            "checksum": "md5:5e311c6d94c828d5a2601eaaba8daf39",
            "key": "CG_P-gp_in_complex_bilayer_1.gro",
            "links": {
             "self": "https://zenodo.org/api/files/19097435-7027-4270-b0f1-400d289eb8a3/CG_P-gp_in_complex_bilayer_1.gro"
            },
            "size": 1670713,
            "type": "gro"
           },
           {
            "bucket": "19097435-7027-4270-b0f1-400d289eb8a3",
            "checksum": "md5:80559c2c5dfb9c063b84744c386d4d98",
            "key": "CG_P-gp_in_complex_bilayer_1.xtc",
            "links": {
             "self": "https://zenodo.org/api/files/19097435-7027-4270-b0f1-400d289eb8a3/CG_P-gp_in_complex_bilayer_1.xtc"
            },
            "size": 121751208,
            "type": "xtc"
           },
           {
            "bucket": "19097435-7027-4270-b0f1-400d289eb8a3",
            "checksum": "md5:cf7b1a0593b998e5eafbb038a5a00fad",
            "key": "CG_P-gp_in_complex_bilayer_2.gro",
            "links": {
             "self": "https://zenodo.org/api/files/19097435-7027-4270-b0f1-400d289eb8a3/CG_P-gp_in_complex_bilayer_2.gro"
            },
            "size": 1668643,
            "type": "gro"
           },
           {
            "bucket": "19097435-7027-4270-b0f1-400d289eb8a3",
            "checksum": "md5:958d3d843aed58d7f8f502b5a63e89c7",
            "key": "CG_P-gp_in_complex_bilayer_2.xtc",
            "links": {
             "self": "https://zenodo.org/api/files/19097435-7027-4270-b0f1-400d289eb8a3/CG_P-gp_in_complex_bilayer_2.xtc"
            },
            "size": 121593516,
            "type": "xtc"
           },
           {
            "bucket": "19097435-7027-4270-b0f1-400d289eb8a3",
            "checksum": "md5:447761ea2c2e254adb1b43f7ec6aa46f",
            "key": "CG_P-gp_in_complex_bilayer_3.gro",
            "links": {
             "self": "https://zenodo.org/api/files/19097435-7027-4270-b0f1-400d289eb8a3/CG_P-gp_in_complex_bilayer_3.gro"
            },
            "size": 1670644,
            "type": "gro"
           },
           {
            "bucket": "19097435-7027-4270-b0f1-400d289eb8a3",
            "checksum": "md5:95268923079ecd76e9920be34b5fb572",
            "key": "CG_P-gp_in_complex_bilayer_3.xtc",
            "links": {
             "self": "https://zenodo.org/api/files/19097435-7027-4270-b0f1-400d289eb8a3/CG_P-gp_in_complex_bilayer_3.xtc"
            },
            "size": 121753064,
            "type": "xtc"
           }
          ],
          "id": 847637,
          "links": {
           "badge": "https://zenodo.org/badge/doi/10.5281/zenodo.847637.svg",
           "bucket": "https://zenodo.org/api/files/19097435-7027-4270-b0f1-400d289eb8a3",
           "conceptbadge": "https://zenodo.org/badge/doi/10.5281/zenodo.847636.svg",
           "conceptdoi": "https://doi.org/10.5281/zenodo.847636",
           "doi": "https://doi.org/10.5281/zenodo.847637",
           "html": "https://zenodo.org/record/847637",
           "latest": "https://zenodo.org/api/records/847637",
           "latest_html": "https://zenodo.org/record/847637",
           "self": "https://zenodo.org/api/records/847637"
          },
          "metadata": {
           "access_right": "open",
           "access_right_category": "success",
           "creators": [
            {
             "affiliation": "Department of Biochemistry, University of Oxford",
             "name": "Domicevica, Laura"
            },
            {
             "affiliation": "Department of Biochemistry, University of Oxford",
             "name": "Koldsø, Heidi"
            },
            {
             "affiliation": "Department of Biochemistry, University of Oxford",
             "name": "Biggin, Philip C."
            }
           ],
           "description": "<p>The topology (gro) and trajectory (xtc)  files for multiscale - coarse-grained (CG) and atomistic (AT)  molecular dynamics simulations of human P-glycoprotein in complex lipid bilayer. The coarse grained simulations are 10 microseconds long and the trajectories have 1 frame saved at every 10 ns, while the atomistic simulations are 100 ns long and have 2 frames saved at every nanosecond. </p>",
           "doi": "10.5281/zenodo.847637",
           "license": {
            "id": "GPL-3.0"
           },
           "notes": "LD is funded by a NC3Rs studentship and was also a Cephalosporin Scholar at Lady Margaret Hall, Oxford. We thank the Advanced Research Computing (ARC) facility, the EPSRC UK National Service for Computational Chemistry Software (NSCCS) at Imperial College London (grant no. EP/J003921/1) and the ARCHER UK National Supercomputing Services for computer time granted via the UK High-End Computing Consortium for Biomolecular Simulation, HECBioSim (http://www.hecbiosim.ac.uk), supported by EPSRC (grant no. EP/L000253/1). H.K. acknowledges a research fellowship from the Alfred Benzon Foundation. Work in PCB's laboratory is supported by the MRC (MR/M000435/1) and the BBSRC (BB/M006395/1).",
           "publication_date": "2017-08-23",
           "related_identifiers": [
            {
             "identifier": "10.5281/zenodo.847636",
             "relation": "isVersionOf",
             "scheme": "doi"
            }
           ],
           "relations": {
            "version": [
             {
              "count": 1,
              "index": 0,
              "is_last": true,
              "last_child": {
               "pid_type": "recid",
               "pid_value": "847637"
              },
              "parent": {
               "pid_type": "recid",
               "pid_value": "847636"
              }
             }
            ]
           },
           "resource_type": {
            "title": "Dataset",
            "type": "dataset"
           },
           "title": "Multiscale molecular dynamics simulations of human P-glycoprotein in complex lipid bilayer"
          },
          "owners": [
           20089
          ],
          "revision": 6,
          "stats": {
           "downloads": 40,
           "unique_downloads": 7,
           "unique_views": 45,
           "version_downloads": 40,
           "version_unique_downloads": 7,
           "version_unique_views": 45,
           "version_views": 47,
           "version_volume": 3255322328,
           "views": 47,
           "volume": 3255322328
          },
          "updated": "2020-01-24T19:22:03.897717+00:00"
         },
         {
          "conceptdoi": "10.5281/zenodo.1010437",
          "conceptrecid": "1010437",
          "created": "2018-06-13T12:46:48.312385+00:00",
          "doi": "10.5281/zenodo.1010438",
          "files": [
           {
            "bucket": "900007ea-a730-471e-b3de-b1be8c83f381",
            "checksum": "md5:817512b41798fa9d8518670fec1c8730",
            "key": "AMBER_run_prot.mdp",
            "links": {
             "self": "https://zenodo.org/api/files/900007ea-a730-471e-b3de-b1be8c83f381/AMBER_run_prot.mdp"
            },
            "size": 1801,
            "type": "mdp"
           },
           {
            "bucket": "900007ea-a730-471e-b3de-b1be8c83f381",
            "checksum": "md5:d9a4927523dfba35c43281684b534873",
            "key": "opc.itp",
            "links": {
             "self": "https://zenodo.org/api/files/900007ea-a730-471e-b3de-b1be8c83f381/opc.itp"
            },
            "size": 1492,
            "type": "itp"
           },
           {
            "bucket": "900007ea-a730-471e-b3de-b1be8c83f381",
            "checksum": "md5:0fa3b78a93851bef8cb4e2af0a328ea1",
            "key": "opc.top",
            "links": {
             "self": "https://zenodo.org/api/files/900007ea-a730-471e-b3de-b1be8c83f381/opc.top"
            },
            "size": 1709,
            "type": "top"
           },
           {
            "bucket": "900007ea-a730-471e-b3de-b1be8c83f381",
            "checksum": "md5:6b8348a05def41c65c4dd423d10e8cad",
            "key": "run1-3.xtc",
            "links": {
             "self": "https://zenodo.org/api/files/900007ea-a730-471e-b3de-b1be8c83f381/run1-3.xtc"
            },
            "size": 12955088876,
            "type": "xtc"
           },
           {
            "bucket": "900007ea-a730-471e-b3de-b1be8c83f381",
            "checksum": "md5:b123fd36c760225f860ce3298df86210",
            "key": "run.gro",
            "links": {
             "self": "https://zenodo.org/api/files/900007ea-a730-471e-b3de-b1be8c83f381/run.gro"
            },
            "size": 2193426,
            "type": "gro"
           },
           {
            "bucket": "900007ea-a730-471e-b3de-b1be8c83f381",
            "checksum": "md5:c6aeb8beb39946d6aed6be19aaa8b3e7",
            "key": "run.tpr",
            "links": {
             "self": "https://zenodo.org/api/files/900007ea-a730-471e-b3de-b1be8c83f381/run.tpr"
            },
            "size": 1420616,
            "type": "tpr"
           },
           {
            "bucket": "900007ea-a730-471e-b3de-b1be8c83f381",
            "checksum": "md5:7f031e04d4a6c5bce0ef9cf5e710afd9",
            "key": "topol.top",
            "links": {
             "self": "https://zenodo.org/api/files/900007ea-a730-471e-b3de-b1be8c83f381/topol.top"
            },
            "size": 483161,
            "type": "top"
           }
          ],
          "id": 1010438,
          "links": {
           "badge": "https://zenodo.org/badge/doi/10.5281/zenodo.1010438.svg",
           "bucket": "https://zenodo.org/api/files/900007ea-a730-471e-b3de-b1be8c83f381",
           "conceptbadge": "https://zenodo.org/badge/doi/10.5281/zenodo.1010437.svg",
           "conceptdoi": "https://doi.org/10.5281/zenodo.1010437",
           "doi": "https://doi.org/10.5281/zenodo.1010438",
           "html": "https://zenodo.org/record/1010438",
           "latest": "https://zenodo.org/api/records/1010438",
           "latest_html": "https://zenodo.org/record/1010438",
           "self": "https://zenodo.org/api/records/1010438"
          },
          "metadata": {
           "access_right": "open",
           "access_right_category": "success",
           "creators": [
            {
             "affiliation": "University of Helsinki",
             "name": "Ollila, O. H. Samuli"
            }
           ],
           "description": "<p>MD simulation data for Pseudomonas aeruginosa TonB-CTD. Simulated with Amber ff99SB-ILDN force field, OPC4 water model at 310K, Gromacs software package.</p>\n\n<p>Simulation reported in \"Rotational dynamics of proteins from spin relaxation times and molecular dynamics simulations\", Ollila et al. Submitted (2017).</p>",
           "doi": "10.5281/zenodo.1010438",
           "license": {
            "id": "CC-BY-4.0"
           },
           "publication_date": "2017-10-13",
           "related_identifiers": [
            {
             "identifier": "10.5281/zenodo.1010437",
             "relation": "isVersionOf",
             "scheme": "doi"
            }
           ],
           "relations": {
            "version": [
             {
              "count": 1,
              "index": 0,
              "is_last": true,
              "last_child": {
               "pid_type": "recid",
               "pid_value": "1010438"
              },
              "parent": {
               "pid_type": "recid",
               "pid_value": "1010437"
              }
             }
            ]
           },
           "resource_type": {
            "title": "Dataset",
            "type": "dataset"
           },
           "title": "MD simulation data for Pseudomonas aeruginosa TonB-CTD, Amber ff99SB-ILDN, OPC4, 310K, Gromacs"
          },
          "owners": [
           6608
          ],
          "revision": 4,
          "stats": {
           "downloads": 11,
           "unique_downloads": 6,
           "unique_views": 29,
           "version_downloads": 11,
           "version_unique_downloads": 6,
           "version_unique_views": 29,
           "version_views": 32,
           "version_volume": 3172953,
           "views": 32,
           "volume": 3172953
          },
          "updated": "2020-01-24T19:21:43.848489+00:00"
         },
         {
          "conceptdoi": "10.5281/zenodo.1010415",
          "conceptrecid": "1010415",
          "created": "2018-06-13T12:40:48.052180+00:00",
          "doi": "10.5281/zenodo.1010416",
          "files": [
           {
            "bucket": "a3bb2059-2366-40f6-a003-66336efcd05e",
            "checksum": "md5:dc67a4f717b477c810f626e7ae298302",
            "key": "AMBER_run_prot.mdp",
            "links": {
             "self": "https://zenodo.org/api/files/a3bb2059-2366-40f6-a003-66336efcd05e/AMBER_run_prot.mdp"
            },
            "size": 1804,
            "type": "mdp"
           },
           {
            "bucket": "a3bb2059-2366-40f6-a003-66336efcd05e",
            "checksum": "md5:0c323c710d4326bc886f6eb9c034b37c",
            "key": "HN.ndx",
            "links": {
             "self": "https://zenodo.org/api/files/a3bb2059-2366-40f6-a003-66336efcd05e/HN.ndx"
            },
            "size": 1840,
            "type": "ndx"
           },
           {
            "bucket": "a3bb2059-2366-40f6-a003-66336efcd05e",
            "checksum": "md5:fcb83acf8584e330cf4ea654ac867d93",
            "key": "run.gro",
            "links": {
             "self": "https://zenodo.org/api/files/a3bb2059-2366-40f6-a003-66336efcd05e/run.gro"
            },
            "size": 2193426,
            "type": "gro"
           },
           {
            "bucket": "a3bb2059-2366-40f6-a003-66336efcd05e",
            "checksum": "md5:97b9c9f6b2370abc95ef7dc3f59e52f6",
            "key": "run.tpr",
            "links": {
             "self": "https://zenodo.org/api/files/a3bb2059-2366-40f6-a003-66336efcd05e/run.tpr"
            },
            "size": 1420584,
            "type": "tpr"
           },
           {
            "bucket": "a3bb2059-2366-40f6-a003-66336efcd05e",
            "checksum": "md5:1c43a9cadf08cab527a1129b331ce4a3",
            "key": "run.xtc",
            "links": {
             "self": "https://zenodo.org/api/files/a3bb2059-2366-40f6-a003-66336efcd05e/run.xtc"
            },
            "size": 4322414564,
            "type": "xtc"
           }
          ],
          "id": 1010416,
          "links": {
           "badge": "https://zenodo.org/badge/doi/10.5281/zenodo.1010416.svg",
           "bucket": "https://zenodo.org/api/files/a3bb2059-2366-40f6-a003-66336efcd05e",
           "conceptbadge": "https://zenodo.org/badge/doi/10.5281/zenodo.1010415.svg",
           "conceptdoi": "https://doi.org/10.5281/zenodo.1010415",
           "doi": "https://doi.org/10.5281/zenodo.1010416",
           "html": "https://zenodo.org/record/1010416",
           "latest": "https://zenodo.org/api/records/1010416",
           "latest_html": "https://zenodo.org/record/1010416",
           "self": "https://zenodo.org/api/records/1010416"
          },
          "metadata": {
           "access_right": "open",
           "access_right_category": "success",
           "creators": [
            {
             "affiliation": "University of Helsinki",
             "name": "Ollila, O. H. Samuli"
            }
           ],
           "description": "<p>MD simulation data for Pseudomonas aeruginosa TonB-CTD. Simulated with Amber ff99SB-ILDN force field, tip4p water model at 298K, Gromacs software package.</p>\n\n<p>Simulation reported in \"Rotational dynamics of proteins from spin relaxation times and molecular dynamics simulations\", Ollila et al. Submitted (2017).</p>",
           "doi": "10.5281/zenodo.1010416",
           "license": {
            "id": "CC-BY-4.0"
           },
           "publication_date": "2017-10-13",
           "related_identifiers": [
            {
             "identifier": "10.5281/zenodo.1010415",
             "relation": "isVersionOf",
             "scheme": "doi"
            }
           ],
           "relations": {
            "version": [
             {
              "count": 1,
              "index": 0,
              "is_last": true,
              "last_child": {
               "pid_type": "recid",
               "pid_value": "1010416"
              },
              "parent": {
               "pid_type": "recid",
               "pid_value": "1010415"
              }
             }
            ]
           },
           "resource_type": {
            "title": "Dataset",
            "type": "dataset"
           },
           "title": "MD simulation data for Pseudomonas aeruginosa TonB-CTD, Amber ff99SB-ILDN, tip4p, 298K, Gromacs"
          },
          "owners": [
           6608
          ],
          "revision": 4,
          "stats": {
           "downloads": 14,
           "unique_downloads": 10,
           "unique_views": 72,
           "version_downloads": 14,
           "version_unique_downloads": 10,
           "version_unique_views": 72,
           "version_views": 78,
           "version_volume": 3635694,
           "views": 78,
           "volume": 3635694
          },
          "updated": "2020-01-24T19:25:25.958119+00:00"
         },
         {
          "conceptdoi": "10.5281/zenodo.1010405",
          "conceptrecid": "1010405",
          "created": "2018-06-13T12:44:32.573856+00:00",
          "doi": "10.5281/zenodo.1010406",
          "files": [
           {
            "bucket": "f89616a8-93f5-425c-b9df-8dbad64dd997",
            "checksum": "md5:0c323c710d4326bc886f6eb9c034b37c",
            "key": "HN.ndx",
            "links": {
             "self": "https://zenodo.org/api/files/f89616a8-93f5-425c-b9df-8dbad64dd997/HN.ndx"
            },
            "size": 1840,
            "type": "ndx"
           },
           {
            "bucket": "f89616a8-93f5-425c-b9df-8dbad64dd997",
            "checksum": "md5:5f7ef227b744ef3fe0e46b77703cd7e9",
            "key": "run.gro",
            "links": {
             "self": "https://zenodo.org/api/files/f89616a8-93f5-425c-b9df-8dbad64dd997/run.gro"
            },
            "size": 2193426,
            "type": "gro"
           },
           {
            "bucket": "f89616a8-93f5-425c-b9df-8dbad64dd997",
            "checksum": "md5:98289bf37cc25de40d8736f85cbcaca4",
            "key": "run.tpr",
            "links": {
             "self": "https://zenodo.org/api/files/f89616a8-93f5-425c-b9df-8dbad64dd997/run.tpr"
            },
            "size": 1420584,
            "type": "tpr"
           },
           {
            "bucket": "f89616a8-93f5-425c-b9df-8dbad64dd997",
            "checksum": "md5:a2947eecd5d6bab30ecbad5a165ec60e",
            "key": "run.xtc",
            "links": {
             "self": "https://zenodo.org/api/files/f89616a8-93f5-425c-b9df-8dbad64dd997/run.xtc"
            },
            "size": 4321983756,
            "type": "xtc"
           }
          ],
          "id": 1010406,
          "links": {
           "badge": "https://zenodo.org/badge/doi/10.5281/zenodo.1010406.svg",
           "bucket": "https://zenodo.org/api/files/f89616a8-93f5-425c-b9df-8dbad64dd997",
           "conceptbadge": "https://zenodo.org/badge/doi/10.5281/zenodo.1010405.svg",
           "conceptdoi": "https://doi.org/10.5281/zenodo.1010405",
           "doi": "https://doi.org/10.5281/zenodo.1010406",
           "html": "https://zenodo.org/record/1010406",
           "latest": "https://zenodo.org/api/records/1010406",
           "latest_html": "https://zenodo.org/record/1010406",
           "self": "https://zenodo.org/api/records/1010406"
          },
          "metadata": {
           "access_right": "open",
           "access_right_category": "success",
           "creators": [
            {
             "affiliation": "University of Helsinki",
             "name": "Ollila, O. H. Samuli"
            }
           ],
           "description": "<p>MD simulation data for Pseudomonas aeruginosa TonB-CTD. Simulated with Amber ff99SB-ILDN force field, tip4p water model at 310K, Gromacs software package.</p>\n\n<p>Simulation reported in \"Rotational dynamics of proteins from spin relaxation times and molecular dynamics simulations\", Ollila et al. Submitted (2017).</p>",
           "doi": "10.5281/zenodo.1010406",
           "license": {
            "id": "CC-BY-4.0"
           },
           "publication_date": "2017-10-13",
           "related_identifiers": [
            {
             "identifier": "10.5281/zenodo.1010405",
             "relation": "isVersionOf",
             "scheme": "doi"
            }
           ],
           "relations": {
            "version": [
             {
              "count": 1,
              "index": 0,
              "is_last": true,
              "last_child": {
               "pid_type": "recid",
               "pid_value": "1010406"
              },
              "parent": {
               "pid_type": "recid",
               "pid_value": "1010405"
              }
             }
            ]
           },
           "resource_type": {
            "title": "Dataset",
            "type": "dataset"
           },
           "title": "MD simulation data for Pseudomonas aeruginosa TonB-CTD, Amber ff99SB-ILDN, tip4p, 310K, Gromacs"
          },
          "owners": [
           6608
          ],
          "revision": 4,
          "stats": {
           "downloads": 5,
           "unique_downloads": 2,
           "unique_views": 24,
           "version_downloads": 5,
           "version_unique_downloads": 2,
           "version_unique_views": 24,
           "version_views": 26,
           "version_volume": 4327793032,
           "views": 26,
           "volume": 4327793032
          },
          "updated": "2020-01-21T07:22:51.765123+00:00"
         },
         {
          "conceptrecid": "793334",
          "created": "2017-05-10T16:10:26.981539+00:00",
          "doi": "10.5281/zenodo.438697",
          "files": [
           {
            "bucket": "4080dcde-10f8-4512-8f1e-4117569001eb",
            "checksum": "md5:efdaa1fa010e3d93a69f849da898e09a",
            "key": "ATPsynth_ca_mut.psf",
            "links": {
             "self": "https://zenodo.org/api/files/4080dcde-10f8-4512-8f1e-4117569001eb/ATPsynth_ca_mut.psf"
            },
            "size": 3610471,
            "type": "psf"
           },
           {
            "bucket": "4080dcde-10f8-4512-8f1e-4117569001eb",
            "checksum": "md5:e9eb5f159293f50889bd4c01e7a6051f",
            "key": "ATPsynth_woh2o_Ca_mut.dcd",
            "links": {
             "self": "https://zenodo.org/api/files/4080dcde-10f8-4512-8f1e-4117569001eb/ATPsynth_woh2o_Ca_mut.dcd"
            },
            "size": 30481600276,
            "type": "dcd"
           }
          ],
          "id": 438697,
          "links": {
           "badge": "https://zenodo.org/badge/doi/10.5281/zenodo.438697.svg",
           "bucket": "https://zenodo.org/api/files/4080dcde-10f8-4512-8f1e-4117569001eb",
           "doi": "https://doi.org/10.5281/zenodo.438697",
           "html": "https://zenodo.org/record/438697",
           "latest": "https://zenodo.org/api/records/438697",
           "latest_html": "https://zenodo.org/record/438697",
           "self": "https://zenodo.org/api/records/438697"
          },
          "metadata": {
           "access_right": "open",
           "access_right_category": "success",
           "creators": [
            {
             "affiliation": "Department of Biomedical Sciences, University of Padova, I-35131 Padova (Italy) - Consiglio Nazionale delle Ricerche Neuroscience Institute, I-35131 Padova (Italy)",
             "name": "Giorgio, Valentina"
            },
            {
             "affiliation": "Department of Biomedical Sciences, University of Padova, I-35131 Padova (Italy)",
             "name": "Burchell, Victoria"
            },
            {
             "affiliation": "Department of Biomedical Sciences, University of Padova, I-35131 Padova (Italy)",
             "name": "Schiavone, Marco"
            },
            {
             "affiliation": "Department of Biomedical Sciences, University of Padova, I-35131 Padova (Italy)",
             "name": "Bassot, Claudio"
            },
            {
             "affiliation": "Department of Biomedical Sciences, University of Padova, I-35131 Padova (Italy)",
             "name": "Minervini, Giovanni"
            },
            {
             "affiliation": "Department of Biomedical Sciences, University of Padova, I-35131 Padova (Italy) - Consiglio Nazionale delle Ricerche Neuroscience Institute, I-35131 Padova (Italy)",
             "name": "Petronilli, Valeria"
            },
            {
             "affiliation": "Department of Biology, University of Padova, I-35131 Padova (Italy)",
             "name": "Argenton, Francesco"
            },
            {
             "affiliation": "Vollum Institute, Oregon Health and Sciences University, Portland, OR, 97239 (USA)",
             "name": "Forte, Michael"
            },
            {
             "affiliation": "Department of Biomedical Sciences, University of Padova, I-35131 Padova (Italy) - Consiglio Nazionale delle Ricerche Neuroscience Institute, I-35131 Padova (Italy)",
             "name": "Tosatto, Silvio"
            },
            {
             "affiliation": "Department of Agricultural, Food, Environmental and Animal Sciences, University of Udine, I-33100 Udine (Italy)",
             "name": "Lippe, Giovanna"
            },
            {
             "affiliation": "Department of Biomedical Sciences, University of Padova, I-35131 Padova (Italy) - Consiglio Nazionale delle Ricerche Neuroscience Institute, I-35131 Padova (Italy)",
             "name": "Bernardi, Paolo"
            }
           ],
           "description": "<p>ATP synthase molecular dynamics simulations files for T163S mutants of the beta subunit binding calcium:</p>\n\n<p>50ns trajectory (ATPsynth_woh2o_Ca_mut.dcd) and corresponding psf file (ATPsynth_ca_mut.psf)</p>",
           "doi": "10.5281/zenodo.438697",
           "keywords": [
            "ATP synthase",
            "permeability transition",
            "molecular dynamics"
           ],
           "license": {
            "id": "CC-BY-4.0"
           },
           "notes": "This work was supported by grants from AIRC (IG17067 to PB), Telethon (GGP14037 to PB) and Fondation Leducq (16CVD04 to PB and MF).",
           "publication_date": "2017-05-10",
           "related_identifiers": [
            {
             "identifier": "10.15252/embr.201643354",
             "relation": "isSupplementTo",
             "scheme": "doi"
            }
           ],
           "relations": {
            "version": [
             {
              "count": 1,
              "index": 0,
              "is_last": true,
              "last_child": {
               "pid_type": "recid",
               "pid_value": "438697"
              },
              "parent": {
               "pid_type": "recid",
               "pid_value": "793334"
              }
             }
            ]
           },
           "resource_type": {
            "title": "Dataset",
            "type": "dataset"
           },
           "title": "Molecular dynamic trajectory of calcium binding T163S mutant for the article \"Ca 2+ binding to F-ATP synthase β subunit triggers the mitochondrial permeability transition\""
          },
          "owners": [
           29782
          ],
          "revision": 5,
          "stats": {
           "downloads": 10,
           "unique_downloads": 7,
           "unique_views": 35,
           "version_downloads": 10,
           "version_unique_downloads": 7,
           "version_unique_views": 35,
           "version_views": 35,
           "version_volume": 243860023150,
           "views": 35,
           "volume": 243860023150
          },
          "updated": "2020-01-24T19:22:44.433100+00:00"
         },
         {
          "conceptrecid": "793223",
          "created": "2017-05-10T16:10:18.882014+00:00",
          "doi": "10.5281/zenodo.438997",
          "files": [
           {
            "bucket": "1689ed4c-df93-4834-a6ff-1e717724188d",
            "checksum": "md5:f17d6e618d71c6d6e42dcb9e45cf9740",
            "key": "ATPsynth_mg_wt.psf",
            "links": {
             "self": "https://zenodo.org/api/files/1689ed4c-df93-4834-a6ff-1e717724188d/ATPsynth_mg_wt.psf"
            },
            "size": 3610763,
            "type": "psf"
           },
           {
            "bucket": "1689ed4c-df93-4834-a6ff-1e717724188d",
            "checksum": "md5:b7efbb1cf43d9ffd13d99c201f7e5d60",
            "key": "ATPsynth_woh2o_Mg_wt.dcd",
            "links": {
             "self": "https://zenodo.org/api/files/1689ed4c-df93-4834-a6ff-1e717724188d/ATPsynth_woh2o_Mg_wt.dcd"
            },
            "size": 30487000276,
            "type": "dcd"
           }
          ],
          "id": 438997,
          "links": {
           "badge": "https://zenodo.org/badge/doi/10.5281/zenodo.438997.svg",
           "bucket": "https://zenodo.org/api/files/1689ed4c-df93-4834-a6ff-1e717724188d",
           "doi": "https://doi.org/10.5281/zenodo.438997",
           "html": "https://zenodo.org/record/438997",
           "latest": "https://zenodo.org/api/records/438997",
           "latest_html": "https://zenodo.org/record/438997",
           "self": "https://zenodo.org/api/records/438997"
          },
          "metadata": {
           "access_right": "open",
           "access_right_category": "success",
           "creators": [
            {
             "affiliation": "Department of Biomedical Sciences, University of Padova, I-35131 Padova (Italy) - Consiglio Nazionale delle Ricerche Neuroscience Institute, I-35131 Padova (Italy)",
             "name": "Giorgio, Valentina"
            },
            {
             "affiliation": "Department of Biomedical Sciences, University of Padova, I-35131 Padova (Italy)",
             "name": "Burchell, Victoria"
            },
            {
             "affiliation": "Department of Biomedical Sciences, University of Padova, I-35131 Padova (Italy)",
             "name": "Schiavone, Marco"
            },
            {
             "affiliation": "Department of Biomedical Sciences, University of Padova, I-35131 Padova (Italy)",
             "name": "Bassot, Claudio"
            },
            {
             "affiliation": "Department of Biomedical Sciences, University of Padova, I-35131 Padova (Italy)",
             "name": "Minervini, Giovanni"
            },
            {
             "affiliation": "Department of Biomedical Sciences, University of Padova, I-35131 Padova (Italy) - Consiglio Nazionale delle Ricerche Neuroscience Institute, I-35131 Padova (Italy)",
             "name": "Petronilli, Valeria"
            },
            {
             "affiliation": "Department of Biology, University of Padova, I-35131 Padova (Italy)",
             "name": "Argenton, Francesco"
            },
            {
             "affiliation": "Vollum Institute, Oregon Health and Sciences University, Portland, OR, 97239 (USA)",
             "name": "Forte, Michael"
            },
            {
             "affiliation": "Department of Biomedical Sciences, University of Padova, I-35131 Padova (Italy) - Consiglio Nazionale delle Ricerche Neuroscience Institute, I-35131 Padova (Italy)",
             "name": "Tosatto, Silvio"
            },
            {
             "affiliation": "Department of Agricultural, Food, Environmental and Animal Sciences, University of Udine, I-33100 Udine (Italy)",
             "name": "Lippe, Giovanna"
            },
            {
             "affiliation": "Department of Biomedical Sciences, University of Padova, I-35131 Padova (Italy) - Consiglio Nazionale delle Ricerche Neuroscience Institute, I-35131 Padova (Italy)",
             "name": "Bernardi Paolo"
            }
           ],
           "description": "<p>ATP synthase molecular dynamics simulations files for wild type of the beta subunit binding magnesium:</p>\n\n<p>50ns trajectory (ATPsynth_woh2o_Mg_wt.dcd) and corresponding psf file (ATPsynth_mg_wt.psf)</p>",
           "doi": "10.5281/zenodo.438997",
           "keywords": [
            "ATP synthase",
            "permeability transition",
            "molecular dynamics"
           ],
           "license": {
            "id": "CC-BY-4.0"
           },
           "notes": "This work was supported by grants from AIRC (IG17067 to PB), Telethon (GGP14037 to PB) and Fondation Leducq (16CVD04 to PB and MF).",
           "publication_date": "2017-05-10",
           "related_identifiers": [
            {
             "identifier": "10.15252/embr.201643354",
             "relation": "isSupplementTo",
             "scheme": "doi"
            }
           ],
           "relations": {
            "version": [
             {
              "count": 1,
              "index": 0,
              "is_last": true,
              "last_child": {
               "pid_type": "recid",
               "pid_value": "438997"
              },
              "parent": {
               "pid_type": "recid",
               "pid_value": "793223"
              }
             }
            ]
           },
           "resource_type": {
            "title": "Dataset",
            "type": "dataset"
           },
           "title": "Molecular dynamic trajectory of magnesium binding wild type for the article \"Ca 2+ binding to F-ATP synthase β subunit triggers the mitochondrial permeability transition\""
          },
          "owners": [
           29782
          ],
          "revision": 5,
          "stats": {
           "downloads": 6,
           "unique_downloads": 3,
           "unique_views": 38,
           "version_downloads": 6,
           "version_unique_downloads": 3,
           "version_unique_views": 38,
           "version_views": 38,
           "version_volume": 60988443604,
           "views": 38,
           "volume": 60988443604
          },
          "updated": "2020-01-21T07:21:39.195971+00:00"
         },
         {
          "conceptrecid": "793433",
          "created": "2017-05-10T16:10:12.269664+00:00",
          "doi": "10.5281/zenodo.438943",
          "files": [
           {
            "bucket": "e1ab6a5d-1033-4084-9386-28fdd699045c",
            "checksum": "md5:681242c801f3236630bc857956d53c52",
            "key": "ATPsynth_mg_mut.psf",
            "links": {
             "self": "https://zenodo.org/api/files/e1ab6a5d-1033-4084-9386-28fdd699045c/ATPsynth_mg_mut.psf"
            },
            "size": 3610471,
            "type": "psf"
           },
           {
            "bucket": "e1ab6a5d-1033-4084-9386-28fdd699045c",
            "checksum": "md5:ef61879b66625ff341a699e775f23d48",
            "key": "ATPsynth_woh2o_Mg_mut.dcd",
            "links": {
             "self": "https://zenodo.org/api/files/e1ab6a5d-1033-4084-9386-28fdd699045c/ATPsynth_woh2o_Mg_mut.dcd"
            },
            "size": 30482819540,
            "type": "dcd"
           }
          ],
          "id": 438943,
          "links": {
           "badge": "https://zenodo.org/badge/doi/10.5281/zenodo.438943.svg",
           "bucket": "https://zenodo.org/api/files/e1ab6a5d-1033-4084-9386-28fdd699045c",
           "doi": "https://doi.org/10.5281/zenodo.438943",
           "html": "https://zenodo.org/record/438943",
           "latest": "https://zenodo.org/api/records/438943",
           "latest_html": "https://zenodo.org/record/438943",
           "self": "https://zenodo.org/api/records/438943"
          },
          "metadata": {
           "access_right": "open",
           "access_right_category": "success",
           "creators": [
            {
             "affiliation": "Department of Biomedical Sciences, University of Padova, I-35131 Padova (Italy) - Consiglio Nazionale delle Ricerche Neuroscience Institute, I-35131 Padova (Italy)",
             "name": "Giorgio, Valentina"
            },
            {
             "affiliation": "Department of Biomedical Sciences, University of Padova, I-35131 Padova (Italy)",
             "name": "Burchell, Victoria"
            },
            {
             "affiliation": "Department of Biomedical Sciences, University of Padova, I-35131 Padova (Italy)",
             "name": "Schiavone, Marco"
            },
            {
             "affiliation": "Department of Biomedical Sciences, University of Padova, I-35131 Padova (Italy)",
             "name": "Bassot, Claudio"
            },
            {
             "affiliation": "Department of Biomedical Sciences, University of Padova, I-35131 Padova (Italy)",
             "name": "Minervini, Giovanni"
            },
            {
             "affiliation": "Department of Biomedical Sciences, University of Padova, I-35131 Padova (Italy) - Consiglio Nazionale delle Ricerche Neuroscience Institute, I-35131 Padova (Italy)",
             "name": "Petronilli, Valeria"
            },
            {
             "affiliation": "Department of Biology, University of Padova, I-35131 Padova (Italy)",
             "name": "Argenton, Francesco"
            },
            {
             "affiliation": "Vollum Institute, Oregon Health and Sciences University, Portland, OR, 97239 (USA)",
             "name": "Forte, Michael"
            },
            {
             "affiliation": "Department of Biomedical Sciences, University of Padova, I-35131 Padova (Italy) - Consiglio Nazionale delle Ricerche Neuroscience Institute, I-35131 Padova (Italy)",
             "name": "Tosatto, Silvio"
            },
            {
             "affiliation": "Department of Agricultural, Food, Environmental and Animal Sciences, University of Udine, I-33100 Udine (Italy)",
             "name": "Lippe, Giovanna"
            },
            {
             "affiliation": "Department of Biomedical Sciences, University of Padova, I-35131 Padova (Italy) - Consiglio Nazionale delle Ricerche Neuroscience Institute, I-35131 Padova (Italy)",
             "name": "Bernardi Paolo"
            }
           ],
           "description": "<p>ATP synthase molecular dynamics simulations files for T163S mutants of the beta subunit binding magnesium:</p>\n\n<p>50ns trajectory (ATPsynth_woh2o_Mg_mut.dcd) and corresponding psf file (ATPsynth_mg_mut.psf)</p>\n\n<p> </p>",
           "doi": "10.5281/zenodo.438943",
           "keywords": [
            "ATP synthase",
            "permeability transition",
            "molecular dynamics"
           ],
           "license": {
            "id": "CC-BY-4.0"
           },
           "notes": "This work was supported by grants from AIRC (IG17067 to PB), Telethon (GGP14037 to PB) and Fondation Leducq (16CVD04 to PB and MF).",
           "publication_date": "2017-05-10",
           "related_identifiers": [
            {
             "identifier": "10.15252/embr.201643354",
             "relation": "isSupplementTo",
             "scheme": "doi"
            }
           ],
           "relations": {
            "version": [
             {
              "count": 1,
              "index": 0,
              "is_last": true,
              "last_child": {
               "pid_type": "recid",
               "pid_value": "438943"
              },
              "parent": {
               "pid_type": "recid",
               "pid_value": "793433"
              }
             }
            ]
           },
           "resource_type": {
            "title": "Dataset",
            "type": "dataset"
           },
           "title": "Molecular dynamic trajectory of magnesium binding T163S mutant for the article \"Ca 2+ binding to F-ATP synthase β subunit triggers the mitochondrial permeability transition\""
          },
          "owners": [
           29782
          ],
          "revision": 5,
          "stats": {
           "downloads": 5,
           "unique_downloads": 3,
           "unique_views": 27,
           "version_downloads": 5,
           "version_unique_downloads": 3,
           "version_unique_views": 27,
           "version_views": 28,
           "version_volume": 60976470493,
           "views": 28,
           "volume": 60976470493
          },
          "updated": "2020-01-21T07:22:10.549519+00:00"
         },
         {
          "conceptrecid": "793615",
          "created": "2017-05-10T16:10:03.239747+00:00",
          "doi": "10.5281/zenodo.438711",
          "files": [
           {
            "bucket": "4d708811-8dd9-4708-93b5-0cc1c85335e2",
            "checksum": "md5:9f110c9a9451e886214c5889f2c92f39",
            "key": "ATPsynth_ca_wt.psf",
            "links": {
             "self": "https://zenodo.org/api/files/4d708811-8dd9-4708-93b5-0cc1c85335e2/ATPsynth_ca_wt.psf"
            },
            "size": 3611103,
            "type": "psf"
           },
           {
            "bucket": "4d708811-8dd9-4708-93b5-0cc1c85335e2",
            "checksum": "md5:90536bc6cc610646ddf1f444de25346f",
            "key": "ATPsynth_woh2o_Ca_wt.dcd",
            "links": {
             "self": "https://zenodo.org/api/files/4d708811-8dd9-4708-93b5-0cc1c85335e2/ATPsynth_woh2o_Ca_wt.dcd"
            },
            "size": 30487000276,
            "type": "dcd"
           }
          ],
          "id": 438711,
          "links": {
           "badge": "https://zenodo.org/badge/doi/10.5281/zenodo.438711.svg",
           "bucket": "https://zenodo.org/api/files/4d708811-8dd9-4708-93b5-0cc1c85335e2",
           "doi": "https://doi.org/10.5281/zenodo.438711",
           "html": "https://zenodo.org/record/438711",
           "latest": "https://zenodo.org/api/records/438711",
           "latest_html": "https://zenodo.org/record/438711",
           "self": "https://zenodo.org/api/records/438711"
          },
          "metadata": {
           "access_right": "open",
           "access_right_category": "success",
           "creators": [
            {
             "affiliation": "Department of Biomedical Sciences, University of Padova, I-35131 Padova (Italy) - Consiglio Nazionale delle Ricerche Neuroscience Institute, I-35131 Padova (Italy)",
             "name": "Giorgio, Valentina"
            },
            {
             "affiliation": "Department of Biomedical Sciences, University of Padova, I-35131 Padova (Italy)",
             "name": "Burchell, Victoria"
            },
            {
             "affiliation": "Department of Biomedical Sciences, University of Padova, I-35131 Padova (Italy)",
             "name": "Schiavone, Marco"
            },
            {
             "affiliation": "Department of Biomedical Sciences, University of Padova, I-35131 Padova (Italy)",
             "name": "Bassot, Claudio"
            },
            {
             "affiliation": "Department of Biomedical Sciences, University of Padova, I-35131 Padova (Italy)",
             "name": "Minervini, Giovanni"
            },
            {
             "affiliation": "Department of Biomedical Sciences, University of Padova, I-35131 Padova (Italy) - Consiglio Nazionale delle Ricerche Neuroscience Institute, I-35131 Padova (Italy)",
             "name": "Petronilli, Valeria"
            },
            {
             "affiliation": "Department of Biology, University of Padova, I-35131 Padova (Italy)",
             "name": "Argenton, Francesco"
            },
            {
             "affiliation": "Vollum Institute, Oregon Health and Sciences University, Portland, OR, 97239 (USA)",
             "name": "Forte, Michael"
            },
            {
             "affiliation": "Department of Biomedical Sciences, University of Padova, I-35131 Padova (Italy) - Consiglio Nazionale delle Ricerche Neuroscience Institute, I-35131 Padova (Italy)",
             "name": "Tosatto, Silvio"
            },
            {
             "affiliation": "Department of Agricultural, Food, Environmental and Animal Sciences, University of Udine, I-33100 Udine (Italy)",
             "name": "Lippe, Giovanna"
            },
            {
             "affiliation": "Department of Biomedical Sciences, University of Padova, I-35131 Padova (Italy) - Consiglio Nazionale delle Ricerche Neuroscience Institute, I-35131 Padova (Italy)",
             "name": "Bernardi Paolo"
            }
           ],
           "description": "<p>ATP synthase molecular dynamics simulations files for wild type of the beta subunit binding calcium:</p>\n\n<p>50ns trajectory (ATPsynth_woh2o_Ca_wt.dcd) and corresponding psf file (ATPsynth_ca_wt.psf)</p>\n\n<p> </p>",
           "doi": "10.5281/zenodo.438711",
           "keywords": [
            "ATP synthase",
            "permeability transition",
            "molecular dynamics"
           ],
           "license": {
            "id": "CC-BY-4.0"
           },
           "notes": "This work was supported by grants from AIRC (IG17067 to PB), Telethon (GGP14037 to PB) and Fondation Leducq (16CVD04 to PB and MF).",
           "publication_date": "2017-05-10",
           "related_identifiers": [
            {
             "identifier": "10.15252/embr.201643354",
             "relation": "isSupplementTo",
             "scheme": "doi"
            }
           ],
           "relations": {
            "version": [
             {
              "count": 1,
              "index": 0,
              "is_last": true,
              "last_child": {
               "pid_type": "recid",
               "pid_value": "438711"
              },
              "parent": {
               "pid_type": "recid",
               "pid_value": "793615"
              }
             }
            ]
           },
           "resource_type": {
            "title": "Dataset",
            "type": "dataset"
           },
           "title": "Molecular dynamic trajectory of calcium binding wild type for the article \"Ca 2+ binding to F-ATP synthase β subunit triggers the mitochondrial permeability transition\""
          },
          "owners": [
           29782
          ],
          "revision": 5,
          "stats": {
           "downloads": 5,
           "unique_downloads": 3,
           "unique_views": 28,
           "version_downloads": 5,
           "version_unique_downloads": 3,
           "version_unique_views": 28,
           "version_views": 28,
           "version_volume": 60984833861,
           "views": 28,
           "volume": 60984833861
          },
          "updated": "2020-01-24T19:24:50.194901+00:00"
         },
         {
          "conceptdoi": "10.5281/zenodo.1010141",
          "conceptrecid": "1010141",
          "created": "2018-03-06T19:00:13.191591+00:00",
          "doi": "10.5281/zenodo.1010142",
          "files": [
           {
            "bucket": "f3ad9975-a342-41ad-b560-0503887b8013",
            "checksum": "md5:214fd92973bc6b30ec69acefd1f18415",
            "key": "AMBER_run_prot.mdp",
            "links": {
             "self": "https://zenodo.org/api/files/f3ad9975-a342-41ad-b560-0503887b8013/AMBER_run_prot.mdp"
            },
            "size": 1804,
            "type": "mdp"
           },
           {
            "bucket": "f3ad9975-a342-41ad-b560-0503887b8013",
            "checksum": "md5:b608c1ea0fff794505483893a0fd92dd",
            "key": "HN.ndx",
            "links": {
             "self": "https://zenodo.org/api/files/f3ad9975-a342-41ad-b560-0503887b8013/HN.ndx"
            },
            "size": 1740,
            "type": "ndx"
           },
           {
            "bucket": "f3ad9975-a342-41ad-b560-0503887b8013",
            "checksum": "md5:bab83e6f7198441e1c93ccd83f973a47",
            "key": "run1-2.xtc",
            "links": {
             "self": "https://zenodo.org/api/files/f3ad9975-a342-41ad-b560-0503887b8013/run1-2.xtc"
            },
            "size": 7990015540,
            "type": "xtc"
           },
           {
            "bucket": "f3ad9975-a342-41ad-b560-0503887b8013",
            "checksum": "md5:3cade63477fbedbc54f0ac6fab6a6a93",
            "key": "run.gro",
            "links": {
             "self": "https://zenodo.org/api/files/f3ad9975-a342-41ad-b560-0503887b8013/run.gro"
            },
            "size": 1915140,
            "type": "gro"
           },
           {
            "bucket": "f3ad9975-a342-41ad-b560-0503887b8013",
            "checksum": "md5:9a40ff68bdea5d6e4af4742513984392",
            "key": "run.tpr",
            "links": {
             "self": "https://zenodo.org/api/files/f3ad9975-a342-41ad-b560-0503887b8013/run.tpr"
            },
            "size": 1248752,
            "type": "tpr"
           },
           {
            "bucket": "f3ad9975-a342-41ad-b560-0503887b8013",
            "checksum": "md5:90db2c8c938a26d35f8a639d3bb493c2",
            "key": "topol.top",
            "links": {
             "self": "https://zenodo.org/api/files/f3ad9975-a342-41ad-b560-0503887b8013/topol.top"
            },
            "size": 430931,
            "type": "top"
           }
          ],
          "id": 1010142,
          "links": {
           "badge": "https://zenodo.org/badge/doi/10.5281/zenodo.1010142.svg",
           "bucket": "https://zenodo.org/api/files/f3ad9975-a342-41ad-b560-0503887b8013",
           "conceptbadge": "https://zenodo.org/badge/doi/10.5281/zenodo.1010141.svg",
           "conceptdoi": "https://doi.org/10.5281/zenodo.1010141",
           "doi": "https://doi.org/10.5281/zenodo.1010142",
           "html": "https://zenodo.org/record/1010142",
           "latest": "https://zenodo.org/api/records/1010142",
           "latest_html": "https://zenodo.org/record/1010142",
           "self": "https://zenodo.org/api/records/1010142"
          },
          "metadata": {
           "access_right": "open",
           "access_right_category": "success",
           "creators": [
            {
             "affiliation": "University of Helsinki",
             "name": "Ollila, O.H. Samuli"
            }
           ],
           "description": "<p>MD simulation data for Helicobacter pylori TonB-CTD (residues 194-285) (PDB ID: 5LW8; BMRB entry: 34043). Simulated with Amber ff99SB-ILDN force field, tip3p water model at 303K, Gromacs software package.</p>\n\n<p>Simulation reported in \"Rotational dynamics of proteins from spin relaxation times and molecular dynamics simulations\", Ollila et al. Submitted (2017).</p>\n\n<p> </p>",
           "doi": "10.5281/zenodo.1010142",
           "license": {
            "id": "CC-BY-4.0"
           },
           "publication_date": "2017-10-13",
           "related_identifiers": [
            {
             "identifier": "10.5281/zenodo.1010141",
             "relation": "isVersionOf",
             "scheme": "doi"
            }
           ],
           "relations": {
            "version": [
             {
              "count": 1,
              "index": 0,
              "is_last": true,
              "last_child": {
               "pid_type": "recid",
               "pid_value": "1010142"
              },
              "parent": {
               "pid_type": "recid",
               "pid_value": "1010141"
              }
             }
            ]
           },
           "resource_type": {
            "title": "Dataset",
            "type": "dataset"
           },
           "title": "MD simulation data for Helicobacter pylori TonB-CTD (residues 194-285) (PDB ID: 5LW8; BMRB entry: 34043), Amber ff99SB-ILDN, tip3p, 303K, Gromacs"
          },
          "owners": [
           6608
          ],
          "revision": 5,
          "stats": {
           "downloads": 13,
           "unique_downloads": 7,
           "unique_views": 18,
           "version_downloads": 13,
           "version_unique_downloads": 7,
           "version_unique_views": 18,
           "version_views": 19,
           "version_volume": 7993626279,
           "views": 19,
           "volume": 7993626279
          },
          "updated": "2020-01-21T07:23:05.343411+00:00"
         },
         {
          "conceptdoi": "10.5281/zenodo.1010351",
          "conceptrecid": "1010351",
          "created": "2018-03-06T19:00:51.679958+00:00",
          "doi": "10.5281/zenodo.1010352",
          "files": [
           {
            "bucket": "e8905e46-42c2-40a9-93e2-4edbb497b80d",
            "checksum": "md5:214fd92973bc6b30ec69acefd1f18415",
            "key": "AMBER_run_prot.mdp",
            "links": {
             "self": "https://zenodo.org/api/files/e8905e46-42c2-40a9-93e2-4edbb497b80d/AMBER_run_prot.mdp"
            },
            "size": 1804,
            "type": "mdp"
           },
           {
            "bucket": "e8905e46-42c2-40a9-93e2-4edbb497b80d",
            "checksum": "md5:b608c1ea0fff794505483893a0fd92dd",
            "key": "NH.ndx",
            "links": {
             "self": "https://zenodo.org/api/files/e8905e46-42c2-40a9-93e2-4edbb497b80d/NH.ndx"
            },
            "size": 1740,
            "type": "ndx"
           },
           {
            "bucket": "e8905e46-42c2-40a9-93e2-4edbb497b80d",
            "checksum": "md5:f729a8264f757d2ae31e9d51c7554332",
            "key": "run.gro",
            "links": {
             "self": "https://zenodo.org/api/files/e8905e46-42c2-40a9-93e2-4edbb497b80d/run.gro"
            },
            "size": 2568984,
            "type": "gro"
           },
           {
            "bucket": "e8905e46-42c2-40a9-93e2-4edbb497b80d",
            "checksum": "md5:0159281885f7f345f7577c2af75740c8",
            "key": "run.tpr",
            "links": {
             "self": "https://zenodo.org/api/files/e8905e46-42c2-40a9-93e2-4edbb497b80d/run.tpr"
            },
            "size": 1552636,
            "type": "tpr"
           },
           {
            "bucket": "e8905e46-42c2-40a9-93e2-4edbb497b80d",
            "checksum": "md5:7ecbf5ce9f04631da8945d0f305de3e8",
            "key": "run.xtc",
            "links": {
             "self": "https://zenodo.org/api/files/e8905e46-42c2-40a9-93e2-4edbb497b80d/run.xtc"
            },
            "size": 5099555100,
            "type": "xtc"
           },
           {
            "bucket": "e8905e46-42c2-40a9-93e2-4edbb497b80d",
            "checksum": "md5:88a7cd3e58554fea05d360e5ed4c031a",
            "key": "topol.top",
            "links": {
             "self": "https://zenodo.org/api/files/e8905e46-42c2-40a9-93e2-4edbb497b80d/topol.top"
            },
            "size": 430933,
            "type": "top"
           }
          ],
          "id": 1010352,
          "links": {
           "badge": "https://zenodo.org/badge/doi/10.5281/zenodo.1010352.svg",
           "bucket": "https://zenodo.org/api/files/e8905e46-42c2-40a9-93e2-4edbb497b80d",
           "conceptbadge": "https://zenodo.org/badge/doi/10.5281/zenodo.1010351.svg",
           "conceptdoi": "https://doi.org/10.5281/zenodo.1010351",
           "doi": "https://doi.org/10.5281/zenodo.1010352",
           "html": "https://zenodo.org/record/1010352",
           "latest": "https://zenodo.org/api/records/1010352",
           "latest_html": "https://zenodo.org/record/1010352",
           "self": "https://zenodo.org/api/records/1010352"
          },
          "metadata": {
           "access_right": "open",
           "access_right_category": "success",
           "creators": [
            {
             "affiliation": "University of Helsinki",
             "name": "Ollila, O. H. Samuli"
            }
           ],
           "description": "<p>MD simulation data for Helicobacter pylori TonB-CTD (residues 194-285) (PDB ID: 5LW8; BMRB entry: 34043). Simulated with Amber ff99SB-ILDN force field, tip4p water model at 303K, Gromacs software package.</p>\n\n<p>Simulation reported in \"Rotational dynamics of proteins from spin relaxation times and molecular dynamics simulations\", Ollila et al. Submitted (2017).</p>",
           "doi": "10.5281/zenodo.1010352",
           "license": {
            "id": "CC-BY-4.0"
           },
           "publication_date": "2017-10-13",
           "related_identifiers": [
            {
             "identifier": "10.5281/zenodo.1010351",
             "relation": "isVersionOf",
             "scheme": "doi"
            }
           ],
           "relations": {
            "version": [
             {
              "count": 1,
              "index": 0,
              "is_last": true,
              "last_child": {
               "pid_type": "recid",
               "pid_value": "1010352"
              },
              "parent": {
               "pid_type": "recid",
               "pid_value": "1010351"
              }
             }
            ]
           },
           "resource_type": {
            "title": "Dataset",
            "type": "dataset"
           },
           "title": "MD simulation data for Helicobacter pylori TonB-CTD (residues 194-285) (PDB ID: 5LW8; BMRB entry: 34043), Amber ff99SB-ILDN, tip4p, 303K, Gromacs"
          },
          "owners": [
           6608
          ],
          "revision": 4,
          "stats": {
           "downloads": 12,
           "unique_downloads": 5,
           "unique_views": 15,
           "version_downloads": 12,
           "version_unique_downloads": 5,
           "version_unique_views": 15,
           "version_views": 15,
           "version_volume": 10208222458,
           "views": 15,
           "volume": 10208222458
          },
          "updated": "2020-01-21T07:23:33.976070+00:00"
         },
         {
          "conceptdoi": "10.5281/zenodo.1010231",
          "conceptrecid": "1010231",
          "created": "2018-03-06T19:01:43.598959+00:00",
          "doi": "10.5281/zenodo.1010232",
          "files": [
           {
            "bucket": "34892030-83ff-4b95-a243-082243efc2ed",
            "checksum": "md5:e5f91b43807eb853255774ae1f49f741",
            "key": "AMBER_run_prot.mdp",
            "links": {
             "self": "https://zenodo.org/api/files/34892030-83ff-4b95-a243-082243efc2ed/AMBER_run_prot.mdp"
            },
            "size": 1803,
            "type": "mdp"
           },
           {
            "bucket": "34892030-83ff-4b95-a243-082243efc2ed",
            "checksum": "md5:870ed845a9740d09338032fa98c77921",
            "key": "begin.gro",
            "links": {
             "self": "https://zenodo.org/api/files/34892030-83ff-4b95-a243-082243efc2ed/begin.gro"
            },
            "size": 1249067,
            "type": "gro"
           },
           {
            "bucket": "34892030-83ff-4b95-a243-082243efc2ed",
            "checksum": "md5:7cc3c691cfc92af73a5591780e64875d",
            "key": "conf.gro",
            "links": {
             "self": "https://zenodo.org/api/files/34892030-83ff-4b95-a243-082243efc2ed/conf.gro"
            },
            "size": 65387,
            "type": "gro"
           },
           {
            "bucket": "34892030-83ff-4b95-a243-082243efc2ed",
            "checksum": "md5:b608c1ea0fff794505483893a0fd92dd",
            "key": "NH.ndx",
            "links": {
             "self": "https://zenodo.org/api/files/34892030-83ff-4b95-a243-082243efc2ed/NH.ndx"
            },
            "size": 1740,
            "type": "ndx"
           },
           {
            "bucket": "34892030-83ff-4b95-a243-082243efc2ed",
            "checksum": "md5:d830c6892e8ef792ee97aefa8f3bb751",
            "key": "run70ns.gro",
            "links": {
             "self": "https://zenodo.org/api/files/34892030-83ff-4b95-a243-082243efc2ed/run70ns.gro"
            },
            "size": 1915178,
            "type": "gro"
           },
           {
            "bucket": "34892030-83ff-4b95-a243-082243efc2ed",
            "checksum": "md5:5574d8cbb43af4fefae8b8e1e6452d56",
            "key": "runFIT_200-570ns.xtc",
            "links": {
             "self": "https://zenodo.org/api/files/34892030-83ff-4b95-a243-082243efc2ed/runFIT_200-570ns.xtc"
            },
            "size": 4455300736,
            "type": "xtc"
           },
           {
            "bucket": "34892030-83ff-4b95-a243-082243efc2ed",
            "checksum": "md5:27959067ae8c2805209e665561de435e",
            "key": "run.tpr",
            "links": {
             "self": "https://zenodo.org/api/files/34892030-83ff-4b95-a243-082243efc2ed/run.tpr"
            },
            "size": 1248732,
            "type": "tpr"
           },
           {
            "bucket": "34892030-83ff-4b95-a243-082243efc2ed",
            "checksum": "md5:90db2c8c938a26d35f8a639d3bb493c2",
            "key": "topol.top",
            "links": {
             "self": "https://zenodo.org/api/files/34892030-83ff-4b95-a243-082243efc2ed/topol.top"
            },
            "size": 430931,
            "type": "top"
           }
          ],
          "id": 1010232,
          "links": {
           "badge": "https://zenodo.org/badge/doi/10.5281/zenodo.1010232.svg",
           "bucket": "https://zenodo.org/api/files/34892030-83ff-4b95-a243-082243efc2ed",
           "conceptbadge": "https://zenodo.org/badge/doi/10.5281/zenodo.1010231.svg",
           "conceptdoi": "https://doi.org/10.5281/zenodo.1010231",
           "doi": "https://doi.org/10.5281/zenodo.1010232",
           "html": "https://zenodo.org/record/1010232",
           "latest": "https://zenodo.org/api/records/1010232",
           "latest_html": "https://zenodo.org/record/1010232",
           "self": "https://zenodo.org/api/records/1010232"
          },
          "metadata": {
           "access_right": "open",
           "access_right_category": "success",
           "creators": [
            {
             "affiliation": "University of Helsinki",
             "name": "Ollila, O.H. Samuli"
            }
           ],
           "description": "<p>MD simulation data for Helicobacter pylori TonB-CTD (residues 194-285) (PDB ID: 5LW8; BMRB entry: 34043). Simulated with Amber ff99SB-ILDN force field, tip3p water model at 310K, Gromacs software package.</p>\n\n<p>Simulation reported in \"Rotational dynamics of proteins from spin relaxation times and molecular dynamics simulations\", Ollila et al. Submitted (2017).</p>",
           "doi": "10.5281/zenodo.1010232",
           "license": {
            "id": "CC-BY-4.0"
           },
           "publication_date": "2017-10-13",
           "related_identifiers": [
            {
             "identifier": "10.5281/zenodo.1010231",
             "relation": "isVersionOf",
             "scheme": "doi"
            }
           ],
           "relations": {
            "version": [
             {
              "count": 1,
              "index": 0,
              "is_last": true,
              "last_child": {
               "pid_type": "recid",
               "pid_value": "1010232"
              },
              "parent": {
               "pid_type": "recid",
               "pid_value": "1010231"
              }
             }
            ]
           },
           "resource_type": {
            "title": "Dataset",
            "type": "dataset"
           },
           "title": "MD simulation data for Helicobacter pylori TonB-CTD (residues 194-285) (PDB ID: 5LW8; BMRB entry: 34043), Amber ff99SB-ILDN, tip3p, 310K, Gromacs"
          },
          "owners": [
           6608
          ],
          "revision": 5,
          "stats": {
           "downloads": 8,
           "unique_downloads": 1,
           "unique_views": 10,
           "version_downloads": 8,
           "version_unique_downloads": 1,
           "version_unique_views": 10,
           "version_views": 10,
           "version_volume": 4460213574,
           "views": 10,
           "volume": 4460213574
          },
          "updated": "2020-01-24T19:22:11.440688+00:00"
         },
         {
          "conceptdoi": "10.5281/zenodo.1010237",
          "conceptrecid": "1010237",
          "created": "2018-03-06T19:01:11.420793+00:00",
          "doi": "10.5281/zenodo.1010238",
          "files": [
           {
            "bucket": "26c4515a-7ace-46f8-a7cd-d6cdac3208c3",
            "checksum": "md5:8b17f563ad454a5aa71392f8ba618c78",
            "key": "mdout.mdp",
            "links": {
             "self": "https://zenodo.org/api/files/26c4515a-7ace-46f8-a7cd-d6cdac3208c3/mdout.mdp"
            },
            "size": 11779,
            "type": "mdp"
           },
           {
            "bucket": "26c4515a-7ace-46f8-a7cd-d6cdac3208c3",
            "checksum": "md5:b608c1ea0fff794505483893a0fd92dd",
            "key": "NH.ndx",
            "links": {
             "self": "https://zenodo.org/api/files/26c4515a-7ace-46f8-a7cd-d6cdac3208c3/NH.ndx"
            },
            "size": 1740,
            "type": "ndx"
           },
           {
            "bucket": "26c4515a-7ace-46f8-a7cd-d6cdac3208c3",
            "checksum": "md5:670fb57caac8af281061036df5ca26c6",
            "key": "run_100-470ns.xtc",
            "links": {
             "self": "https://zenodo.org/api/files/26c4515a-7ace-46f8-a7cd-d6cdac3208c3/run_100-470ns.xtc"
            },
            "size": 4731005040,
            "type": "xtc"
           },
           {
            "bucket": "26c4515a-7ace-46f8-a7cd-d6cdac3208c3",
            "checksum": "md5:2b9e1bb9a53c928171910c8f5a5aa9b3",
            "key": "run70ns.gro",
            "links": {
             "self": "https://zenodo.org/api/files/26c4515a-7ace-46f8-a7cd-d6cdac3208c3/run70ns.gro"
            },
            "size": 2569022,
            "type": "gro"
           },
           {
            "bucket": "26c4515a-7ace-46f8-a7cd-d6cdac3208c3",
            "checksum": "md5:bf927c0bdde3fc84b2c0fb19a3a6cbdd",
            "key": "run.tpr",
            "links": {
             "self": "https://zenodo.org/api/files/26c4515a-7ace-46f8-a7cd-d6cdac3208c3/run.tpr"
            },
            "size": 1552616,
            "type": "tpr"
           },
           {
            "bucket": "26c4515a-7ace-46f8-a7cd-d6cdac3208c3",
            "checksum": "md5:88a7cd3e58554fea05d360e5ed4c031a",
            "key": "topol.top",
            "links": {
             "self": "https://zenodo.org/api/files/26c4515a-7ace-46f8-a7cd-d6cdac3208c3/topol.top"
            },
            "size": 430933,
            "type": "top"
           }
          ],
          "id": 1010238,
          "links": {
           "badge": "https://zenodo.org/badge/doi/10.5281/zenodo.1010238.svg",
           "bucket": "https://zenodo.org/api/files/26c4515a-7ace-46f8-a7cd-d6cdac3208c3",
           "conceptbadge": "https://zenodo.org/badge/doi/10.5281/zenodo.1010237.svg",
           "conceptdoi": "https://doi.org/10.5281/zenodo.1010237",
           "doi": "https://doi.org/10.5281/zenodo.1010238",
           "html": "https://zenodo.org/record/1010238",
           "latest": "https://zenodo.org/api/records/1010238",
           "latest_html": "https://zenodo.org/record/1010238",
           "self": "https://zenodo.org/api/records/1010238"
          },
          "metadata": {
           "access_right": "open",
           "access_right_category": "success",
           "creators": [
            {
             "affiliation": "University of Helsinki",
             "name": "Ollila, O. H. Samuli"
            }
           ],
           "description": "<p>MD simulation data for Helicobacter pylori TonB-CTD (residues 194-285) (PDB ID: 5LW8; BMRB entry: 34043). Simulated with Amber ff99SB-ILDN force field, tip4p water model at 310K, Gromacs software package.</p>\n\n<p>Simulation reported in \"Rotational dynamics of proteins from spin relaxation times and molecular dynamics simulations\", Ollila et al. Submitted (2017).</p>",
           "doi": "10.5281/zenodo.1010238",
           "license": {
            "id": "CC-BY-4.0"
           },
           "publication_date": "2017-10-13",
           "related_identifiers": [
            {
             "identifier": "10.5281/zenodo.1010237",
             "relation": "isVersionOf",
             "scheme": "doi"
            }
           ],
           "relations": {
            "version": [
             {
              "count": 1,
              "index": 0,
              "is_last": true,
              "last_child": {
               "pid_type": "recid",
               "pid_value": "1010238"
              },
              "parent": {
               "pid_type": "recid",
               "pid_value": "1010237"
              }
             }
            ]
           },
           "resource_type": {
            "title": "Dataset",
            "type": "dataset"
           },
           "title": "MD simulation data for Helicobacter pylori TonB-CTD (residues 194-285) (PDB ID: 5LW8; BMRB entry: 34043), Amber ff99SB-ILDN, tip4p, 310K, Gromacs"
          },
          "owners": [
           6608
          ],
          "revision": 4,
          "stats": {
           "downloads": 8,
           "unique_downloads": 3,
           "unique_views": 11,
           "version_downloads": 8,
           "version_unique_downloads": 3,
           "version_unique_views": 11,
           "version_views": 11,
           "version_volume": 4738151931,
           "views": 11,
           "volume": 4738151931
          },
          "updated": "2020-01-24T19:21:58.655648+00:00"
         },
         {
          "conceptdoi": "10.5281/zenodo.1010356",
          "conceptrecid": "1010356",
          "created": "2018-03-06T19:00:35.777771+00:00",
          "doi": "10.5281/zenodo.1010357",
          "files": [
           {
            "bucket": "65b353a3-8925-48a4-aa9f-df7692603604",
            "checksum": "md5:b608c1ea0fff794505483893a0fd92dd",
            "key": "HN.ndx",
            "links": {
             "self": "https://zenodo.org/api/files/65b353a3-8925-48a4-aa9f-df7692603604/HN.ndx"
            },
            "size": 1740,
            "type": "ndx"
           },
           {
            "bucket": "65b353a3-8925-48a4-aa9f-df7692603604",
            "checksum": "md5:d9a4927523dfba35c43281684b534873",
            "key": "opc.itp",
            "links": {
             "self": "https://zenodo.org/api/files/65b353a3-8925-48a4-aa9f-df7692603604/opc.itp"
            },
            "size": 1492,
            "type": "itp"
           },
           {
            "bucket": "65b353a3-8925-48a4-aa9f-df7692603604",
            "checksum": "md5:8e0bee3976a6836e36ecf78bb488a05d",
            "key": "run1-2.xtc",
            "links": {
             "self": "https://zenodo.org/api/files/65b353a3-8925-48a4-aa9f-df7692603604/run1-2.xtc"
            },
            "size": 10192328384,
            "type": "xtc"
           },
           {
            "bucket": "65b353a3-8925-48a4-aa9f-df7692603604",
            "checksum": "md5:0dd5906c9d231dca730e999bcf1898fc",
            "key": "run.gro",
            "links": {
             "self": "https://zenodo.org/api/files/65b353a3-8925-48a4-aa9f-df7692603604/run.gro"
            },
            "size": 2568984,
            "type": "gro"
           },
           {
            "bucket": "65b353a3-8925-48a4-aa9f-df7692603604",
            "checksum": "md5:119bf7de387d2c481dfc11e5b3dd7eed",
            "key": "run.tpr",
            "links": {
             "self": "https://zenodo.org/api/files/65b353a3-8925-48a4-aa9f-df7692603604/run.tpr"
            },
            "size": 1552668,
            "type": "tpr"
           },
           {
            "bucket": "65b353a3-8925-48a4-aa9f-df7692603604",
            "checksum": "md5:7bdce9a184b4e5afb492dbe11ccb8d28",
            "key": "topol.top",
            "links": {
             "self": "https://zenodo.org/api/files/65b353a3-8925-48a4-aa9f-df7692603604/topol.top"
            },
            "size": 430929,
            "type": "top"
           }
          ],
          "id": 1010357,
          "links": {
           "badge": "https://zenodo.org/badge/doi/10.5281/zenodo.1010357.svg",
           "bucket": "https://zenodo.org/api/files/65b353a3-8925-48a4-aa9f-df7692603604",
           "conceptbadge": "https://zenodo.org/badge/doi/10.5281/zenodo.1010356.svg",
           "conceptdoi": "https://doi.org/10.5281/zenodo.1010356",
           "doi": "https://doi.org/10.5281/zenodo.1010357",
           "html": "https://zenodo.org/record/1010357",
           "latest": "https://zenodo.org/api/records/1010357",
           "latest_html": "https://zenodo.org/record/1010357",
           "self": "https://zenodo.org/api/records/1010357"
          },
          "metadata": {
           "access_right": "open",
           "access_right_category": "success",
           "creators": [
            {
             "affiliation": "University of Helsinki",
             "name": "Ollila, O. H. Samuli"
            }
           ],
           "description": "<p>MD simulation data for Helicobacter pylori TonB-CTD (residues 194-285) (PDB ID: 5LW8; BMRB entry: 34043). Simulated with Amber ff99SB-ILDN force field, OPC4 water model at 310K, Gromacs software package.</p>\n\n<p>Simulation reported in \"Rotational dynamics of proteins from spin relaxation times and molecular dynamics simulations\", Ollila et al. Submitted (2017).</p>",
           "doi": "10.5281/zenodo.1010357",
           "license": {
            "id": "CC-BY-4.0"
           },
           "publication_date": "2017-10-13",
           "related_identifiers": [
            {
             "identifier": "10.5281/zenodo.1010356",
             "relation": "isVersionOf",
             "scheme": "doi"
            }
           ],
           "relations": {
            "version": [
             {
              "count": 1,
              "index": 0,
              "is_last": true,
              "last_child": {
               "pid_type": "recid",
               "pid_value": "1010357"
              },
              "parent": {
               "pid_type": "recid",
               "pid_value": "1010356"
              }
             }
            ]
           },
           "resource_type": {
            "title": "Dataset",
            "type": "dataset"
           },
           "title": "MD simulation data for Helicobacter pylori TonB-CTD (residues 194-285) (PDB ID: 5LW8; BMRB entry: 34043), Amber ff99SB-ILDN, OPC4, 310K, Gromacs"
          },
          "owners": [
           6608
          ],
          "revision": 4,
          "stats": {
           "downloads": 22,
           "unique_downloads": 5,
           "unique_views": 15,
           "version_downloads": 22,
           "version_unique_downloads": 5,
           "version_unique_views": 15,
           "version_views": 15,
           "version_volume": 30591087996,
           "views": 15,
           "volume": 30591087996
          },
          "updated": "2020-01-24T19:21:51.785793+00:00"
         },
         {
          "conceptdoi": "10.5281/zenodo.1095571",
          "conceptrecid": "1095571",
          "created": "2018-03-27T15:34:40.343506+00:00",
          "doi": "10.5281/zenodo.1095572",
          "files": [
           {
            "bucket": "6bedf16d-9322-4e19-b5c0-29cebefba5ae",
            "checksum": "md5:00dbba2ce3cceb23566bbfccf2daa0f8",
            "key": "compiled_methylation450K_data.tar.gz",
            "links": {
             "self": "https://zenodo.org/api/files/6bedf16d-9322-4e19-b5c0-29cebefba5ae/compiled_methylation450K_data.tar.gz"
            },
            "size": 352230996,
            "type": "gz"
           },
           {
            "bucket": "6bedf16d-9322-4e19-b5c0-29cebefba5ae",
            "checksum": "md5:c78746f2435bd0d74005906ab19b25e8",
            "key": "compiled_methylationEPIC_data.tar.gz",
            "links": {
             "self": "https://zenodo.org/api/files/6bedf16d-9322-4e19-b5c0-29cebefba5ae/compiled_methylationEPIC_data.tar.gz"
            },
            "size": 223512872,
            "type": "gz"
           },
           {
            "bucket": "6bedf16d-9322-4e19-b5c0-29cebefba5ae",
            "checksum": "md5:bcab24935c280a547f8334b449eba452",
            "key": "Figure1.pdf",
            "links": {
             "self": "https://zenodo.org/api/files/6bedf16d-9322-4e19-b5c0-29cebefba5ae/Figure1.pdf"
            },
            "size": 1797710,
            "type": "pdf"
           },
           {
            "bucket": "6bedf16d-9322-4e19-b5c0-29cebefba5ae",
            "checksum": "md5:7afac520cae1c45d33036537c8abb98e",
            "key": "Figure2.pdf",
            "links": {
             "self": "https://zenodo.org/api/files/6bedf16d-9322-4e19-b5c0-29cebefba5ae/Figure2.pdf"
            },
            "size": 1607208,
            "type": "pdf"
           },
           {
            "bucket": "6bedf16d-9322-4e19-b5c0-29cebefba5ae",
            "checksum": "md5:d7092b566636d3b06d0ff65a9f19160c",
            "key": "Figure3.pdf",
            "links": {
             "self": "https://zenodo.org/api/files/6bedf16d-9322-4e19-b5c0-29cebefba5ae/Figure3.pdf"
            },
            "size": 926900,
            "type": "pdf"
           },
           {
            "bucket": "6bedf16d-9322-4e19-b5c0-29cebefba5ae",
            "checksum": "md5:fd6b76b9d6fd7af98a46ad967efb5720",
            "key": "Figure4.pdf",
            "links": {
             "self": "https://zenodo.org/api/files/6bedf16d-9322-4e19-b5c0-29cebefba5ae/Figure4.pdf"
            },
            "size": 1000363,
            "type": "pdf"
           },
           {
            "bucket": "6bedf16d-9322-4e19-b5c0-29cebefba5ae",
            "checksum": "md5:698b5e1e00b8b0ccd83662ba2c82c66e",
            "key": "Figure5.pdf",
            "links": {
             "self": "https://zenodo.org/api/files/6bedf16d-9322-4e19-b5c0-29cebefba5ae/Figure5.pdf"
            },
            "size": 1247191,
            "type": "pdf"
           },
           {
            "bucket": "6bedf16d-9322-4e19-b5c0-29cebefba5ae",
            "checksum": "md5:7ce2f64edb5f800a5609f00ffba94fee",
            "key": "Figure6.pdf",
            "links": {
             "self": "https://zenodo.org/api/files/6bedf16d-9322-4e19-b5c0-29cebefba5ae/Figure6.pdf"
            },
            "size": 2631676,
            "type": "pdf"
           },
           {
            "bucket": "6bedf16d-9322-4e19-b5c0-29cebefba5ae",
            "checksum": "md5:f161a0525669e6b6ade4523a6d1ad169",
            "key": "FigureS1.pdf",
            "links": {
             "self": "https://zenodo.org/api/files/6bedf16d-9322-4e19-b5c0-29cebefba5ae/FigureS1.pdf"
            },
            "size": 2845134,
            "type": "pdf"
           },
           {
            "bucket": "6bedf16d-9322-4e19-b5c0-29cebefba5ae",
            "checksum": "md5:5f339489efcbcbb29e88382e3106d655",
            "key": "FigureS2.pdf",
            "links": {
             "self": "https://zenodo.org/api/files/6bedf16d-9322-4e19-b5c0-29cebefba5ae/FigureS2.pdf"
            },
            "size": 6086100,
            "type": "pdf"
           },
           {
            "bucket": "6bedf16d-9322-4e19-b5c0-29cebefba5ae",
            "checksum": "md5:8026fdfe6ed85529cfc42c9b685ccef4",
            "key": "FigureS3.pdf",
            "links": {
             "self": "https://zenodo.org/api/files/6bedf16d-9322-4e19-b5c0-29cebefba5ae/FigureS3.pdf"
            },
            "size": 1301354,
            "type": "pdf"
           },
           {
            "bucket": "6bedf16d-9322-4e19-b5c0-29cebefba5ae",
            "checksum": "md5:dc51a262fe91f611f57cb0a59d0f4c50",
            "key": "FigureS4.pdf",
            "links": {
             "self": "https://zenodo.org/api/files/6bedf16d-9322-4e19-b5c0-29cebefba5ae/FigureS4.pdf"
            },
            "size": 7994071,
            "type": "pdf"
           },
           {
            "bucket": "6bedf16d-9322-4e19-b5c0-29cebefba5ae",
            "checksum": "md5:de6df3251e81c10c734f9d8c1c6688d0",
            "key": "FigureS5.pdf",
            "links": {
             "self": "https://zenodo.org/api/files/6bedf16d-9322-4e19-b5c0-29cebefba5ae/FigureS5.pdf"
            },
            "size": 1303590,
            "type": "pdf"
           },
           {
            "bucket": "6bedf16d-9322-4e19-b5c0-29cebefba5ae",
            "checksum": "md5:805b975b3b4a340b564240173cc8e3c0",
            "key": "FigureS6.pdf",
            "links": {
             "self": "https://zenodo.org/api/files/6bedf16d-9322-4e19-b5c0-29cebefba5ae/FigureS6.pdf"
            },
            "size": 807922,
            "type": "pdf"
           },
           {
            "bucket": "6bedf16d-9322-4e19-b5c0-29cebefba5ae",
            "checksum": "md5:66a311f47787c9a1a430c0f2ba7ec621",
            "key": "FigureS7.pdf",
            "links": {
             "self": "https://zenodo.org/api/files/6bedf16d-9322-4e19-b5c0-29cebefba5ae/FigureS7.pdf"
            },
            "size": 571348,
            "type": "pdf"
           },
           {
            "bucket": "6bedf16d-9322-4e19-b5c0-29cebefba5ae",
            "checksum": "md5:131e526231107586da66bfd0cd0a79f6",
            "key": "Supp_Table_10.xls",
            "links": {
             "self": "https://zenodo.org/api/files/6bedf16d-9322-4e19-b5c0-29cebefba5ae/Supp_Table_10.xls"
            },
            "size": 652800,
            "type": "xls"
           },
           {
            "bucket": "6bedf16d-9322-4e19-b5c0-29cebefba5ae",
            "checksum": "md5:201360d36b4384a3c1a69bcf07f04186",
            "key": "Supp_Table_11.xls",
            "links": {
             "self": "https://zenodo.org/api/files/6bedf16d-9322-4e19-b5c0-29cebefba5ae/Supp_Table_11.xls"
            },
            "size": 6981632,
            "type": "xls"
           },
           {
            "bucket": "6bedf16d-9322-4e19-b5c0-29cebefba5ae",
            "checksum": "md5:0c2fd1dbdae60767315440bcaa471d62",
            "key": "Supp_Table_12.xls",
            "links": {
             "self": "https://zenodo.org/api/files/6bedf16d-9322-4e19-b5c0-29cebefba5ae/Supp_Table_12.xls"
            },
            "size": 4870144,
            "type": "xls"
           },
           {
            "bucket": "6bedf16d-9322-4e19-b5c0-29cebefba5ae",
            "checksum": "md5:e740597c470b4551cd7f94ee360dab01",
            "key": "Supp_Table_13.xls",
            "links": {
             "self": "https://zenodo.org/api/files/6bedf16d-9322-4e19-b5c0-29cebefba5ae/Supp_Table_13.xls"
            },
            "size": 4868096,
            "type": "xls"
           },
           {
            "bucket": "6bedf16d-9322-4e19-b5c0-29cebefba5ae",
            "checksum": "md5:09eb9b091f6ea03e1c24b943d181fe87",
            "key": "Supp_Table_1.xls",
            "links": {
             "self": "https://zenodo.org/api/files/6bedf16d-9322-4e19-b5c0-29cebefba5ae/Supp_Table_1.xls"
            },
            "size": 18432,
            "type": "xls"
           },
           {
            "bucket": "6bedf16d-9322-4e19-b5c0-29cebefba5ae",
            "checksum": "md5:f8f8085b5c9ba84ff0d2b3eda48b99da",
            "key": "Supp_Table_2.xls",
            "links": {
             "self": "https://zenodo.org/api/files/6bedf16d-9322-4e19-b5c0-29cebefba5ae/Supp_Table_2.xls"
            },
            "size": 30481920,
            "type": "xls"
           },
           {
            "bucket": "6bedf16d-9322-4e19-b5c0-29cebefba5ae",
            "checksum": "md5:57dc82867e30fdc9f46cba7598c30d7f",
            "key": "Supp_Table_3.xls",
            "links": {
             "self": "https://zenodo.org/api/files/6bedf16d-9322-4e19-b5c0-29cebefba5ae/Supp_Table_3.xls"
            },
            "size": 17931264,
            "type": "xls"
           },
           {
            "bucket": "6bedf16d-9322-4e19-b5c0-29cebefba5ae",
            "checksum": "md5:2e7e4e297f506f1c4c8eced6777b1259",
            "key": "Supp_Table_4.xls",
            "links": {
             "self": "https://zenodo.org/api/files/6bedf16d-9322-4e19-b5c0-29cebefba5ae/Supp_Table_4.xls"
            },
            "size": 5658112,
            "type": "xls"
           },
           {
            "bucket": "6bedf16d-9322-4e19-b5c0-29cebefba5ae",
            "checksum": "md5:24823dac4d253391797663287fb496f2",
            "key": "Supp_Table_5.xls",
            "links": {
             "self": "https://zenodo.org/api/files/6bedf16d-9322-4e19-b5c0-29cebefba5ae/Supp_Table_5.xls"
            },
            "size": 10487808,
            "type": "xls"
           },
           {
            "bucket": "6bedf16d-9322-4e19-b5c0-29cebefba5ae",
            "checksum": "md5:658d0bf0c821cc5d63d6ab741d3582c8",
            "key": "Supp_Table_6.xls",
            "links": {
             "self": "https://zenodo.org/api/files/6bedf16d-9322-4e19-b5c0-29cebefba5ae/Supp_Table_6.xls"
            },
            "size": 4328448,
            "type": "xls"
           },
           {
            "bucket": "6bedf16d-9322-4e19-b5c0-29cebefba5ae",
            "checksum": "md5:d4116008bafcc4159c9f5900629d30b2",
            "key": "Supp_Table_7.xls",
            "links": {
             "self": "https://zenodo.org/api/files/6bedf16d-9322-4e19-b5c0-29cebefba5ae/Supp_Table_7.xls"
            },
            "size": 6568448,
            "type": "xls"
           },
           {
            "bucket": "6bedf16d-9322-4e19-b5c0-29cebefba5ae",
            "checksum": "md5:84fca2e569b682bfb50db65ac7f6030b",
            "key": "Supp_Table_8.xls",
            "links": {
             "self": "https://zenodo.org/api/files/6bedf16d-9322-4e19-b5c0-29cebefba5ae/Supp_Table_8.xls"
            },
            "size": 2578944,
            "type": "xls"
           },
           {
            "bucket": "6bedf16d-9322-4e19-b5c0-29cebefba5ae",
            "checksum": "md5:51439e0989eceb2dc33c5e943a295c73",
            "key": "Supp_Table_9.xls",
            "links": {
             "self": "https://zenodo.org/api/files/6bedf16d-9322-4e19-b5c0-29cebefba5ae/Supp_Table_9.xls"
            },
            "size": 60416,
            "type": "xls"
           }
          ],
          "id": 1095572,
          "links": {
           "badge": "https://zenodo.org/badge/doi/10.5281/zenodo.1095572.svg",
           "bucket": "https://zenodo.org/api/files/6bedf16d-9322-4e19-b5c0-29cebefba5ae",
           "conceptbadge": "https://zenodo.org/badge/doi/10.5281/zenodo.1095571.svg",
           "conceptdoi": "https://doi.org/10.5281/zenodo.1095571",
           "doi": "https://doi.org/10.5281/zenodo.1095572",
           "html": "https://zenodo.org/record/1095572",
           "latest": "https://zenodo.org/api/records/1095572",
           "latest_html": "https://zenodo.org/record/1095572",
           "self": "https://zenodo.org/api/records/1095572"
          },
          "metadata": {
           "access_right": "open",
           "access_right_category": "success",
           "creators": [
            {
             "affiliation": "Cancer Epigenetics Laboratory, Institute of Oncology of Asturias (IUOPA), HUCA, Universidad de Oviedo, Principado de Asturias, Spain. Fundación para la Investigación Biosanitaria de Asturias (FINBA), Instituto de Investigación Sanitaria del Principado de Asturias (ISPA), Principado de Asturias, Spain.",
             "name": "J Ramon Tejedor",
             "orcid": "0000-0002-4061-9698"
            },
            {
             "affiliation": "Josep Carreras Leukemia Research Institute, School of Medicine, Department of Biomedicine, University of Barcelona, Barcelona, Spain.",
             "name": "Clara Bueno"
            },
            {
             "affiliation": "Josep Carreras Leukemia Research Institute, School of Medicine, Department of Biomedicine, University of Barcelona, Barcelona, Spain.",
             "name": "Isabel Cobo"
            },
            {
             "affiliation": "Cancer Epigenetics Laboratory, Institute of Oncology of Asturias (IUOPA), HUCA, Universidad de Oviedo, Principado de Asturias, Spain.",
             "name": "Gustavo F Bayon",
             "orcid": "0000-0002-0763-0473"
            },
            {
             "affiliation": "Josep Carreras Leukemia Research Institute, School of Medicine, Department of Biomedicine, University of Barcelona, Barcelona, Spain.",
             "name": "Cristina Prieto"
            },
            {
             "affiliation": "Cancer Epigenetics Laboratory, Institute of Oncology of Asturias (IUOPA), HUCA, Universidad de Oviedo, Principado de Asturias, Spain.",
             "name": "Cristina Mangas"
            },
            {
             "affiliation": "Cancer Epigenetics Laboratory, Institute of Oncology of Asturias (IUOPA), HUCA, Universidad de Oviedo, Principado de Asturias, Spain. Nanomaterials and Nanotechnology Research Center (CINN-CSIC), Universidad de Oviedo, Principado de Asturias, Spain.",
             "name": "Raul F. Pérez",
             "orcid": "0000-0003-4336-9898"
            },
            {
             "affiliation": "Cancer Epigenetics Laboratory, Institute of Oncology of Asturias (IUOPA), HUCA, Universidad de Oviedo, Principado de Asturias, Spain. Fundación para la Investigación Biosanitaria de Asturias (FINBA), Instituto de Investigación Sanitaria del Principado de Asturias (ISPA), Principado de Asturias, Spain.",
             "name": "Pablo Santamarina",
             "orcid": "0000-0002-7439-8467"
            },
            {
             "affiliation": "Nanomaterials and Nanotechnology Research Center (CINN-CSIC), Universidad de Oviedo, Principado de Asturias, Spain.",
             "name": "Rocío G Urdinguio"
            },
            {
             "affiliation": "Josep Carreras Leukemia Research Institute, School of Medicine, Department of Biomedicine, University of Barcelona, Barcelona, Spain. Instituciò Catalana de Recerca i Estudis Avançats (ICREA), Barcelona, Spain. Josep Carreras Leukemia Research Institute-Campus ICO, Research Institut Germans Trias i Pujol (IGTP), Badalona, Spain. Centro de Investigación Biomédica en Red de Cáncer (CIBERONC), ISCIII, Barcelona, Spain.",
             "name": "Pablo Menendez",
             "orcid": "0000-0001-9372-1007"
            },
            {
             "affiliation": "Nanomaterials and Nanotechnology Research Center (CINN-CSIC), Universidad de Oviedo, Principado de Asturias, Spain.",
             "name": "Mario F Fraga",
             "orcid": "0000-0001-8450-2603"
            },
            {
             "affiliation": "Cancer Epigenetics Laboratory, Institute of Oncology of Asturias (IUOPA), HUCA, Universidad de Oviedo, Principado de Asturias, Spain. Fundación para la Investigación Biosanitaria de Asturias (FINBA), Instituto de Investigación Sanitaria del Principado de Asturias (ISPA), Principado de Asturias, Spain.",
             "name": "Agustin F Fernandez",
             "orcid": "0000-0002-3792-4085"
            }
           ],
           "description": "<p>Epigenetic regulation plays an important role in cellular development and differentiation. A detailed map of the DNA methylation dynamics that occur during cell differentiation would contribute to decipher the molecular networks governing cell fate commitment. In this study we used the most recent Illumina MethylationEPIC Beadchip platform to describe the genome-wide DNA methylation changes observed throughout hematopoietic maturation by analyzing multiple hematopoietic cell types at different developmental stages.</p>",
           "doi": "10.5281/zenodo.1095572",
           "grants": [
            {
             "acronym": "INFANTLEUKEMIA",
             "code": "646903",
             "funder": {
              "acronyms": [],
              "doi": "10.13039/501100000780",
              "links": {
               "self": "https://zenodo.org/api/funders/10.13039/501100000780"
              },
              "name": "European Commission"
             },
             "links": {
              "self": "https://zenodo.org/api/grants/10.13039/501100000780::646903"
             },
             "program": "H2020",
             "title": "GENOMIC, CELLULAR AND DEVELOPMENTAL RECONSTRUCTION OFINFANT MLL-AF4+ ACUTE LYMPHOBLASTIC LEUKEMIA"
            }
           ],
           "keywords": [
            "Hematopoietic differentiation, DNA methylation, MethylationEPIC beadchip, T lymphocytes, DNA enhancers."
           ],
           "language": "eng",
           "license": {
            "id": "CC-BY-NC-4.0"
           },
           "notes": "Supplementary figures and supplementary data tables from MethylationEPIC arrays (Tejedor et al), plus a compiled dataset including raw methylation intensities, processed β-values and Phenotypic data from HumanMethylation450 arrays collected from datasets GSE63409, GSE49618, GSE88824 and GSE49031, and HumanMethylationEPIC arrays deposited in E-MTAB-6315 entry from ArrayExpress.",
           "publication_date": "2017-12-07",
           "related_identifiers": [
            {
             "identifier": "10.5281/zenodo.1095571",
             "relation": "isVersionOf",
             "scheme": "doi"
            }
           ],
           "relations": {
            "version": [
             {
              "count": 1,
              "index": 0,
              "is_last": true,
              "last_child": {
               "pid_type": "recid",
               "pid_value": "1095572"
              },
              "parent": {
               "pid_type": "recid",
               "pid_value": "1095571"
              }
             }
            ]
           },
           "resource_type": {
            "title": "Dataset",
            "type": "dataset"
           },
           "title": "Epigenome-wide analysis reveals specific DNA hypermethylation of T cells during human hematopoietic differentiation",
           "version": "v1"
          },
          "owners": [
           34729
          ],
          "revision": 5,
          "stats": {
           "downloads": 407,
           "unique_downloads": 263,
           "unique_views": 95,
           "version_downloads": 407,
           "version_unique_downloads": 263,
           "version_unique_views": 95,
           "version_views": 104,
           "version_volume": 5816768879,
           "views": 104,
           "volume": 5816768879
          },
          "updated": "2020-01-21T07:23:24.175716+00:00"
         },
         {
          "conceptdoi": "10.5281/zenodo.824132",
          "conceptrecid": "824132",
          "created": "2017-07-07T13:48:51.049524+00:00",
          "doi": "10.5281/zenodo.824133",
          "files": [
           {
            "bucket": "7c728c85-b0f5-47d1-bdeb-a68c362c84ed",
            "checksum": "md5:67a946f7403d24f1af36b9da7e9ec726",
            "key": "LAMMPS.rar",
            "links": {
             "self": "https://zenodo.org/api/files/7c728c85-b0f5-47d1-bdeb-a68c362c84ed/LAMMPS.rar"
            },
            "size": 334138186,
            "type": "rar"
           }
          ],
          "id": 824133,
          "links": {
           "badge": "https://zenodo.org/badge/doi/10.5281/zenodo.824133.svg",
           "bucket": "https://zenodo.org/api/files/7c728c85-b0f5-47d1-bdeb-a68c362c84ed",
           "conceptbadge": "https://zenodo.org/badge/doi/10.5281/zenodo.824132.svg",
           "conceptdoi": "https://doi.org/10.5281/zenodo.824132",
           "doi": "https://doi.org/10.5281/zenodo.824133",
           "html": "https://zenodo.org/record/824133",
           "latest": "https://zenodo.org/api/records/824133",
           "latest_html": "https://zenodo.org/record/824133",
           "self": "https://zenodo.org/api/records/824133"
          },
          "metadata": {
           "access_right": "open",
           "access_right_category": "success",
           "creators": [
            {
             "affiliation": "eXact lab srl (eXactlab)",
             "name": "The eXactLab ExaNeSt Team"
            }
           ],
           "description": "<p>LAMMPS is a classical molecular dynamics code that models an ensemble of particles in a liquid, solid, or gaseous state. It can model atomic, polymeric, biological, metallic, granular, and coarse-grained systems using a variety of force fields and boundary conditions This dataset is comprised of traces obtained from application LAMMPS by processing the otf2 output produced by the SCALASCA utility once the LAMMPS code has been instrumented. Specifically, five variants of LAMMPS have been analysed where the node count varies from 24 to 192.</p>",
           "doi": "10.5281/zenodo.824133",
           "grants": [
            {
             "acronym": "ExaNeSt",
             "code": "671553",
             "funder": {
              "acronyms": [],
              "doi": "10.13039/501100000780",
              "links": {
               "self": "https://zenodo.org/api/funders/10.13039/501100000780"
              },
              "name": "European Commission"
             },
             "links": {
              "self": "https://zenodo.org/api/grants/10.13039/501100000780::671553"
             },
             "program": "H2020",
             "title": "European Exascale System Interconnect and Storage"
            }
           ],
           "keywords": [
            "molecular dynamics",
            "LAMMPS",
            "traces",
            "SCALASCA",
            "European Union (EU)",
            "Horizon 2020",
            "Euratom",
            "Euratom research and training programme 2014-2018"
           ],
           "license": {
            "id": "CC-BY-NC-ND-4.0"
           },
           "publication_date": "2017-07-07",
           "related_identifiers": [
            {
             "identifier": "10.5281/zenodo.824132",
             "relation": "isVersionOf",
             "scheme": "doi"
            }
           ],
           "relations": {
            "version": [
             {
              "count": 1,
              "index": 0,
              "is_last": true,
              "last_child": {
               "pid_type": "recid",
               "pid_value": "824133"
              },
              "parent": {
               "pid_type": "recid",
               "pid_value": "824132"
              }
             }
            ]
           },
           "resource_type": {
            "title": "Dataset",
            "type": "dataset"
           },
           "title": "ExaNeSt eXactLab Data Traffic produced by LAMMPS application"
          },
          "owners": [
           32233
          ],
          "revision": 9,
          "stats": {
           "downloads": 11,
           "unique_downloads": 10,
           "unique_views": 38,
           "version_downloads": 11,
           "version_unique_downloads": 10,
           "version_unique_views": 38,
           "version_views": 40,
           "version_volume": 3675520046,
           "views": 40,
           "volume": 3675520046
          },
          "updated": "2020-01-21T07:22:10.050925+00:00"
         },
         {
          "conceptdoi": "10.5281/zenodo.1118265",
          "conceptrecid": "1118265",
          "created": "2019-07-15T08:10:16.563746+00:00",
          "doi": "10.5281/zenodo.3335503",
          "files": [
           {
            "bucket": "4a266830-7193-4dbc-aa75-b516749b6b06",
            "checksum": "md5:2eaa9b54e7e12eb30c61a2e6eaa86be0",
            "key": "ecc-lipids.itp",
            "links": {
             "self": "https://zenodo.org/api/files/4a266830-7193-4dbc-aa75-b516749b6b06/ecc-lipids.itp"
            },
            "size": 6846,
            "type": "itp"
           },
           {
            "bucket": "4a266830-7193-4dbc-aa75-b516749b6b06",
            "checksum": "md5:1e1be4f686dc31ce1488e6beb23de286",
            "key": "ECC-POPC_amber-lipid14-atomic-names.itp",
            "links": {
             "self": "https://zenodo.org/api/files/4a266830-7193-4dbc-aa75-b516749b6b06/ECC-POPC_amber-lipid14-atomic-names.itp"
            },
            "size": 101597,
            "type": "itp"
           },
           {
            "bucket": "4a266830-7193-4dbc-aa75-b516749b6b06",
            "checksum": "md5:9a9ecdc253dcfca1ded2273d46d2cac1",
            "key": "ECC-POPC_charmm36-atomic-names.itp",
            "links": {
             "self": "https://zenodo.org/api/files/4a266830-7193-4dbc-aa75-b516749b6b06/ECC-POPC_charmm36-atomic-names.itp"
            },
            "size": 62861,
            "type": "itp"
           },
           {
            "bucket": "4a266830-7193-4dbc-aa75-b516749b6b06",
            "checksum": "md5:c9dd2d60d043420769ac3456a0ad6d5a",
            "key": "ions.itp",
            "links": {
             "self": "https://zenodo.org/api/files/4a266830-7193-4dbc-aa75-b516749b6b06/ions.itp"
            },
            "size": 3529,
            "type": "itp"
           },
           {
            "bucket": "4a266830-7193-4dbc-aa75-b516749b6b06",
            "checksum": "md5:3a5728ae2b062129ca05916203c7f82c",
            "key": "ions_nb_sigma_eps.itp",
            "links": {
             "self": "https://zenodo.org/api/files/4a266830-7193-4dbc-aa75-b516749b6b06/ions_nb_sigma_eps.itp"
            },
            "size": 1552,
            "type": "itp"
           },
           {
            "bucket": "4a266830-7193-4dbc-aa75-b516749b6b06",
            "checksum": "md5:b0b312a500bc4a26fae8ca7c7a1e84c8",
            "key": "lipid14.itp",
            "links": {
             "self": "https://zenodo.org/api/files/4a266830-7193-4dbc-aa75-b516749b6b06/lipid14.itp"
            },
            "size": 3837,
            "type": "itp"
           },
           {
            "bucket": "4a266830-7193-4dbc-aa75-b516749b6b06",
            "checksum": "md5:f53cbd871fe00968859a0525ac903d8f",
            "key": "npt_lipid_bilayer.mdp",
            "links": {
             "self": "https://zenodo.org/api/files/4a266830-7193-4dbc-aa75-b516749b6b06/npt_lipid_bilayer.mdp"
            },
            "size": 3614,
            "type": "mdp"
           },
           {
            "bucket": "4a266830-7193-4dbc-aa75-b516749b6b06",
            "checksum": "md5:a837556acc8bded4fd1263c8afd68d6c",
            "key": "sim_ECC-POPC_105mM_CaCl-2s_SPCE.cpt",
            "links": {
             "self": "https://zenodo.org/api/files/4a266830-7193-4dbc-aa75-b516749b6b06/sim_ECC-POPC_105mM_CaCl-2s_SPCE.cpt"
            },
            "size": 1060892,
            "type": "cpt"
           },
           {
            "bucket": "4a266830-7193-4dbc-aa75-b516749b6b06",
            "checksum": "md5:cd5066120ea24ff95608e89ff1069a06",
            "key": "sim_ECC-POPC_105mM_CaCl-2s_SPCE.edr",
            "links": {
             "self": "https://zenodo.org/api/files/4a266830-7193-4dbc-aa75-b516749b6b06/sim_ECC-POPC_105mM_CaCl-2s_SPCE.edr"
            },
            "size": 9607812,
            "type": "edr"
           },
           {
            "bucket": "4a266830-7193-4dbc-aa75-b516749b6b06",
            "checksum": "md5:58ef1c252e79a005647fc587eed1c124",
            "key": "sim_ECC-POPC_105mM_CaCl-2s_SPCE.gro",
            "links": {
             "self": "https://zenodo.org/api/files/4a266830-7193-4dbc-aa75-b516749b6b06/sim_ECC-POPC_105mM_CaCl-2s_SPCE.gro"
            },
            "size": 3045515,
            "type": "gro"
           },
           {
            "bucket": "4a266830-7193-4dbc-aa75-b516749b6b06",
            "checksum": "md5:f197241822c92d4a9d44386f3259e551",
            "key": "sim_ECC-POPC_105mM_CaCl-2s_SPCE.top",
            "links": {
             "self": "https://zenodo.org/api/files/4a266830-7193-4dbc-aa75-b516749b6b06/sim_ECC-POPC_105mM_CaCl-2s_SPCE.top"
            },
            "size": 412,
            "type": "top"
           },
           {
            "bucket": "4a266830-7193-4dbc-aa75-b516749b6b06",
            "checksum": "md5:2736579d47cce9e78c460e651dd3e2a2",
            "key": "sim_ECC-POPC_105mM_CaCl-2s_SPCE.tpr",
            "links": {
             "self": "https://zenodo.org/api/files/4a266830-7193-4dbc-aa75-b516749b6b06/sim_ECC-POPC_105mM_CaCl-2s_SPCE.tpr"
            },
            "size": 1457532,
            "type": "tpr"
           },
           {
            "bucket": "4a266830-7193-4dbc-aa75-b516749b6b06",
            "checksum": "md5:36147787561bf27a13454ec1ba56a492",
            "key": "sim_ECC-POPC_105mM_CaCl-2s_SPCE.xtc",
            "links": {
             "self": "https://zenodo.org/api/files/4a266830-7193-4dbc-aa75-b516749b6b06/sim_ECC-POPC_105mM_CaCl-2s_SPCE.xtc"
            },
            "size": 2445666284,
            "type": "xtc"
           },
           {
            "bucket": "4a266830-7193-4dbc-aa75-b516749b6b06",
            "checksum": "md5:54d0f2522ca98c99ae3a29d5f26731df",
            "key": "sim_ECC-POPC_251mM_CaCl-2s_SPCE.cpt",
            "links": {
             "self": "https://zenodo.org/api/files/4a266830-7193-4dbc-aa75-b516749b6b06/sim_ECC-POPC_251mM_CaCl-2s_SPCE.cpt"
            },
            "size": 876140,
            "type": "cpt"
           },
           {
            "bucket": "4a266830-7193-4dbc-aa75-b516749b6b06",
            "checksum": "md5:4d42e14cf839c799c6a1c851070b5f9c",
            "key": "sim_ECC-POPC_251mM_CaCl-2s_SPCE.edr",
            "links": {
             "self": "https://zenodo.org/api/files/4a266830-7193-4dbc-aa75-b516749b6b06/sim_ECC-POPC_251mM_CaCl-2s_SPCE.edr"
            },
            "size": 9606852,
            "type": "edr"
           },
           {
            "bucket": "4a266830-7193-4dbc-aa75-b516749b6b06",
            "checksum": "md5:4f02ad8d480227f2b52e57af7a9cbe7f",
            "key": "sim_ECC-POPC_251mM_CaCl-2s_SPCE.gro",
            "links": {
             "self": "https://zenodo.org/api/files/4a266830-7193-4dbc-aa75-b516749b6b06/sim_ECC-POPC_251mM_CaCl-2s_SPCE.gro"
            },
            "size": 2514353,
            "type": "gro"
           },
           {
            "bucket": "4a266830-7193-4dbc-aa75-b516749b6b06",
            "checksum": "md5:009862314ad854c2ab23ae2178b9ec1f",
            "key": "sim_ECC-POPC_251mM_CaCl-2s_SPCE.top",
            "links": {
             "self": "https://zenodo.org/api/files/4a266830-7193-4dbc-aa75-b516749b6b06/sim_ECC-POPC_251mM_CaCl-2s_SPCE.top"
            },
            "size": 413,
            "type": "top"
           },
           {
            "bucket": "4a266830-7193-4dbc-aa75-b516749b6b06",
            "checksum": "md5:46de78ec20109c4b509863566ab24d49",
            "key": "sim_ECC-POPC_251mM_CaCl-2s_SPCE.tpr",
            "links": {
             "self": "https://zenodo.org/api/files/4a266830-7193-4dbc-aa75-b516749b6b06/sim_ECC-POPC_251mM_CaCl-2s_SPCE.tpr"
            },
            "size": 1211196,
            "type": "tpr"
           },
           {
            "bucket": "4a266830-7193-4dbc-aa75-b516749b6b06",
            "checksum": "md5:7ccf16b6235f7cc0b64a4cc0301514df",
            "key": "sim_ECC-POPC_251mM_CaCl-2s_SPCE.xtc",
            "links": {
             "self": "https://zenodo.org/api/files/4a266830-7193-4dbc-aa75-b516749b6b06/sim_ECC-POPC_251mM_CaCl-2s_SPCE.xtc"
            },
            "size": 2029197204,
            "type": "xtc"
           },
           {
            "bucket": "4a266830-7193-4dbc-aa75-b516749b6b06",
            "checksum": "md5:07e2ec6fe735b7d84706a0907e69331c",
            "key": "sim_ECC-POPC_346mM_CaCl-2s_SPCE.cpt",
            "links": {
             "self": "https://zenodo.org/api/files/4a266830-7193-4dbc-aa75-b516749b6b06/sim_ECC-POPC_346mM_CaCl-2s_SPCE.cpt"
            },
            "size": 876932,
            "type": "cpt"
           },
           {
            "bucket": "4a266830-7193-4dbc-aa75-b516749b6b06",
            "checksum": "md5:a65286a795778f73f5c329ce244a5e48",
            "key": "sim_ECC-POPC_346mM_CaCl-2s_SPCE.dcd",
            "links": {
             "self": "https://zenodo.org/api/files/4a266830-7193-4dbc-aa75-b516749b6b06/sim_ECC-POPC_346mM_CaCl-2s_SPCE.dcd"
            },
            "size": 6566160276,
            "type": "dcd"
           },
           {
            "bucket": "4a266830-7193-4dbc-aa75-b516749b6b06",
            "checksum": "md5:9abb36761a0e8282c157520ea77c1cb4",
            "key": "sim_ECC-POPC_346mM_CaCl-2s_SPCE.edr",
            "links": {
             "self": "https://zenodo.org/api/files/4a266830-7193-4dbc-aa75-b516749b6b06/sim_ECC-POPC_346mM_CaCl-2s_SPCE.edr"
            },
            "size": 9607172,
            "type": "edr"
           },
           {
            "bucket": "4a266830-7193-4dbc-aa75-b516749b6b06",
            "checksum": "md5:592d5799b7186a077e669ea844a248d6",
            "key": "sim_ECC-POPC_346mM_CaCl-2s_SPCE.gro",
            "links": {
             "self": "https://zenodo.org/api/files/4a266830-7193-4dbc-aa75-b516749b6b06/sim_ECC-POPC_346mM_CaCl-2s_SPCE.gro"
            },
            "size": 2516630,
            "type": "gro"
           },
           {
            "bucket": "4a266830-7193-4dbc-aa75-b516749b6b06",
            "checksum": "md5:b3eecca13a67195d4284f39af64c2867",
            "key": "sim_ECC-POPC_346mM_CaCl-2s_SPCE.top",
            "links": {
             "self": "https://zenodo.org/api/files/4a266830-7193-4dbc-aa75-b516749b6b06/sim_ECC-POPC_346mM_CaCl-2s_SPCE.top"
            },
            "size": 413,
            "type": "top"
           },
           {
            "bucket": "4a266830-7193-4dbc-aa75-b516749b6b06",
            "checksum": "md5:e544ee8f5e8542be11442514b1f53c0b",
            "key": "sim_ECC-POPC_346mM_CaCl-2s_SPCE.tpr",
            "links": {
             "self": "https://zenodo.org/api/files/4a266830-7193-4dbc-aa75-b516749b6b06/sim_ECC-POPC_346mM_CaCl-2s_SPCE.tpr"
            },
            "size": 1212252,
            "type": "tpr"
           },
           {
            "bucket": "4a266830-7193-4dbc-aa75-b516749b6b06",
            "checksum": "md5:a170b4a40be61af32cd6b1bc1aad4ff4",
            "key": "sim_ECC-POPC_346mM_CaCl-2s_SPCE.xtc",
            "links": {
             "self": "https://zenodo.org/api/files/4a266830-7193-4dbc-aa75-b516749b6b06/sim_ECC-POPC_346mM_CaCl-2s_SPCE.xtc"
            },
            "size": 2031588028,
            "type": "xtc"
           },
           {
            "bucket": "4a266830-7193-4dbc-aa75-b516749b6b06",
            "checksum": "md5:5377e883502ae7c85dfa78a5fe70b406",
            "key": "sim_ECC-POPC_467mM_CaCl-2s_SPCE.cpt",
            "links": {
             "self": "https://zenodo.org/api/files/4a266830-7193-4dbc-aa75-b516749b6b06/sim_ECC-POPC_467mM_CaCl-2s_SPCE.cpt"
            },
            "size": 877940,
            "type": "cpt"
           },
           {
            "bucket": "4a266830-7193-4dbc-aa75-b516749b6b06",
            "checksum": "md5:9a3ad662e592d594d98a010f762e83dd",
            "key": "sim_ECC-POPC_467mM_CaCl-2s_SPCE.edr",
            "links": {
             "self": "https://zenodo.org/api/files/4a266830-7193-4dbc-aa75-b516749b6b06/sim_ECC-POPC_467mM_CaCl-2s_SPCE.edr"
            },
            "size": 9606852,
            "type": "edr"
           },
           {
            "bucket": "4a266830-7193-4dbc-aa75-b516749b6b06",
            "checksum": "md5:29a3a2228b9eb6132cc84da55d712457",
            "key": "sim_ECC-POPC_467mM_CaCl-2s_SPCE.gro",
            "links": {
             "self": "https://zenodo.org/api/files/4a266830-7193-4dbc-aa75-b516749b6b06/sim_ECC-POPC_467mM_CaCl-2s_SPCE.gro"
            },
            "size": 2519528,
            "type": "gro"
           },
           {
            "bucket": "4a266830-7193-4dbc-aa75-b516749b6b06",
            "checksum": "md5:3fecef931794f130f359699026e2dab8",
            "key": "sim_ECC-POPC_467mM_CaCl-2s_SPCE.top",
            "links": {
             "self": "https://zenodo.org/api/files/4a266830-7193-4dbc-aa75-b516749b6b06/sim_ECC-POPC_467mM_CaCl-2s_SPCE.top"
            },
            "size": 413,
            "type": "top"
           },
           {
            "bucket": "4a266830-7193-4dbc-aa75-b516749b6b06",
            "checksum": "md5:99fbb507adb508bf57b457174eba63aa",
            "key": "sim_ECC-POPC_467mM_CaCl-2s_SPCE.tpr",
            "links": {
             "self": "https://zenodo.org/api/files/4a266830-7193-4dbc-aa75-b516749b6b06/sim_ECC-POPC_467mM_CaCl-2s_SPCE.tpr"
            },
            "size": 1213596,
            "type": "tpr"
           },
           {
            "bucket": "4a266830-7193-4dbc-aa75-b516749b6b06",
            "checksum": "md5:708bbc9dd64aeb3025e7257ba9bdabe7",
            "key": "sim_ECC-POPC_467mM_CaCl-2s_SPCE.xtc",
            "links": {
             "self": "https://zenodo.org/api/files/4a266830-7193-4dbc-aa75-b516749b6b06/sim_ECC-POPC_467mM_CaCl-2s_SPCE.xtc"
            },
            "size": 2034711368,
            "type": "xtc"
           },
           {
            "bucket": "4a266830-7193-4dbc-aa75-b516749b6b06",
            "checksum": "md5:bbe3fd87495d375ccafc44a56dd0b21f",
            "key": "sim_ECC-POPC_711mM_CaCl-2s_SPCE.cpt",
            "links": {
             "self": "https://zenodo.org/api/files/4a266830-7193-4dbc-aa75-b516749b6b06/sim_ECC-POPC_711mM_CaCl-2s_SPCE.cpt"
            },
            "size": 867716,
            "type": "cpt"
           },
           {
            "bucket": "4a266830-7193-4dbc-aa75-b516749b6b06",
            "checksum": "md5:247c5063375718e93a63b56882da3f25",
            "key": "sim_ECC-POPC_711mM_CaCl-2s_SPCE.edr",
            "links": {
             "self": "https://zenodo.org/api/files/4a266830-7193-4dbc-aa75-b516749b6b06/sim_ECC-POPC_711mM_CaCl-2s_SPCE.edr"
            },
            "size": 9606852,
            "type": "edr"
           },
           {
            "bucket": "4a266830-7193-4dbc-aa75-b516749b6b06",
            "checksum": "md5:f0d26fc10f0ca6bc579ec6db46a0f10c",
            "key": "sim_ECC-POPC_711mM_CaCl-2s_SPCE.gro",
            "links": {
             "self": "https://zenodo.org/api/files/4a266830-7193-4dbc-aa75-b516749b6b06/sim_ECC-POPC_711mM_CaCl-2s_SPCE.gro"
            },
            "size": 2490134,
            "type": "gro"
           },
           {
            "bucket": "4a266830-7193-4dbc-aa75-b516749b6b06",
            "checksum": "md5:23b7b73d0d9d27aad8cdf33c532e91ce",
            "key": "sim_ECC-POPC_711mM_CaCl-2s_SPCE.top",
            "links": {
             "self": "https://zenodo.org/api/files/4a266830-7193-4dbc-aa75-b516749b6b06/sim_ECC-POPC_711mM_CaCl-2s_SPCE.top"
            },
            "size": 413,
            "type": "top"
           },
           {
            "bucket": "4a266830-7193-4dbc-aa75-b516749b6b06",
            "checksum": "md5:2540a97a5e3d6896cc4cf80f2b3ecfa2",
            "key": "sim_ECC-POPC_711mM_CaCl-2s_SPCE.tpr",
            "links": {
             "self": "https://zenodo.org/api/files/4a266830-7193-4dbc-aa75-b516749b6b06/sim_ECC-POPC_711mM_CaCl-2s_SPCE.tpr"
            },
            "size": 1199964,
            "type": "tpr"
           },
           {
            "bucket": "4a266830-7193-4dbc-aa75-b516749b6b06",
            "checksum": "md5:8bcfca0d79456d9a9522ef5e71ed4613",
            "key": "sim_ECC-POPC_711mM_CaCl-2s_SPCE.xtc",
            "links": {
             "self": "https://zenodo.org/api/files/4a266830-7193-4dbc-aa75-b516749b6b06/sim_ECC-POPC_711mM_CaCl-2s_SPCE.xtc"
            },
            "size": 2013266872,
            "type": "xtc"
           },
           {
            "bucket": "4a266830-7193-4dbc-aa75-b516749b6b06",
            "checksum": "md5:3b762de9f08e15121e4b4746f1e88697",
            "key": "sim_ECC-POPC_978mM_CaCl-2s_SPCE.cpt",
            "links": {
             "self": "https://zenodo.org/api/files/4a266830-7193-4dbc-aa75-b516749b6b06/sim_ECC-POPC_978mM_CaCl-2s_SPCE.cpt"
            },
            "size": 869856,
            "type": "cpt"
           },
           {
            "bucket": "4a266830-7193-4dbc-aa75-b516749b6b06",
            "checksum": "md5:570e514d1a09c6dbe6255499bd00f50d",
            "key": "sim_ECC-POPC_978mM_CaCl-2s_SPCE.dcd",
            "links": {
             "self": "https://zenodo.org/api/files/4a266830-7193-4dbc-aa75-b516749b6b06/sim_ECC-POPC_978mM_CaCl-2s_SPCE.dcd"
            },
            "size": 6513240276,
            "type": "dcd"
           },
           {
            "bucket": "4a266830-7193-4dbc-aa75-b516749b6b06",
            "checksum": "md5:4cb5711538418b4020370bb7d4773b89",
            "key": "sim_ECC-POPC_978mM_CaCl-2s_SPCE.edr",
            "links": {
             "self": "https://zenodo.org/api/files/4a266830-7193-4dbc-aa75-b516749b6b06/sim_ECC-POPC_978mM_CaCl-2s_SPCE.edr"
            },
            "size": 9601732,
            "type": "edr"
           },
           {
            "bucket": "4a266830-7193-4dbc-aa75-b516749b6b06",
            "checksum": "md5:df87ac24d8f69935e14ce55875e37940",
            "key": "sim_ECC-POPC_978mM_CaCl-2s_SPCE.gro",
            "links": {
             "self": "https://zenodo.org/api/files/4a266830-7193-4dbc-aa75-b516749b6b06/sim_ECC-POPC_978mM_CaCl-2s_SPCE.gro"
            },
            "size": 2496344,
            "type": "gro"
           },
           {
            "bucket": "4a266830-7193-4dbc-aa75-b516749b6b06",
            "checksum": "md5:cefb53d05c836564ac46285ef4c5b1af",
            "key": "sim_ECC-POPC_978mM_CaCl-2s_SPCE.top",
            "links": {
             "self": "https://zenodo.org/api/files/4a266830-7193-4dbc-aa75-b516749b6b06/sim_ECC-POPC_978mM_CaCl-2s_SPCE.top"
            },
            "size": 413,
            "type": "top"
           },
           {
            "bucket": "4a266830-7193-4dbc-aa75-b516749b6b06",
            "checksum": "md5:93f5576825403a39ea28339518f4f256",
            "key": "sim_ECC-POPC_978mM_CaCl-2s_SPCE.tpr",
            "links": {
             "self": "https://zenodo.org/api/files/4a266830-7193-4dbc-aa75-b516749b6b06/sim_ECC-POPC_978mM_CaCl-2s_SPCE.tpr"
            },
            "size": 1202744,
            "type": "tpr"
           },
           {
            "bucket": "4a266830-7193-4dbc-aa75-b516749b6b06",
            "checksum": "md5:b129bfa50e9888d2fe523017633e828c",
            "key": "sim_ECC-POPC_978mM_CaCl-2s_SPCE.xtc",
            "links": {
             "self": "https://zenodo.org/api/files/4a266830-7193-4dbc-aa75-b516749b6b06/sim_ECC-POPC_978mM_CaCl-2s_SPCE.xtc"
            },
            "size": 2019751340,
            "type": "xtc"
           },
           {
            "bucket": "4a266830-7193-4dbc-aa75-b516749b6b06",
            "checksum": "md5:0ba0d7963f4cad5ba3b379c3f00ddc69",
            "key": "sim_ECC-POPC_978mM_KCl_SPCE.cpt",
            "links": {
             "self": "https://zenodo.org/api/files/4a266830-7193-4dbc-aa75-b516749b6b06/sim_ECC-POPC_978mM_KCl_SPCE.cpt"
            },
            "size": 867212,
            "type": "cpt"
           },
           {
            "bucket": "4a266830-7193-4dbc-aa75-b516749b6b06",
            "checksum": "md5:6cde132fe68df4e80d610eb03e4d9d1e",
            "key": "sim_ECC-POPC_978mM_KCl_SPCE.edr",
            "links": {
             "self": "https://zenodo.org/api/files/4a266830-7193-4dbc-aa75-b516749b6b06/sim_ECC-POPC_978mM_KCl_SPCE.edr"
            },
            "size": 9602052,
            "type": "edr"
           },
           {
            "bucket": "4a266830-7193-4dbc-aa75-b516749b6b06",
            "checksum": "md5:55122cc71bdc79d18b42ef99e846ad4c",
            "key": "sim_ECC-POPC_978mM_KCl_SPCE.gro",
            "links": {
             "self": "https://zenodo.org/api/files/4a266830-7193-4dbc-aa75-b516749b6b06/sim_ECC-POPC_978mM_KCl_SPCE.gro"
            },
            "size": 2488754,
            "type": "gro"
           },
           {
            "bucket": "4a266830-7193-4dbc-aa75-b516749b6b06",
            "checksum": "md5:d28f797764b9ab2276752f7936b2ab4c",
            "key": "sim_ECC-POPC_978mM_KCl_SPCE.top",
            "links": {
             "self": "https://zenodo.org/api/files/4a266830-7193-4dbc-aa75-b516749b6b06/sim_ECC-POPC_978mM_KCl_SPCE.top"
            },
            "size": 413,
            "type": "top"
           },
           {
            "bucket": "4a266830-7193-4dbc-aa75-b516749b6b06",
            "checksum": "md5:f861868176a506962d9795b454c97f90",
            "key": "sim_ECC-POPC_978mM_KCl_SPCE.tpr",
            "links": {
             "self": "https://zenodo.org/api/files/4a266830-7193-4dbc-aa75-b516749b6b06/sim_ECC-POPC_978mM_KCl_SPCE.tpr"
            },
            "size": 1199324,
            "type": "tpr"
           },
           {
            "bucket": "4a266830-7193-4dbc-aa75-b516749b6b06",
            "checksum": "md5:490b5b69d962410458309b69a2dfbcdf",
            "key": "sim_ECC-POPC_978mM_KCl_SPCE.xtc",
            "links": {
             "self": "https://zenodo.org/api/files/4a266830-7193-4dbc-aa75-b516749b6b06/sim_ECC-POPC_978mM_KCl_SPCE.xtc"
            },
            "size": 2011296688,
            "type": "xtc"
           },
           {
            "bucket": "4a266830-7193-4dbc-aa75-b516749b6b06",
            "checksum": "md5:561933024676fd0764dbab6c436545f4",
            "key": "sim_ECC-POPC_978mM_NaCl_SPCE.cpt",
            "links": {
             "self": "https://zenodo.org/api/files/4a266830-7193-4dbc-aa75-b516749b6b06/sim_ECC-POPC_978mM_NaCl_SPCE.cpt"
            },
            "size": 867240,
            "type": "cpt"
           },
           {
            "bucket": "4a266830-7193-4dbc-aa75-b516749b6b06",
            "checksum": "md5:f2ede81ec06636956edd67dbdf6c50ce",
            "key": "sim_ECC-POPC_978mM_NaCl_SPCE.edr",
            "links": {
             "self": "https://zenodo.org/api/files/4a266830-7193-4dbc-aa75-b516749b6b06/sim_ECC-POPC_978mM_NaCl_SPCE.edr"
            },
            "size": 7308932,
            "type": "edr"
           },
           {
            "bucket": "4a266830-7193-4dbc-aa75-b516749b6b06",
            "checksum": "md5:6a4c00b465b4f36cc27abd3b68a9d010",
            "key": "sim_ECC-POPC_978mM_NaCl_SPCE.gro",
            "links": {
             "self": "https://zenodo.org/api/files/4a266830-7193-4dbc-aa75-b516749b6b06/sim_ECC-POPC_978mM_NaCl_SPCE.gro"
            },
            "size": 2488754,
            "type": "gro"
           },
           {
            "bucket": "4a266830-7193-4dbc-aa75-b516749b6b06",
            "checksum": "md5:c4098deb11c8ef2f4dc46fc640fcbfdc",
            "key": "sim_ECC-POPC_978mM_NaCl_SPCE.top",
            "links": {
             "self": "https://zenodo.org/api/files/4a266830-7193-4dbc-aa75-b516749b6b06/sim_ECC-POPC_978mM_NaCl_SPCE.top"
            },
            "size": 413,
            "type": "top"
           },
           {
            "bucket": "4a266830-7193-4dbc-aa75-b516749b6b06",
            "checksum": "md5:f74c61d2911c62c6c46fd8d24805f095",
            "key": "sim_ECC-POPC_978mM_NaCl_SPCE.tpr",
            "links": {
             "self": "https://zenodo.org/api/files/4a266830-7193-4dbc-aa75-b516749b6b06/sim_ECC-POPC_978mM_NaCl_SPCE.tpr"
            },
            "size": 1199324,
            "type": "tpr"
           },
           {
            "bucket": "4a266830-7193-4dbc-aa75-b516749b6b06",
            "checksum": "md5:fdc000fb89e383a3b503cc3daf96d88e",
            "key": "sim_ECC-POPC_978mM_NaCl_SPCE.xtc",
            "links": {
             "self": "https://zenodo.org/api/files/4a266830-7193-4dbc-aa75-b516749b6b06/sim_ECC-POPC_978mM_NaCl_SPCE.xtc"
            },
            "size": 2011680040,
            "type": "xtc"
           },
           {
            "bucket": "4a266830-7193-4dbc-aa75-b516749b6b06",
            "checksum": "md5:b4800e5034ce0d6ed49b7ad648078736",
            "key": "sim_ECC-POPC_SPCE_noIons-ref_2fs-dt.dcd",
            "links": {
             "self": "https://zenodo.org/api/files/4a266830-7193-4dbc-aa75-b516749b6b06/sim_ECC-POPC_SPCE_noIons-ref_2fs-dt.dcd"
            },
            "size": 4363040276,
            "type": "dcd"
           },
           {
            "bucket": "4a266830-7193-4dbc-aa75-b516749b6b06",
            "checksum": "md5:480b527c58e4c769bbec402d88fc05bf",
            "key": "sim_ECC-POPC_SPCE_noIons-ref_300K.cpt",
            "links": {
             "self": "https://zenodo.org/api/files/4a266830-7193-4dbc-aa75-b516749b6b06/sim_ECC-POPC_SPCE_noIons-ref_300K.cpt"
            },
            "size": 874080,
            "type": "cpt"
           },
           {
            "bucket": "4a266830-7193-4dbc-aa75-b516749b6b06",
            "checksum": "md5:e42218d0e9e9f8792e3e8f006b693c91",
            "key": "sim_ECC-POPC_SPCE_noIons-ref_300K.dcd",
            "links": {
             "self": "https://zenodo.org/api/files/4a266830-7193-4dbc-aa75-b516749b6b06/sim_ECC-POPC_SPCE_noIons-ref_300K.dcd"
            },
            "size": 4363040276,
            "type": "dcd"
           },
           {
            "bucket": "4a266830-7193-4dbc-aa75-b516749b6b06",
            "checksum": "md5:d077afd64b59b718ded5fe464b5ae43e",
            "key": "sim_ECC-POPC_SPCE_noIons-ref_300K.edr",
            "links": {
             "self": "https://zenodo.org/api/files/4a266830-7193-4dbc-aa75-b516749b6b06/sim_ECC-POPC_SPCE_noIons-ref_300K.edr"
            },
            "size": 9601924,
            "type": "edr"
           },
           {
            "bucket": "4a266830-7193-4dbc-aa75-b516749b6b06",
            "checksum": "md5:566c5f16611d88bfb511e122b1ffadd0",
            "key": "sim_ECC-POPC_SPCE_noIons-ref_300K.gro",
            "links": {
             "self": "https://zenodo.org/api/files/4a266830-7193-4dbc-aa75-b516749b6b06/sim_ECC-POPC_SPCE_noIons-ref_300K.gro"
            },
            "size": 2508350,
            "type": "gro"
           },
           {
            "bucket": "4a266830-7193-4dbc-aa75-b516749b6b06",
            "checksum": "md5:03b65cd0d73011ff8f383b7d1472de94",
            "key": "sim_ECC-POPC_SPCE_noIons-ref_300K.top",
            "links": {
             "self": "https://zenodo.org/api/files/4a266830-7193-4dbc-aa75-b516749b6b06/sim_ECC-POPC_SPCE_noIons-ref_300K.top"
            },
            "size": 415,
            "type": "top"
           },
           {
            "bucket": "4a266830-7193-4dbc-aa75-b516749b6b06",
            "checksum": "md5:5aa01de080ac954751bfa099606a0bb6",
            "key": "sim_ECC-POPC_SPCE_noIons-ref_300K.tpr",
            "links": {
             "self": "https://zenodo.org/api/files/4a266830-7193-4dbc-aa75-b516749b6b06/sim_ECC-POPC_SPCE_noIons-ref_300K.tpr"
            },
            "size": 1206604,
            "type": "tpr"
           },
           {
            "bucket": "4a266830-7193-4dbc-aa75-b516749b6b06",
            "checksum": "md5:a7c3fc8362b6da00be22bb2a3cd8c44b",
            "key": "sim_ECC-POPC_SPCE_noIons-ref_300K.xtc",
            "links": {
             "self": "https://zenodo.org/api/files/4a266830-7193-4dbc-aa75-b516749b6b06/sim_ECC-POPC_SPCE_noIons-ref_300K.xtc"
            },
            "size": 2022717280,
            "type": "xtc"
           },
           {
            "bucket": "4a266830-7193-4dbc-aa75-b516749b6b06",
            "checksum": "md5:c40691110ce20b55352f86a69afd6b49",
            "key": "sim_ECC-POPC_SPCE_noIons-ref.cpt",
            "links": {
             "self": "https://zenodo.org/api/files/4a266830-7193-4dbc-aa75-b516749b6b06/sim_ECC-POPC_SPCE_noIons-ref.cpt"
            },
            "size": 873792,
            "type": "cpt"
           },
           {
            "bucket": "4a266830-7193-4dbc-aa75-b516749b6b06",
            "checksum": "md5:f40854ee2cf8fef723f40529ea9d45bb",
            "key": "sim_ECC-POPC_SPCE_noIons-ref.dcd",
            "links": {
             "self": "https://zenodo.org/api/files/4a266830-7193-4dbc-aa75-b516749b6b06/sim_ECC-POPC_SPCE_noIons-ref.dcd"
            },
            "size": 6544560276,
            "type": "dcd"
           },
           {
            "bucket": "4a266830-7193-4dbc-aa75-b516749b6b06",
            "checksum": "md5:1c8340017759574a7067209532f62856",
            "key": "sim_ECC-POPC_SPCE_noIons-ref.edr",
            "links": {
             "self": "https://zenodo.org/api/files/4a266830-7193-4dbc-aa75-b516749b6b06/sim_ECC-POPC_SPCE_noIons-ref.edr"
            },
            "size": 3201924,
            "type": "edr"
           },
           {
            "bucket": "4a266830-7193-4dbc-aa75-b516749b6b06",
            "checksum": "md5:b62a2d92e8ecda45afc6c5a67bcb93d6",
            "key": "sim_ECC-POPC_SPCE_noIons-ref.gro",
            "links": {
             "self": "https://zenodo.org/api/files/4a266830-7193-4dbc-aa75-b516749b6b06/sim_ECC-POPC_SPCE_noIons-ref.gro"
            },
            "size": 2508350,
            "type": "gro"
           },
           {
            "bucket": "4a266830-7193-4dbc-aa75-b516749b6b06",
            "checksum": "md5:03b65cd0d73011ff8f383b7d1472de94",
            "key": "sim_ECC-POPC_SPCE_noIons-ref.top",
            "links": {
             "self": "https://zenodo.org/api/files/4a266830-7193-4dbc-aa75-b516749b6b06/sim_ECC-POPC_SPCE_noIons-ref.top"
            },
            "size": 415,
            "type": "top"
           },
           {
            "bucket": "4a266830-7193-4dbc-aa75-b516749b6b06",
            "checksum": "md5:ae40a4a33698b77e180270777368fbe9",
            "key": "sim_ECC-POPC_SPCE_noIons-ref.tpr",
            "links": {
             "self": "https://zenodo.org/api/files/4a266830-7193-4dbc-aa75-b516749b6b06/sim_ECC-POPC_SPCE_noIons-ref.tpr"
            },
            "size": 1206488,
            "type": "tpr"
           },
           {
            "bucket": "4a266830-7193-4dbc-aa75-b516749b6b06",
            "checksum": "md5:080cfdc6a1e3635d52a16462164850b3",
            "key": "sim_ECC-POPC_SPCE_noIons-ref.xtc",
            "links": {
             "self": "https://zenodo.org/api/files/4a266830-7193-4dbc-aa75-b516749b6b06/sim_ECC-POPC_SPCE_noIons-ref.xtc"
            },
            "size": 674250236,
            "type": "xtc"
           }
          ],
          "id": 3335503,
          "links": {
           "badge": "https://zenodo.org/badge/doi/10.5281/zenodo.3335503.svg",
           "bucket": "https://zenodo.org/api/files/4a266830-7193-4dbc-aa75-b516749b6b06",
           "conceptbadge": "https://zenodo.org/badge/doi/10.5281/zenodo.1118265.svg",
           "conceptdoi": "https://doi.org/10.5281/zenodo.1118265",
           "doi": "https://doi.org/10.5281/zenodo.3335503",
           "html": "https://zenodo.org/record/3335503",
           "latest": "https://zenodo.org/api/records/3335503",
           "latest_html": "https://zenodo.org/record/3335503",
           "self": "https://zenodo.org/api/records/3335503"
          },
          "metadata": {
           "access_right": "open",
           "access_right_category": "success",
           "communities": [
            {
             "id": "nmrlipids"
            }
           ],
           "creators": [
            {
             "affiliation": "IOCB AS CR",
             "name": "Melcr, Josef",
             "orcid": "0000-0003-4729-3990"
            }
           ],
           "description": "<p>Classical molecular dynamics simulations of a POPC lipid bilayer in water solution at various NaCl, KCl and CaCl2 concentrations using ECC-POPC force field parameters, SPC/E water model and ECC-ions.</p>\n\n<p>file names report molar fraction of cations (i.e. not bulk concentrations)</p>\n\n<p>simulations performed with Gromacs 5.1.4 (*.xtc files) and openMM 7 (*.dcd files)</p>\n\n<p>simulation length 300 ns</p>\n\n<p>temperature 313 K (otherwise noted)</p>\n\n<p>Gromacs simulation setting is in the file npt_lipid_bilayer.mdp</p>",
           "doi": "10.5281/zenodo.3335503",
           "license": {
            "id": "CC-BY-4.0"
           },
           "publication_date": "2017-12-19",
           "related_identifiers": [
            {
             "identifier": "10.5281/zenodo.1118265",
             "relation": "isVersionOf",
             "scheme": "doi"
            }
           ],
           "relations": {
            "version": [
             {
              "count": 4,
              "index": 3,
              "is_last": true,
              "last_child": {
               "pid_type": "recid",
               "pid_value": "3335503"
              },
              "parent": {
               "pid_type": "recid",
               "pid_value": "1118265"
              }
             }
            ]
           },
           "resource_type": {
            "title": "Dataset",
            "type": "dataset"
           },
           "title": "Simulations of POPC lipid bilayer in water solution at various NaCl, KCl and CaCl2 concentrations using ECC-POPC force field"
          },
          "owners": [
           19909
          ],
          "revision": 4,
          "stats": {
           "downloads": 733,
           "unique_downloads": 58,
           "unique_views": 121,
           "version_downloads": 2576,
           "version_unique_downloads": 137,
           "version_unique_views": 247,
           "version_views": 293,
           "version_volume": 1527125876115,
           "views": 146,
           "volume": 462296672561
          },
          "updated": "2020-01-24T19:25:17.397466+00:00"
         },
         {
          "conceptdoi": "10.5281/zenodo.1050387",
          "conceptrecid": "1050387",
          "created": "2017-11-17T11:43:56.578060+00:00",
          "doi": "10.5281/zenodo.1050388",
          "files": [
           {
            "bucket": "659c2dd2-85af-456d-aaf4-1707439bafd4",
            "checksum": "md5:774b164fa99fb8a82abf5dc58dac5a5e",
            "key": "AB16Paper1.tar.gz",
            "links": {
             "self": "https://zenodo.org/api/files/659c2dd2-85af-456d-aaf4-1707439bafd4/AB16Paper1.tar.gz"
            },
            "size": 3990858492,
            "type": "gz"
           }
          ],
          "id": 1050388,
          "links": {
           "badge": "https://zenodo.org/badge/doi/10.5281/zenodo.1050388.svg",
           "bucket": "https://zenodo.org/api/files/659c2dd2-85af-456d-aaf4-1707439bafd4",
           "conceptbadge": "https://zenodo.org/badge/doi/10.5281/zenodo.1050387.svg",
           "conceptdoi": "https://doi.org/10.5281/zenodo.1050387",
           "doi": "https://doi.org/10.5281/zenodo.1050388",
           "html": "https://zenodo.org/record/1050388",
           "latest": "https://zenodo.org/api/records/1050388",
           "latest_html": "https://zenodo.org/record/1050388",
           "self": "https://zenodo.org/api/records/1050388"
          },
          "metadata": {
           "access_right": "open",
           "access_right_category": "success",
           "creators": [
            {
             "affiliation": "Cardiff University",
             "name": "Platts, James",
             "orcid": "0000-0002-1008-6595"
            },
            {
             "affiliation": "Cardiff University",
             "name": "Turner, Matthew"
            },
            {
             "affiliation": "Cardiff University",
             "name": "Mutter, Shaun"
            },
            {
             "affiliation": "University of Warwick",
             "name": "Deeth, Robert",
             "orcid": "0000-0001-7933-4406"
            }
           ],
           "description": "<p>DL_POLY Classic input and output files for 10 MD simulations: 5 of free peptide, 5 with Pt(phen)</p>",
           "doi": "10.5281/zenodo.1050388",
           "keywords": [
            "molecular dynamics, ligand field molecular mechanics, amyloid-beta, alzheimer's disease, platinum"
           ],
           "language": "eng",
           "license": {
            "id": "CC-BY-4.0"
           },
           "publication_date": "2017-11-17",
           "related_identifiers": [
            {
             "identifier": "10.5281/zenodo.1050387",
             "relation": "isVersionOf",
             "scheme": "doi"
            }
           ],
           "relations": {
            "version": [
             {
              "count": 1,
              "index": 0,
              "is_last": true,
              "last_child": {
               "pid_type": "recid",
               "pid_value": "1050388"
              },
              "parent": {
               "pid_type": "recid",
               "pid_value": "1050387"
              }
             }
            ]
           },
           "resource_type": {
            "title": "Dataset",
            "type": "dataset"
           },
           "title": "Ligand Field Molecular Dynamics Simulation of Pt(II)-Phenanthroline Binding to N-Terminal Fragment of Amyloid-beta Peptide"
          },
          "owners": [
           38245
          ],
          "revision": 4,
          "stats": {
           "downloads": 7,
           "unique_downloads": 6,
           "unique_views": 38,
           "version_downloads": 7,
           "version_unique_downloads": 6,
           "version_unique_views": 38,
           "version_views": 38,
           "version_volume": 27936009444,
           "views": 38,
           "volume": 27936009444
          },
          "updated": "2020-01-21T07:22:45.203560+00:00"
         },
         {
          "conceptdoi": "10.5281/zenodo.1118979",
          "conceptrecid": "1118979",
          "created": "2017-12-19T16:02:17.542903+00:00",
          "doi": "10.5281/zenodo.1118980",
          "files": [
           {
            "bucket": "daf697cd-2063-4a48-8606-e71c25b90f3b",
            "checksum": "md5:bfed64e39c23018e6275c65a65ce67b8",
            "key": "sim_ECC-POPC_251mM_CaCl-2s_OPC3.cpt",
            "links": {
             "self": "https://zenodo.org/api/files/daf697cd-2063-4a48-8606-e71c25b90f3b/sim_ECC-POPC_251mM_CaCl-2s_OPC3.cpt"
            },
            "size": 876144,
            "type": "cpt"
           },
           {
            "bucket": "daf697cd-2063-4a48-8606-e71c25b90f3b",
            "checksum": "md5:a1c63ce0da56a4ed00b85995bcdd2f0c",
            "key": "sim_ECC-POPC_251mM_CaCl-2s_OPC3.edr",
            "links": {
             "self": "https://zenodo.org/api/files/daf697cd-2063-4a48-8606-e71c25b90f3b/sim_ECC-POPC_251mM_CaCl-2s_OPC3.edr"
            },
            "size": 2372,
            "type": "edr"
           },
           {
            "bucket": "daf697cd-2063-4a48-8606-e71c25b90f3b",
            "checksum": "md5:4f02ad8d480227f2b52e57af7a9cbe7f",
            "key": "sim_ECC-POPC_251mM_CaCl-2s_OPC3.gro",
            "links": {
             "self": "https://zenodo.org/api/files/daf697cd-2063-4a48-8606-e71c25b90f3b/sim_ECC-POPC_251mM_CaCl-2s_OPC3.gro"
            },
            "size": 2514353,
            "type": "gro"
           },
           {
            "bucket": "daf697cd-2063-4a48-8606-e71c25b90f3b",
            "checksum": "md5:adf871e3ab2abf36b038593dd85838d5",
            "key": "sim_ECC-POPC_251mM_CaCl-2s_OPC3.top",
            "links": {
             "self": "https://zenodo.org/api/files/daf697cd-2063-4a48-8606-e71c25b90f3b/sim_ECC-POPC_251mM_CaCl-2s_OPC3.top"
            },
            "size": 419,
            "type": "top"
           },
           {
            "bucket": "daf697cd-2063-4a48-8606-e71c25b90f3b",
            "checksum": "md5:067ad7c3acbb67a86dc8a2936870620b",
            "key": "sim_ECC-POPC_251mM_CaCl-2s_OPC3.tpr",
            "links": {
             "self": "https://zenodo.org/api/files/daf697cd-2063-4a48-8606-e71c25b90f3b/sim_ECC-POPC_251mM_CaCl-2s_OPC3.tpr"
            },
            "size": 1211096,
            "type": "tpr"
           },
           {
            "bucket": "daf697cd-2063-4a48-8606-e71c25b90f3b",
            "checksum": "md5:28ec6c0977c86ad7ad6135c55eb1525c",
            "key": "sim_ECC-POPC_251mM_CaCl-2s_OPC3.xtc",
            "links": {
             "self": "https://zenodo.org/api/files/daf697cd-2063-4a48-8606-e71c25b90f3b/sim_ECC-POPC_251mM_CaCl-2s_OPC3.xtc"
            },
            "size": 2024457120,
            "type": "xtc"
           },
           {
            "bucket": "daf697cd-2063-4a48-8606-e71c25b90f3b",
            "checksum": "md5:1f00cd7f6e509513091645e3c3cf9fe7",
            "key": "sim_ECC-POPC_251mM_CaCl-2s_OPC4.cpt",
            "links": {
             "self": "https://zenodo.org/api/files/daf697cd-2063-4a48-8606-e71c25b90f3b/sim_ECC-POPC_251mM_CaCl-2s_OPC4.cpt"
            },
            "size": 1029740,
            "type": "cpt"
           },
           {
            "bucket": "daf697cd-2063-4a48-8606-e71c25b90f3b",
            "checksum": "md5:66400649cea1087cdd9740e010c86cf6",
            "key": "sim_ECC-POPC_251mM_CaCl-2s_OPC4.edr",
            "links": {
             "self": "https://zenodo.org/api/files/daf697cd-2063-4a48-8606-e71c25b90f3b/sim_ECC-POPC_251mM_CaCl-2s_OPC4.edr"
            },
            "size": 2372,
            "type": "edr"
           },
           {
            "bucket": "daf697cd-2063-4a48-8606-e71c25b90f3b",
            "checksum": "md5:f39d45465b6dc589ddca3aa0b44aa691",
            "key": "sim_ECC-POPC_251mM_CaCl-2s_OPC4.gro",
            "links": {
             "self": "https://zenodo.org/api/files/daf697cd-2063-4a48-8606-e71c25b90f3b/sim_ECC-POPC_251mM_CaCl-2s_OPC4.gro"
            },
            "size": 2955953,
            "type": "gro"
           },
           {
            "bucket": "daf697cd-2063-4a48-8606-e71c25b90f3b",
            "checksum": "md5:81c53e3a6481cb95a8c00e36bd884b2e",
            "key": "sim_ECC-POPC_251mM_CaCl-2s_OPC4.top",
            "links": {
             "self": "https://zenodo.org/api/files/daf697cd-2063-4a48-8606-e71c25b90f3b/sim_ECC-POPC_251mM_CaCl-2s_OPC4.top"
            },
            "size": 368,
            "type": "top"
           },
           {
            "bucket": "daf697cd-2063-4a48-8606-e71c25b90f3b",
            "checksum": "md5:d281b3ec6a00d04cfd51292b19634e0a",
            "key": "sim_ECC-POPC_251mM_CaCl-2s_OPC4.tpr",
            "links": {
             "self": "https://zenodo.org/api/files/daf697cd-2063-4a48-8606-e71c25b90f3b/sim_ECC-POPC_251mM_CaCl-2s_OPC4.tpr"
            },
            "size": 1416420,
            "type": "tpr"
           },
           {
            "bucket": "daf697cd-2063-4a48-8606-e71c25b90f3b",
            "checksum": "md5:706d80df04627c2f13b46f8fb090a78e",
            "key": "sim_ECC-POPC_251mM_CaCl-2s_OPC4.xtc",
            "links": {
             "self": "https://zenodo.org/api/files/daf697cd-2063-4a48-8606-e71c25b90f3b/sim_ECC-POPC_251mM_CaCl-2s_OPC4.xtc"
            },
            "size": 2294106356,
            "type": "xtc"
           },
           {
            "bucket": "daf697cd-2063-4a48-8606-e71c25b90f3b",
            "checksum": "md5:fe5e8d1242b703c2973582cd06b528fe",
            "key": "sim_ECC-POPC_346mM_CaCl-2s_OPC3.cpt",
            "links": {
             "self": "https://zenodo.org/api/files/daf697cd-2063-4a48-8606-e71c25b90f3b/sim_ECC-POPC_346mM_CaCl-2s_OPC3.cpt"
            },
            "size": 876932,
            "type": "cpt"
           },
           {
            "bucket": "daf697cd-2063-4a48-8606-e71c25b90f3b",
            "checksum": "md5:072b4485071b973195002e491e858291",
            "key": "sim_ECC-POPC_346mM_CaCl-2s_OPC3.edr",
            "links": {
             "self": "https://zenodo.org/api/files/daf697cd-2063-4a48-8606-e71c25b90f3b/sim_ECC-POPC_346mM_CaCl-2s_OPC3.edr"
            },
            "size": 2372,
            "type": "edr"
           },
           {
            "bucket": "daf697cd-2063-4a48-8606-e71c25b90f3b",
            "checksum": "md5:9e4277a8fff22ce44dcc4310ba4fc7e4",
            "key": "sim_ECC-POPC_346mM_CaCl-2s_OPC3.gro",
            "links": {
             "self": "https://zenodo.org/api/files/daf697cd-2063-4a48-8606-e71c25b90f3b/sim_ECC-POPC_346mM_CaCl-2s_OPC3.gro"
            },
            "size": 2516630,
            "type": "gro"
           },
           {
            "bucket": "daf697cd-2063-4a48-8606-e71c25b90f3b",
            "checksum": "md5:788daff1c62f8472327c32a95cd82366",
            "key": "sim_ECC-POPC_346mM_CaCl-2s_OPC3.top",
            "links": {
             "self": "https://zenodo.org/api/files/daf697cd-2063-4a48-8606-e71c25b90f3b/sim_ECC-POPC_346mM_CaCl-2s_OPC3.top"
            },
            "size": 419,
            "type": "top"
           },
           {
            "bucket": "daf697cd-2063-4a48-8606-e71c25b90f3b",
            "checksum": "md5:ed841bf0db49a5b129529f94690f4f24",
            "key": "sim_ECC-POPC_346mM_CaCl-2s_OPC3.tpr",
            "links": {
             "self": "https://zenodo.org/api/files/daf697cd-2063-4a48-8606-e71c25b90f3b/sim_ECC-POPC_346mM_CaCl-2s_OPC3.tpr"
            },
            "size": 1212152,
            "type": "tpr"
           },
           {
            "bucket": "daf697cd-2063-4a48-8606-e71c25b90f3b",
            "checksum": "md5:562d77f44abea676e7cb8b933fff59ff",
            "key": "sim_ECC-POPC_346mM_CaCl-2s_OPC3.xtc",
            "links": {
             "self": "https://zenodo.org/api/files/daf697cd-2063-4a48-8606-e71c25b90f3b/sim_ECC-POPC_346mM_CaCl-2s_OPC3.xtc"
            },
            "size": 2026931472,
            "type": "xtc"
           },
           {
            "bucket": "daf697cd-2063-4a48-8606-e71c25b90f3b",
            "checksum": "md5:ef5346eab7cfeead837f3ba343041446",
            "key": "sim_ECC-POPC_346mM_CaCl-2s_OPC4.cpt",
            "links": {
             "self": "https://zenodo.org/api/files/daf697cd-2063-4a48-8606-e71c25b90f3b/sim_ECC-POPC_346mM_CaCl-2s_OPC4.cpt"
            },
            "size": 1030536,
            "type": "cpt"
           },
           {
            "bucket": "daf697cd-2063-4a48-8606-e71c25b90f3b",
            "checksum": "md5:307c1c44509cec0164731a9f93b8f914",
            "key": "sim_ECC-POPC_346mM_CaCl-2s_OPC4.edr",
            "links": {
             "self": "https://zenodo.org/api/files/daf697cd-2063-4a48-8606-e71c25b90f3b/sim_ECC-POPC_346mM_CaCl-2s_OPC4.edr"
            },
            "size": 2372,
            "type": "edr"
           },
           {
            "bucket": "daf697cd-2063-4a48-8606-e71c25b90f3b",
            "checksum": "md5:74ddbb403642c6b4095f5a6a62622da9",
            "key": "sim_ECC-POPC_346mM_CaCl-2s_OPC4.gro",
            "links": {
             "self": "https://zenodo.org/api/files/daf697cd-2063-4a48-8606-e71c25b90f3b/sim_ECC-POPC_346mM_CaCl-2s_OPC4.gro"
            },
            "size": 2958230,
            "type": "gro"
           },
           {
            "bucket": "daf697cd-2063-4a48-8606-e71c25b90f3b",
            "checksum": "md5:ec15125689ea9b147a0e3de879413c1b",
            "key": "sim_ECC-POPC_346mM_CaCl-2s_OPC4.top",
            "links": {
             "self": "https://zenodo.org/api/files/daf697cd-2063-4a48-8606-e71c25b90f3b/sim_ECC-POPC_346mM_CaCl-2s_OPC4.top"
            },
            "size": 368,
            "type": "top"
           },
           {
            "bucket": "daf697cd-2063-4a48-8606-e71c25b90f3b",
            "checksum": "md5:4b089f61ec841de6c65f14d0ddddf9e8",
            "key": "sim_ECC-POPC_346mM_CaCl-2s_OPC4.tpr",
            "links": {
             "self": "https://zenodo.org/api/files/daf697cd-2063-4a48-8606-e71c25b90f3b/sim_ECC-POPC_346mM_CaCl-2s_OPC4.tpr"
            },
            "size": 1417476,
            "type": "tpr"
           },
           {
            "bucket": "daf697cd-2063-4a48-8606-e71c25b90f3b",
            "checksum": "md5:f0d82560f7f588a1aa51b3340c0bba45",
            "key": "sim_ECC-POPC_346mM_CaCl-2s_OPC4.xtc",
            "links": {
             "self": "https://zenodo.org/api/files/daf697cd-2063-4a48-8606-e71c25b90f3b/sim_ECC-POPC_346mM_CaCl-2s_OPC4.xtc"
            },
            "size": 2296483184,
            "type": "xtc"
           },
           {
            "bucket": "daf697cd-2063-4a48-8606-e71c25b90f3b",
            "checksum": "md5:a776591d60c9b45001c9957b955931b1",
            "key": "sim_ECC-POPC_467mM_CaCl-2s_OPC3.cpt",
            "links": {
             "self": "https://zenodo.org/api/files/daf697cd-2063-4a48-8606-e71c25b90f3b/sim_ECC-POPC_467mM_CaCl-2s_OPC3.cpt"
            },
            "size": 877924,
            "type": "cpt"
           },
           {
            "bucket": "daf697cd-2063-4a48-8606-e71c25b90f3b",
            "checksum": "md5:b97a294bb93b75832996ffdc5690f0b2",
            "key": "sim_ECC-POPC_467mM_CaCl-2s_OPC3.edr",
            "links": {
             "self": "https://zenodo.org/api/files/daf697cd-2063-4a48-8606-e71c25b90f3b/sim_ECC-POPC_467mM_CaCl-2s_OPC3.edr"
            },
            "size": 3202052,
            "type": "edr"
           },
           {
            "bucket": "daf697cd-2063-4a48-8606-e71c25b90f3b",
            "checksum": "md5:29a3a2228b9eb6132cc84da55d712457",
            "key": "sim_ECC-POPC_467mM_CaCl-2s_OPC3.gro",
            "links": {
             "self": "https://zenodo.org/api/files/daf697cd-2063-4a48-8606-e71c25b90f3b/sim_ECC-POPC_467mM_CaCl-2s_OPC3.gro"
            },
            "size": 2519528,
            "type": "gro"
           },
           {
            "bucket": "daf697cd-2063-4a48-8606-e71c25b90f3b",
            "checksum": "md5:5f130ffdaea000ab3f232bfd0e513c47",
            "key": "sim_ECC-POPC_467mM_CaCl-2s_OPC3.top",
            "links": {
             "self": "https://zenodo.org/api/files/daf697cd-2063-4a48-8606-e71c25b90f3b/sim_ECC-POPC_467mM_CaCl-2s_OPC3.top"
            },
            "size": 419,
            "type": "top"
           },
           {
            "bucket": "daf697cd-2063-4a48-8606-e71c25b90f3b",
            "checksum": "md5:d5a0cdbf82eabc256e0d8f426ddebd37",
            "key": "sim_ECC-POPC_467mM_CaCl-2s_OPC3.tpr",
            "links": {
             "self": "https://zenodo.org/api/files/daf697cd-2063-4a48-8606-e71c25b90f3b/sim_ECC-POPC_467mM_CaCl-2s_OPC3.tpr"
            },
            "size": 1213496,
            "type": "tpr"
           },
           {
            "bucket": "daf697cd-2063-4a48-8606-e71c25b90f3b",
            "checksum": "md5:373bb44f10bcc4312edf1b66fdde84b3",
            "key": "sim_ECC-POPC_467mM_CaCl-2s_OPC3.xtc",
            "links": {
             "self": "https://zenodo.org/api/files/daf697cd-2063-4a48-8606-e71c25b90f3b/sim_ECC-POPC_467mM_CaCl-2s_OPC3.xtc"
            },
            "size": 676812392,
            "type": "xtc"
           },
           {
            "bucket": "daf697cd-2063-4a48-8606-e71c25b90f3b",
            "checksum": "md5:a4a3541e474784a954c3a2ddced7af56",
            "key": "sim_ECC-POPC_467mM_CaCl-2s_OPC4.cpt",
            "links": {
             "self": "https://zenodo.org/api/files/daf697cd-2063-4a48-8606-e71c25b90f3b/sim_ECC-POPC_467mM_CaCl-2s_OPC4.cpt"
            },
            "size": 1031524,
            "type": "cpt"
           },
           {
            "bucket": "daf697cd-2063-4a48-8606-e71c25b90f3b",
            "checksum": "md5:c150c9a1125baa62777b04061f980f35",
            "key": "sim_ECC-POPC_467mM_CaCl-2s_OPC4.edr",
            "links": {
             "self": "https://zenodo.org/api/files/daf697cd-2063-4a48-8606-e71c25b90f3b/sim_ECC-POPC_467mM_CaCl-2s_OPC4.edr"
            },
            "size": 70212,
            "type": "edr"
           },
           {
            "bucket": "daf697cd-2063-4a48-8606-e71c25b90f3b",
            "checksum": "md5:3beca28bca64460170d811a7f8c96ce2",
            "key": "sim_ECC-POPC_467mM_CaCl-2s_OPC4.gro",
            "links": {
             "self": "https://zenodo.org/api/files/daf697cd-2063-4a48-8606-e71c25b90f3b/sim_ECC-POPC_467mM_CaCl-2s_OPC4.gro"
            },
            "size": 2961128,
            "type": "gro"
           },
           {
            "bucket": "daf697cd-2063-4a48-8606-e71c25b90f3b",
            "checksum": "md5:f8bf620fb90088ebcabd6b4c647bd50f",
            "key": "sim_ECC-POPC_467mM_CaCl-2s_OPC4.top",
            "links": {
             "self": "https://zenodo.org/api/files/daf697cd-2063-4a48-8606-e71c25b90f3b/sim_ECC-POPC_467mM_CaCl-2s_OPC4.top"
            },
            "size": 419,
            "type": "top"
           },
           {
            "bucket": "daf697cd-2063-4a48-8606-e71c25b90f3b",
            "checksum": "md5:d089324bfd5425de053c80f08d647100",
            "key": "sim_ECC-POPC_467mM_CaCl-2s_OPC4.tpr",
            "links": {
             "self": "https://zenodo.org/api/files/daf697cd-2063-4a48-8606-e71c25b90f3b/sim_ECC-POPC_467mM_CaCl-2s_OPC4.tpr"
            },
            "size": 1418820,
            "type": "tpr"
           },
           {
            "bucket": "daf697cd-2063-4a48-8606-e71c25b90f3b",
            "checksum": "md5:5ab4603799eff22914961626afee016e",
            "key": "sim_ECC-POPC_467mM_CaCl-2s_OPC4.xtc",
            "links": {
             "self": "https://zenodo.org/api/files/daf697cd-2063-4a48-8606-e71c25b90f3b/sim_ECC-POPC_467mM_CaCl-2s_OPC4.xtc"
            },
            "size": 16494592,
            "type": "xtc"
           },
           {
            "bucket": "daf697cd-2063-4a48-8606-e71c25b90f3b",
            "checksum": "md5:f7971328b8585c870bdcc8a2d3db2105",
            "key": "sim_ECC-POPC_711mM_CaCl-2s_OPC3.cpt",
            "links": {
             "self": "https://zenodo.org/api/files/daf697cd-2063-4a48-8606-e71c25b90f3b/sim_ECC-POPC_711mM_CaCl-2s_OPC3.cpt"
            },
            "size": 867532,
            "type": "cpt"
           },
           {
            "bucket": "daf697cd-2063-4a48-8606-e71c25b90f3b",
            "checksum": "md5:50fee6745567243ccc73fb638cc3105c",
            "key": "sim_ECC-POPC_711mM_CaCl-2s_OPC3.edr",
            "links": {
             "self": "https://zenodo.org/api/files/daf697cd-2063-4a48-8606-e71c25b90f3b/sim_ECC-POPC_711mM_CaCl-2s_OPC3.edr"
            },
            "size": 9602052,
            "type": "edr"
           },
           {
            "bucket": "daf697cd-2063-4a48-8606-e71c25b90f3b",
            "checksum": "md5:c59aec341f19a9565a1338742cf5be40",
            "key": "sim_ECC-POPC_711mM_CaCl-2s_OPC3.gro",
            "links": {
             "self": "https://zenodo.org/api/files/daf697cd-2063-4a48-8606-e71c25b90f3b/sim_ECC-POPC_711mM_CaCl-2s_OPC3.gro"
            },
            "size": 2490134,
            "type": "gro"
           },
           {
            "bucket": "daf697cd-2063-4a48-8606-e71c25b90f3b",
            "checksum": "md5:59f37216e5993d1bf400b17a17631fd3",
            "key": "sim_ECC-POPC_711mM_CaCl-2s_OPC3.top",
            "links": {
             "self": "https://zenodo.org/api/files/daf697cd-2063-4a48-8606-e71c25b90f3b/sim_ECC-POPC_711mM_CaCl-2s_OPC3.top"
            },
            "size": 419,
            "type": "top"
           },
           {
            "bucket": "daf697cd-2063-4a48-8606-e71c25b90f3b",
            "checksum": "md5:56a84c81c0e36f50249bf387290ee506",
            "key": "sim_ECC-POPC_711mM_CaCl-2s_OPC3.tpr",
            "links": {
             "self": "https://zenodo.org/api/files/daf697cd-2063-4a48-8606-e71c25b90f3b/sim_ECC-POPC_711mM_CaCl-2s_OPC3.tpr"
            },
            "size": 1199864,
            "type": "tpr"
           },
           {
            "bucket": "daf697cd-2063-4a48-8606-e71c25b90f3b",
            "checksum": "md5:c410f21228b3623fb5937c6ddf43435e",
            "key": "sim_ECC-POPC_711mM_CaCl-2s_OPC3.xtc",
            "links": {
             "self": "https://zenodo.org/api/files/daf697cd-2063-4a48-8606-e71c25b90f3b/sim_ECC-POPC_711mM_CaCl-2s_OPC3.xtc"
            },
            "size": 2008467264,
            "type": "xtc"
           },
           {
            "bucket": "daf697cd-2063-4a48-8606-e71c25b90f3b",
            "checksum": "md5:86c2631f0d9d3e73ba75bf8f80dd22b9",
            "key": "sim_ECC-POPC_711mM_CaCl-2s_OPC4.cpt",
            "links": {
             "self": "https://zenodo.org/api/files/daf697cd-2063-4a48-8606-e71c25b90f3b/sim_ECC-POPC_711mM_CaCl-2s_OPC4.cpt"
            },
            "size": 1017100,
            "type": "cpt"
           },
           {
            "bucket": "daf697cd-2063-4a48-8606-e71c25b90f3b",
            "checksum": "md5:1a5e514a440d22f65bf55eaa25058117",
            "key": "sim_ECC-POPC_711mM_CaCl-2s_OPC4.edr",
            "links": {
             "self": "https://zenodo.org/api/files/daf697cd-2063-4a48-8606-e71c25b90f3b/sim_ECC-POPC_711mM_CaCl-2s_OPC4.edr"
            },
            "size": 9602052,
            "type": "edr"
           },
           {
            "bucket": "daf697cd-2063-4a48-8606-e71c25b90f3b",
            "checksum": "md5:e0d72fcced9112f3ecda1ff9927d5669",
            "key": "sim_ECC-POPC_711mM_CaCl-2s_OPC4.gro",
            "links": {
             "self": "https://zenodo.org/api/files/daf697cd-2063-4a48-8606-e71c25b90f3b/sim_ECC-POPC_711mM_CaCl-2s_OPC4.gro"
            },
            "size": 2920142,
            "type": "gro"
           },
           {
            "bucket": "daf697cd-2063-4a48-8606-e71c25b90f3b",
            "checksum": "md5:1dc183473e32b80fbfb616eafeaa9ee3",
            "key": "sim_ECC-POPC_711mM_CaCl-2s_OPC4.top",
            "links": {
             "self": "https://zenodo.org/api/files/daf697cd-2063-4a48-8606-e71c25b90f3b/sim_ECC-POPC_711mM_CaCl-2s_OPC4.top"
            },
            "size": 368,
            "type": "top"
           },
           {
            "bucket": "daf697cd-2063-4a48-8606-e71c25b90f3b",
            "checksum": "md5:bb47df62b1de19af20147f3589a4d752",
            "key": "sim_ECC-POPC_711mM_CaCl-2s_OPC4.tpr",
            "links": {
             "self": "https://zenodo.org/api/files/daf697cd-2063-4a48-8606-e71c25b90f3b/sim_ECC-POPC_711mM_CaCl-2s_OPC4.tpr"
            },
            "size": 1399812,
            "type": "tpr"
           },
           {
            "bucket": "daf697cd-2063-4a48-8606-e71c25b90f3b",
            "checksum": "md5:057dc4f7df0cf56bd125b3f9ab8f9420",
            "key": "sim_ECC-POPC_711mM_CaCl-2s_OPC4.xtc",
            "links": {
             "self": "https://zenodo.org/api/files/daf697cd-2063-4a48-8606-e71c25b90f3b/sim_ECC-POPC_711mM_CaCl-2s_OPC4.xtc"
            },
            "size": 2270680384,
            "type": "xtc"
           },
           {
            "bucket": "daf697cd-2063-4a48-8606-e71c25b90f3b",
            "checksum": "md5:8fba64430a012cb05e4ff200ec7a1df6",
            "key": "sim_ECC-POPC_978mM_CaCl-2s_OPC3.cpt",
            "links": {
             "self": "https://zenodo.org/api/files/daf697cd-2063-4a48-8606-e71c25b90f3b/sim_ECC-POPC_978mM_CaCl-2s_OPC3.cpt"
            },
            "size": 869684,
            "type": "cpt"
           },
           {
            "bucket": "daf697cd-2063-4a48-8606-e71c25b90f3b",
            "checksum": "md5:8d4a19873091d4aa6d4ab56eb0c6b4da",
            "key": "sim_ECC-POPC_978mM_CaCl-2s_OPC3.edr",
            "links": {
             "self": "https://zenodo.org/api/files/daf697cd-2063-4a48-8606-e71c25b90f3b/sim_ECC-POPC_978mM_CaCl-2s_OPC3.edr"
            },
            "size": 9602052,
            "type": "edr"
           },
           {
            "bucket": "daf697cd-2063-4a48-8606-e71c25b90f3b",
            "checksum": "md5:b069f8d5b471afcb88571d10413421ad",
            "key": "sim_ECC-POPC_978mM_CaCl-2s_OPC3.gro",
            "links": {
             "self": "https://zenodo.org/api/files/daf697cd-2063-4a48-8606-e71c25b90f3b/sim_ECC-POPC_978mM_CaCl-2s_OPC3.gro"
            },
            "size": 2496344,
            "type": "gro"
           },
           {
            "bucket": "daf697cd-2063-4a48-8606-e71c25b90f3b",
            "checksum": "md5:4c0fbb016af00397480f82a254b06708",
            "key": "sim_ECC-POPC_978mM_CaCl-2s_OPC3.top",
            "links": {
             "self": "https://zenodo.org/api/files/daf697cd-2063-4a48-8606-e71c25b90f3b/sim_ECC-POPC_978mM_CaCl-2s_OPC3.top"
            },
            "size": 419,
            "type": "top"
           },
           {
            "bucket": "daf697cd-2063-4a48-8606-e71c25b90f3b",
            "checksum": "md5:5f239aaefc2c4679e4e426ae89252e0c",
            "key": "sim_ECC-POPC_978mM_CaCl-2s_OPC3.tpr",
            "links": {
             "self": "https://zenodo.org/api/files/daf697cd-2063-4a48-8606-e71c25b90f3b/sim_ECC-POPC_978mM_CaCl-2s_OPC3.tpr"
            },
            "size": 1202744,
            "type": "tpr"
           },
           {
            "bucket": "daf697cd-2063-4a48-8606-e71c25b90f3b",
            "checksum": "md5:3e7080e669a36bf19d6709bbe9303476",
            "key": "sim_ECC-POPC_978mM_CaCl-2s_OPC3.xtc",
            "links": {
             "self": "https://zenodo.org/api/files/daf697cd-2063-4a48-8606-e71c25b90f3b/sim_ECC-POPC_978mM_CaCl-2s_OPC3.xtc"
            },
            "size": 2015100804,
            "type": "xtc"
           },
           {
            "bucket": "daf697cd-2063-4a48-8606-e71c25b90f3b",
            "checksum": "md5:b9e3e62f84e52cafb879f66b2d00fb80",
            "key": "sim_ECC-POPC_978mM_CaCl-2s_OPC4.cpt",
            "links": {
             "self": "https://zenodo.org/api/files/daf697cd-2063-4a48-8606-e71c25b90f3b/sim_ECC-POPC_978mM_CaCl-2s_OPC4.cpt"
            },
            "size": 1019252,
            "type": "cpt"
           },
           {
            "bucket": "daf697cd-2063-4a48-8606-e71c25b90f3b",
            "checksum": "md5:5c6aecf98112d11fdaa8b5b12bffb0ad",
            "key": "sim_ECC-POPC_978mM_CaCl-2s_OPC4.edr",
            "links": {
             "self": "https://zenodo.org/api/files/daf697cd-2063-4a48-8606-e71c25b90f3b/sim_ECC-POPC_978mM_CaCl-2s_OPC4.edr"
            },
            "size": 9602052,
            "type": "edr"
           },
           {
            "bucket": "daf697cd-2063-4a48-8606-e71c25b90f3b",
            "checksum": "md5:803c9363cac80dd29f1bcf061f8fffbf",
            "key": "sim_ECC-POPC_978mM_CaCl-2s_OPC4.gro",
            "links": {
             "self": "https://zenodo.org/api/files/daf697cd-2063-4a48-8606-e71c25b90f3b/sim_ECC-POPC_978mM_CaCl-2s_OPC4.gro"
            },
            "size": 2926352,
            "type": "gro"
           },
           {
            "bucket": "daf697cd-2063-4a48-8606-e71c25b90f3b",
            "checksum": "md5:f68c84bc40113b79ef4200ea0faf0181",
            "key": "sim_ECC-POPC_978mM_CaCl-2s_OPC4.top",
            "links": {
             "self": "https://zenodo.org/api/files/daf697cd-2063-4a48-8606-e71c25b90f3b/sim_ECC-POPC_978mM_CaCl-2s_OPC4.top"
            },
            "size": 368,
            "type": "top"
           },
           {
            "bucket": "daf697cd-2063-4a48-8606-e71c25b90f3b",
            "checksum": "md5:ae809dcc4bc7bbea95f5b2ad3125f80d",
            "key": "sim_ECC-POPC_978mM_CaCl-2s_OPC4.tpr",
            "links": {
             "self": "https://zenodo.org/api/files/daf697cd-2063-4a48-8606-e71c25b90f3b/sim_ECC-POPC_978mM_CaCl-2s_OPC4.tpr"
            },
            "size": 1402692,
            "type": "tpr"
           },
           {
            "bucket": "daf697cd-2063-4a48-8606-e71c25b90f3b",
            "checksum": "md5:4c8ef2ed2755b8c781fd82e341ac7ddb",
            "key": "sim_ECC-POPC_978mM_CaCl-2s_OPC4.xtc",
            "links": {
             "self": "https://zenodo.org/api/files/daf697cd-2063-4a48-8606-e71c25b90f3b/sim_ECC-POPC_978mM_CaCl-2s_OPC4.xtc"
            },
            "size": 2277252384,
            "type": "xtc"
           },
           {
            "bucket": "daf697cd-2063-4a48-8606-e71c25b90f3b",
            "checksum": "md5:20ae1a22a4eaa3b01e19100f8ca8fa1b",
            "key": "sim_ECC-POPC_978mM_CaCl-2s_TIP3p.cpt",
            "links": {
             "self": "https://zenodo.org/api/files/daf697cd-2063-4a48-8606-e71c25b90f3b/sim_ECC-POPC_978mM_CaCl-2s_TIP3p.cpt"
            },
            "size": 869876,
            "type": "cpt"
           },
           {
            "bucket": "daf697cd-2063-4a48-8606-e71c25b90f3b",
            "checksum": "md5:ca2e15a0e6c2b7c9b673d55df327adf9",
            "key": "sim_ECC-POPC_978mM_CaCl-2s_TIP3p.edr",
            "links": {
             "self": "https://zenodo.org/api/files/daf697cd-2063-4a48-8606-e71c25b90f3b/sim_ECC-POPC_978mM_CaCl-2s_TIP3p.edr"
            },
            "size": 2372,
            "type": "edr"
           },
           {
            "bucket": "daf697cd-2063-4a48-8606-e71c25b90f3b",
            "checksum": "md5:91abd589a73a1765037ba86ae211e496",
            "key": "sim_ECC-POPC_978mM_CaCl-2s_TIP3p-FB.cpt",
            "links": {
             "self": "https://zenodo.org/api/files/daf697cd-2063-4a48-8606-e71c25b90f3b/sim_ECC-POPC_978mM_CaCl-2s_TIP3p-FB.cpt"
            },
            "size": 869876,
            "type": "cpt"
           },
           {
            "bucket": "daf697cd-2063-4a48-8606-e71c25b90f3b",
            "checksum": "md5:9a4d64a81d0756f4430bf1e7e9a35459",
            "key": "sim_ECC-POPC_978mM_CaCl-2s_TIP3p-FB.edr",
            "links": {
             "self": "https://zenodo.org/api/files/daf697cd-2063-4a48-8606-e71c25b90f3b/sim_ECC-POPC_978mM_CaCl-2s_TIP3p-FB.edr"
            },
            "size": 2372,
            "type": "edr"
           },
           {
            "bucket": "daf697cd-2063-4a48-8606-e71c25b90f3b",
            "checksum": "md5:8ab7cfd918c2114cf13e632a3715eff2",
            "key": "sim_ECC-POPC_978mM_CaCl-2s_TIP3p-FB.gro",
            "links": {
             "self": "https://zenodo.org/api/files/daf697cd-2063-4a48-8606-e71c25b90f3b/sim_ECC-POPC_978mM_CaCl-2s_TIP3p-FB.gro"
            },
            "size": 2496344,
            "type": "gro"
           },
           {
            "bucket": "daf697cd-2063-4a48-8606-e71c25b90f3b",
            "checksum": "md5:2dae667ecc982f4fa1d32425b01db7f0",
            "key": "sim_ECC-POPC_978mM_CaCl-2s_TIP3p-FB.top",
            "links": {
             "self": "https://zenodo.org/api/files/daf697cd-2063-4a48-8606-e71c25b90f3b/sim_ECC-POPC_978mM_CaCl-2s_TIP3p-FB.top"
            },
            "size": 416,
            "type": "top"
           },
           {
            "bucket": "daf697cd-2063-4a48-8606-e71c25b90f3b",
            "checksum": "md5:0f5268e140be917a45cbac09226b6b56",
            "key": "sim_ECC-POPC_978mM_CaCl-2s_TIP3p-FB.tpr",
            "links": {
             "self": "https://zenodo.org/api/files/daf697cd-2063-4a48-8606-e71c25b90f3b/sim_ECC-POPC_978mM_CaCl-2s_TIP3p-FB.tpr"
            },
            "size": 1202832,
            "type": "tpr"
           },
           {
            "bucket": "daf697cd-2063-4a48-8606-e71c25b90f3b",
            "checksum": "md5:f4907c20f2f3e2bb31b086965cbf8f3a",
            "key": "sim_ECC-POPC_978mM_CaCl-2s_TIP3p-FB.xtc",
            "links": {
             "self": "https://zenodo.org/api/files/daf697cd-2063-4a48-8606-e71c25b90f3b/sim_ECC-POPC_978mM_CaCl-2s_TIP3p-FB.xtc"
            },
            "size": 914747084,
            "type": "xtc"
           },
           {
            "bucket": "daf697cd-2063-4a48-8606-e71c25b90f3b",
            "checksum": "md5:b19404c963d58ae89af4a01e3618c2de",
            "key": "sim_ECC-POPC_978mM_CaCl-2s_TIP3p.gro",
            "links": {
             "self": "https://zenodo.org/api/files/daf697cd-2063-4a48-8606-e71c25b90f3b/sim_ECC-POPC_978mM_CaCl-2s_TIP3p.gro"
            },
            "size": 2496344,
            "type": "gro"
           },
           {
            "bucket": "daf697cd-2063-4a48-8606-e71c25b90f3b",
            "checksum": "md5:2a6d4a7018ea0df5d435cd4f271b9c46",
            "key": "sim_ECC-POPC_978mM_CaCl-2s_TIP3p.top",
            "links": {
             "self": "https://zenodo.org/api/files/daf697cd-2063-4a48-8606-e71c25b90f3b/sim_ECC-POPC_978mM_CaCl-2s_TIP3p.top"
            },
            "size": 414,
            "type": "top"
           },
           {
            "bucket": "daf697cd-2063-4a48-8606-e71c25b90f3b",
            "checksum": "md5:88408612fd2053ed2f1c53d4d7d741f6",
            "key": "sim_ECC-POPC_978mM_CaCl-2s_TIP3p.tpr",
            "links": {
             "self": "https://zenodo.org/api/files/daf697cd-2063-4a48-8606-e71c25b90f3b/sim_ECC-POPC_978mM_CaCl-2s_TIP3p.tpr"
            },
            "size": 1202848,
            "type": "tpr"
           },
           {
            "bucket": "daf697cd-2063-4a48-8606-e71c25b90f3b",
            "checksum": "md5:6b3929840dceee1cedc2ac037f3ddc98",
            "key": "sim_ECC-POPC_978mM_CaCl-2s_TIP3p.xtc",
            "links": {
             "self": "https://zenodo.org/api/files/daf697cd-2063-4a48-8606-e71c25b90f3b/sim_ECC-POPC_978mM_CaCl-2s_TIP3p.xtc"
            },
            "size": 2014567164,
            "type": "xtc"
           },
           {
            "bucket": "daf697cd-2063-4a48-8606-e71c25b90f3b",
            "checksum": "md5:af5fab101d120c5da02360efb6a02c44",
            "key": "sim_ECC-POPC_978mM_CaCl-2s_TIP4p2005.cpt",
            "links": {
             "self": "https://zenodo.org/api/files/daf697cd-2063-4a48-8606-e71c25b90f3b/sim_ECC-POPC_978mM_CaCl-2s_TIP4p2005.cpt"
            },
            "size": 1019432,
            "type": "cpt"
           },
           {
            "bucket": "daf697cd-2063-4a48-8606-e71c25b90f3b",
            "checksum": "md5:ae4250df9828ed36a1c313989d9340f0",
            "key": "sim_ECC-POPC_978mM_CaCl-2s_TIP4p2005.edr",
            "links": {
             "self": "https://zenodo.org/api/files/daf697cd-2063-4a48-8606-e71c25b90f3b/sim_ECC-POPC_978mM_CaCl-2s_TIP4p2005.edr"
            },
            "size": 9601732,
            "type": "edr"
           },
           {
            "bucket": "daf697cd-2063-4a48-8606-e71c25b90f3b",
            "checksum": "md5:c7ba5d0fa9becca938b1328f93986efa",
            "key": "sim_ECC-POPC_978mM_CaCl-2s_TIP4p2005.gro",
            "links": {
             "self": "https://zenodo.org/api/files/daf697cd-2063-4a48-8606-e71c25b90f3b/sim_ECC-POPC_978mM_CaCl-2s_TIP4p2005.gro"
            },
            "size": 2926352,
            "type": "gro"
           },
           {
            "bucket": "daf697cd-2063-4a48-8606-e71c25b90f3b",
            "checksum": "md5:2ffeddc5201ff510ac42936f900da6b4",
            "key": "sim_ECC-POPC_978mM_CaCl-2s_TIP4p2005.top",
            "links": {
             "self": "https://zenodo.org/api/files/daf697cd-2063-4a48-8606-e71c25b90f3b/sim_ECC-POPC_978mM_CaCl-2s_TIP4p2005.top"
            },
            "size": 368,
            "type": "top"
           },
           {
            "bucket": "daf697cd-2063-4a48-8606-e71c25b90f3b",
            "checksum": "md5:511018249549e48884ecf2321381a2f4",
            "key": "sim_ECC-POPC_978mM_CaCl-2s_TIP4p2005.tpr",
            "links": {
             "self": "https://zenodo.org/api/files/daf697cd-2063-4a48-8606-e71c25b90f3b/sim_ECC-POPC_978mM_CaCl-2s_TIP4p2005.tpr"
            },
            "size": 1402668,
            "type": "tpr"
           },
           {
            "bucket": "daf697cd-2063-4a48-8606-e71c25b90f3b",
            "checksum": "md5:2a7d2244fc2a3c01eb21404fa35b9b4b",
            "key": "sim_ECC-POPC_978mM_CaCl-2s_TIP4p2005.xtc",
            "links": {
             "self": "https://zenodo.org/api/files/daf697cd-2063-4a48-8606-e71c25b90f3b/sim_ECC-POPC_978mM_CaCl-2s_TIP4p2005.xtc"
            },
            "size": 2288866076,
            "type": "xtc"
           },
           {
            "bucket": "daf697cd-2063-4a48-8606-e71c25b90f3b",
            "checksum": "md5:b068140a923b4338a6aada105138c716",
            "key": "sim_ECC-POPC_978mM_CaCl-2s_TIP4p-FB.cpt",
            "links": {
             "self": "https://zenodo.org/api/files/daf697cd-2063-4a48-8606-e71c25b90f3b/sim_ECC-POPC_978mM_CaCl-2s_TIP4p-FB.cpt"
            },
            "size": 1019444,
            "type": "cpt"
           },
           {
            "bucket": "daf697cd-2063-4a48-8606-e71c25b90f3b",
            "checksum": "md5:d5cc3fbee1d2edd12c965c0d79b8626f",
            "key": "sim_ECC-POPC_978mM_CaCl-2s_TIP4p-FB.edr",
            "links": {
             "self": "https://zenodo.org/api/files/daf697cd-2063-4a48-8606-e71c25b90f3b/sim_ECC-POPC_978mM_CaCl-2s_TIP4p-FB.edr"
            },
            "size": 2372,
            "type": "edr"
           },
           {
            "bucket": "daf697cd-2063-4a48-8606-e71c25b90f3b",
            "checksum": "md5:e8cb8adb05be35ebd1bee6fe3be40348",
            "key": "sim_ECC-POPC_978mM_CaCl-2s_TIP4p-FB.gro",
            "links": {
             "self": "https://zenodo.org/api/files/daf697cd-2063-4a48-8606-e71c25b90f3b/sim_ECC-POPC_978mM_CaCl-2s_TIP4p-FB.gro"
            },
            "size": 2926352,
            "type": "gro"
           },
           {
            "bucket": "daf697cd-2063-4a48-8606-e71c25b90f3b",
            "checksum": "md5:6ff97384b5df16e431296fe5fbeb2326",
            "key": "sim_ECC-POPC_978mM_CaCl-2s_TIP4p-FB.top",
            "links": {
             "self": "https://zenodo.org/api/files/daf697cd-2063-4a48-8606-e71c25b90f3b/sim_ECC-POPC_978mM_CaCl-2s_TIP4p-FB.top"
            },
            "size": 365,
            "type": "top"
           },
           {
            "bucket": "daf697cd-2063-4a48-8606-e71c25b90f3b",
            "checksum": "md5:98b81e4d33231a225ffd5c01a31a7c0c",
            "key": "sim_ECC-POPC_978mM_CaCl-2s_TIP4p-FB.tpr",
            "links": {
             "self": "https://zenodo.org/api/files/daf697cd-2063-4a48-8606-e71c25b90f3b/sim_ECC-POPC_978mM_CaCl-2s_TIP4p-FB.tpr"
            },
            "size": 1402792,
            "type": "tpr"
           },
           {
            "bucket": "daf697cd-2063-4a48-8606-e71c25b90f3b",
            "checksum": "md5:e1142345d4e34c0829a4926b10f6f250",
            "key": "sim_ECC-POPC_978mM_CaCl-2s_TIP4p-FB.xtc",
            "links": {
             "self": "https://zenodo.org/api/files/daf697cd-2063-4a48-8606-e71c25b90f3b/sim_ECC-POPC_978mM_CaCl-2s_TIP4p-FB.xtc"
            },
            "size": 1016482680,
            "type": "xtc"
           },
           {
            "bucket": "daf697cd-2063-4a48-8606-e71c25b90f3b",
            "checksum": "md5:128df8cf773d6fca9b54632a5992bada",
            "key": "sim_ECC-POPC_978mM_NaCl_OPC3.cpt",
            "links": {
             "self": "https://zenodo.org/api/files/daf697cd-2063-4a48-8606-e71c25b90f3b/sim_ECC-POPC_978mM_NaCl_OPC3.cpt"
            },
            "size": 867208,
            "type": "cpt"
           },
           {
            "bucket": "daf697cd-2063-4a48-8606-e71c25b90f3b",
            "checksum": "md5:e5553b146dbd85e849c014e2ff4fe267",
            "key": "sim_ECC-POPC_978mM_NaCl_OPC3.edr",
            "links": {
             "self": "https://zenodo.org/api/files/daf697cd-2063-4a48-8606-e71c25b90f3b/sim_ECC-POPC_978mM_NaCl_OPC3.edr"
            },
            "size": 9601732,
            "type": "edr"
           },
           {
            "bucket": "daf697cd-2063-4a48-8606-e71c25b90f3b",
            "checksum": "md5:6a4c00b465b4f36cc27abd3b68a9d010",
            "key": "sim_ECC-POPC_978mM_NaCl_OPC3.gro",
            "links": {
             "self": "https://zenodo.org/api/files/daf697cd-2063-4a48-8606-e71c25b90f3b/sim_ECC-POPC_978mM_NaCl_OPC3.gro"
            },
            "size": 2488754,
            "type": "gro"
           },
           {
            "bucket": "daf697cd-2063-4a48-8606-e71c25b90f3b",
            "checksum": "md5:eecde32517deebb269c93d9bb5016690",
            "key": "sim_ECC-POPC_978mM_NaCl_OPC3.top",
            "links": {
             "self": "https://zenodo.org/api/files/daf697cd-2063-4a48-8606-e71c25b90f3b/sim_ECC-POPC_978mM_NaCl_OPC3.top"
            },
            "size": 419,
            "type": "top"
           },
           {
            "bucket": "daf697cd-2063-4a48-8606-e71c25b90f3b",
            "checksum": "md5:c143e2a5a68924ccc0a61b7fb6fee84a",
            "key": "sim_ECC-POPC_978mM_NaCl_OPC3.tpr",
            "links": {
             "self": "https://zenodo.org/api/files/daf697cd-2063-4a48-8606-e71c25b90f3b/sim_ECC-POPC_978mM_NaCl_OPC3.tpr"
            },
            "size": 1199224,
            "type": "tpr"
           },
           {
            "bucket": "daf697cd-2063-4a48-8606-e71c25b90f3b",
            "checksum": "md5:819cf9b82493bd9337133bab3498f9b0",
            "key": "sim_ECC-POPC_978mM_NaCl_OPC3.xtc",
            "links": {
             "self": "https://zenodo.org/api/files/daf697cd-2063-4a48-8606-e71c25b90f3b/sim_ECC-POPC_978mM_NaCl_OPC3.xtc"
            },
            "size": 2006799952,
            "type": "xtc"
           },
           {
            "bucket": "daf697cd-2063-4a48-8606-e71c25b90f3b",
            "checksum": "md5:a1cba66b96e0bdf2ccf06e32b6897654",
            "key": "sim_ECC-POPC_OPC3_noIons-ref_300K.cpt",
            "links": {
             "self": "https://zenodo.org/api/files/daf697cd-2063-4a48-8606-e71c25b90f3b/sim_ECC-POPC_OPC3_noIons-ref_300K.cpt"
            },
            "size": 874056,
            "type": "cpt"
           },
           {
            "bucket": "daf697cd-2063-4a48-8606-e71c25b90f3b",
            "checksum": "md5:fd49ad41d5b68bc9887b0e471744ee3c",
            "key": "sim_ECC-POPC_OPC3_noIons-ref_300K.edr",
            "links": {
             "self": "https://zenodo.org/api/files/daf697cd-2063-4a48-8606-e71c25b90f3b/sim_ECC-POPC_OPC3_noIons-ref_300K.edr"
            },
            "size": 9601604,
            "type": "edr"
           },
           {
            "bucket": "daf697cd-2063-4a48-8606-e71c25b90f3b",
            "checksum": "md5:2d03b846074ee04e0e0334ac8b0f26f3",
            "key": "sim_ECC-POPC_OPC3_noIons-ref_300K.gro",
            "links": {
             "self": "https://zenodo.org/api/files/daf697cd-2063-4a48-8606-e71c25b90f3b/sim_ECC-POPC_OPC3_noIons-ref_300K.gro"
            },
            "size": 2508350,
            "type": "gro"
           },
           {
            "bucket": "daf697cd-2063-4a48-8606-e71c25b90f3b",
            "checksum": "md5:aefcc03c8156dec29b5a7ad555073d5e",
            "key": "sim_ECC-POPC_OPC3_noIons-ref_300K.top",
            "links": {
             "self": "https://zenodo.org/api/files/daf697cd-2063-4a48-8606-e71c25b90f3b/sim_ECC-POPC_OPC3_noIons-ref_300K.top"
            },
            "size": 421,
            "type": "top"
           },
           {
            "bucket": "daf697cd-2063-4a48-8606-e71c25b90f3b",
            "checksum": "md5:8e9e952f08d786d720f6fe4aed6727f0",
            "key": "sim_ECC-POPC_OPC3_noIons-ref_300K.tpr",
            "links": {
             "self": "https://zenodo.org/api/files/daf697cd-2063-4a48-8606-e71c25b90f3b/sim_ECC-POPC_OPC3_noIons-ref_300K.tpr"
            },
            "size": 1206504,
            "type": "tpr"
           },
           {
            "bucket": "daf697cd-2063-4a48-8606-e71c25b90f3b",
            "checksum": "md5:ecebccda337b6034c21a11a463c2ebf2",
            "key": "sim_ECC-POPC_OPC3_noIons-ref_300K.xtc",
            "links": {
             "self": "https://zenodo.org/api/files/daf697cd-2063-4a48-8606-e71c25b90f3b/sim_ECC-POPC_OPC3_noIons-ref_300K.xtc"
            },
            "size": 2018076352,
            "type": "xtc"
           },
           {
            "bucket": "daf697cd-2063-4a48-8606-e71c25b90f3b",
            "checksum": "md5:1d72270888ce683e7120869d32ef14bb",
            "key": "sim_ECC-POPC_OPC3_noIons-ref.cpt",
            "links": {
             "self": "https://zenodo.org/api/files/daf697cd-2063-4a48-8606-e71c25b90f3b/sim_ECC-POPC_OPC3_noIons-ref.cpt"
            },
            "size": 874044,
            "type": "cpt"
           },
           {
            "bucket": "daf697cd-2063-4a48-8606-e71c25b90f3b",
            "checksum": "md5:ac497a55df3d3865d2db305eaa72c413",
            "key": "sim_ECC-POPC_OPC3_noIons-ref.edr",
            "links": {
             "self": "https://zenodo.org/api/files/daf697cd-2063-4a48-8606-e71c25b90f3b/sim_ECC-POPC_OPC3_noIons-ref.edr"
            },
            "size": 6401924,
            "type": "edr"
           },
           {
            "bucket": "daf697cd-2063-4a48-8606-e71c25b90f3b",
            "checksum": "md5:432dfb27f1f1d525632be91d64466ab0",
            "key": "sim_ECC-POPC_OPC3_noIons-ref.gro",
            "links": {
             "self": "https://zenodo.org/api/files/daf697cd-2063-4a48-8606-e71c25b90f3b/sim_ECC-POPC_OPC3_noIons-ref.gro"
            },
            "size": 2508350,
            "type": "gro"
           },
           {
            "bucket": "daf697cd-2063-4a48-8606-e71c25b90f3b",
            "checksum": "md5:aefcc03c8156dec29b5a7ad555073d5e",
            "key": "sim_ECC-POPC_OPC3_noIons-ref.top",
            "links": {
             "self": "https://zenodo.org/api/files/daf697cd-2063-4a48-8606-e71c25b90f3b/sim_ECC-POPC_OPC3_noIons-ref.top"
            },
            "size": 421,
            "type": "top"
           },
           {
            "bucket": "daf697cd-2063-4a48-8606-e71c25b90f3b",
            "checksum": "md5:7d769825624570d3fb072896071b2c3d",
            "key": "sim_ECC-POPC_OPC3_noIons-ref.tpr",
            "links": {
             "self": "https://zenodo.org/api/files/daf697cd-2063-4a48-8606-e71c25b90f3b/sim_ECC-POPC_OPC3_noIons-ref.tpr"
            },
            "size": 1206488,
            "type": "tpr"
           },
           {
            "bucket": "daf697cd-2063-4a48-8606-e71c25b90f3b",
            "checksum": "md5:3943fa9b24a92cffa30a046a9b1adb3b",
            "key": "sim_ECC-POPC_OPC3_noIons-ref.xtc",
            "links": {
             "self": "https://zenodo.org/api/files/daf697cd-2063-4a48-8606-e71c25b90f3b/sim_ECC-POPC_OPC3_noIons-ref.xtc"
            },
            "size": 1345435480,
            "type": "xtc"
           },
           {
            "bucket": "daf697cd-2063-4a48-8606-e71c25b90f3b",
            "checksum": "md5:6393f4230a52e2f73e300c329654807c",
            "key": "sim_ECC-POPC_OPC4_noIons-ref.cpt",
            "links": {
             "self": "https://zenodo.org/api/files/daf697cd-2063-4a48-8606-e71c25b90f3b/sim_ECC-POPC_OPC4_noIons-ref.cpt"
            },
            "size": 1027632,
            "type": "cpt"
           },
           {
            "bucket": "daf697cd-2063-4a48-8606-e71c25b90f3b",
            "checksum": "md5:451aa0ee4179425ef90d1bd366f7ddbe",
            "key": "sim_ECC-POPC_OPC4_noIons-ref.edr",
            "links": {
             "self": "https://zenodo.org/api/files/daf697cd-2063-4a48-8606-e71c25b90f3b/sim_ECC-POPC_OPC4_noIons-ref.edr"
            },
            "size": 6401604,
            "type": "edr"
           },
           {
            "bucket": "daf697cd-2063-4a48-8606-e71c25b90f3b",
            "checksum": "md5:e3d17b1f9414422b612a598e3c603ed5",
            "key": "sim_ECC-POPC_OPC4_noIons-ref.gro",
            "links": {
             "self": "https://zenodo.org/api/files/daf697cd-2063-4a48-8606-e71c25b90f3b/sim_ECC-POPC_OPC4_noIons-ref.gro"
            },
            "size": 2949950,
            "type": "gro"
           },
           {
            "bucket": "daf697cd-2063-4a48-8606-e71c25b90f3b",
            "checksum": "md5:dd9bda827b0e44ff46b57498801a451d",
            "key": "sim_ECC-POPC_OPC4_noIons-ref.top",
            "links": {
             "self": "https://zenodo.org/api/files/daf697cd-2063-4a48-8606-e71c25b90f3b/sim_ECC-POPC_OPC4_noIons-ref.top"
            },
            "size": 421,
            "type": "top"
           },
           {
            "bucket": "daf697cd-2063-4a48-8606-e71c25b90f3b",
            "checksum": "md5:7bb8b280a7955584278330ea501e0d38",
            "key": "sim_ECC-POPC_OPC4_noIons-ref.tpr",
            "links": {
             "self": "https://zenodo.org/api/files/daf697cd-2063-4a48-8606-e71c25b90f3b/sim_ECC-POPC_OPC4_noIons-ref.tpr"
            },
            "size": 1411764,
            "type": "tpr"
           },
           {
            "bucket": "daf697cd-2063-4a48-8606-e71c25b90f3b",
            "checksum": "md5:acf17ae51445ffc92ecea7c84e7b5711",
            "key": "sim_ECC-POPC_OPC4_noIons-ref.xtc",
            "links": {
             "self": "https://zenodo.org/api/files/daf697cd-2063-4a48-8606-e71c25b90f3b/sim_ECC-POPC_OPC4_noIons-ref.xtc"
            },
            "size": 1525036648,
            "type": "xtc"
           },
           {
            "bucket": "daf697cd-2063-4a48-8606-e71c25b90f3b",
            "checksum": "md5:81e8ea6d34292986de369495da19a3cc",
            "key": "sim_ECC-POPC_TIP3p-FB_noIons-ref.cpt",
            "links": {
             "self": "https://zenodo.org/api/files/daf697cd-2063-4a48-8606-e71c25b90f3b/sim_ECC-POPC_TIP3p-FB_noIons-ref.cpt"
            },
            "size": 874052,
            "type": "cpt"
           },
           {
            "bucket": "daf697cd-2063-4a48-8606-e71c25b90f3b",
            "checksum": "md5:17f62abfcd495fd546b2abeb1b2fca61",
            "key": "sim_ECC-POPC_TIP3p-FB_noIons-ref.edr",
            "links": {
             "self": "https://zenodo.org/api/files/daf697cd-2063-4a48-8606-e71c25b90f3b/sim_ECC-POPC_TIP3p-FB_noIons-ref.edr"
            },
            "size": 9606084,
            "type": "edr"
           },
           {
            "bucket": "daf697cd-2063-4a48-8606-e71c25b90f3b",
            "checksum": "md5:a6bc1f9d684e1d54c7c970af8b1e9fbf",
            "key": "sim_ECC-POPC_TIP3p-FB_noIons-ref.top",
            "links": {
             "self": "https://zenodo.org/api/files/daf697cd-2063-4a48-8606-e71c25b90f3b/sim_ECC-POPC_TIP3p-FB_noIons-ref.top"
            },
            "size": 418,
            "type": "top"
           },
           {
            "bucket": "daf697cd-2063-4a48-8606-e71c25b90f3b",
            "checksum": "md5:25b33306cb29c0b4b59fb2ca7b40514a",
            "key": "sim_ECC-POPC_TIP3p-FB_noIons-ref.tpr",
            "links": {
             "self": "https://zenodo.org/api/files/daf697cd-2063-4a48-8606-e71c25b90f3b/sim_ECC-POPC_TIP3p-FB_noIons-ref.tpr"
            },
            "size": 1206592,
            "type": "tpr"
           },
           {
            "bucket": "daf697cd-2063-4a48-8606-e71c25b90f3b",
            "checksum": "md5:fd677a82ace879e316d9662658abb7cf",
            "key": "sim_ECC-POPC_TIP3p-FB_noIons-ref.xtc",
            "links": {
             "self": "https://zenodo.org/api/files/daf697cd-2063-4a48-8606-e71c25b90f3b/sim_ECC-POPC_TIP3p-FB_noIons-ref.xtc"
            },
            "size": 2056095044,
            "type": "xtc"
           },
           {
            "bucket": "daf697cd-2063-4a48-8606-e71c25b90f3b",
            "checksum": "md5:6a2aec15f84f5950ba4e35b4000cfd2f",
            "key": "sim_ECC-POPC_TIP3p_noIons-ref.cpt",
            "links": {
             "self": "https://zenodo.org/api/files/daf697cd-2063-4a48-8606-e71c25b90f3b/sim_ECC-POPC_TIP3p_noIons-ref.cpt"
            },
            "size": 874052,
            "type": "cpt"
           },
           {
            "bucket": "daf697cd-2063-4a48-8606-e71c25b90f3b",
            "checksum": "md5:070346d06e24ae53e0ce1a9ef6c0ef18",
            "key": "sim_ECC-POPC_TIP3p_noIons-ref.edr",
            "links": {
             "self": "https://zenodo.org/api/files/daf697cd-2063-4a48-8606-e71c25b90f3b/sim_ECC-POPC_TIP3p_noIons-ref.edr"
            },
            "size": 9606724,
            "type": "edr"
           },
           {
            "bucket": "daf697cd-2063-4a48-8606-e71c25b90f3b",
            "checksum": "md5:85f1efd88358b887be9b025194a08ae8",
            "key": "sim_ECC-POPC_TIP3p_noIons-ref.top",
            "links": {
             "self": "https://zenodo.org/api/files/daf697cd-2063-4a48-8606-e71c25b90f3b/sim_ECC-POPC_TIP3p_noIons-ref.top"
            },
            "size": 416,
            "type": "top"
           },
           {
            "bucket": "daf697cd-2063-4a48-8606-e71c25b90f3b",
            "checksum": "md5:587305a3dc77694fd87eff0507f78ced",
            "key": "sim_ECC-POPC_TIP3p_noIons-ref.tpr",
            "links": {
             "self": "https://zenodo.org/api/files/daf697cd-2063-4a48-8606-e71c25b90f3b/sim_ECC-POPC_TIP3p_noIons-ref.tpr"
            },
            "size": 1206608,
            "type": "tpr"
           },
           {
            "bucket": "daf697cd-2063-4a48-8606-e71c25b90f3b",
            "checksum": "md5:d0a699edb11ea8723f03de0d1ef38b9a",
            "key": "sim_ECC-POPC_TIP3p_noIons-ref.xtc",
            "links": {
             "self": "https://zenodo.org/api/files/daf697cd-2063-4a48-8606-e71c25b90f3b/sim_ECC-POPC_TIP3p_noIons-ref.xtc"
            },
            "size": 2017206404,
            "type": "xtc"
           },
           {
            "bucket": "daf697cd-2063-4a48-8606-e71c25b90f3b",
            "checksum": "md5:9bc0eb265c38c9ebbf5b7785196fe341",
            "key": "sim_ECC-POPC_TIP4p2005_noIons-ref.cpt",
            "links": {
             "self": "https://zenodo.org/api/files/daf697cd-2063-4a48-8606-e71c25b90f3b/sim_ECC-POPC_TIP4p2005_noIons-ref.cpt"
            },
            "size": 1027644,
            "type": "cpt"
           },
           {
            "bucket": "daf697cd-2063-4a48-8606-e71c25b90f3b",
            "checksum": "md5:6d6f5fe08bbfd94eefc0956b8a25591e",
            "key": "sim_ECC-POPC_TIP4p2005_noIons-ref.edr",
            "links": {
             "self": "https://zenodo.org/api/files/daf697cd-2063-4a48-8606-e71c25b90f3b/sim_ECC-POPC_TIP4p2005_noIons-ref.edr"
            },
            "size": 6401604,
            "type": "edr"
           },
           {
            "bucket": "daf697cd-2063-4a48-8606-e71c25b90f3b",
            "checksum": "md5:4a9772aad788f6387c16021ae1561484",
            "key": "sim_ECC-POPC_TIP4p2005_noIons-ref.gro",
            "links": {
             "self": "https://zenodo.org/api/files/daf697cd-2063-4a48-8606-e71c25b90f3b/sim_ECC-POPC_TIP4p2005_noIons-ref.gro"
            },
            "size": 2949950,
            "type": "gro"
           },
           {
            "bucket": "daf697cd-2063-4a48-8606-e71c25b90f3b",
            "checksum": "md5:6778a6410ffc69d7a940e859e545b4e8",
            "key": "sim_ECC-POPC_TIP4p2005_noIons-ref.top",
            "links": {
             "self": "https://zenodo.org/api/files/daf697cd-2063-4a48-8606-e71c25b90f3b/sim_ECC-POPC_TIP4p2005_noIons-ref.top"
            },
            "size": 421,
            "type": "top"
           },
           {
            "bucket": "daf697cd-2063-4a48-8606-e71c25b90f3b",
            "checksum": "md5:988988a2ba0310d0e339eeae6dab7d1d",
            "key": "sim_ECC-POPC_TIP4p2005_noIons-ref.tpr",
            "links": {
             "self": "https://zenodo.org/api/files/daf697cd-2063-4a48-8606-e71c25b90f3b/sim_ECC-POPC_TIP4p2005_noIons-ref.tpr"
            },
            "size": 1411708,
            "type": "tpr"
           },
           {
            "bucket": "daf697cd-2063-4a48-8606-e71c25b90f3b",
            "checksum": "md5:842ff1ef4f8b14639e80dd6b93969db9",
            "key": "sim_ECC-POPC_TIP4p2005_noIons-ref.xtc",
            "links": {
             "self": "https://zenodo.org/api/files/daf697cd-2063-4a48-8606-e71c25b90f3b/sim_ECC-POPC_TIP4p2005_noIons-ref.xtc"
            },
            "size": 1532722932,
            "type": "xtc"
           },
           {
            "bucket": "daf697cd-2063-4a48-8606-e71c25b90f3b",
            "checksum": "md5:df48a81d050cf1c6b74851f626e4f5c3",
            "key": "sim_ECC-POPC_TIP4p-FB_noIons-ref.cpt",
            "links": {
             "self": "https://zenodo.org/api/files/daf697cd-2063-4a48-8606-e71c25b90f3b/sim_ECC-POPC_TIP4p-FB_noIons-ref.cpt"
            },
            "size": 1027652,
            "type": "cpt"
           },
           {
            "bucket": "daf697cd-2063-4a48-8606-e71c25b90f3b",
            "checksum": "md5:ef7583568f1038ed0087ffd2af05a0bc",
            "key": "sim_ECC-POPC_TIP4p-FB_noIons-ref.edr",
            "links": {
             "self": "https://zenodo.org/api/files/daf697cd-2063-4a48-8606-e71c25b90f3b/sim_ECC-POPC_TIP4p-FB_noIons-ref.edr"
            },
            "size": 9607044,
            "type": "edr"
           },
           {
            "bucket": "daf697cd-2063-4a48-8606-e71c25b90f3b",
            "checksum": "md5:5208f02bf434a6bfc95839ff75d78052",
            "key": "sim_ECC-POPC_TIP4p-FB_noIons-ref.top",
            "links": {
             "self": "https://zenodo.org/api/files/daf697cd-2063-4a48-8606-e71c25b90f3b/sim_ECC-POPC_TIP4p-FB_noIons-ref.top"
            },
            "size": 418,
            "type": "top"
           },
           {
            "bucket": "daf697cd-2063-4a48-8606-e71c25b90f3b",
            "checksum": "md5:a7f286d871c953fd1f5914ad8f1e7176",
            "key": "sim_ECC-POPC_TIP4p-FB_noIons-ref.tpr",
            "links": {
             "self": "https://zenodo.org/api/files/daf697cd-2063-4a48-8606-e71c25b90f3b/sim_ECC-POPC_TIP4p-FB_noIons-ref.tpr"
            },
            "size": 1411880,
            "type": "tpr"
           },
           {
            "bucket": "daf697cd-2063-4a48-8606-e71c25b90f3b",
            "checksum": "md5:26e7d52a228ec545840f14154be1e899",
            "key": "sim_ECC-POPC_TIP4p-FB_noIons-ref.xtc",
            "links": {
             "self": "https://zenodo.org/api/files/daf697cd-2063-4a48-8606-e71c25b90f3b/sim_ECC-POPC_TIP4p-FB_noIons-ref.xtc"
            },
            "size": 2299365780,
            "type": "xtc"
           }
          ],
          "id": 1118980,
          "links": {
           "badge": "https://zenodo.org/badge/doi/10.5281/zenodo.1118980.svg",
           "bucket": "https://zenodo.org/api/files/daf697cd-2063-4a48-8606-e71c25b90f3b",
           "conceptbadge": "https://zenodo.org/badge/doi/10.5281/zenodo.1118979.svg",
           "conceptdoi": "https://doi.org/10.5281/zenodo.1118979",
           "doi": "https://doi.org/10.5281/zenodo.1118980",
           "html": "https://zenodo.org/record/1118980",
           "latest": "https://zenodo.org/api/records/1118980",
           "latest_html": "https://zenodo.org/record/1118980",
           "self": "https://zenodo.org/api/records/1118980"
          },
          "metadata": {
           "access_right": "open",
           "access_right_category": "success",
           "communities": [
            {
             "id": "nmrlipids"
            }
           ],
           "creators": [
            {
             "affiliation": "IOCB AS CR",
             "name": "Melcr, Josef",
             "orcid": "0000-0003-4729-3990"
            }
           ],
           "description": "<p>Classical molecular dynamics simulations of a POPC lipid bilayer in water solution at various NaCl and CaCl2 concentrations using ECC-POPC force field parameters, various water models and ECC-ions.</p>\n\n<p>Simulations with SPC/E water model are in a separate Zenodo deposit<br>\nhttps://doi.org/10.5281/zenodo.1118266</p>\n\n<p>file names report molar fraction of cations (i.e. not bulk concentrations)</p>\n\n<p>simulations performed with Gromacs 5.1.4 (*.xtc files) and openMM 7 (*.dcd files)</p>\n\n<p>simulation length 300 ns</p>\n\n<p>temperature 313 K (otherwise noted)</p>",
           "doi": "10.5281/zenodo.1118980",
           "license": {
            "id": "CC-BY-4.0"
           },
           "publication_date": "2017-12-19",
           "related_identifiers": [
            {
             "identifier": "10.5281/zenodo.1118979",
             "relation": "isVersionOf",
             "scheme": "doi"
            }
           ],
           "relations": {
            "version": [
             {
              "count": 1,
              "index": 0,
              "is_last": true,
              "last_child": {
               "pid_type": "recid",
               "pid_value": "1118980"
              },
              "parent": {
               "pid_type": "recid",
               "pid_value": "1118979"
              }
             }
            ]
           },
           "resource_type": {
            "title": "Dataset",
            "type": "dataset"
           },
           "title": "Simulations of POPC lipid bilayer in water solution at various NaCl and CaCl2 concentrations using ECC-POPC force field and various water models"
          },
          "owners": [
           19909
          ],
          "revision": 5,
          "stats": {
           "downloads": 1207,
           "unique_downloads": 26,
           "unique_views": 46,
           "version_downloads": 1207,
           "version_unique_downloads": 26,
           "version_unique_views": 46,
           "version_views": 49,
           "version_volume": 420209380507,
           "views": 49,
           "volume": 420209380507
          },
          "updated": "2020-01-24T19:26:07.831694+00:00"
         },
         {
          "conceptdoi": "10.5281/zenodo.1118681",
          "conceptrecid": "1118681",
          "created": "2017-12-19T15:25:29.311387+00:00",
          "doi": "10.5281/zenodo.1118682",
          "files": [
           {
            "bucket": "930b5b0d-d47d-46a2-8f29-ffbdbef42db3",
            "checksum": "md5:8733f30049a113ee62c110cabf8a919e",
            "key": "sim_ECC-POPC_cat-surf-20p_SPCE.cpt",
            "links": {
             "self": "https://zenodo.org/api/files/930b5b0d-d47d-46a2-8f29-ffbdbef42db3/sim_ECC-POPC_cat-surf-20p_SPCE.cpt"
            },
            "size": 842992,
            "type": "cpt"
           },
           {
            "bucket": "930b5b0d-d47d-46a2-8f29-ffbdbef42db3",
            "checksum": "md5:c995ed16ca598f3964002bdfb4722899",
            "key": "sim_ECC-POPC_cat-surf-20p_SPCE.dcd",
            "links": {
             "self": "https://zenodo.org/api/files/930b5b0d-d47d-46a2-8f29-ffbdbef42db3/sim_ECC-POPC_cat-surf-20p_SPCE.dcd"
            },
            "size": 4208720276,
            "type": "dcd"
           },
           {
            "bucket": "930b5b0d-d47d-46a2-8f29-ffbdbef42db3",
            "checksum": "md5:bf648eb8750d7550904313d82eba434d",
            "key": "sim_ECC-POPC_cat-surf-20p_SPCE.edr",
            "links": {
             "self": "https://zenodo.org/api/files/930b5b0d-d47d-46a2-8f29-ffbdbef42db3/sim_ECC-POPC_cat-surf-20p_SPCE.edr"
            },
            "size": 6402108,
            "type": "edr"
           },
           {
            "bucket": "930b5b0d-d47d-46a2-8f29-ffbdbef42db3",
            "checksum": "md5:e7a9da1723418dd7ae0749d97edc5521",
            "key": "sim_ECC-POPC_cat-surf-20p_SPCE.gro",
            "links": {
             "self": "https://zenodo.org/api/files/930b5b0d-d47d-46a2-8f29-ffbdbef42db3/sim_ECC-POPC_cat-surf-20p_SPCE.gro"
            },
            "size": 2419636,
            "type": "gro"
           },
           {
            "bucket": "930b5b0d-d47d-46a2-8f29-ffbdbef42db3",
            "checksum": "md5:cd53011bf2cc56929422e32296d66ab0",
            "key": "sim_ECC-POPC_cat-surf-20p_SPCE.top",
            "links": {
             "self": "https://zenodo.org/api/files/930b5b0d-d47d-46a2-8f29-ffbdbef42db3/sim_ECC-POPC_cat-surf-20p_SPCE.top"
            },
            "size": 473,
            "type": "top"
           },
           {
            "bucket": "930b5b0d-d47d-46a2-8f29-ffbdbef42db3",
            "checksum": "md5:57cd9ab2825bb6cfdbdc1d279e621955",
            "key": "sim_ECC-POPC_cat-surf-20p_SPCE.tpr",
            "links": {
             "self": "https://zenodo.org/api/files/930b5b0d-d47d-46a2-8f29-ffbdbef42db3/sim_ECC-POPC_cat-surf-20p_SPCE.tpr"
            },
            "size": 1196568,
            "type": "tpr"
           },
           {
            "bucket": "930b5b0d-d47d-46a2-8f29-ffbdbef42db3",
            "checksum": "md5:516cb4867bb6bfcb9afafb704efdb145",
            "key": "sim_ECC-POPC_cat-surf-20p_SPCE.xtc",
            "links": {
             "self": "https://zenodo.org/api/files/930b5b0d-d47d-46a2-8f29-ffbdbef42db3/sim_ECC-POPC_cat-surf-20p_SPCE.xtc"
            },
            "size": 1301494316,
            "type": "xtc"
           },
           {
            "bucket": "930b5b0d-d47d-46a2-8f29-ffbdbef42db3",
            "checksum": "md5:b3110ac85613beac7dc2fc083de74d2d",
            "key": "sim_ECC-POPC_cat-surf-30p_SPCE.cpt",
            "links": {
             "self": "https://zenodo.org/api/files/930b5b0d-d47d-46a2-8f29-ffbdbef42db3/sim_ECC-POPC_cat-surf-30p_SPCE.cpt"
            },
            "size": 879292,
            "type": "cpt"
           },
           {
            "bucket": "930b5b0d-d47d-46a2-8f29-ffbdbef42db3",
            "checksum": "md5:21f4f5bafac910fcdaf9206ed160179c",
            "key": "sim_ECC-POPC_cat-surf-30p_SPCE.dcd",
            "links": {
             "self": "https://zenodo.org/api/files/930b5b0d-d47d-46a2-8f29-ffbdbef42db3/sim_ECC-POPC_cat-surf-30p_SPCE.dcd"
            },
            "size": 4390160276,
            "type": "dcd"
           },
           {
            "bucket": "930b5b0d-d47d-46a2-8f29-ffbdbef42db3",
            "checksum": "md5:b36597b9906f95d9c3322b7316b9ae5a",
            "key": "sim_ECC-POPC_cat-surf-30p_SPCE.edr",
            "links": {
             "self": "https://zenodo.org/api/files/930b5b0d-d47d-46a2-8f29-ffbdbef42db3/sim_ECC-POPC_cat-surf-30p_SPCE.edr"
            },
            "size": 6402108,
            "type": "edr"
           },
           {
            "bucket": "930b5b0d-d47d-46a2-8f29-ffbdbef42db3",
            "checksum": "md5:d391468483296d8c5f261d1a3430a7e3",
            "key": "sim_ECC-POPC_cat-surf-30p_SPCE.gro",
            "links": {
             "self": "https://zenodo.org/api/files/930b5b0d-d47d-46a2-8f29-ffbdbef42db3/sim_ECC-POPC_cat-surf-30p_SPCE.gro"
            },
            "size": 2523964,
            "type": "gro"
           },
           {
            "bucket": "930b5b0d-d47d-46a2-8f29-ffbdbef42db3",
            "checksum": "md5:a8680b6889952aea67d81c646aa15958",
            "key": "sim_ECC-POPC_cat-surf-30p_SPCE.top",
            "links": {
             "self": "https://zenodo.org/api/files/930b5b0d-d47d-46a2-8f29-ffbdbef42db3/sim_ECC-POPC_cat-surf-30p_SPCE.top"
            },
            "size": 472,
            "type": "top"
           },
           {
            "bucket": "930b5b0d-d47d-46a2-8f29-ffbdbef42db3",
            "checksum": "md5:f027b6a4a4ccb37c78571bbc24972d1b",
            "key": "sim_ECC-POPC_cat-surf-30p_SPCE.tpr",
            "links": {
             "self": "https://zenodo.org/api/files/930b5b0d-d47d-46a2-8f29-ffbdbef42db3/sim_ECC-POPC_cat-surf-30p_SPCE.tpr"
            },
            "size": 1244952,
            "type": "tpr"
           },
           {
            "bucket": "930b5b0d-d47d-46a2-8f29-ffbdbef42db3",
            "checksum": "md5:4b551a278bf96fe231b4bc2618ca480d",
            "key": "sim_ECC-POPC_cat-surf-30p_SPCE.xtc",
            "links": {
             "self": "https://zenodo.org/api/files/930b5b0d-d47d-46a2-8f29-ffbdbef42db3/sim_ECC-POPC_cat-surf-30p_SPCE.xtc"
            },
            "size": 1358309612,
            "type": "xtc"
           },
           {
            "bucket": "930b5b0d-d47d-46a2-8f29-ffbdbef42db3",
            "checksum": "md5:52752f4d94f6007f21635d48c5b57bc0",
            "key": "sim_ECC-POPC_cat-surf-42p_SPCE.cpt",
            "links": {
             "self": "https://zenodo.org/api/files/930b5b0d-d47d-46a2-8f29-ffbdbef42db3/sim_ECC-POPC_cat-surf-42p_SPCE.cpt"
            },
            "size": 951856,
            "type": "cpt"
           },
           {
            "bucket": "930b5b0d-d47d-46a2-8f29-ffbdbef42db3",
            "checksum": "md5:2d10e0c08a745c9306f242cfe586efb0",
            "key": "sim_ECC-POPC_cat-surf-42p_SPCE.dcd",
            "links": {
             "self": "https://zenodo.org/api/files/930b5b0d-d47d-46a2-8f29-ffbdbef42db3/sim_ECC-POPC_cat-surf-42p_SPCE.dcd"
            },
            "size": 4753040276,
            "type": "dcd"
           },
           {
            "bucket": "930b5b0d-d47d-46a2-8f29-ffbdbef42db3",
            "checksum": "md5:5e9986e1eb3e51d70119415594f886f7",
            "key": "sim_ECC-POPC_cat-surf-42p_SPCE.edr",
            "links": {
             "self": "https://zenodo.org/api/files/930b5b0d-d47d-46a2-8f29-ffbdbef42db3/sim_ECC-POPC_cat-surf-42p_SPCE.edr"
            },
            "size": 6402108,
            "type": "edr"
           },
           {
            "bucket": "930b5b0d-d47d-46a2-8f29-ffbdbef42db3",
            "checksum": "md5:d8b9aa47a6635bdf3f4aa5edf026d32e",
            "key": "sim_ECC-POPC_cat-surf-42p_SPCE.gro",
            "links": {
             "self": "https://zenodo.org/api/files/930b5b0d-d47d-46a2-8f29-ffbdbef42db3/sim_ECC-POPC_cat-surf-42p_SPCE.gro"
            },
            "size": 2732620,
            "type": "gro"
           },
           {
            "bucket": "930b5b0d-d47d-46a2-8f29-ffbdbef42db3",
            "checksum": "md5:b7a190cae87c84e07c70990d5b1e4b33",
            "key": "sim_ECC-POPC_cat-surf-42p_SPCE.top",
            "links": {
             "self": "https://zenodo.org/api/files/930b5b0d-d47d-46a2-8f29-ffbdbef42db3/sim_ECC-POPC_cat-surf-42p_SPCE.top"
            },
            "size": 432,
            "type": "top"
           },
           {
            "bucket": "930b5b0d-d47d-46a2-8f29-ffbdbef42db3",
            "checksum": "md5:f3f53d06375edbf8d5c22233658b56e5",
            "key": "sim_ECC-POPC_cat-surf-42p_SPCE.tpr",
            "links": {
             "self": "https://zenodo.org/api/files/930b5b0d-d47d-46a2-8f29-ffbdbef42db3/sim_ECC-POPC_cat-surf-42p_SPCE.tpr"
            },
            "size": 1341532,
            "type": "tpr"
           },
           {
            "bucket": "930b5b0d-d47d-46a2-8f29-ffbdbef42db3",
            "checksum": "md5:1e9858db643d07286fb065099b7e7234",
            "key": "sim_ECC-POPC_cat-surf-42p_SPCE.xtc",
            "links": {
             "self": "https://zenodo.org/api/files/930b5b0d-d47d-46a2-8f29-ffbdbef42db3/sim_ECC-POPC_cat-surf-42p_SPCE.xtc"
            },
            "size": 1471925944,
            "type": "xtc"
           },
           {
            "bucket": "930b5b0d-d47d-46a2-8f29-ffbdbef42db3",
            "checksum": "md5:4c96106be661d5e86f20b9f7cf2d3472",
            "key": "sim_ECC-POPC_cat-surf-50p_SPCE.cpt",
            "links": {
             "self": "https://zenodo.org/api/files/930b5b0d-d47d-46a2-8f29-ffbdbef42db3/sim_ECC-POPC_cat-surf-50p_SPCE.cpt"
            },
            "size": 1029792,
            "type": "cpt"
           },
           {
            "bucket": "930b5b0d-d47d-46a2-8f29-ffbdbef42db3",
            "checksum": "md5:2c4e2038713f3168392e207b613dfb4a",
            "key": "sim_ECC-POPC_cat-surf-50p_SPCE.dcd",
            "links": {
             "self": "https://zenodo.org/api/files/930b5b0d-d47d-46a2-8f29-ffbdbef42db3/sim_ECC-POPC_cat-surf-50p_SPCE.dcd"
            },
            "size": 5141840276,
            "type": "dcd"
           },
           {
            "bucket": "930b5b0d-d47d-46a2-8f29-ffbdbef42db3",
            "checksum": "md5:24ff9fb744e5bd36ea791f9ea267ca9f",
            "key": "sim_ECC-POPC_cat-surf-50p_SPCE.edr",
            "links": {
             "self": "https://zenodo.org/api/files/930b5b0d-d47d-46a2-8f29-ffbdbef42db3/sim_ECC-POPC_cat-surf-50p_SPCE.edr"
            },
            "size": 6402108,
            "type": "edr"
           },
           {
            "bucket": "930b5b0d-d47d-46a2-8f29-ffbdbef42db3",
            "checksum": "md5:cf264e2eae03ac386e7de54e452b7dea",
            "key": "sim_ECC-POPC_cat-surf-50p_SPCE.gro",
            "links": {
             "self": "https://zenodo.org/api/files/930b5b0d-d47d-46a2-8f29-ffbdbef42db3/sim_ECC-POPC_cat-surf-50p_SPCE.gro"
            },
            "size": 2956180,
            "type": "gro"
           },
           {
            "bucket": "930b5b0d-d47d-46a2-8f29-ffbdbef42db3",
            "checksum": "md5:38d70704ab33a34ee8067ce2408b415a",
            "key": "sim_ECC-POPC_cat-surf-50p_SPCE.top",
            "links": {
             "self": "https://zenodo.org/api/files/930b5b0d-d47d-46a2-8f29-ffbdbef42db3/sim_ECC-POPC_cat-surf-50p_SPCE.top"
            },
            "size": 485,
            "type": "top"
           },
           {
            "bucket": "930b5b0d-d47d-46a2-8f29-ffbdbef42db3",
            "checksum": "md5:fe8bb4cd2af558467c27811914ce1fc2",
            "key": "sim_ECC-POPC_cat-surf-50p_SPCE.tpr",
            "links": {
             "self": "https://zenodo.org/api/files/930b5b0d-d47d-46a2-8f29-ffbdbef42db3/sim_ECC-POPC_cat-surf-50p_SPCE.tpr"
            },
            "size": 1445420,
            "type": "tpr"
           },
           {
            "bucket": "930b5b0d-d47d-46a2-8f29-ffbdbef42db3",
            "checksum": "md5:cf0f9537b6a4be5d503d3f88221dea0d",
            "key": "sim_ECC-POPC_cat-surf-50p_SPCE.xtc",
            "links": {
             "self": "https://zenodo.org/api/files/930b5b0d-d47d-46a2-8f29-ffbdbef42db3/sim_ECC-POPC_cat-surf-50p_SPCE.xtc"
            },
            "size": 1594189328,
            "type": "xtc"
           },
           {
            "bucket": "930b5b0d-d47d-46a2-8f29-ffbdbef42db3",
            "checksum": "md5:a4e6f759f32942a07f982989e7507757",
            "key": "T7H_GMX_cat-surf.itp",
            "links": {
             "self": "https://zenodo.org/api/files/930b5b0d-d47d-46a2-8f29-ffbdbef42db3/T7H_GMX_cat-surf.itp"
            },
            "size": 80730,
            "type": "itp"
           },
           {
            "bucket": "930b5b0d-d47d-46a2-8f29-ffbdbef42db3",
            "checksum": "md5:83f6a5cf2ff7cd59d0eb2fb20effbd8d",
            "key": "T7H_GMX_ECC_cat-surf.itp",
            "links": {
             "self": "https://zenodo.org/api/files/930b5b0d-d47d-46a2-8f29-ffbdbef42db3/T7H_GMX_ECC_cat-surf.itp"
            },
            "size": 80800,
            "type": "itp"
           }
          ],
          "id": 1118682,
          "links": {
           "badge": "https://zenodo.org/badge/doi/10.5281/zenodo.1118682.svg",
           "bucket": "https://zenodo.org/api/files/930b5b0d-d47d-46a2-8f29-ffbdbef42db3",
           "conceptbadge": "https://zenodo.org/badge/doi/10.5281/zenodo.1118681.svg",
           "conceptdoi": "https://doi.org/10.5281/zenodo.1118681",
           "doi": "https://doi.org/10.5281/zenodo.1118682",
           "html": "https://zenodo.org/record/1118682",
           "latest": "https://zenodo.org/api/records/1118682",
           "latest_html": "https://zenodo.org/record/1118682",
           "self": "https://zenodo.org/api/records/1118682"
          },
          "metadata": {
           "access_right": "open",
           "access_right_category": "success",
           "creators": [
            {
             "affiliation": "IOCB AS CR",
             "name": "Melcr, Josef",
             "orcid": "0000-0003-4729-3990"
            }
           ],
           "description": "<p>Classical molecular dynamics simulations of a POPC lipid bilayer in water solution with various molar fractions of cationic surfactant dihexadecylammonium using ECC-POPC force field parameters, SPC/E water model and ECC-ions.</p>\n\n<p>Simulation at pure water is in a separate Zenodo deposit<br>\nhttps://doi.org/10.5281/zenodo.1118266</p>\n\n<p>file names report molar fraction of cations (i.e. not bulk concentrations)</p>\n\n<p>simulations performed with Gromacs 5.1.4 (*.xtc files) and openMM 7 (*.dcd files)</p>\n\n<p>simulation length 200 ns</p>\n\n<p>temperature 313 K (otherwise noted)</p>",
           "doi": "10.5281/zenodo.1118682",
           "license": {
            "id": "CC-BY-4.0"
           },
           "publication_date": "2017-12-19",
           "related_identifiers": [
            {
             "identifier": "10.5281/zenodo.1118681",
             "relation": "isVersionOf",
             "scheme": "doi"
            }
           ],
           "relations": {
            "version": [
             {
              "count": 1,
              "index": 0,
              "is_last": true,
              "last_child": {
               "pid_type": "recid",
               "pid_value": "1118682"
              },
              "parent": {
               "pid_type": "recid",
               "pid_value": "1118681"
              }
             }
            ]
           },
           "resource_type": {
            "title": "Dataset",
            "type": "dataset"
           },
           "title": "Simulations of POPC lipid bilayer in water solution with various molar fractions of cationic surfactant dihexadecylammonium using ECC-POPC force field"
          },
          "owners": [
           19909
          ],
          "revision": 4,
          "stats": {
           "downloads": 355,
           "unique_downloads": 21,
           "unique_views": 23,
           "version_downloads": 355,
           "version_unique_downloads": 21,
           "version_unique_views": 23,
           "version_views": 24,
           "version_volume": 298399147166,
           "views": 24,
           "volume": 298399147166
          },
          "updated": "2020-01-24T19:25:21.465676+00:00"
         },
         {
          "conceptdoi": "10.5281/zenodo.826446",
          "conceptrecid": "826446",
          "created": "2017-07-13T02:34:28.609622+00:00",
          "doi": "10.5281/zenodo.826447",
          "files": [
           {
            "bucket": "d081aeaf-a772-4945-9b62-ff7b90524c68",
            "checksum": "md5:7e7cd22c2a0af8f6d03cff375824d7c0",
            "key": "A2-i129.txt.gz",
            "links": {
             "self": "https://zenodo.org/api/files/d081aeaf-a772-4945-9b62-ff7b90524c68/A2-i129.txt.gz"
            },
            "size": 9205802,
            "type": "gz"
           },
           {
            "bucket": "d081aeaf-a772-4945-9b62-ff7b90524c68",
            "checksum": "md5:c7d7d0d6d00a2869810f3c1a03f3e23e",
            "key": "A2-i131.txt.gz",
            "links": {
             "self": "https://zenodo.org/api/files/d081aeaf-a772-4945-9b62-ff7b90524c68/A2-i131.txt.gz"
            },
            "size": 6693718,
            "type": "gz"
           },
           {
            "bucket": "d081aeaf-a772-4945-9b62-ff7b90524c68",
            "checksum": "md5:13fcb6b7a45bb7d48c8a5e668b9a4b46",
            "key": "A2-i132.txt.gz",
            "links": {
             "self": "https://zenodo.org/api/files/d081aeaf-a772-4945-9b62-ff7b90524c68/A2-i132.txt.gz"
            },
            "size": 12891900,
            "type": "gz"
           },
           {
            "bucket": "d081aeaf-a772-4945-9b62-ff7b90524c68",
            "checksum": "md5:cd81d58555f43fe0ab2e9267496febcd",
            "key": "A2-i133.txt.gz",
            "links": {
             "self": "https://zenodo.org/api/files/d081aeaf-a772-4945-9b62-ff7b90524c68/A2-i133.txt.gz"
            },
            "size": 9650001,
            "type": "gz"
           },
           {
            "bucket": "d081aeaf-a772-4945-9b62-ff7b90524c68",
            "checksum": "md5:f225b287d699ad9a3db2926bb401e151",
            "key": "A2-i134.txt.gz",
            "links": {
             "self": "https://zenodo.org/api/files/d081aeaf-a772-4945-9b62-ff7b90524c68/A2-i134.txt.gz"
            },
            "size": 9374388,
            "type": "gz"
           },
           {
            "bucket": "d081aeaf-a772-4945-9b62-ff7b90524c68",
            "checksum": "md5:3cbf31411935c3edc3e03df236df2c55",
            "key": "A2-i136.txt.gz",
            "links": {
             "self": "https://zenodo.org/api/files/d081aeaf-a772-4945-9b62-ff7b90524c68/A2-i136.txt.gz"
            },
            "size": 6863805,
            "type": "gz"
           },
           {
            "bucket": "d081aeaf-a772-4945-9b62-ff7b90524c68",
            "checksum": "md5:6239587fc41855634935707bc0a75001",
            "key": "A2-i138.txt.gz",
            "links": {
             "self": "https://zenodo.org/api/files/d081aeaf-a772-4945-9b62-ff7b90524c68/A2-i138.txt.gz"
            },
            "size": 3816536,
            "type": "gz"
           },
           {
            "bucket": "d081aeaf-a772-4945-9b62-ff7b90524c68",
            "checksum": "md5:37a45d31ae5868456cd11bf2a3830033",
            "key": "A2-i139.txt.gz",
            "links": {
             "self": "https://zenodo.org/api/files/d081aeaf-a772-4945-9b62-ff7b90524c68/A2-i139.txt.gz"
            },
            "size": 8524842,
            "type": "gz"
           },
           {
            "bucket": "d081aeaf-a772-4945-9b62-ff7b90524c68",
            "checksum": "md5:a952f1ec632a34dfe955d363c0ab3127",
            "key": "A2-i140.txt.gz",
            "links": {
             "self": "https://zenodo.org/api/files/d081aeaf-a772-4945-9b62-ff7b90524c68/A2-i140.txt.gz"
            },
            "size": 7017449,
            "type": "gz"
           },
           {
            "bucket": "d081aeaf-a772-4945-9b62-ff7b90524c68",
            "checksum": "md5:9c3c7f1156e43be296d40e908324aa2e",
            "key": "A2-i141.txt.gz",
            "links": {
             "self": "https://zenodo.org/api/files/d081aeaf-a772-4945-9b62-ff7b90524c68/A2-i141.txt.gz"
            },
            "size": 9045366,
            "type": "gz"
           },
           {
            "bucket": "d081aeaf-a772-4945-9b62-ff7b90524c68",
            "checksum": "md5:8bc0f16c5fa8b0286ed2c5cb74a8160c",
            "key": "A3-i101.txt.gz",
            "links": {
             "self": "https://zenodo.org/api/files/d081aeaf-a772-4945-9b62-ff7b90524c68/A3-i101.txt.gz"
            },
            "size": 19035246,
            "type": "gz"
           },
           {
            "bucket": "d081aeaf-a772-4945-9b62-ff7b90524c68",
            "checksum": "md5:18e41002a88ab2b87c8abc8c5f0a565e",
            "key": "A3-i102.txt.gz",
            "links": {
             "self": "https://zenodo.org/api/files/d081aeaf-a772-4945-9b62-ff7b90524c68/A3-i102.txt.gz"
            },
            "size": 10407074,
            "type": "gz"
           },
           {
            "bucket": "d081aeaf-a772-4945-9b62-ff7b90524c68",
            "checksum": "md5:7907bd000fbbe858b2e3fb7cbc7e2675",
            "key": "A3-i106.txt.gz",
            "links": {
             "self": "https://zenodo.org/api/files/d081aeaf-a772-4945-9b62-ff7b90524c68/A3-i106.txt.gz"
            },
            "size": 16626152,
            "type": "gz"
           },
           {
            "bucket": "d081aeaf-a772-4945-9b62-ff7b90524c68",
            "checksum": "md5:04f1574c21ab38818b6b27da48f4f08f",
            "key": "A3-i107.txt.gz",
            "links": {
             "self": "https://zenodo.org/api/files/d081aeaf-a772-4945-9b62-ff7b90524c68/A3-i107.txt.gz"
            },
            "size": 12699282,
            "type": "gz"
           },
           {
            "bucket": "d081aeaf-a772-4945-9b62-ff7b90524c68",
            "checksum": "md5:5c9bc8351ae2dba1a6f5b79e5bd618c3",
            "key": "A3-i110.txt.gz",
            "links": {
             "self": "https://zenodo.org/api/files/d081aeaf-a772-4945-9b62-ff7b90524c68/A3-i110.txt.gz"
            },
            "size": 13601583,
            "type": "gz"
           },
           {
            "bucket": "d081aeaf-a772-4945-9b62-ff7b90524c68",
            "checksum": "md5:a5ce1ff72911790051e0b6a811274825",
            "key": "A3-i145.txt.gz",
            "links": {
             "self": "https://zenodo.org/api/files/d081aeaf-a772-4945-9b62-ff7b90524c68/A3-i145.txt.gz"
            },
            "size": 10587308,
            "type": "gz"
           },
           {
            "bucket": "d081aeaf-a772-4945-9b62-ff7b90524c68",
            "checksum": "md5:b3e3fbe3ec8a7b098bc590f424dc8c3c",
            "key": "A3-i150.txt.gz",
            "links": {
             "self": "https://zenodo.org/api/files/d081aeaf-a772-4945-9b62-ff7b90524c68/A3-i150.txt.gz"
            },
            "size": 7414412,
            "type": "gz"
           },
           {
            "bucket": "d081aeaf-a772-4945-9b62-ff7b90524c68",
            "checksum": "md5:e89f7c0cf4da2ddaf3d3840d49e33ed8",
            "key": "A3-i151.txt.gz",
            "links": {
             "self": "https://zenodo.org/api/files/d081aeaf-a772-4945-9b62-ff7b90524c68/A3-i151.txt.gz"
            },
            "size": 7450294,
            "type": "gz"
           },
           {
            "bucket": "d081aeaf-a772-4945-9b62-ff7b90524c68",
            "checksum": "md5:2633b53c64ad96a90ab6eaaa9434750f",
            "key": "A4-i101.txt.gz",
            "links": {
             "self": "https://zenodo.org/api/files/d081aeaf-a772-4945-9b62-ff7b90524c68/A4-i101.txt.gz"
            },
            "size": 5554904,
            "type": "gz"
           },
           {
            "bucket": "d081aeaf-a772-4945-9b62-ff7b90524c68",
            "checksum": "md5:91d0914176f8599903cff0bd5a333d91",
            "key": "A4-i102.txt.gz",
            "links": {
             "self": "https://zenodo.org/api/files/d081aeaf-a772-4945-9b62-ff7b90524c68/A4-i102.txt.gz"
            },
            "size": 1320643,
            "type": "gz"
           },
           {
            "bucket": "d081aeaf-a772-4945-9b62-ff7b90524c68",
            "checksum": "md5:154aea8163be1ca06c0dc7d1a7ce2aa0",
            "key": "A4-i106.txt.gz",
            "links": {
             "self": "https://zenodo.org/api/files/d081aeaf-a772-4945-9b62-ff7b90524c68/A4-i106.txt.gz"
            },
            "size": 1890639,
            "type": "gz"
           },
           {
            "bucket": "d081aeaf-a772-4945-9b62-ff7b90524c68",
            "checksum": "md5:fc6a7f6295e0bd6d7b49fac8e49282d4",
            "key": "A4-i107.txt.gz",
            "links": {
             "self": "https://zenodo.org/api/files/d081aeaf-a772-4945-9b62-ff7b90524c68/A4-i107.txt.gz"
            },
            "size": 1644798,
            "type": "gz"
           },
           {
            "bucket": "d081aeaf-a772-4945-9b62-ff7b90524c68",
            "checksum": "md5:491136e15bcfdb46d6d07ac07fcf89df",
            "key": "A4-i110.txt.gz",
            "links": {
             "self": "https://zenodo.org/api/files/d081aeaf-a772-4945-9b62-ff7b90524c68/A4-i110.txt.gz"
            },
            "size": 6071847,
            "type": "gz"
           },
           {
            "bucket": "d081aeaf-a772-4945-9b62-ff7b90524c68",
            "checksum": "md5:0c62c76cd7fee4e14646b712cab640ae",
            "key": "A4-i118.txt.gz",
            "links": {
             "self": "https://zenodo.org/api/files/d081aeaf-a772-4945-9b62-ff7b90524c68/A4-i118.txt.gz"
            },
            "size": 4481574,
            "type": "gz"
           },
           {
            "bucket": "d081aeaf-a772-4945-9b62-ff7b90524c68",
            "checksum": "md5:d1b148df85f69f289ff352de7aae1de2",
            "key": "A4-i122.txt.gz",
            "links": {
             "self": "https://zenodo.org/api/files/d081aeaf-a772-4945-9b62-ff7b90524c68/A4-i122.txt.gz"
            },
            "size": 2518370,
            "type": "gz"
           },
           {
            "bucket": "d081aeaf-a772-4945-9b62-ff7b90524c68",
            "checksum": "md5:90b1c15df7b12acebead66d7621d4b46",
            "key": "A4-i124.txt.gz",
            "links": {
             "self": "https://zenodo.org/api/files/d081aeaf-a772-4945-9b62-ff7b90524c68/A4-i124.txt.gz"
            },
            "size": 1757091,
            "type": "gz"
           },
           {
            "bucket": "d081aeaf-a772-4945-9b62-ff7b90524c68",
            "checksum": "md5:b110e63ac03240c95f6bbfe6d91207c5",
            "key": "A4-i125.txt.gz",
            "links": {
             "self": "https://zenodo.org/api/files/d081aeaf-a772-4945-9b62-ff7b90524c68/A4-i125.txt.gz"
            },
            "size": 1203138,
            "type": "gz"
           },
           {
            "bucket": "d081aeaf-a772-4945-9b62-ff7b90524c68",
            "checksum": "md5:e316d8dc14a95f5c234e73d316985928",
            "key": "A4-i127.txt.gz",
            "links": {
             "self": "https://zenodo.org/api/files/d081aeaf-a772-4945-9b62-ff7b90524c68/A4-i127.txt.gz"
            },
            "size": 5925357,
            "type": "gz"
           },
           {
            "bucket": "d081aeaf-a772-4945-9b62-ff7b90524c68",
            "checksum": "md5:3050f787f30b830fdb385e527c151d60",
            "key": "A4-i128.txt.gz",
            "links": {
             "self": "https://zenodo.org/api/files/d081aeaf-a772-4945-9b62-ff7b90524c68/A4-i128.txt.gz"
            },
            "size": 5826120,
            "type": "gz"
           },
           {
            "bucket": "d081aeaf-a772-4945-9b62-ff7b90524c68",
            "checksum": "md5:8e99ad83ca59485c23b0a1fa94653630",
            "key": "A4-i132.txt.gz",
            "links": {
             "self": "https://zenodo.org/api/files/d081aeaf-a772-4945-9b62-ff7b90524c68/A4-i132.txt.gz"
            },
            "size": 4361935,
            "type": "gz"
           },
           {
            "bucket": "d081aeaf-a772-4945-9b62-ff7b90524c68",
            "checksum": "md5:2bb74cc00e41c0246b9d423159e40715",
            "key": "A4-i183.txt.gz",
            "links": {
             "self": "https://zenodo.org/api/files/d081aeaf-a772-4945-9b62-ff7b90524c68/A4-i183.txt.gz"
            },
            "size": 2108436,
            "type": "gz"
           },
           {
            "bucket": "d081aeaf-a772-4945-9b62-ff7b90524c68",
            "checksum": "md5:0999d4e6f52346d2a64e8dc30d768ca8",
            "key": "A4-i184.txt.gz",
            "links": {
             "self": "https://zenodo.org/api/files/d081aeaf-a772-4945-9b62-ff7b90524c68/A4-i184.txt.gz"
            },
            "size": 4227820,
            "type": "gz"
           },
           {
            "bucket": "d081aeaf-a772-4945-9b62-ff7b90524c68",
            "checksum": "md5:2f8d6612d0d3544d44ab4adbaf5490c7",
            "key": "A4-i185.txt.gz",
            "links": {
             "self": "https://zenodo.org/api/files/d081aeaf-a772-4945-9b62-ff7b90524c68/A4-i185.txt.gz"
            },
            "size": 4423258,
            "type": "gz"
           },
           {
            "bucket": "d081aeaf-a772-4945-9b62-ff7b90524c68",
            "checksum": "md5:8bd5995bc45364c45ea602dd176cc679",
            "key": "A4-i186.txt.gz",
            "links": {
             "self": "https://zenodo.org/api/files/d081aeaf-a772-4945-9b62-ff7b90524c68/A4-i186.txt.gz"
            },
            "size": 2955776,
            "type": "gz"
           },
           {
            "bucket": "d081aeaf-a772-4945-9b62-ff7b90524c68",
            "checksum": "md5:70260ff7d09a74f0c5b2875f38bcdb0e",
            "key": "A4-i188.txt.gz",
            "links": {
             "self": "https://zenodo.org/api/files/d081aeaf-a772-4945-9b62-ff7b90524c68/A4-i188.txt.gz"
            },
            "size": 2643517,
            "type": "gz"
           },
           {
            "bucket": "d081aeaf-a772-4945-9b62-ff7b90524c68",
            "checksum": "md5:38504eb76baef642b02e37928f836eaa",
            "key": "A4-i189.txt.gz",
            "links": {
             "self": "https://zenodo.org/api/files/d081aeaf-a772-4945-9b62-ff7b90524c68/A4-i189.txt.gz"
            },
            "size": 9650440,
            "type": "gz"
           },
           {
            "bucket": "d081aeaf-a772-4945-9b62-ff7b90524c68",
            "checksum": "md5:d877aa2180294264b473040235314a70",
            "key": "A4-i190.txt.gz",
            "links": {
             "self": "https://zenodo.org/api/files/d081aeaf-a772-4945-9b62-ff7b90524c68/A4-i190.txt.gz"
            },
            "size": 8033685,
            "type": "gz"
           },
           {
            "bucket": "d081aeaf-a772-4945-9b62-ff7b90524c68",
            "checksum": "md5:d5d0f781af8e8334bb72a98d207881e3",
            "key": "A4-i191.txt.gz",
            "links": {
             "self": "https://zenodo.org/api/files/d081aeaf-a772-4945-9b62-ff7b90524c68/A4-i191.txt.gz"
            },
            "size": 6713265,
            "type": "gz"
           },
           {
            "bucket": "d081aeaf-a772-4945-9b62-ff7b90524c68",
            "checksum": "md5:e917d5c7a5b514833f90c15e867dcd26",
            "key": "A4-i192.txt.gz",
            "links": {
             "self": "https://zenodo.org/api/files/d081aeaf-a772-4945-9b62-ff7b90524c68/A4-i192.txt.gz"
            },
            "size": 12033042,
            "type": "gz"
           },
           {
            "bucket": "d081aeaf-a772-4945-9b62-ff7b90524c68",
            "checksum": "md5:83bffde819c22a71eaa6c66c912ee4f5",
            "key": "A4-i194.txt.gz",
            "links": {
             "self": "https://zenodo.org/api/files/d081aeaf-a772-4945-9b62-ff7b90524c68/A4-i194.txt.gz"
            },
            "size": 2242656,
            "type": "gz"
           },
           {
            "bucket": "d081aeaf-a772-4945-9b62-ff7b90524c68",
            "checksum": "md5:360f62a795165dce2546cd7e96a25f18",
            "key": "A4-i195.txt.gz",
            "links": {
             "self": "https://zenodo.org/api/files/d081aeaf-a772-4945-9b62-ff7b90524c68/A4-i195.txt.gz"
            },
            "size": 5664400,
            "type": "gz"
           },
           {
            "bucket": "d081aeaf-a772-4945-9b62-ff7b90524c68",
            "checksum": "md5:ec625d6b12803ebae0f20eff05392c02",
            "key": "A5-S10.txt.gz",
            "links": {
             "self": "https://zenodo.org/api/files/d081aeaf-a772-4945-9b62-ff7b90524c68/A5-S10.txt.gz"
            },
            "size": 706861,
            "type": "gz"
           },
           {
            "bucket": "d081aeaf-a772-4945-9b62-ff7b90524c68",
            "checksum": "md5:81e38f05ebc6ea05745a58ac818baac3",
            "key": "A5-S11.txt.gz",
            "links": {
             "self": "https://zenodo.org/api/files/d081aeaf-a772-4945-9b62-ff7b90524c68/A5-S11.txt.gz"
            },
            "size": 8875511,
            "type": "gz"
           },
           {
            "bucket": "d081aeaf-a772-4945-9b62-ff7b90524c68",
            "checksum": "md5:dc43cd96550e65f61d6c966f69de763e",
            "key": "A5-S12.txt.gz",
            "links": {
             "self": "https://zenodo.org/api/files/d081aeaf-a772-4945-9b62-ff7b90524c68/A5-S12.txt.gz"
            },
            "size": 10104583,
            "type": "gz"
           },
           {
            "bucket": "d081aeaf-a772-4945-9b62-ff7b90524c68",
            "checksum": "md5:d7510ee1c4641e0bfd355286ebdd357d",
            "key": "A5-S13.txt.gz",
            "links": {
             "self": "https://zenodo.org/api/files/d081aeaf-a772-4945-9b62-ff7b90524c68/A5-S13.txt.gz"
            },
            "size": 11557490,
            "type": "gz"
           },
           {
            "bucket": "d081aeaf-a772-4945-9b62-ff7b90524c68",
            "checksum": "md5:aba3a07bb9e2f9b17ccae6c8a66257a8",
            "key": "A5-S14.txt.gz",
            "links": {
             "self": "https://zenodo.org/api/files/d081aeaf-a772-4945-9b62-ff7b90524c68/A5-S14.txt.gz"
            },
            "size": 5239415,
            "type": "gz"
           },
           {
            "bucket": "d081aeaf-a772-4945-9b62-ff7b90524c68",
            "checksum": "md5:a792cc4721014e65300ffafd3e6126a8",
            "key": "A5-S15.txt.gz",
            "links": {
             "self": "https://zenodo.org/api/files/d081aeaf-a772-4945-9b62-ff7b90524c68/A5-S15.txt.gz"
            },
            "size": 2213143,
            "type": "gz"
           },
           {
            "bucket": "d081aeaf-a772-4945-9b62-ff7b90524c68",
            "checksum": "md5:d5043c497208213ec86c9a60c375007c",
            "key": "A5-S16.txt.gz",
            "links": {
             "self": "https://zenodo.org/api/files/d081aeaf-a772-4945-9b62-ff7b90524c68/A5-S16.txt.gz"
            },
            "size": 9673073,
            "type": "gz"
           },
           {
            "bucket": "d081aeaf-a772-4945-9b62-ff7b90524c68",
            "checksum": "md5:aedef39e17a473caf2512cc1a8e08d1a",
            "key": "A5-S17.txt.gz",
            "links": {
             "self": "https://zenodo.org/api/files/d081aeaf-a772-4945-9b62-ff7b90524c68/A5-S17.txt.gz"
            },
            "size": 13715577,
            "type": "gz"
           },
           {
            "bucket": "d081aeaf-a772-4945-9b62-ff7b90524c68",
            "checksum": "md5:1555f34d2a096c9afc166c23290c9981",
            "key": "A5-S18.txt.gz",
            "links": {
             "self": "https://zenodo.org/api/files/d081aeaf-a772-4945-9b62-ff7b90524c68/A5-S18.txt.gz"
            },
            "size": 18137076,
            "type": "gz"
           },
           {
            "bucket": "d081aeaf-a772-4945-9b62-ff7b90524c68",
            "checksum": "md5:98496cc97d3f9e1de2380bb23b8dba18",
            "key": "A5-S19.txt.gz",
            "links": {
             "self": "https://zenodo.org/api/files/d081aeaf-a772-4945-9b62-ff7b90524c68/A5-S19.txt.gz"
            },
            "size": 6991732,
            "type": "gz"
           },
           {
            "bucket": "d081aeaf-a772-4945-9b62-ff7b90524c68",
            "checksum": "md5:a4dbb98f9fafd9a14e6bb378f21ea612",
            "key": "A5-S1.txt.gz",
            "links": {
             "self": "https://zenodo.org/api/files/d081aeaf-a772-4945-9b62-ff7b90524c68/A5-S1.txt.gz"
            },
            "size": 1735450,
            "type": "gz"
           },
           {
            "bucket": "d081aeaf-a772-4945-9b62-ff7b90524c68",
            "checksum": "md5:4913855ecd3f2c2797d5bb4a468af462",
            "key": "A5-S20.txt.gz",
            "links": {
             "self": "https://zenodo.org/api/files/d081aeaf-a772-4945-9b62-ff7b90524c68/A5-S20.txt.gz"
            },
            "size": 2063174,
            "type": "gz"
           },
           {
            "bucket": "d081aeaf-a772-4945-9b62-ff7b90524c68",
            "checksum": "md5:675a0e7bd8de1f6f2aee880f78b1e332",
            "key": "A5-S21.txt.gz",
            "links": {
             "self": "https://zenodo.org/api/files/d081aeaf-a772-4945-9b62-ff7b90524c68/A5-S21.txt.gz"
            },
            "size": 5694028,
            "type": "gz"
           },
           {
            "bucket": "d081aeaf-a772-4945-9b62-ff7b90524c68",
            "checksum": "md5:1e9ab67ae27dc597721b372729fce7ff",
            "key": "A5-S22.txt.gz",
            "links": {
             "self": "https://zenodo.org/api/files/d081aeaf-a772-4945-9b62-ff7b90524c68/A5-S22.txt.gz"
            },
            "size": 815119,
            "type": "gz"
           },
           {
            "bucket": "d081aeaf-a772-4945-9b62-ff7b90524c68",
            "checksum": "md5:2828404a8140a78ab7d997cf48d0e24c",
            "key": "A5-S23.txt.gz",
            "links": {
             "self": "https://zenodo.org/api/files/d081aeaf-a772-4945-9b62-ff7b90524c68/A5-S23.txt.gz"
            },
            "size": 2508724,
            "type": "gz"
           },
           {
            "bucket": "d081aeaf-a772-4945-9b62-ff7b90524c68",
            "checksum": "md5:c12f5cab17d77a38fd392806fe05716b",
            "key": "A5-S24.txt.gz",
            "links": {
             "self": "https://zenodo.org/api/files/d081aeaf-a772-4945-9b62-ff7b90524c68/A5-S24.txt.gz"
            },
            "size": 12432358,
            "type": "gz"
           },
           {
            "bucket": "d081aeaf-a772-4945-9b62-ff7b90524c68",
            "checksum": "md5:8d23509e695cde7786c192598203530c",
            "key": "A5-S2.txt.gz",
            "links": {
             "self": "https://zenodo.org/api/files/d081aeaf-a772-4945-9b62-ff7b90524c68/A5-S2.txt.gz"
            },
            "size": 2419530,
            "type": "gz"
           },
           {
            "bucket": "d081aeaf-a772-4945-9b62-ff7b90524c68",
            "checksum": "md5:b0318f4281aae7926a11b77a48360532",
            "key": "A5-S3.txt.gz",
            "links": {
             "self": "https://zenodo.org/api/files/d081aeaf-a772-4945-9b62-ff7b90524c68/A5-S3.txt.gz"
            },
            "size": 1569616,
            "type": "gz"
           },
           {
            "bucket": "d081aeaf-a772-4945-9b62-ff7b90524c68",
            "checksum": "md5:cf8478550f329b4f5953934a05b1034a",
            "key": "A5-S4.txt.gz",
            "links": {
             "self": "https://zenodo.org/api/files/d081aeaf-a772-4945-9b62-ff7b90524c68/A5-S4.txt.gz"
            },
            "size": 7580677,
            "type": "gz"
           },
           {
            "bucket": "d081aeaf-a772-4945-9b62-ff7b90524c68",
            "checksum": "md5:36fa47dccd0e131cf394dfcb2752bef1",
            "key": "A5-S5.txt.gz",
            "links": {
             "self": "https://zenodo.org/api/files/d081aeaf-a772-4945-9b62-ff7b90524c68/A5-S5.txt.gz"
            },
            "size": 3031983,
            "type": "gz"
           },
           {
            "bucket": "d081aeaf-a772-4945-9b62-ff7b90524c68",
            "checksum": "md5:2a7742ba6f155b00fc65dcf0105c29a9",
            "key": "A5-S6.txt.gz",
            "links": {
             "self": "https://zenodo.org/api/files/d081aeaf-a772-4945-9b62-ff7b90524c68/A5-S6.txt.gz"
            },
            "size": 2639263,
            "type": "gz"
           },
           {
            "bucket": "d081aeaf-a772-4945-9b62-ff7b90524c68",
            "checksum": "md5:6af3de4a73ee94e19e5414a6b53c723c",
            "key": "A5-S7.txt.gz",
            "links": {
             "self": "https://zenodo.org/api/files/d081aeaf-a772-4945-9b62-ff7b90524c68/A5-S7.txt.gz"
            },
            "size": 3196686,
            "type": "gz"
           },
           {
            "bucket": "d081aeaf-a772-4945-9b62-ff7b90524c68",
            "checksum": "md5:cbe7266e307664d9c2dd392d579b2c1e",
            "key": "A5-S8.txt.gz",
            "links": {
             "self": "https://zenodo.org/api/files/d081aeaf-a772-4945-9b62-ff7b90524c68/A5-S8.txt.gz"
            },
            "size": 3886247,
            "type": "gz"
           },
           {
            "bucket": "d081aeaf-a772-4945-9b62-ff7b90524c68",
            "checksum": "md5:8627751a25ca2ff2a782c9d8ec70ca4b",
            "key": "A5-S9.txt.gz",
            "links": {
             "self": "https://zenodo.org/api/files/d081aeaf-a772-4945-9b62-ff7b90524c68/A5-S9.txt.gz"
            },
            "size": 435643,
            "type": "gz"
           },
           {
            "bucket": "d081aeaf-a772-4945-9b62-ff7b90524c68",
            "checksum": "md5:e430a3c6a2dbb8bb2bce2d9cb3c5731c",
            "key": "A6-I150.txt.gz",
            "links": {
             "self": "https://zenodo.org/api/files/d081aeaf-a772-4945-9b62-ff7b90524c68/A6-I150.txt.gz"
            },
            "size": 8592229,
            "type": "gz"
           },
           {
            "bucket": "d081aeaf-a772-4945-9b62-ff7b90524c68",
            "checksum": "md5:4bc5ee593041491923276219e047ae12",
            "key": "A6-I160.txt.gz",
            "links": {
             "self": "https://zenodo.org/api/files/d081aeaf-a772-4945-9b62-ff7b90524c68/A6-I160.txt.gz"
            },
            "size": 8184662,
            "type": "gz"
           },
           {
            "bucket": "d081aeaf-a772-4945-9b62-ff7b90524c68",
            "checksum": "md5:6fbabcab7492d56330b687824685c9de",
            "key": "A6-I200ob.txt.gz",
            "links": {
             "self": "https://zenodo.org/api/files/d081aeaf-a772-4945-9b62-ff7b90524c68/A6-I200ob.txt.gz"
            },
            "size": 30000992,
            "type": "gz"
           },
           {
            "bucket": "d081aeaf-a772-4945-9b62-ff7b90524c68",
            "checksum": "md5:0f35a1f1e9231095cd836e9e702334f9",
            "key": "A6-I201ob.txt.gz",
            "links": {
             "self": "https://zenodo.org/api/files/d081aeaf-a772-4945-9b62-ff7b90524c68/A6-I201ob.txt.gz"
            },
            "size": 12534233,
            "type": "gz"
           },
           {
            "bucket": "d081aeaf-a772-4945-9b62-ff7b90524c68",
            "checksum": "md5:19f1968a95f2c9271d68e70599bb2b50",
            "key": "A6-I202ob.txt.gz",
            "links": {
             "self": "https://zenodo.org/api/files/d081aeaf-a772-4945-9b62-ff7b90524c68/A6-I202ob.txt.gz"
            },
            "size": 16792338,
            "type": "gz"
           },
           {
            "bucket": "d081aeaf-a772-4945-9b62-ff7b90524c68",
            "checksum": "md5:3b1805f41123f3234c1d8591f3279af5",
            "key": "A6-I204ob.txt.gz",
            "links": {
             "self": "https://zenodo.org/api/files/d081aeaf-a772-4945-9b62-ff7b90524c68/A6-I204ob.txt.gz"
            },
            "size": 3494577,
            "type": "gz"
           },
           {
            "bucket": "d081aeaf-a772-4945-9b62-ff7b90524c68",
            "checksum": "md5:183a8734331fa8e9e95a384cf47204d5",
            "key": "A6-I205ob.txt.gz",
            "links": {
             "self": "https://zenodo.org/api/files/d081aeaf-a772-4945-9b62-ff7b90524c68/A6-I205ob.txt.gz"
            },
            "size": 2033118,
            "type": "gz"
           },
           {
            "bucket": "d081aeaf-a772-4945-9b62-ff7b90524c68",
            "checksum": "md5:d5bb7d33c5292a23e97e9b2b760c3665",
            "key": "A6-I206ob.txt.gz",
            "links": {
             "self": "https://zenodo.org/api/files/d081aeaf-a772-4945-9b62-ff7b90524c68/A6-I206ob.txt.gz"
            },
            "size": 2195486,
            "type": "gz"
           },
           {
            "bucket": "d081aeaf-a772-4945-9b62-ff7b90524c68",
            "checksum": "md5:4e86160cbc143918643de7aecc9a9b5e",
            "key": "A6-I207ob.txt.gz",
            "links": {
             "self": "https://zenodo.org/api/files/d081aeaf-a772-4945-9b62-ff7b90524c68/A6-I207ob.txt.gz"
            },
            "size": 4849726,
            "type": "gz"
           },
           {
            "bucket": "d081aeaf-a772-4945-9b62-ff7b90524c68",
            "checksum": "md5:e839081b9d8ac7a184423077a0f88ca7",
            "key": "A6-I208ob.txt.gz",
            "links": {
             "self": "https://zenodo.org/api/files/d081aeaf-a772-4945-9b62-ff7b90524c68/A6-I208ob.txt.gz"
            },
            "size": 2539631,
            "type": "gz"
           },
           {
            "bucket": "d081aeaf-a772-4945-9b62-ff7b90524c68",
            "checksum": "md5:a23e2f9a8c4a832fcba4fde98368e6dc",
            "key": "A6-I210ob.txt.gz",
            "links": {
             "self": "https://zenodo.org/api/files/d081aeaf-a772-4945-9b62-ff7b90524c68/A6-I210ob.txt.gz"
            },
            "size": 5247660,
            "type": "gz"
           },
           {
            "bucket": "d081aeaf-a772-4945-9b62-ff7b90524c68",
            "checksum": "md5:7a767c004c07ceebe6c083bc39cddc12",
            "key": "A6-I211ob.txt.gz",
            "links": {
             "self": "https://zenodo.org/api/files/d081aeaf-a772-4945-9b62-ff7b90524c68/A6-I211ob.txt.gz"
            },
            "size": 3337652,
            "type": "gz"
           },
           {
            "bucket": "d081aeaf-a772-4945-9b62-ff7b90524c68",
            "checksum": "md5:3ef1f062b109c049d6575482f7695365",
            "key": "A6-I214ob.txt.gz",
            "links": {
             "self": "https://zenodo.org/api/files/d081aeaf-a772-4945-9b62-ff7b90524c68/A6-I214ob.txt.gz"
            },
            "size": 3451347,
            "type": "gz"
           },
           {
            "bucket": "d081aeaf-a772-4945-9b62-ff7b90524c68",
            "checksum": "md5:876fdd4a9a92c2d3eecd336b306fb061",
            "key": "A6-I215ob.txt.gz",
            "links": {
             "self": "https://zenodo.org/api/files/d081aeaf-a772-4945-9b62-ff7b90524c68/A6-I215ob.txt.gz"
            },
            "size": 11116928,
            "type": "gz"
           },
           {
            "bucket": "d081aeaf-a772-4945-9b62-ff7b90524c68",
            "checksum": "md5:67f49a490fb899e6d6c75e0c06791774",
            "key": "metadata.txt",
            "links": {
             "self": "https://zenodo.org/api/files/d081aeaf-a772-4945-9b62-ff7b90524c68/metadata.txt"
            },
            "size": 3484,
            "type": "txt"
           }
          ],
          "id": 826447,
          "links": {
           "badge": "https://zenodo.org/badge/doi/10.5281/zenodo.826447.svg",
           "bucket": "https://zenodo.org/api/files/d081aeaf-a772-4945-9b62-ff7b90524c68",
           "conceptbadge": "https://zenodo.org/badge/doi/10.5281/zenodo.826446.svg",
           "conceptdoi": "https://doi.org/10.5281/zenodo.826446",
           "doi": "https://doi.org/10.5281/zenodo.826447",
           "html": "https://zenodo.org/record/826447",
           "latest": "https://zenodo.org/api/records/826447",
           "latest_html": "https://zenodo.org/record/826447",
           "self": "https://zenodo.org/api/records/826447"
          },
          "metadata": {
           "access_right": "open",
           "access_right_category": "success",
           "creators": [
            {
             "affiliation": "Institute of Bioorganic Chemistry, Russian Academy of Sciences",
             "name": "Genomics of Adaptive Immunity Laboratory"
            }
           ],
           "description": "<p>The dataset contains processed T-cell receptor repertoire sequencing data from 79 individuals of different sex and age, originally published in [1] and [2]. Note that [1] describes only a subset of samples, while [2] describes the full cohort.</p>\n\n<p>The libraries were prepared using a 5'RACE protocol and sequenced on HiSEQ. The libraries incorporate unique molecular identifier (UMI) tags that were mainly used for counting cDNA molecules. Preprocessing was performed using the MIGEC software [3] as follows: all UMI tags represented by a single sequencing read were discarded, the remaining UMI tags were used to assemble cDNA consensus sequences. Note that this procedure eliminates most of cross-sample contamination (batch effect) as described in [2]. VDJ partitioning and CDR3 extraction was performed using MiTCR software [4], sequencing error correction was performed using ETE option in MiTCR. All datasets are converted into VDJtools [5] format, see http://vdjtools-doc.readthedocs.io/en/latest/input.html#vdjtools-format.</p>\n\n<p><strong>Sample description:</strong></p>\n\n<ul>\n\t<li>The A* in sample identifier is the batch ID.</li>\n\t<li>Age and sex data is provided in the metadata.txt file.</li>\n\t<li>Samples having age \"0\" are umbilical cord blood samples.</li>\n</ul>\n\n<p><strong>Contributors:</strong></p>\n\n<ul>\n\t<li>The T-cell repertoire aging study was a project ran in the Genomics of Adaptive Immunity Lab (Prof. Dmitry Chudakov)</li>\n\t<li>The samples were acquired, prepared and sequenced by Dr. Olga Britanova</li>\n\t<li>The data was analyzed and uploaded by Dr. Mikhail Shugay</li>\n</ul>\n\n<p><strong>Citations:</strong></p>\n\n<ul>\n\t<li>[1] OV Britanova, EV Putintseva, M Shugay, EM Merzlyak, MA Turchaninova, et al. Age-related decrease in TCR repertoire diversity measured with deep and normalized sequence profiling. The Journal of Immunology 2014; 192 (6), 2689-2698</li>\n\t<li>[2] OV Britanova, M Shugay, EM Merzlyak, DB Staroverov, EV Putintseva, et al. Dynamics of individual T cell repertoires: from cord blood to centenarians. The Journal of Immunology 2016; 196 (12), 5005-5013</li>\n\t<li>[3] M Shugay, OV Britanova, EM Merzlyak, MA Turchaninova, IZ Mamedov, et al. Towards error-free profiling of immune repertoires. Nature methods 2014; 11 (6), 653-655</li>\n\t<li>[4] DA Bolotin, M Shugay, IZ Mamedov, EV Putintseva, MA Turchaninova, et al. MiTCR: software for T-cell receptor sequencing data analysis. Nature methods 2013; 10 (9), 813-814</li>\n\t<li>[5] M Shugay, DV Bagaev, MA Turchaninova, DA Bolotin, OV Britanova, et al. VDJtools: unifying post-analysis of T cell receptor repertoires. PLoS computational biology 2015; 11 (11), e1004503</li>\n</ul>",
           "doi": "10.5281/zenodo.826447",
           "keywords": [
            "t-cell",
            "immune repertoire",
            "sequencing",
            "immunology"
           ],
           "license": {
            "id": "CC-BY-4.0"
           },
           "publication_date": "2017-07-13",
           "related_identifiers": [
            {
             "identifier": "10.5281/zenodo.826446",
             "relation": "isVersionOf",
             "scheme": "doi"
            }
           ],
           "relations": {
            "version": [
             {
              "count": 1,
              "index": 0,
              "is_last": true,
              "last_child": {
               "pid_type": "recid",
               "pid_value": "826447"
              },
              "parent": {
               "pid_type": "recid",
               "pid_value": "826446"
              }
             }
            ]
           },
           "resource_type": {
            "title": "Dataset",
            "type": "dataset"
           },
           "title": "Dynamics of individual T cell repertoires: from cord blood to centenarians"
          },
          "owners": [
           31250
          ],
          "revision": 8,
          "stats": {
           "downloads": 1876,
           "unique_downloads": 182,
           "unique_views": 375,
           "version_downloads": 1876,
           "version_unique_downloads": 182,
           "version_unique_views": 375,
           "version_views": 416,
           "version_volume": 12368021926,
           "views": 416,
           "volume": 12368021926
          },
          "updated": "2020-01-24T19:25:58.310208+00:00"
         },
         {
          "conceptrecid": "747380",
          "created": "2017-01-24T12:21:10.138345+00:00",
          "doi": "10.5281/zenodo.259343",
          "files": [
           {
            "bucket": "0d5e250f-f5f2-4e67-9f36-42bf084e76a8",
            "checksum": "md5:b38181d27b5fd8696ffe476c64514416",
            "key": "md0.edr",
            "links": {
             "self": "https://zenodo.org/api/files/0d5e250f-f5f2-4e67-9f36-42bf084e76a8/md0.edr"
            },
            "size": 1321444,
            "type": "edr"
           },
           {
            "bucket": "0d5e250f-f5f2-4e67-9f36-42bf084e76a8",
            "checksum": "md5:11a8eaa29cca013e781df50820c5d306",
            "key": "md0.gro",
            "links": {
             "self": "https://zenodo.org/api/files/0d5e250f-f5f2-4e67-9f36-42bf084e76a8/md0.gro"
            },
            "size": 3715157,
            "type": "gro"
           },
           {
            "bucket": "0d5e250f-f5f2-4e67-9f36-42bf084e76a8",
            "checksum": "md5:ba87058ea8db5541717d83264a53f09f",
            "key": "md0.ndx",
            "links": {
             "self": "https://zenodo.org/api/files/0d5e250f-f5f2-4e67-9f36-42bf084e76a8/md0.ndx"
            },
            "size": 1266654,
            "type": "ndx"
           },
           {
            "bucket": "0d5e250f-f5f2-4e67-9f36-42bf084e76a8",
            "checksum": "md5:ebc080a282bf4d4f7c364f2f71960d3f",
            "key": "md0.top",
            "links": {
             "self": "https://zenodo.org/api/files/0d5e250f-f5f2-4e67-9f36-42bf084e76a8/md0.top"
            },
            "size": 282,
            "type": "top"
           },
           {
            "bucket": "0d5e250f-f5f2-4e67-9f36-42bf084e76a8",
            "checksum": "md5:7dbcdaf7170a642819514891bb08b9f1",
            "key": "md0.tpr",
            "links": {
             "self": "https://zenodo.org/api/files/0d5e250f-f5f2-4e67-9f36-42bf084e76a8/md0.tpr"
            },
            "size": 1554624,
            "type": "tpr"
           },
           {
            "bucket": "0d5e250f-f5f2-4e67-9f36-42bf084e76a8",
            "checksum": "md5:5b068b00812b6f823013bcc26f5fc950",
            "key": "md0.xtc",
            "links": {
             "self": "https://zenodo.org/api/files/0d5e250f-f5f2-4e67-9f36-42bf084e76a8/md0.xtc"
            },
            "size": 395661140,
            "type": "xtc"
           },
           {
            "bucket": "0d5e250f-f5f2-4e67-9f36-42bf084e76a8",
            "checksum": "md5:bcb78662de7581ad51a6e31a18c6845d",
            "key": "md10.edr",
            "links": {
             "self": "https://zenodo.org/api/files/0d5e250f-f5f2-4e67-9f36-42bf084e76a8/md10.edr"
            },
            "size": 1321444,
            "type": "edr"
           },
           {
            "bucket": "0d5e250f-f5f2-4e67-9f36-42bf084e76a8",
            "checksum": "md5:d8188524fcaaa8905263db219b77ccf5",
            "key": "md10.gro",
            "links": {
             "self": "https://zenodo.org/api/files/0d5e250f-f5f2-4e67-9f36-42bf084e76a8/md10.gro"
            },
            "size": 3827490,
            "type": "gro"
           },
           {
            "bucket": "0d5e250f-f5f2-4e67-9f36-42bf084e76a8",
            "checksum": "md5:48fcede5af916f75c458aa1c7775be04",
            "key": "md10.ndx",
            "links": {
             "self": "https://zenodo.org/api/files/0d5e250f-f5f2-4e67-9f36-42bf084e76a8/md10.ndx"
            },
            "size": 1306171,
            "type": "ndx"
           },
           {
            "bucket": "0d5e250f-f5f2-4e67-9f36-42bf084e76a8",
            "checksum": "md5:81eabdfccbfdf69d128ab6a12b120209",
            "key": "md10.top",
            "links": {
             "self": "https://zenodo.org/api/files/0d5e250f-f5f2-4e67-9f36-42bf084e76a8/md10.top"
            },
            "size": 300,
            "type": "top"
           },
           {
            "bucket": "0d5e250f-f5f2-4e67-9f36-42bf084e76a8",
            "checksum": "md5:337f1435c39114e708c752f951ec64b2",
            "key": "md10.tpr",
            "links": {
             "self": "https://zenodo.org/api/files/0d5e250f-f5f2-4e67-9f36-42bf084e76a8/md10.tpr"
            },
            "size": 1623828,
            "type": "tpr"
           },
           {
            "bucket": "0d5e250f-f5f2-4e67-9f36-42bf084e76a8",
            "checksum": "md5:8f5fc6500d3fe38aadf888c2d4f5e4ba",
            "key": "md10.xtc",
            "links": {
             "self": "https://zenodo.org/api/files/0d5e250f-f5f2-4e67-9f36-42bf084e76a8/md10.xtc"
            },
            "size": 411098200,
            "type": "xtc"
           },
           {
            "bucket": "0d5e250f-f5f2-4e67-9f36-42bf084e76a8",
            "checksum": "md5:767de331f3a951aad6c1200d00713a96",
            "key": "md20.edr",
            "links": {
             "self": "https://zenodo.org/api/files/0d5e250f-f5f2-4e67-9f36-42bf084e76a8/md20.edr"
            },
            "size": 1321444,
            "type": "edr"
           },
           {
            "bucket": "0d5e250f-f5f2-4e67-9f36-42bf084e76a8",
            "checksum": "md5:04d3a72b00f06eca746ea4cf5cf3559b",
            "key": "md20.gro",
            "links": {
             "self": "https://zenodo.org/api/files/0d5e250f-f5f2-4e67-9f36-42bf084e76a8/md20.gro"
            },
            "size": 3970458,
            "type": "gro"
           },
           {
            "bucket": "0d5e250f-f5f2-4e67-9f36-42bf084e76a8",
            "checksum": "md5:0b3b2d3ea1d15b80913af65e14574ad7",
            "key": "md20.ndx",
            "links": {
             "self": "https://zenodo.org/api/files/0d5e250f-f5f2-4e67-9f36-42bf084e76a8/md20.ndx"
            },
            "size": 1356451,
            "type": "ndx"
           },
           {
            "bucket": "0d5e250f-f5f2-4e67-9f36-42bf084e76a8",
            "checksum": "md5:76bd42dbc46747f80d9f2f81ffb275d9",
            "key": "md20.top",
            "links": {
             "self": "https://zenodo.org/api/files/0d5e250f-f5f2-4e67-9f36-42bf084e76a8/md20.top"
            },
            "size": 300,
            "type": "top"
           },
           {
            "bucket": "0d5e250f-f5f2-4e67-9f36-42bf084e76a8",
            "checksum": "md5:264bfe9bc30515df9c1fdfed1dd4f5fd",
            "key": "md20.tpr",
            "links": {
             "self": "https://zenodo.org/api/files/0d5e250f-f5f2-4e67-9f36-42bf084e76a8/md20.tpr"
            },
            "size": 1681844,
            "type": "tpr"
           },
           {
            "bucket": "0d5e250f-f5f2-4e67-9f36-42bf084e76a8",
            "checksum": "md5:d2f8db5cda4708694f27dfd1d0295823",
            "key": "md20.xtc",
            "links": {
             "self": "https://zenodo.org/api/files/0d5e250f-f5f2-4e67-9f36-42bf084e76a8/md20.xtc"
            },
            "size": 426772828,
            "type": "xtc"
           },
           {
            "bucket": "0d5e250f-f5f2-4e67-9f36-42bf084e76a8",
            "checksum": "md5:ae959aee97f8e54904e7fe76dd4a9d66",
            "key": "md30.edr",
            "links": {
             "self": "https://zenodo.org/api/files/0d5e250f-f5f2-4e67-9f36-42bf084e76a8/md30.edr"
            },
            "size": 1321444,
            "type": "edr"
           },
           {
            "bucket": "0d5e250f-f5f2-4e67-9f36-42bf084e76a8",
            "checksum": "md5:fc71751f71308d7eecb22b8dc3d69f10",
            "key": "md30.gro",
            "links": {
             "self": "https://zenodo.org/api/files/0d5e250f-f5f2-4e67-9f36-42bf084e76a8/md30.gro"
            },
            "size": 4154274,
            "type": "gro"
           },
           {
            "bucket": "0d5e250f-f5f2-4e67-9f36-42bf084e76a8",
            "checksum": "md5:b7d606e0408e375ce83629f409002599",
            "key": "md30.ndx",
            "links": {
             "self": "https://zenodo.org/api/files/0d5e250f-f5f2-4e67-9f36-42bf084e76a8/md30.ndx"
            },
            "size": 1421096,
            "type": "ndx"
           },
           {
            "bucket": "0d5e250f-f5f2-4e67-9f36-42bf084e76a8",
            "checksum": "md5:c363f24644e0bd235b14cf1f430f3d58",
            "key": "md30.top",
            "links": {
             "self": "https://zenodo.org/api/files/0d5e250f-f5f2-4e67-9f36-42bf084e76a8/md30.top"
            },
            "size": 300,
            "type": "top"
           },
           {
            "bucket": "0d5e250f-f5f2-4e67-9f36-42bf084e76a8",
            "checksum": "md5:ff029fbe34be299aeda485deccbd8232",
            "key": "md30.tpr",
            "links": {
             "self": "https://zenodo.org/api/files/0d5e250f-f5f2-4e67-9f36-42bf084e76a8/md30.tpr"
            },
            "size": 1756436,
            "type": "tpr"
           },
           {
            "bucket": "0d5e250f-f5f2-4e67-9f36-42bf084e76a8",
            "checksum": "md5:d745b0d711be3282f524e2c3e88a4b27",
            "key": "md30.xtc",
            "links": {
             "self": "https://zenodo.org/api/files/0d5e250f-f5f2-4e67-9f36-42bf084e76a8/md30.xtc"
            },
            "size": 446833904,
            "type": "xtc"
           },
           {
            "bucket": "0d5e250f-f5f2-4e67-9f36-42bf084e76a8",
            "checksum": "md5:f8b29fcd78b1dc65409bb2cc2ba040cc",
            "key": "md.mdp",
            "links": {
             "self": "https://zenodo.org/api/files/0d5e250f-f5f2-4e67-9f36-42bf084e76a8/md.mdp"
            },
            "size": 1234,
            "type": "mdp"
           }
          ],
          "id": 259343,
          "links": {
           "badge": "https://zenodo.org/badge/doi/10.5281/zenodo.259343.svg",
           "bucket": "https://zenodo.org/api/files/0d5e250f-f5f2-4e67-9f36-42bf084e76a8",
           "doi": "https://doi.org/10.5281/zenodo.259343",
           "html": "https://zenodo.org/record/259343",
           "latest": "https://zenodo.org/api/records/259343",
           "latest_html": "https://zenodo.org/record/259343",
           "self": "https://zenodo.org/api/records/259343"
          },
          "metadata": {
           "access_right": "open",
           "access_right_category": "success",
           "communities": [
            {
             "id": "biophys-uh"
            }
           ],
           "creators": [
            {
             "affiliation": "TUT",
             "name": "Javanainen, Matti"
            }
           ],
           "description": "<p>Simulations of a POPC bilayer with varying amounts (0, 10, 20, and 30 mol-%) of cholesterol and 130 mM of NaCl performed&nbsp;at 310 K. The POPC bilayer consists of 200 lipids (100 per leaflet) and on top of that there is 0 (0%), 22 (10%), 50 (20%), or 86 (30%) of cholesterol. The Slipids model [1&ndash;3] is employed for lipids, tip3p model for water, and the and the recent ion parameters by Kohagen et al. [4] for NaCl. The Slipids force field parameters are available at http://www.fos.su.se/~sasha/SLipids/ and the ion parameters are available at https://bitbucket.org/hseara/ions/<br>\n&ndash;&ndash;&ndash;&ndash;&ndash;&ndash;&ndash;&ndash;&ndash;&ndash;&ndash;&ndash;&ndash;&ndash;&ndash;&ndash;&ndash;&ndash;&ndash;&ndash;&ndash;&ndash;&ndash;&ndash;&ndash;&ndash;&ndash;&ndash;&ndash;&ndash;&ndash;&ndash;&ndash;&ndash;&ndash;&ndash;&ndash;&ndash;&ndash;&ndash;&ndash;&ndash;&ndash;&ndash;&ndash;&ndash;&ndash;&ndash;&ndash;&ndash;&ndash;&ndash;&ndash;&ndash;<br>\nThe files are in GROMACS format and named based on the amount of cholesterol present (in %) in the corresponding simulation. Trajectories (.xtc) are 200 ns long with data saved every 100 ps. Additionally, the final structure (.gro), topology (.top), index file (.ndx), energy output file (.edr), and binary run input files (for Gromacs 4.6-&gt;) (.tpr) are provided for each system. The common simulation parameter file (.mdp) is also provided.<br>\n&ndash;&ndash;&ndash;&ndash;&ndash;&ndash;&ndash;&ndash;&ndash;&ndash;&ndash;&ndash;&ndash;&ndash;&ndash;&ndash;&ndash;&ndash;&ndash;&ndash;&ndash;&ndash;&ndash;&ndash;&ndash;&ndash;&ndash;&ndash;&ndash;&ndash;&ndash;&ndash;&ndash;&ndash;&ndash;&ndash;&ndash;&ndash;&ndash;&ndash;&ndash;&ndash;&ndash;&ndash;&ndash;&ndash;&ndash;&ndash;&ndash;&ndash;&ndash;&ndash;&ndash;&ndash;<br>\n[1] Derivation and Systematic Validation of a Refined All-Atom Force Field for Phosphatidylcholine Lipids. Joakim P. M. J&auml;mbeck and Alexander P. Lyubartsev, The Journal of Physical Chemistry B 2012 116 (10), 3164-3179, DOI: 10.1021/jp212503e</p>\n\n<p>[2] An Extension and Further Validation of an All-Atomistic Force Field for Biological Membranes. Joakim P. M. J&auml;mbeck and Alexander P. Lyubartsev, Journal of Chemical Theory and Computation 2012 8 (8), 2938-2948, DOI: 10.1021/ct300342n</p>\n\n<p>[3] Another Piece of the Membrane Puzzle: Extending Slipids Further. Joakim P. M. J&auml;mbeck and Alexander P. Lyubartsev, Journal of Chemical Theory and Computation 2013 9 (1), 774-784, DOI: 10.1021/ct300777p</p>\n\n<p>[4] Accounting for Electronic Polarization Effects in Aqueous Sodium Chloride via Molecular Dynamics Aided by Neutron Scattering. Miriam Kohagen, Philip E. Mason, and Pavel Jungwirth, The Journal of Physical Chemistry B 2016 120 (8), 1454&ndash;1460, DOI: 10.1021/acs.jpcb.5b05221</p>\n\n<p>&nbsp;</p>",
           "doi": "10.5281/zenodo.259343",
           "license": {
            "id": "CC-BY-4.0"
           },
           "publication_date": "2017-01-24",
           "relations": {
            "version": [
             {
              "count": 1,
              "index": 0,
              "is_last": true,
              "last_child": {
               "pid_type": "recid",
               "pid_value": "259343"
              },
              "parent": {
               "pid_type": "recid",
               "pid_value": "747380"
              }
             }
            ]
           },
           "resource_type": {
            "title": "Dataset",
            "type": "dataset"
           },
           "title": "POPC with varying amounts of cholesterol, 130 mM of NaCl. Slipids with ECC-scaled ions"
          },
          "owners": [
           7257
          ],
          "revision": 7,
          "stats": {
           "downloads": 25,
           "unique_downloads": 1,
           "unique_views": 17,
           "version_downloads": 25,
           "version_unique_downloads": 1,
           "version_unique_views": 17,
           "version_views": 17,
           "version_volume": 1713288747,
           "views": 17,
           "volume": 1713288747
          },
          "updated": "2020-01-24T19:22:41.593193+00:00"
         },
         {
          "conceptdoi": "10.5281/zenodo.802383",
          "conceptrecid": "802383",
          "created": "2017-06-30T21:09:15.227613+00:00",
          "doi": "10.5281/zenodo.821659",
          "files": [
           {
            "bucket": "bd911dd4-79b1-4de7-9608-c10560a966f4",
            "checksum": "md5:4cee9e2b13b56fb2d0656b557f1492a1",
            "key": "PRJNA349143.tar.gz",
            "links": {
             "self": "https://zenodo.org/api/files/bd911dd4-79b1-4de7-9608-c10560a966f4/PRJNA349143.tar.gz"
            },
            "size": 67615182,
            "type": "gz"
           }
          ],
          "id": 821659,
          "links": {
           "badge": "https://zenodo.org/badge/doi/10.5281/zenodo.821659.svg",
           "bucket": "https://zenodo.org/api/files/bd911dd4-79b1-4de7-9608-c10560a966f4",
           "conceptbadge": "https://zenodo.org/badge/doi/10.5281/zenodo.802383.svg",
           "conceptdoi": "https://doi.org/10.5281/zenodo.802383",
           "doi": "https://doi.org/10.5281/zenodo.821659",
           "html": "https://zenodo.org/record/821659",
           "latest": "https://zenodo.org/api/records/821659",
           "latest_html": "https://zenodo.org/record/821659",
           "self": "https://zenodo.org/api/records/821659"
          },
          "metadata": {
           "access_right": "open",
           "access_right_category": "success",
           "communities": [
            {
             "id": "airr"
            },
            {
             "id": "zenodo"
            }
           ],
           "creators": [
            {
             "affiliation": "Yale",
             "name": "Gupta, Namita"
            },
            {
             "affiliation": "Mt. Sinai",
             "name": "Laserson, Uri"
            },
            {
             "affiliation": "Yale",
             "name": "Vander Heiden, Jason"
            }
           ],
           "description": "<p>Processed sequencing data from BioProject PRJNA349143.</p>\n\n<p><strong>Study Design</strong></p>\n\n<p>Samples were collected from human volunteers as described in Laserson and Vigneault et al, 2014 (1). Briefly, blood samples were collected from three individuals both pre- and post-vaccination for seasonal influenza. Samples were collected for sequencing at time points -8 days, -2 days, -1 hour, +1 hour, +1 day, +3 days, +7 days, +14 days, +21 days and +28 days relative to injection with seasonal influenza vaccine.</p>\n\n<p><strong>Library Preparation and Sequencing</strong></p>\n\n<p>The original samples from Laserson and Vigneault et al, 2014 (1) were re-sequenced as described in Gupta et al, 2017 (2). Briefly, sequencing libraries were prepared from mRNA using 5'RACE with addition of 17-nucleotide unique molecular identifiers (UMIs). Amplification was performed using constant region primers specific to IGHA, IGHD, IGHE, IGHG, IGHM, IGKC and IGLC. Sequencing was conducted on the Illumina MiSeq platform using the 600 cycle kit with 325 cycles for read 1 and 275 cycles for read 2. A 10% PhiX spike-in was added for sequencing.</p>\n\n<p><strong>Data Processing</strong></p>\n\n<p>Sequences were processed using the pRESTO (3) and Change-O (4) toolkits as described in Gupta et al, 2017 (2).</p>\n\n<p>Note, the provided data has been filtered significantly, including the removal of sequences that fail V(D)J alignment and the exclusion of non-functional sequences.</p>\n\n<p><strong>Format</strong></p>\n\n<p>Processed sequences are provided in FASTA format annotated using the pRESTO scheme.</p>\n\n<p>Annotations included are as follows:</p>\n\n<ul>\n\t<li><strong>CONSCOUNT:</strong> Raw read count from which UMI consensus sequences were generated, summed over all UMIs for the given unique sequence.</li>\n\t<li><strong>DUPCOUNT:</strong> UMI count for the given unique sequence.</li>\n\t<li><strong>PRCONS:</strong> Constant region primer (isotype).</li>\n\t<li><strong>SUBJECT:</strong> Subject identifier.</li>\n\t<li><strong>TIME_POINT:</strong> Time point label.</li>\n</ul>\n\n<p><strong>Citations</strong></p>\n\n<ol>\n\t<li>Laserson U and Vigneault F, et al. High-resolution antibody dynamics of vaccine-induced immune responses. Proc Natl Acad Sci USA 111, 4928-33 (2014).</li>\n\t<li>Gupta NT, et al. Hierarchical Clustering Can Identify B Cell Clones with High Confidence in Ig Repertoire Sequencing Data. J Immunol 1601850 (2017).</li>\n\t<li>Vander Heiden JA and Yaari G, et al. pRESTO: a toolkit for processing high-throughput sequencing raw reads of lymphocyte receptor repertoires. Bioinformatics 30, 1930–2 (2014).</li>\n\t<li>Gupta NT and Vander Heiden JA, et al. Change-O: a toolkit for analyzing large-scale B cell immunoglobulin repertoire sequencing data. Bioinformatics 31, 3356–8 (2015).</li>\n</ol>",
           "doi": "10.5281/zenodo.821659",
           "keywords": [
            "BCR sequences"
           ],
           "license": {
            "id": "CC-BY-4.0"
           },
           "publication_date": "2017-06-03",
           "related_identifiers": [
            {
             "identifier": "10.5281/zenodo.802383",
             "relation": "isVersionOf",
             "scheme": "doi"
            }
           ],
           "relations": {
            "version": [
             {
              "count": 2,
              "index": 1,
              "is_last": true,
              "last_child": {
               "pid_type": "recid",
               "pid_value": "821659"
              },
              "parent": {
               "pid_type": "recid",
               "pid_value": "802383"
              }
             }
            ]
           },
           "resource_type": {
            "title": "Dataset",
            "type": "dataset"
           },
           "title": "Pre-processed B cell receptor sequences from BioProject PRJNA349143"
          },
          "owners": [
           10783
          ],
          "revision": 6,
          "stats": {
           "downloads": 28,
           "unique_downloads": 16,
           "unique_views": 248,
           "version_downloads": 32,
           "version_unique_downloads": 19,
           "version_unique_views": 376,
           "version_views": 426,
           "version_volume": 2163681484,
           "views": 270,
           "volume": 1893225096
          },
          "updated": "2020-01-24T19:24:33.499417+00:00"
         }
        ],
        "total": 25
       },
       "links": {
        "self": "https://zenodo.org/api/records/?sort=bestmatch&q=%28title%3A%28%2Bmolecular+%2Bdynamics%29+OR+description%3A%28%2Bmolecular+%2Bdynamics%29%27%29+AND+publication_date%3A%5B2017-01-01+TO+2017-12-31%5D+AND+access_right%3Aopen&type=dataset&page=1&size=100"
       }
      },
      "text/plain": [
       "<IPython.core.display.JSON object>"
      ]
     },
     "execution_count": 5,
     "metadata": {
      "application/json": {
       "expanded": false,
       "root": "root"
      }
     },
     "output_type": "execute_result"
    }
   ],
   "source": [
    "resp_json = search_zenodo(hits_per_page=100, year=2017)\n",
    "JSON(resp_json)"
   ]
  },
  {
   "cell_type": "code",
   "execution_count": 6,
   "id": "present-overview",
   "metadata": {},
   "outputs": [
    {
     "name": "stdout",
     "output_type": "stream",
     "text": [
      "Number of hits: 25\n"
     ]
    }
   ],
   "source": [
    "total_hits = resp_json[\"hits\"][\"total\"]\n",
    "print(f'Number of hits: {total_hits}')"
   ]
  },
  {
   "cell_type": "markdown",
   "id": "musical-stevens",
   "metadata": {},
   "source": [
    "### Anatomy of a record in json"
   ]
  },
  {
   "cell_type": "code",
   "execution_count": 7,
   "id": "figured-watts",
   "metadata": {},
   "outputs": [
    {
     "data": {
      "application/json": {
       "conceptrecid": "635750",
       "created": "2016-06-02T21:43:11+00:00",
       "doi": "10.5281/zenodo.53887",
       "files": [
        {
         "bucket": "b219544a-c4f7-4446-bd94-d2befd51db1f",
         "checksum": "md5:b9cbfbd08f816752a1bff72aac1526ee",
         "key": "ener.edr",
         "links": {
          "self": "https://zenodo.org/api/files/b219544a-c4f7-4446-bd94-d2befd51db1f/ener.edr"
         },
         "size": 208002116,
         "type": "edr"
        },
        {
         "bucket": "b219544a-c4f7-4446-bd94-d2befd51db1f",
         "checksum": "md5:b076dcdcc720529aafe8851224d037d9",
         "key": "traj.xtc",
         "links": {
          "self": "https://zenodo.org/api/files/b219544a-c4f7-4446-bd94-d2befd51db1f/traj.xtc"
         },
         "size": 3447568,
         "type": "xtc"
        },
        {
         "bucket": "b219544a-c4f7-4446-bd94-d2befd51db1f",
         "checksum": "md5:e2b8574fcf6e8fa037473ca92de87a53",
         "key": "md.log",
         "links": {
          "self": "https://zenodo.org/api/files/b219544a-c4f7-4446-bd94-d2befd51db1f/md.log"
         },
         "size": 26471,
         "type": "log"
        },
        {
         "bucket": "b219544a-c4f7-4446-bd94-d2befd51db1f",
         "checksum": "md5:368c528ff9d80451057f6ec880335a08",
         "key": "topol.tpr",
         "links": {
          "self": "https://zenodo.org/api/files/b219544a-c4f7-4446-bd94-d2befd51db1f/topol.tpr"
         },
         "size": 263824,
         "type": "tpr"
        }
       ],
       "id": 53887,
       "links": {
        "badge": "https://zenodo.org/badge/doi/10.5281/zenodo.53887.svg",
        "bucket": "https://zenodo.org/api/files/b219544a-c4f7-4446-bd94-d2befd51db1f",
        "doi": "https://doi.org/10.5281/zenodo.53887",
        "html": "https://zenodo.org/record/53887",
        "latest": "https://zenodo.org/api/records/53887",
        "latest_html": "https://zenodo.org/record/53887",
        "self": "https://zenodo.org/api/records/53887"
       },
       "metadata": {
        "access_right": "open",
        "access_right_category": "success",
        "creators": [
         {
          "affiliation": "Fed. Univ. Sao Paulo",
          "name": "Vitaly V. Chaban"
         }
        ],
        "description": "<p>Nanofluids are composed of certain nanoscale object immersed in the molecular or ionic liquid. Nanofluids generally exhibit higher thermal conductivities, as compared to conventional fluids. Therefore, they are interesting to applications, in which thermal conductivity is a cornerstone. Hereby, molecular dynamics simulations were used to study an energy exchange in one of the possible nanofluids: N-butylpyridinium tetrafluoroborate based solution of nanodiamonds. The data are given in the form of energy components versus time and atomistic trajectories versus time at a number of temperatures. The simulations were conducted in the constant energy ensemble to avoid efects of temperature coupling and pressure coupling. The dataset possesses&nbsp;both research and educational values.</p>",
        "doi": "10.5281/zenodo.53887",
        "keywords": [
         "ionic liquid",
         "nanofluid",
         "molecular dynamics",
         "nanodiamond"
        ],
        "license": {
         "id": "Sleepycat"
        },
        "publication_date": "2016-05-31",
        "relations": {
         "version": [
          {
           "count": 1,
           "index": 0,
           "is_last": true,
           "last_child": {
            "pid_type": "recid",
            "pid_value": "53887"
           },
           "parent": {
            "pid_type": "recid",
            "pid_value": "635750"
           }
          }
         ]
        },
        "resource_type": {
         "title": "Dataset",
         "type": "dataset"
        },
        "title": "Molecular Dynamics Study of the Vibrational Energy Exchange Between Nanodiamond and N-butylpyridinium Tetrafluoroborate Ionic Liquid"
       },
       "owners": [
        22362
       ],
       "revision": 9,
       "stats": {
        "downloads": 32,
        "unique_downloads": 30,
        "unique_views": 25,
        "version_downloads": 32,
        "version_unique_downloads": 30,
        "version_unique_views": 25,
        "version_views": 28,
        "version_volume": 209060070,
        "views": 28,
        "volume": 209060070
       },
       "updated": "2020-01-24T19:24:01.795989+00:00"
      },
      "text/plain": [
       "<IPython.core.display.JSON object>"
      ]
     },
     "execution_count": 7,
     "metadata": {
      "application/json": {
       "expanded": false,
       "root": "root"
      }
     },
     "output_type": "execute_result"
    }
   ],
   "source": [
    "response = requests.get(\"https://zenodo.org/api/records/53887\",\n",
    "                        params={\"access_token\": ACCESS_TOKEN})\n",
    "resp_json = response.json()\n",
    "JSON(resp_json)"
   ]
  },
  {
   "cell_type": "code",
   "execution_count": 8,
   "id": "southeast-demonstration",
   "metadata": {},
   "outputs": [],
   "source": [
    "def extract_records(response_json):\n",
    "    records = []\n",
    "    files = []\n",
    "    for hit in response_json[\"hits\"][\"hits\"]:\n",
    "        record = {}\n",
    "        record[\"id\"] = hit[\"id\"]\n",
    "        record[\"conceptid\"] = hit[\"conceptrecid\"]\n",
    "        record[\"date_created\"] = hit[\"created\"]\n",
    "        record[\"date_updated\"] = hit[\"updated\"]\n",
    "        record[\"title\"] = hit[\"metadata\"][\"title\"]\n",
    "        record[\"description\"] = hit[\"metadata\"][\"description\"]\n",
    "        record[\"access_right\"] = hit[\"metadata\"][\"access_right\"]\n",
    "        if record[\"access_right\"] != \"open\":\n",
    "            continue\n",
    "        record[\"license\"] = hit[\"metadata\"][\"license\"][\"id\"]\n",
    "        records.append(record)\n",
    "        for file_in in hit[\"files\"]:\n",
    "            file_dict = {\"record_id\": record[\"id\"],\n",
    "                         \"name\": file_in[\"key\"],\n",
    "                         \"type\": file_in[\"type\"],\n",
    "                         \"size\": file_in[\"size\"]}\n",
    "            files.append(file_dict)\n",
    "    return records, files"
   ]
  },
  {
   "cell_type": "markdown",
   "id": "prepared-qualification",
   "metadata": {},
   "source": [
    "## Search records\n",
    "\n",
    "There is a strong limit of 10 000 hits per query."
   ]
  },
  {
   "cell_type": "code",
   "execution_count": 9,
   "id": "acquired-repository",
   "metadata": {},
   "outputs": [
    {
     "name": "stdout",
     "output_type": "stream",
     "text": [
      "year 2010 -- page 1 / 1 (0)\n",
      "year 2011 -- page 1 / 1 (0)\n",
      "year 2012 -- page 1 / 1 (0)\n",
      "year 2013 -- page 1 / 1 (1)\n",
      "year 2014 -- page 1 / 1 (3)\n",
      "year 2015 -- page 1 / 1 (11)\n",
      "year 2016 -- page 1 / 1 (18)\n",
      "year 2017 -- page 1 / 1 (25)\n",
      "year 2018 -- page 1 / 1 (33)\n",
      "year 2019 -- page 1 / 1 (53)\n",
      "year 2020 -- page 1 / 2 (100)\n",
      "year 2020 -- page 2 / 2 (32)\n",
      "year 2021 -- page 1 / 1 (28)\n"
     ]
    }
   ],
   "source": [
    "zenodo_records = []\n",
    "zenodo_files = []\n",
    "max_hits_per_record = 10_000\n",
    "max_hits_per_page = 100\n",
    "for year in range(2010, 2022):\n",
    "    resp_json = search_zenodo(hits_per_page=1, year=year)\n",
    "    total_hits = resp_json[\"hits\"][\"total\"]\n",
    "    page_max = total_hits//max_hits_per_page + 1\n",
    "    for page in range(1, page_max+1):\n",
    "        resp_json = search_zenodo(page=page, hits_per_page=max_hits_per_page, year=year)\n",
    "        records_tmp, files_tmp = extract_records(resp_json)\n",
    "        zenodo_records += records_tmp\n",
    "        zenodo_files += files_tmp\n",
    "        print(f\"year {year} -- page {page} / {page_max} ({len(records_tmp)})\")\n",
    "        if (page * max_hits_per_page >= max_hits_per_record):\n",
    "            print(\"Max hits per query reached!\")\n",
    "            break"
   ]
  },
  {
   "cell_type": "markdown",
   "id": "developing-testing",
   "metadata": {},
   "source": [
    "## Store data in csv"
   ]
  },
  {
   "cell_type": "code",
   "execution_count": 10,
   "id": "brave-iraqi",
   "metadata": {},
   "outputs": [
    {
     "name": "stdout",
     "output_type": "stream",
     "text": [
      "Number of Zenodo records found: 304\n",
      "Number of files found: 2857\n"
     ]
    }
   ],
   "source": [
    "print(f\"Number of Zenodo records found: {len(zenodo_records)}\")\n",
    "print(f\"Number of files found: {len(zenodo_files)}\")"
   ]
  },
  {
   "cell_type": "code",
   "execution_count": 11,
   "id": "opposed-hanging",
   "metadata": {},
   "outputs": [
    {
     "name": "stdout",
     "output_type": "stream",
     "text": [
      "(304, 7)\n"
     ]
    },
    {
     "data": {
      "text/html": [
       "<div>\n",
       "<style scoped>\n",
       "    .dataframe tbody tr th:only-of-type {\n",
       "        vertical-align: middle;\n",
       "    }\n",
       "\n",
       "    .dataframe tbody tr th {\n",
       "        vertical-align: top;\n",
       "    }\n",
       "\n",
       "    .dataframe thead th {\n",
       "        text-align: right;\n",
       "    }\n",
       "</style>\n",
       "<table border=\"1\" class=\"dataframe\">\n",
       "  <thead>\n",
       "    <tr style=\"text-align: right;\">\n",
       "      <th></th>\n",
       "      <th>conceptid</th>\n",
       "      <th>date_created</th>\n",
       "      <th>date_updated</th>\n",
       "      <th>title</th>\n",
       "      <th>description</th>\n",
       "      <th>access_right</th>\n",
       "      <th>license</th>\n",
       "    </tr>\n",
       "    <tr>\n",
       "      <th>id</th>\n",
       "      <th></th>\n",
       "      <th></th>\n",
       "      <th></th>\n",
       "      <th></th>\n",
       "      <th></th>\n",
       "      <th></th>\n",
       "      <th></th>\n",
       "    </tr>\n",
       "  </thead>\n",
       "  <tbody>\n",
       "    <tr>\n",
       "      <th>51635</th>\n",
       "      <td>633598</td>\n",
       "      <td>2016-05-22T21:27:58+00:00</td>\n",
       "      <td>2020-12-31T18:02:39.471208+00:00</td>\n",
       "      <td>Molecular dynamics simulation trajectory of a ...</td>\n",
       "      <td>&lt;p&gt;&lt;strong&gt;System:&amp;nbsp;&lt;/strong&gt;DMPC (dimyris...</td>\n",
       "      <td>open</td>\n",
       "      <td>CC-BY-4.0</td>\n",
       "    </tr>\n",
       "    <tr>\n",
       "      <th>8431</th>\n",
       "      <td>642967</td>\n",
       "      <td>2015-05-07T17:26:58+00:00</td>\n",
       "      <td>2020-01-24T19:21:43.576503+00:00</td>\n",
       "      <td>Molecular dynamics derived side chain order pa...</td>\n",
       "      <td>&lt;p&gt;This dataset contains tab-delimited text fi...</td>\n",
       "      <td>open</td>\n",
       "      <td>CC0-1.0</td>\n",
       "    </tr>\n",
       "    <tr>\n",
       "      <th>13393</th>\n",
       "      <td>605455</td>\n",
       "      <td>2015-01-06T13:40:44+00:00</td>\n",
       "      <td>2020-01-24T19:24:42.558489+00:00</td>\n",
       "      <td>POPC @ 298K, Model by Kukol</td>\n",
       "      <td>&lt;p&gt;Files&amp;nbsp;required&amp;nbsp;for a simulation o...</td>\n",
       "      <td>open</td>\n",
       "      <td>CC0-1.0</td>\n",
       "    </tr>\n",
       "    <tr>\n",
       "      <th>573033</th>\n",
       "      <td>800331</td>\n",
       "      <td>2017-05-09T06:05:34.703109+00:00</td>\n",
       "      <td>2020-01-24T19:23:25.053804+00:00</td>\n",
       "      <td>Long-Term Single Cell Analysis of S. pombe on ...</td>\n",
       "      <td>&lt;p&gt;Although &lt;em&gt;Schyzosaccharomyces pombe&lt;/em&gt;...</td>\n",
       "      <td>open</td>\n",
       "      <td>CC-BY-4.0</td>\n",
       "    </tr>\n",
       "    <tr>\n",
       "      <th>20561</th>\n",
       "      <td>611511</td>\n",
       "      <td>2015-07-16T20:53:30+00:00</td>\n",
       "      <td>2020-01-24T19:22:24.254587+00:00</td>\n",
       "      <td>Simulation trajectories for the article \"Molec...</td>\n",
       "      <td>&lt;p&gt;Simulation trajectories for the article &amp;qu...</td>\n",
       "      <td>open</td>\n",
       "      <td>CC0-1.0</td>\n",
       "    </tr>\n",
       "  </tbody>\n",
       "</table>\n",
       "</div>"
      ],
      "text/plain": [
       "       conceptid                      date_created  \\\n",
       "id                                                   \n",
       "51635     633598         2016-05-22T21:27:58+00:00   \n",
       "8431      642967         2015-05-07T17:26:58+00:00   \n",
       "13393     605455         2015-01-06T13:40:44+00:00   \n",
       "573033    800331  2017-05-09T06:05:34.703109+00:00   \n",
       "20561     611511         2015-07-16T20:53:30+00:00   \n",
       "\n",
       "                            date_updated  \\\n",
       "id                                         \n",
       "51635   2020-12-31T18:02:39.471208+00:00   \n",
       "8431    2020-01-24T19:21:43.576503+00:00   \n",
       "13393   2020-01-24T19:24:42.558489+00:00   \n",
       "573033  2020-01-24T19:23:25.053804+00:00   \n",
       "20561   2020-01-24T19:22:24.254587+00:00   \n",
       "\n",
       "                                                    title  \\\n",
       "id                                                          \n",
       "51635   Molecular dynamics simulation trajectory of a ...   \n",
       "8431    Molecular dynamics derived side chain order pa...   \n",
       "13393                         POPC @ 298K, Model by Kukol   \n",
       "573033  Long-Term Single Cell Analysis of S. pombe on ...   \n",
       "20561   Simulation trajectories for the article \"Molec...   \n",
       "\n",
       "                                              description access_right  \\\n",
       "id                                                                       \n",
       "51635   <p><strong>System:&nbsp;</strong>DMPC (dimyris...         open   \n",
       "8431    <p>This dataset contains tab-delimited text fi...         open   \n",
       "13393   <p>Files&nbsp;required&nbsp;for a simulation o...         open   \n",
       "573033  <p>Although <em>Schyzosaccharomyces pombe</em>...         open   \n",
       "20561   <p>Simulation trajectories for the article &qu...         open   \n",
       "\n",
       "          license  \n",
       "id                 \n",
       "51635   CC-BY-4.0  \n",
       "8431      CC0-1.0  \n",
       "13393     CC0-1.0  \n",
       "573033  CC-BY-4.0  \n",
       "20561     CC0-1.0  "
      ]
     },
     "execution_count": 11,
     "metadata": {},
     "output_type": "execute_result"
    }
   ],
   "source": [
    "records_df = pd.DataFrame(zenodo_records).set_index(\"id\")\n",
    "records_df.to_csv(\"zenodo_records.csv\")\n",
    "print(records_df.shape)\n",
    "records_df.head()"
   ]
  },
  {
   "cell_type": "code",
   "execution_count": 12,
   "id": "metropolitan-procurement",
   "metadata": {},
   "outputs": [
    {
     "name": "stdout",
     "output_type": "stream",
     "text": [
      "(2857, 3)\n"
     ]
    },
    {
     "data": {
      "text/html": [
       "<div>\n",
       "<style scoped>\n",
       "    .dataframe tbody tr th:only-of-type {\n",
       "        vertical-align: middle;\n",
       "    }\n",
       "\n",
       "    .dataframe tbody tr th {\n",
       "        vertical-align: top;\n",
       "    }\n",
       "\n",
       "    .dataframe thead th {\n",
       "        text-align: right;\n",
       "    }\n",
       "</style>\n",
       "<table border=\"1\" class=\"dataframe\">\n",
       "  <thead>\n",
       "    <tr style=\"text-align: right;\">\n",
       "      <th></th>\n",
       "      <th>name</th>\n",
       "      <th>type</th>\n",
       "      <th>size</th>\n",
       "    </tr>\n",
       "    <tr>\n",
       "      <th>record_id</th>\n",
       "      <th></th>\n",
       "      <th></th>\n",
       "      <th></th>\n",
       "    </tr>\n",
       "  </thead>\n",
       "  <tbody>\n",
       "    <tr>\n",
       "      <th>51635</th>\n",
       "      <td>ffgmx.atp</td>\n",
       "      <td>atp</td>\n",
       "      <td>2633</td>\n",
       "    </tr>\n",
       "    <tr>\n",
       "      <th>51635</th>\n",
       "      <td>dmpc128W.mdp</td>\n",
       "      <td>mdp</td>\n",
       "      <td>935</td>\n",
       "    </tr>\n",
       "    <tr>\n",
       "      <th>51635</th>\n",
       "      <td>ffgmx.itp</td>\n",
       "      <td>itp</td>\n",
       "      <td>169</td>\n",
       "    </tr>\n",
       "    <tr>\n",
       "      <th>51635</th>\n",
       "      <td>dmpc128W_1ns.tpr</td>\n",
       "      <td>tpr</td>\n",
       "      <td>3351488</td>\n",
       "    </tr>\n",
       "    <tr>\n",
       "      <th>51635</th>\n",
       "      <td>ffgmxbon.itp</td>\n",
       "      <td>itp</td>\n",
       "      <td>30883</td>\n",
       "    </tr>\n",
       "  </tbody>\n",
       "</table>\n",
       "</div>"
      ],
      "text/plain": [
       "                       name type     size\n",
       "record_id                                \n",
       "51635             ffgmx.atp  atp     2633\n",
       "51635          dmpc128W.mdp  mdp      935\n",
       "51635             ffgmx.itp  itp      169\n",
       "51635      dmpc128W_1ns.tpr  tpr  3351488\n",
       "51635          ffgmxbon.itp  itp    30883"
      ]
     },
     "execution_count": 12,
     "metadata": {},
     "output_type": "execute_result"
    }
   ],
   "source": [
    "files_df = pd.DataFrame(zenodo_files).set_index(\"record_id\")\n",
    "files_df.to_csv(\"zenodo_files.csv\")\n",
    "print(files_df.shape)\n",
    "files_df.head()"
   ]
  }
 ],
 "metadata": {
  "kernelspec": {
   "display_name": "Python 3",
   "language": "python",
   "name": "python3"
  },
  "language_info": {
   "codemirror_mode": {
    "name": "ipython",
    "version": 3
   },
   "file_extension": ".py",
   "mimetype": "text/x-python",
   "name": "python",
   "nbconvert_exporter": "python",
   "pygments_lexer": "ipython3",
   "version": "3.8.8"
  }
 },
 "nbformat": 4,
 "nbformat_minor": 5
}
