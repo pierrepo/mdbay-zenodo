{
 "cells": [
  {
   "cell_type": "markdown",
   "id": "vietnamese-fifteen",
   "metadata": {},
   "source": [
    "# Search for molecular dynamics datasets in Zenodo"
   ]
  },
  {
   "cell_type": "code",
   "execution_count": 1,
   "id": "overhead-loading",
   "metadata": {},
   "outputs": [],
   "source": [
    "from IPython.display import JSON\n",
    "import pandas as pd\n",
    "import requests"
   ]
  },
  {
   "cell_type": "markdown",
   "id": "driven-strap",
   "metadata": {},
   "source": [
    "Create a token access here: <https://zenodo.org/account/settings/applications/tokens/new/>  \n",
    "and store it in the file `access_token.txt`"
   ]
  },
  {
   "cell_type": "code",
   "execution_count": 2,
   "id": "lyric-county",
   "metadata": {},
   "outputs": [],
   "source": [
    "ACCESS_TOKEN = open(\"access_token.txt\", \"r\").read().strip()"
   ]
  },
  {
   "cell_type": "markdown",
   "id": "banner-hurricane",
   "metadata": {},
   "source": [
    "Test token with basic query"
   ]
  },
  {
   "cell_type": "code",
   "execution_count": 3,
   "id": "muslim-address",
   "metadata": {},
   "outputs": [
    {
     "data": {
      "text/plain": [
       "200"
      ]
     },
     "execution_count": 3,
     "metadata": {},
     "output_type": "execute_result"
    }
   ],
   "source": [
    "r = requests.get('https://zenodo.org/api/deposit/depositions',\n",
    "                 params={'access_token': ACCESS_TOKEN})\n",
    "r.status_code"
   ]
  },
  {
   "cell_type": "code",
   "execution_count": 4,
   "id": "fitted-priority",
   "metadata": {},
   "outputs": [],
   "source": [
    "def search_zenodo(page=1, hits_per_page=10, year=2016):\n",
    "    response = requests.get(\"https://zenodo.org/api/records\",\n",
    "                            params={\"q\": (\"(title:'molecular dynamics' OR description:'molecular dynamics')\"\n",
    "                                         f\" AND publication_date:[{year}-01-01 TO {year}-12-31]\"\n",
    "                                          \" AND access_right:open\"),\n",
    "                                    \"type\": \"dataset\",\n",
    "                                    \"size\": hits_per_page,\n",
    "                                    \"page\": page,\n",
    "                                    \"status\": \"published\",\n",
    "                                    \"access_token\": ACCESS_TOKEN})\n",
    "    return response.json()"
   ]
  },
  {
   "cell_type": "markdown",
   "id": "underlying-frequency",
   "metadata": {},
   "source": [
    "### Test query"
   ]
  },
  {
   "cell_type": "code",
   "execution_count": 5,
   "id": "equivalent-heath",
   "metadata": {},
   "outputs": [
    {
     "data": {
      "application/json": {
       "aggregations": {
        "access_right": {
         "buckets": [
          {
           "doc_count": 4203,
           "key": "open"
          }
         ],
         "doc_count_error_upper_bound": 0,
         "sum_other_doc_count": 0
        },
        "file_type": {
         "buckets": [
          {
           "doc_count": 2519,
           "key": "pdf"
          },
          {
           "doc_count": 431,
           "key": "png"
          },
          {
           "doc_count": 374,
           "key": "jpg"
          },
          {
           "doc_count": 339,
           "key": "zip"
          },
          {
           "doc_count": 219,
           "key": "xml"
          },
          {
           "doc_count": 176,
           "key": "html"
          },
          {
           "doc_count": 94,
           "key": "docx"
          },
          {
           "doc_count": 91,
           "key": "xlsx"
          },
          {
           "doc_count": 74,
           "key": "gz"
          },
          {
           "doc_count": 49,
           "key": "txt"
          }
         ],
         "doc_count_error_upper_bound": 0,
         "sum_other_doc_count": 2429
        },
        "keywords": {
         "buckets": [
          {
           "doc_count": 753,
           "key": "Animalia"
          },
          {
           "doc_count": 650,
           "key": "Biodiversity"
          },
          {
           "doc_count": 642,
           "key": "Taxonomy"
          },
          {
           "doc_count": 420,
           "key": "Arthropoda"
          },
          {
           "doc_count": 231,
           "key": "Insecta"
          },
          {
           "doc_count": 222,
           "key": "taxonomy"
          },
          {
           "doc_count": 161,
           "key": "Chordata"
          },
          {
           "doc_count": 139,
           "key": "morphology"
          },
          {
           "doc_count": 133,
           "key": "phylogeny"
          },
          {
           "doc_count": 128,
           "key": "Arachnida"
          }
         ],
         "doc_count_error_upper_bound": 0,
         "sum_other_doc_count": 16101
        },
        "type": {
         "buckets": [
          {
           "doc_count": 2473,
           "key": "publication",
           "subtype": {
            "buckets": [
             {
              "doc_count": 1920,
              "key": "article"
             },
             {
              "doc_count": 172,
              "key": "taxonomictreatment"
             },
             {
              "doc_count": 163,
              "key": "conferencepaper"
             },
             {
              "doc_count": 37,
              "key": "deliverable"
             },
             {
              "doc_count": 33,
              "key": "preprint"
             },
             {
              "doc_count": 32,
              "key": "section"
             },
             {
              "doc_count": 30,
              "key": "thesis"
             },
             {
              "doc_count": 29,
              "key": "report"
             },
             {
              "doc_count": 20,
              "key": "book"
             },
             {
              "doc_count": 16,
              "key": "workingpaper"
             }
            ],
            "doc_count_error_upper_bound": 0,
            "sum_other_doc_count": 21
           }
          },
          {
           "doc_count": 780,
           "key": "image",
           "subtype": {
            "buckets": [
             {
              "doc_count": 777,
              "key": "figure"
             },
             {
              "doc_count": 2,
              "key": "photo"
             },
             {
              "doc_count": 1,
              "key": "plot"
             }
            ],
            "doc_count_error_upper_bound": 0,
            "sum_other_doc_count": 0
           }
          },
          {
           "doc_count": 436,
           "key": "dataset",
           "subtype": {
            "buckets": [],
            "doc_count_error_upper_bound": 0,
            "sum_other_doc_count": 0
           }
          },
          {
           "doc_count": 189,
           "key": "software",
           "subtype": {
            "buckets": [],
            "doc_count_error_upper_bound": 0,
            "sum_other_doc_count": 0
           }
          },
          {
           "doc_count": 173,
           "key": "presentation",
           "subtype": {
            "buckets": [],
            "doc_count_error_upper_bound": 0,
            "sum_other_doc_count": 0
           }
          },
          {
           "doc_count": 97,
           "key": "poster",
           "subtype": {
            "buckets": [],
            "doc_count_error_upper_bound": 0,
            "sum_other_doc_count": 0
           }
          },
          {
           "doc_count": 26,
           "key": "other",
           "subtype": {
            "buckets": [],
            "doc_count_error_upper_bound": 0,
            "sum_other_doc_count": 0
           }
          },
          {
           "doc_count": 17,
           "key": "video",
           "subtype": {
            "buckets": [],
            "doc_count_error_upper_bound": 0,
            "sum_other_doc_count": 0
           }
          },
          {
           "doc_count": 12,
           "key": "lesson",
           "subtype": {
            "buckets": [],
            "doc_count_error_upper_bound": 0,
            "sum_other_doc_count": 0
           }
          }
         ],
         "doc_count_error_upper_bound": 0,
         "sum_other_doc_count": 0
        }
       },
       "hits": {
        "hits": [
         {
          "conceptdoi": "10.5281/zenodo.2872149",
          "conceptrecid": "2872149",
          "created": "2019-05-18T05:31:23.887416+00:00",
          "doi": "10.5281/zenodo.2872150",
          "files": [
           {
            "bucket": "dee72b4a-cd96-4c22-8c87-a6332022dc52",
            "checksum": "md5:abd2eed7979c729a341f58c42bb5b690",
            "key": "Fig_11.txt",
            "links": {
             "self": "https://zenodo.org/api/files/dee72b4a-cd96-4c22-8c87-a6332022dc52/Fig_11.txt"
            },
            "size": 7471,
            "type": "txt"
           },
           {
            "bucket": "dee72b4a-cd96-4c22-8c87-a6332022dc52",
            "checksum": "md5:69026b7cc1dfff73227b61ed178f8f54",
            "key": "Fig_1_DADS.txt",
            "links": {
             "self": "https://zenodo.org/api/files/dee72b4a-cd96-4c22-8c87-a6332022dc52/Fig_1_DADS.txt"
            },
            "size": 25758,
            "type": "txt"
           },
           {
            "bucket": "dee72b4a-cd96-4c22-8c87-a6332022dc52",
            "checksum": "md5:56244b47940cae84e887738331d1fdb6",
            "key": "Fig_1_TA_spectra.txt",
            "links": {
             "self": "https://zenodo.org/api/files/dee72b4a-cd96-4c22-8c87-a6332022dc52/Fig_1_TA_spectra.txt"
            },
            "size": 51360,
            "type": "txt"
           },
           {
            "bucket": "dee72b4a-cd96-4c22-8c87-a6332022dc52",
            "checksum": "md5:b3ab87c972fa6285ef19e44eb86321b9",
            "key": "Fig_2_DADS.txt",
            "links": {
             "self": "https://zenodo.org/api/files/dee72b4a-cd96-4c22-8c87-a6332022dc52/Fig_2_DADS.txt"
            },
            "size": 2990,
            "type": "txt"
           },
           {
            "bucket": "dee72b4a-cd96-4c22-8c87-a6332022dc52",
            "checksum": "md5:496d608ba6f634cd5fe30b660f90681a",
            "key": "Fig_2_TRIR_spectra.txt",
            "links": {
             "self": "https://zenodo.org/api/files/dee72b4a-cd96-4c22-8c87-a6332022dc52/Fig_2_TRIR_spectra.txt"
            },
            "size": 4991,
            "type": "txt"
           },
           {
            "bucket": "dee72b4a-cd96-4c22-8c87-a6332022dc52",
            "checksum": "md5:c8a8fbea97294241a1148331aef041d8",
            "key": "Fig_4_decay_m1.txt",
            "links": {
             "self": "https://zenodo.org/api/files/dee72b4a-cd96-4c22-8c87-a6332022dc52/Fig_4_decay_m1.txt"
            },
            "size": 8023,
            "type": "txt"
           },
           {
            "bucket": "dee72b4a-cd96-4c22-8c87-a6332022dc52",
            "checksum": "md5:f63ae28b0821020c95a3ce57e95d8a3e",
            "key": "Fig_4_decay_m2.txt",
            "links": {
             "self": "https://zenodo.org/api/files/dee72b4a-cd96-4c22-8c87-a6332022dc52/Fig_4_decay_m2.txt"
            },
            "size": 8023,
            "type": "txt"
           },
           {
            "bucket": "dee72b4a-cd96-4c22-8c87-a6332022dc52",
            "checksum": "md5:eb47f897b6f70ae8db06cd8530cc944e",
            "key": "Fig_4_fits_m1.txt",
            "links": {
             "self": "https://zenodo.org/api/files/dee72b4a-cd96-4c22-8c87-a6332022dc52/Fig_4_fits_m1.txt"
            },
            "size": 10295,
            "type": "txt"
           },
           {
            "bucket": "dee72b4a-cd96-4c22-8c87-a6332022dc52",
            "checksum": "md5:4b162f07f06a6b3f039c8fd3fb9615de",
            "key": "Fig_4_fits_m2.txt",
            "links": {
             "self": "https://zenodo.org/api/files/dee72b4a-cd96-4c22-8c87-a6332022dc52/Fig_4_fits_m2.txt"
            },
            "size": 10295,
            "type": "txt"
           },
           {
            "bucket": "dee72b4a-cd96-4c22-8c87-a6332022dc52",
            "checksum": "md5:5e158534381874e9add6f49b0f1a1220",
            "key": "Fig_5_gr_neutral.txt",
            "links": {
             "self": "https://zenodo.org/api/files/dee72b4a-cd96-4c22-8c87-a6332022dc52/Fig_5_gr_neutral.txt"
            },
            "size": 6633,
            "type": "txt"
           },
           {
            "bucket": "dee72b4a-cd96-4c22-8c87-a6332022dc52",
            "checksum": "md5:f8a9cce090de38a8804d2e26ebc0de26",
            "key": "Fig_5_pmf_IP.txt",
            "links": {
             "self": "https://zenodo.org/api/files/dee72b4a-cd96-4c22-8c87-a6332022dc52/Fig_5_pmf_IP.txt"
            },
            "size": 6633,
            "type": "txt"
           },
           {
            "bucket": "dee72b4a-cd96-4c22-8c87-a6332022dc52",
            "checksum": "md5:b256683ee3f81fcb1cdeb36dd35f526b",
            "key": "Fig_5_pmf_neutral.txt",
            "links": {
             "self": "https://zenodo.org/api/files/dee72b4a-cd96-4c22-8c87-a6332022dc52/Fig_5_pmf_neutral.txt"
            },
            "size": 6633,
            "type": "txt"
           },
           {
            "bucket": "dee72b4a-cd96-4c22-8c87-a6332022dc52",
            "checksum": "md5:d992654d498a4dc9a501916fa8698497",
            "key": "Fig_6.txt",
            "links": {
             "self": "https://zenodo.org/api/files/dee72b4a-cd96-4c22-8c87-a6332022dc52/Fig_6.txt"
            },
            "size": 3483,
            "type": "txt"
           },
           {
            "bucket": "dee72b4a-cd96-4c22-8c87-a6332022dc52",
            "checksum": "md5:f5d423525925c18ed4f7da38366421d5",
            "key": "Fig_7_exp_spectrum.txt",
            "links": {
             "self": "https://zenodo.org/api/files/dee72b4a-cd96-4c22-8c87-a6332022dc52/Fig_7_exp_spectrum.txt"
            },
            "size": 16566,
            "type": "txt"
           },
           {
            "bucket": "dee72b4a-cd96-4c22-8c87-a6332022dc52",
            "checksum": "md5:946caeb5a0ec24e6287e448e403305b1",
            "key": "Fig_7_osc_stength_freq.txt",
            "links": {
             "self": "https://zenodo.org/api/files/dee72b4a-cd96-4c22-8c87-a6332022dc52/Fig_7_osc_stength_freq.txt"
            },
            "size": 188142,
            "type": "txt"
           },
           {
            "bucket": "dee72b4a-cd96-4c22-8c87-a6332022dc52",
            "checksum": "md5:838db13c52a3028784bb32260d163854",
            "key": "Fig_7_osc_strength.txt",
            "links": {
             "self": "https://zenodo.org/api/files/dee72b4a-cd96-4c22-8c87-a6332022dc52/Fig_7_osc_strength.txt"
            },
            "size": 188142,
            "type": "txt"
           },
           {
            "bucket": "dee72b4a-cd96-4c22-8c87-a6332022dc52",
            "checksum": "md5:998e22a681dd6cee571bbd1b42b1e229",
            "key": "Fig_7_sim_spectrum.txt",
            "links": {
             "self": "https://zenodo.org/api/files/dee72b4a-cd96-4c22-8c87-a6332022dc52/Fig_7_sim_spectrum.txt"
            },
            "size": 490049,
            "type": "txt"
           },
           {
            "bucket": "dee72b4a-cd96-4c22-8c87-a6332022dc52",
            "checksum": "md5:b67804c975029b58da1d0188c038c055",
            "key": "Fig_8_freq_vs_r_smooth.txt",
            "links": {
             "self": "https://zenodo.org/api/files/dee72b4a-cd96-4c22-8c87-a6332022dc52/Fig_8_freq_vs_r_smooth.txt"
            },
            "size": 73794,
            "type": "txt"
           },
           {
            "bucket": "dee72b4a-cd96-4c22-8c87-a6332022dc52",
            "checksum": "md5:11d38b57fa46d7c3585d9abff2bfe9e9",
            "key": "Fig_8_freq_vs_r.txt",
            "links": {
             "self": "https://zenodo.org/api/files/dee72b4a-cd96-4c22-8c87-a6332022dc52/Fig_8_freq_vs_r.txt"
            },
            "size": 73794,
            "type": "txt"
           },
           {
            "bucket": "dee72b4a-cd96-4c22-8c87-a6332022dc52",
            "checksum": "md5:7b2b16158acc9f0ecf818cd952d96a16",
            "key": "Fig_8_os_vs_r.txt",
            "links": {
             "self": "https://zenodo.org/api/files/dee72b4a-cd96-4c22-8c87-a6332022dc52/Fig_8_os_vs_r.txt"
            },
            "size": 73794,
            "type": "txt"
           },
           {
            "bucket": "dee72b4a-cd96-4c22-8c87-a6332022dc52",
            "checksum": "md5:3ff531c7a9a7ac7a9d629d6d69c8becc",
            "key": "Fig_9_NOTE.txt",
            "links": {
             "self": "https://zenodo.org/api/files/dee72b4a-cd96-4c22-8c87-a6332022dc52/Fig_9_NOTE.txt"
            },
            "size": 104,
            "type": "txt"
           },
           {
            "bucket": "dee72b4a-cd96-4c22-8c87-a6332022dc52",
            "checksum": "md5:76ae597e86da6f6c81ffc2e8f74058a6",
            "key": "Fig_9_sim_anis.txt",
            "links": {
             "self": "https://zenodo.org/api/files/dee72b4a-cd96-4c22-8c87-a6332022dc52/Fig_9_sim_anis.txt"
            },
            "size": 760779,
            "type": "txt"
           },
           {
            "bucket": "dee72b4a-cd96-4c22-8c87-a6332022dc52",
            "checksum": "md5:51ea1711ff768e88e62e9ea36049d53e",
            "key": "Fig_S10.txt",
            "links": {
             "self": "https://zenodo.org/api/files/dee72b4a-cd96-4c22-8c87-a6332022dc52/Fig_S10.txt"
            },
            "size": 49698,
            "type": "txt"
           },
           {
            "bucket": "dee72b4a-cd96-4c22-8c87-a6332022dc52",
            "checksum": "md5:176f04524901a18ac46fc2de632dadf3",
            "key": "Fig_S11.txt",
            "links": {
             "self": "https://zenodo.org/api/files/dee72b4a-cd96-4c22-8c87-a6332022dc52/Fig_S11.txt"
            },
            "size": 1863,
            "type": "txt"
           },
           {
            "bucket": "dee72b4a-cd96-4c22-8c87-a6332022dc52",
            "checksum": "md5:5173a8e5dc3788b125656f7016ae430b",
            "key": "Fig_S12.txt",
            "links": {
             "self": "https://zenodo.org/api/files/dee72b4a-cd96-4c22-8c87-a6332022dc52/Fig_S12.txt"
            },
            "size": 6600,
            "type": "txt"
           },
           {
            "bucket": "dee72b4a-cd96-4c22-8c87-a6332022dc52",
            "checksum": "md5:64a64b5723925b280e9e50c4f337761c",
            "key": "Fig_S1.txt",
            "links": {
             "self": "https://zenodo.org/api/files/dee72b4a-cd96-4c22-8c87-a6332022dc52/Fig_S1.txt"
            },
            "size": 24598,
            "type": "txt"
           },
           {
            "bucket": "dee72b4a-cd96-4c22-8c87-a6332022dc52",
            "checksum": "md5:df9a6cbc8fa7b90af9d527c3253f85db",
            "key": "Fig_S2.txt",
            "links": {
             "self": "https://zenodo.org/api/files/dee72b4a-cd96-4c22-8c87-a6332022dc52/Fig_S2.txt"
            },
            "size": 24789,
            "type": "txt"
           },
           {
            "bucket": "dee72b4a-cd96-4c22-8c87-a6332022dc52",
            "checksum": "md5:32af26eeede92caeb21a057645cf5959",
            "key": "Fig_S3.txt",
            "links": {
             "self": "https://zenodo.org/api/files/dee72b4a-cd96-4c22-8c87-a6332022dc52/Fig_S3.txt"
            },
            "size": 2938,
            "type": "txt"
           },
           {
            "bucket": "dee72b4a-cd96-4c22-8c87-a6332022dc52",
            "checksum": "md5:89e76e741ca7edced4b724f9333cc0a8",
            "key": "Fig_S4_anis_m1.txt",
            "links": {
             "self": "https://zenodo.org/api/files/dee72b4a-cd96-4c22-8c87-a6332022dc52/Fig_S4_anis_m1.txt"
            },
            "size": 5510,
            "type": "txt"
           },
           {
            "bucket": "dee72b4a-cd96-4c22-8c87-a6332022dc52",
            "checksum": "md5:34685c32adafde05a43050f246ea55fe",
            "key": "Fig_S4_anis_m2.txt",
            "links": {
             "self": "https://zenodo.org/api/files/dee72b4a-cd96-4c22-8c87-a6332022dc52/Fig_S4_anis_m2.txt"
            },
            "size": 5510,
            "type": "txt"
           },
           {
            "bucket": "dee72b4a-cd96-4c22-8c87-a6332022dc52",
            "checksum": "md5:f1941755fa3dd831f8136179088cc640",
            "key": "Fig_S4_decay_m1.txt",
            "links": {
             "self": "https://zenodo.org/api/files/dee72b4a-cd96-4c22-8c87-a6332022dc52/Fig_S4_decay_m1.txt"
            },
            "size": 4294,
            "type": "txt"
           },
           {
            "bucket": "dee72b4a-cd96-4c22-8c87-a6332022dc52",
            "checksum": "md5:1c9b9168436c436732a1f428c4b7fea5",
            "key": "Fig_S4_decay_m2.txt",
            "links": {
             "self": "https://zenodo.org/api/files/dee72b4a-cd96-4c22-8c87-a6332022dc52/Fig_S4_decay_m2.txt"
            },
            "size": 4294,
            "type": "txt"
           },
           {
            "bucket": "dee72b4a-cd96-4c22-8c87-a6332022dc52",
            "checksum": "md5:e649ff56d17084858c64d774a10879b0",
            "key": "Fig_S5_anis_m1.txt",
            "links": {
             "self": "https://zenodo.org/api/files/dee72b4a-cd96-4c22-8c87-a6332022dc52/Fig_S5_anis_m1.txt"
            },
            "size": 14210,
            "type": "txt"
           },
           {
            "bucket": "dee72b4a-cd96-4c22-8c87-a6332022dc52",
            "checksum": "md5:ba3c6ba524487b0535295846c1d3dc5f",
            "key": "Fig_S5_anis_m2.txt",
            "links": {
             "self": "https://zenodo.org/api/files/dee72b4a-cd96-4c22-8c87-a6332022dc52/Fig_S5_anis_m2.txt"
            },
            "size": 14210,
            "type": "txt"
           },
           {
            "bucket": "dee72b4a-cd96-4c22-8c87-a6332022dc52",
            "checksum": "md5:ca1bb08bdbaf7af994984550c9627a65",
            "key": "Fig_S5_decay_m1.txt",
            "links": {
             "self": "https://zenodo.org/api/files/dee72b4a-cd96-4c22-8c87-a6332022dc52/Fig_S5_decay_m1.txt"
            },
            "size": 11074,
            "type": "txt"
           },
           {
            "bucket": "dee72b4a-cd96-4c22-8c87-a6332022dc52",
            "checksum": "md5:a198bd1b280dadfe77c7602c369ae214",
            "key": "Fig_S5_decay_m2.txt",
            "links": {
             "self": "https://zenodo.org/api/files/dee72b4a-cd96-4c22-8c87-a6332022dc52/Fig_S5_decay_m2.txt"
            },
            "size": 11074,
            "type": "txt"
           },
           {
            "bucket": "dee72b4a-cd96-4c22-8c87-a6332022dc52",
            "checksum": "md5:946caeb5a0ec24e6287e448e403305b1",
            "key": "Fig_S7_all_freq.txt",
            "links": {
             "self": "https://zenodo.org/api/files/dee72b4a-cd96-4c22-8c87-a6332022dc52/Fig_S7_all_freq.txt"
            },
            "size": 188142,
            "type": "txt"
           },
           {
            "bucket": "dee72b4a-cd96-4c22-8c87-a6332022dc52",
            "checksum": "md5:838db13c52a3028784bb32260d163854",
            "key": "Fig_S7_all_osc_stren.txt",
            "links": {
             "self": "https://zenodo.org/api/files/dee72b4a-cd96-4c22-8c87-a6332022dc52/Fig_S7_all_osc_stren.txt"
            },
            "size": 188142,
            "type": "txt"
           }
          ],
          "id": 2872150,
          "links": {
           "badge": "https://zenodo.org/badge/doi/10.5281/zenodo.2872150.svg",
           "bucket": "https://zenodo.org/api/files/dee72b4a-cd96-4c22-8c87-a6332022dc52",
           "conceptbadge": "https://zenodo.org/badge/doi/10.5281/zenodo.2872149.svg",
           "conceptdoi": "https://doi.org/10.5281/zenodo.2872149",
           "doi": "https://doi.org/10.5281/zenodo.2872150",
           "html": "https://zenodo.org/record/2872150",
           "latest": "https://zenodo.org/api/records/2872150",
           "latest_html": "https://zenodo.org/record/2872150",
           "self": "https://zenodo.org/api/records/2872150"
          },
          "metadata": {
           "access_right": "open",
           "access_right_category": "success",
           "creators": [
            {
             "affiliation": "Dpt. of physical chemistry, university of Geneva",
             "name": "Rumble, Christopher",
             "orcid": "0000-0003-1757-8960"
            },
            {
             "affiliation": "Dpt. of physical chemistry, university of Geneva",
             "name": "Vauthey,  Eric",
             "orcid": "0000-0002-9580-9683"
            }
           ],
           "description": "<p>The files contains all the data that are shown in the figures&nbsp; of the article:</p>\n\n<p>Rumble, C.; Vauthey, E. Structural Dynamics of an Excited Donor-Acceptor Complex from Ultrafast Polarized Infrared Spectroscopy, Molecular Dynamics Simulations, and Quantum Chemical Calculations. Phys. Chem. Chem. Phys. 21 (2019).&nbsp; 10.1039/C9CP00795D</p>",
           "doi": "10.5281/zenodo.2872150",
           "license": {
            "id": "CC-BY-4.0"
           },
           "publication_date": "2019-05-16",
           "related_identifiers": [
            {
             "identifier": "10.5281/zenodo.2872149",
             "relation": "isVersionOf",
             "scheme": "doi"
            }
           ],
           "relations": {
            "version": [
             {
              "count": 1,
              "index": 0,
              "is_last": true,
              "last_child": {
               "pid_type": "recid",
               "pid_value": "2872150"
              },
              "parent": {
               "pid_type": "recid",
               "pid_value": "2872149"
              }
             }
            ]
           },
           "resource_type": {
            "title": "Dataset",
            "type": "dataset"
           },
           "title": "Structural Dynamics of an Excited Donor-Acceptor Complex from Ultrafast Polarized Infrared Spectroscopy, Molecular Dynamics Simulations, and Quantum Chemical Calculations"
          },
          "owners": [
           50690
          ],
          "revision": 4,
          "stats": {
           "downloads": 43,
           "unique_downloads": 4,
           "unique_views": 29,
           "version_downloads": 43,
           "version_unique_downloads": 4,
           "version_unique_views": 29,
           "version_views": 32,
           "version_volume": 2806202,
           "views": 32,
           "volume": 2806202
          },
          "updated": "2020-01-24T19:23:09.849022+00:00"
         },
         {
          "conceptdoi": "10.5281/zenodo.3465883",
          "conceptrecid": "3465883",
          "created": "2019-10-17T10:17:28.008896+00:00",
          "doi": "10.5281/zenodo.3465884",
          "files": [
           {
            "bucket": "f5b2ea5d-4d4b-49a4-b368-b7897cffff07",
            "checksum": "md5:fc744d3ea35eaf33c31a0e051bf29bd6",
            "key": "Abelak_etal_Methods.pdf",
            "links": {
             "self": "https://zenodo.org/api/files/f5b2ea5d-4d4b-49a4-b368-b7897cffff07/Abelak_etal_Methods.pdf"
            },
            "size": 128252,
            "type": "pdf"
           },
           {
            "bucket": "f5b2ea5d-4d4b-49a4-b368-b7897cffff07",
            "checksum": "md5:0819b0491bcd45d7f9fb5320a1a8ab9b",
            "key": "C2J2_min3_mod_noH.pdb",
            "links": {
             "self": "https://zenodo.org/api/files/f5b2ea5d-4d4b-49a4-b368-b7897cffff07/C2J2_min3_mod_noH.pdb"
            },
            "size": 306165,
            "type": "pdb"
           },
           {
            "bucket": "f5b2ea5d-4d4b-49a4-b368-b7897cffff07",
            "checksum": "md5:d65684d9d1335f396cdaf10997c6013f",
            "key": "create_sim4_repeats.sh",
            "links": {
             "self": "https://zenodo.org/api/files/f5b2ea5d-4d4b-49a4-b368-b7897cffff07/create_sim4_repeats.sh"
            },
            "size": 11633,
            "type": "sh"
           },
           {
            "bucket": "f5b2ea5d-4d4b-49a4-b368-b7897cffff07",
            "checksum": "md5:6daba56e6a4207a7f7274331c26e5bc0",
            "key": "docking_wildtype_C2J2.zip",
            "links": {
             "self": "https://zenodo.org/api/files/f5b2ea5d-4d4b-49a4-b368-b7897cffff07/docking_wildtype_C2J2.zip"
            },
            "size": 596095,
            "type": "zip"
           }
          ],
          "id": 3465884,
          "links": {
           "badge": "https://zenodo.org/badge/doi/10.5281/zenodo.3465884.svg",
           "bucket": "https://zenodo.org/api/files/f5b2ea5d-4d4b-49a4-b368-b7897cffff07",
           "conceptbadge": "https://zenodo.org/badge/doi/10.5281/zenodo.3465883.svg",
           "conceptdoi": "https://doi.org/10.5281/zenodo.3465883",
           "doi": "https://doi.org/10.5281/zenodo.3465884",
           "html": "https://zenodo.org/record/3465884",
           "latest": "https://zenodo.org/api/records/3465884",
           "latest_html": "https://zenodo.org/record/3465884",
           "self": "https://zenodo.org/api/records/3465884"
          },
          "metadata": {
           "access_right": "open",
           "access_right_category": "success",
           "creators": [
            {
             "affiliation": "Royal Veterinary College, University of London",
             "name": "Abelak, Kavin"
            },
            {
             "affiliation": "Royal Veterinary College, University of London",
             "name": "Bishop-Bailey, David"
            },
            {
             "affiliation": "Birkbeck, University of London",
             "name": "Nobeli, Irene",
             "orcid": "0000-0001-8616-170X"
            }
           ],
           "description": "<p>This is the &quot;parent&quot; repository for the Data Note : &quot;&shy;Molecular dynamics simulations of the interaction of wild type and mutant human CYP2J2 with polyunsaturated fatty acids&quot; by Abelak, Bishop-Bailey and Nobeli.</p>\n\n<p>It contains a document (<strong>Abelak_etal_Methods.pdf</strong>) describing the methods used to produce the data here and the data in all repositories supplementing it.</p>\n\n<p>It also contains a shell script (<strong>create_sim4_repeats.sh</strong>)&nbsp;that is typical of those used to set up the molecular dynamics simulations in the&nbsp;repositories supplementing this one.</p>\n\n<p>Finally, it contains the results of the homology modelling and docking simulations that formed the starting points for the molecular dynamics simulations in this study.</p>\n\n<p>Description of files in this dataset:</p>\n\n<p><strong>C2J2_min3_mod_noH.pdb</strong> : Homology model of the wild type CYP2J2 built from an alignment of templates with PDB ids: 1SUO, 2P85, 3EBS and 1Z10.</p>\n\n<p><strong>docking_wild_type_C2J2.zip</strong> : Nine docked poses of arachidonic acid docked to the homology model of the wild type CYP2J2.</p>\n\n<p>Details of how this data was produced is available in the Abelak_etal_Methods.docx document.</p>",
           "doi": "10.5281/zenodo.3465884",
           "keywords": [
            "CYP2J2",
            "homology model",
            "docking",
            "arachidonic acid",
            "cytochrome P450",
            "molecular dynamics"
           ],
           "license": {
            "id": "CC-BY-4.0"
           },
           "notes": "Funding and acknowledgments\nKKA was supported by a PhD studentship from the London Interdisciplinary Biosciences Consortium (LIDo) BBSRC Doctoral Training Partnership programme.\nThe work presented here made use of Emerald, a GPU-accelerated High Performance Computer, made available by the Science and Engineering South Consortium operated in partnership with the STFC Rutherford-Appleton Laboratory.",
           "publication_date": "2019-09-30",
           "related_identifiers": [
            {
             "identifier": "10.5281/zenodo.3465590",
             "relation": "isSupplementedBy",
             "resource_type": "dataset",
             "scheme": "doi"
            },
            {
             "identifier": "10.5281/zenodo.3466692",
             "relation": "isSupplementedBy",
             "resource_type": "dataset",
             "scheme": "doi"
            },
            {
             "identifier": "10.5281/zenodo.3473886",
             "relation": "isSupplementedBy",
             "resource_type": "dataset",
             "scheme": "doi"
            },
            {
             "identifier": "10.5281/zenodo.3473909",
             "relation": "isSupplementedBy",
             "resource_type": "dataset",
             "scheme": "doi"
            },
            {
             "identifier": "10.5281/zenodo.3473927",
             "relation": "isSupplementedBy",
             "resource_type": "dataset",
             "scheme": "doi"
            },
            {
             "identifier": "10.5281/zenodo.3483594",
             "relation": "isSupplementedBy",
             "resource_type": "dataset",
             "scheme": "doi"
            },
            {
             "identifier": "10.5281/zenodo.3483966",
             "relation": "isSupplementedBy",
             "resource_type": "dataset",
             "scheme": "doi"
            },
            {
             "identifier": "10.5281/zenodo.3482943",
             "relation": "isSupplementedBy",
             "resource_type": "dataset",
             "scheme": "doi"
            },
            {
             "identifier": "10.5281/zenodo.3483493",
             "relation": "isSupplementedBy",
             "resource_type": "dataset",
             "scheme": "doi"
            },
            {
             "identifier": "10.5281/zenodo.3484029",
             "relation": "isSupplementedBy",
             "resource_type": "dataset",
             "scheme": "doi"
            },
            {
             "identifier": "10.5281/zenodo.3484124",
             "relation": "isSupplementedBy",
             "resource_type": "dataset",
             "scheme": "doi"
            },
            {
             "identifier": "10.5281/zenodo.3484437",
             "relation": "isSupplementedBy",
             "resource_type": "dataset",
             "scheme": "doi"
            },
            {
             "identifier": "10.5281/zenodo.3484448",
             "relation": "isSupplementedBy",
             "resource_type": "dataset",
             "scheme": "doi"
            },
            {
             "identifier": "10.5281/zenodo.3465883",
             "relation": "isVersionOf",
             "scheme": "doi"
            }
           ],
           "relations": {
            "version": [
             {
              "count": 1,
              "index": 0,
              "is_last": true,
              "last_child": {
               "pid_type": "recid",
               "pid_value": "3465884"
              },
              "parent": {
               "pid_type": "recid",
               "pid_value": "3465883"
              }
             }
            ]
           },
           "resource_type": {
            "title": "Dataset",
            "type": "dataset"
           },
           "title": "Homology modelling, molecular docking and molecular dynamics simulations of wild type and mutant human CYP2J2 with three polyunsaturated fatty acids",
           "version": "1.0"
          },
          "owners": [
           65299
          ],
          "revision": 4,
          "stats": {
           "downloads": 84,
           "unique_downloads": 50,
           "unique_views": 72,
           "version_downloads": 84,
           "version_unique_downloads": 50,
           "version_unique_views": 72,
           "version_views": 81,
           "version_volume": 16247053,
           "views": 81,
           "volume": 16247053
          },
          "updated": "2020-01-24T19:23:54.926957+00:00"
         },
         {
          "conceptdoi": "10.5281/zenodo.3459609",
          "conceptrecid": "3459609",
          "created": "2019-09-25T10:29:24.560219+00:00",
          "doi": "10.5281/zenodo.3459610",
          "files": [
           {
            "bucket": "dcef128e-3e45-449c-8357-f6149573f7cc",
            "checksum": "md5:8a5374d4610424378b2a24a3c9260a04",
            "key": "conductivity.csv",
            "links": {
             "self": "https://zenodo.org/api/files/dcef128e-3e45-449c-8357-f6149573f7cc/conductivity.csv"
            },
            "size": 8011287,
            "type": "csv"
           },
           {
            "bucket": "dcef128e-3e45-449c-8357-f6149573f7cc",
            "checksum": "md5:6a618d3474116755c00989e608ee1ece",
            "key": "dissolved oxygen.csv",
            "links": {
             "self": "https://zenodo.org/api/files/dcef128e-3e45-449c-8357-f6149573f7cc/dissolved%20oxygen.csv"
            },
            "size": 7586542,
            "type": "csv"
           },
           {
            "bucket": "dcef128e-3e45-449c-8357-f6149573f7cc",
            "checksum": "md5:88cface6997a6f085a5bc8bbb46e489a",
            "key": "fluorescense.csv",
            "links": {
             "self": "https://zenodo.org/api/files/dcef128e-3e45-449c-8357-f6149573f7cc/fluorescense.csv"
            },
            "size": 7046801,
            "type": "csv"
           },
           {
            "bucket": "dcef128e-3e45-449c-8357-f6149573f7cc",
            "checksum": "md5:ccd10173a1458ae0d77ffe30d4d4116e",
            "key": "normalized fluorescence.csv",
            "links": {
             "self": "https://zenodo.org/api/files/dcef128e-3e45-449c-8357-f6149573f7cc/normalized%20fluorescence.csv"
            },
            "size": 7024577,
            "type": "csv"
           },
           {
            "bucket": "dcef128e-3e45-449c-8357-f6149573f7cc",
            "checksum": "md5:8201f6c3db3a1184902a847cfad55c7a",
            "key": "normalized turbidity.csv",
            "links": {
             "self": "https://zenodo.org/api/files/dcef128e-3e45-449c-8357-f6149573f7cc/normalized%20turbidity.csv"
            },
            "size": 7494027,
            "type": "csv"
           },
           {
            "bucket": "dcef128e-3e45-449c-8357-f6149573f7cc",
            "checksum": "md5:5f4fbe3fc11a4d05f1f2838f2216071e",
            "key": "oxygen.csv",
            "links": {
             "self": "https://zenodo.org/api/files/dcef128e-3e45-449c-8357-f6149573f7cc/oxygen.csv"
            },
            "size": 7778158,
            "type": "csv"
           },
           {
            "bucket": "dcef128e-3e45-449c-8357-f6149573f7cc",
            "checksum": "md5:fefcd9edaf7217feb34bab5d2d4ebead",
            "key": "oxygen saturation.csv",
            "links": {
             "self": "https://zenodo.org/api/files/dcef128e-3e45-449c-8357-f6149573f7cc/oxygen%20saturation.csv"
            },
            "size": 7695525,
            "type": "csv"
           },
           {
            "bucket": "dcef128e-3e45-449c-8357-f6149573f7cc",
            "checksum": "md5:9e1d8ca437f4a432baa77979f23d16e5",
            "key": "percentage of oxygen saturation.csv",
            "links": {
             "self": "https://zenodo.org/api/files/dcef128e-3e45-449c-8357-f6149573f7cc/percentage%20of%20oxygen%20saturation.csv"
            },
            "size": 7549955,
            "type": "csv"
           },
           {
            "bucket": "dcef128e-3e45-449c-8357-f6149573f7cc",
            "checksum": "md5:875ad982af97386615da15fd3ad4bd68",
            "key": "qual_Salmedina.csv",
            "links": {
             "self": "https://zenodo.org/api/files/dcef128e-3e45-449c-8357-f6149573f7cc/qual_Salmedina.csv"
            },
            "size": 30489468,
            "type": "csv"
           },
           {
            "bucket": "dcef128e-3e45-449c-8357-f6149573f7cc",
            "checksum": "md5:72c59105f1fe8f659b66db966ab18db5",
            "key": "salinity.csv",
            "links": {
             "self": "https://zenodo.org/api/files/dcef128e-3e45-449c-8357-f6149573f7cc/salinity.csv"
            },
            "size": 7867740,
            "type": "csv"
           },
           {
            "bucket": "dcef128e-3e45-449c-8357-f6149573f7cc",
            "checksum": "md5:6f92100bb82d286379791422f941768e",
            "key": "sealevel.csv",
            "links": {
             "self": "https://zenodo.org/api/files/dcef128e-3e45-449c-8357-f6149573f7cc/sealevel.csv"
            },
            "size": 5703673,
            "type": "csv"
           },
           {
            "bucket": "dcef128e-3e45-449c-8357-f6149573f7cc",
            "checksum": "md5:9109c89c89d8db8b8ceb2d316bd2829a",
            "key": "temperature.csv",
            "links": {
             "self": "https://zenodo.org/api/files/dcef128e-3e45-449c-8357-f6149573f7cc/temperature.csv"
            },
            "size": 7921825,
            "type": "csv"
           },
           {
            "bucket": "dcef128e-3e45-449c-8357-f6149573f7cc",
            "checksum": "md5:428bdc3fa7393095f43b4e68bbd8aa3f",
            "key": "turbidity.csv",
            "links": {
             "self": "https://zenodo.org/api/files/dcef128e-3e45-449c-8357-f6149573f7cc/turbidity.csv"
            },
            "size": 7911554,
            "type": "csv"
           },
           {
            "bucket": "dcef128e-3e45-449c-8357-f6149573f7cc",
            "checksum": "md5:945308c7d23cfcbe419bd927433de5a1",
            "key": "velocities.csv",
            "links": {
             "self": "https://zenodo.org/api/files/dcef128e-3e45-449c-8357-f6149573f7cc/velocities.csv"
            },
            "size": 110150411,
            "type": "csv"
           }
          ],
          "id": 3459610,
          "links": {
           "badge": "https://zenodo.org/badge/doi/10.5281/zenodo.3459610.svg",
           "bucket": "https://zenodo.org/api/files/dcef128e-3e45-449c-8357-f6149573f7cc",
           "conceptbadge": "https://zenodo.org/badge/doi/10.5281/zenodo.3459609.svg",
           "conceptdoi": "https://doi.org/10.5281/zenodo.3459609",
           "doi": "https://doi.org/10.5281/zenodo.3459610",
           "html": "https://zenodo.org/record/3459610",
           "latest": "https://zenodo.org/api/records/3459610",
           "latest_html": "https://zenodo.org/record/3459610",
           "self": "https://zenodo.org/api/records/3459610"
          },
          "metadata": {
           "access_right": "open",
           "access_right_category": "success",
           "creators": [
            {
             "affiliation": "Institute of Marine Sciences of Andalucia",
             "name": "Navarro, Gabriel",
             "orcid": "0000-0002-8919-0060"
            },
            {
             "affiliation": "Institute of Marine Sciences of Andalucia",
             "name": "Ruiz, Javier"
            },
            {
             "affiliation": "Andalusian Institute for Earth System Research, University of Granada",
             "name": "Cobos, Manuel",
             "orcid": "0000-0002-5896-3630"
            },
            {
             "affiliation": "Andalusian Institute for Earth System Research, University of Granada",
             "name": "Baquerizo, Asunción",
             "orcid": "0000-0002-3339-0653"
            },
            {
             "affiliation": "Andalusian Institute for Earth System Research, University of Granada",
             "name": "Díez-Minguito, Manuel",
             "orcid": "0000-0002-3068-9887"
            },
            {
             "affiliation": "Andalusian Institute for Earth System Research, University of Granada",
             "name": "Ortega-Sanchez, Miguel",
             "orcid": "0000-0002-1388-6870"
            },
            {
             "affiliation": "Andalusian Institute for Earth System Research, University of Granada",
             "name": "Losada, Miguel Ángel",
             "orcid": "0000-0002-2071-3134"
            }
           ],
           "description": "<p>The dataset included in this repository was obtained during the project entitled &ldquo;Propuesta metodol&oacute;gica para diagn&oacute;sticar las consecuencias de las actuaciones humanas en el estuario del Guadalquivir&rdquo; funded by the Autoridad Portuaria de Sevilla (APS), by the Consejer&iacute;a de Innovaci&oacute;n, Ciencia y Empresa (Junta de Andaluc&iacute;a), CTM2011-22580, MedEX (CTM2008-04036-E) and PR11-RNM-7722. The data were collected in real time from 2008 until 2010 with a remote monitoring system installed by the Institute of Marine Sciences of Andalusia (ICMAN-CSIC) (Navarro et al., 2011).</p>\n\n<p>&nbsp;</p>\n\n<p>The environmental quality station recorded turbidity, temperature, conductivity, normalized turbidity, dissolved oxygen, oxygen, oxygen saturation, percentage of oxygen saturation, fluorescence, normalized fluorescence, and salinity every thirty minutes. Current data were measured every 15 minutes by means of acoustic current profilers. The former datasets were obtained at several depths and different locations along the Guadalquivir estuary. Water level sensors recorded the position of the free water surface every 10 minutes at several locations along the Guadalquivir estuary. Wind velocity and direction and solar radiation were measured every 10 minutes in a meteorological station at the mouth of the Guadalquivir estuary.</p>\n\n<p>Brief description of dataset.</p>\n\n<ul>\n\t<li>\n\t<p>velocities.csv (in m/s)</p>\n\t</li>\n\t<li>\n\t<p>Turbidity.csv (in Volts), temperature (in Celsius), conductivity (in Siemens/m), normalized turbidity (in FNU), dissolved oxygen (mg/L), oxygen (in Volts), fluorescence (in Volts), normalized fluorescence (in Volts), oxygen saturation (mg/L), percentage of oxygen saturation (%), salinity (in PSU).</p>\n\t</li>\n\t<li>\n\t<p>qual_Salmedina.csv, R_mean (mean radiative flux in W/m&sup2;), R_max (max radiative flux in W/m&sup2;), Rel_humidity (relative humidity in %), D_mean (wind mean direction in degrees), D_max (wind maximum direction in degrees), D_sig (standard deviation of the wind direction in degrees), V_mean (mean wind velocity in m/s), V_max (maximum wind velocity in m/s), V_sig (standard deviation of the wind velocity in m/s), P_atm_mean (mean atmospheric pressure in mbar), T_mean (mean air temperature in Celsius), T_max (maximum air temperature in Celsius), T_sig (standard deviation of the air temperature in Celsius).</p>\n\t</li>\n\t<li>\n\t<p>Sealevel.csv (in meters)</p>\n\t</li>\n</ul>\n\n<p>A wide description of the datasets can be found in Navarro et al (2011).</p>\n\n<p>Contact person: infogdfa@ugr.es (or mcobosb@ugr.es)</p>",
           "doi": "10.5281/zenodo.3459610",
           "journal": {
            "issue": "6",
            "pages": "753–765",
            "title": "Ocean Dynamics",
            "volume": "61"
           },
           "keywords": [
            "Hydrodynamics, Water quality, suspended particle matter, wind field, air temperature"
           ],
           "language": "eng",
           "license": {
            "id": "CC-BY-4.0"
           },
           "notes": "More than 15 models were developed, i.e., models of distributed turbidity, tidal wave propagation, spatial and temporal distribution of salinity and temperature, etc. It was published more than 75 papers in peer-review journals, 8 chapters of books, more than 100 national and international conferences, 8 doctoral thesis and more than 15 final master thesis, final degree and final degree projects. More info can be found in https://gdfa.ugr.es/guadalquivir/. A selected sample of those papers is below.\n\nBramato, S., E. Contreras, M.J. Polo, A. Baquerizo, G. Navarro, M. Díez-Minguito, M.Á. Losada (2009) Dynamics of Suspended Sediments in the Guadalquivir estuary: Monitoring network and database management, Environmental Hydraulics – Theoretical, Experimental and Computational Solutions. Publisher Taylor and Francis, ISBN: 0415566975, 9780415566971.\n\nDíez-Minguito, M., A. Baquerizo, H.E. de Swart, M.Á. Losada (2014) Structure of the turbidity field in the Guadalquivir estuary: Analysis of observations and a box model approach. J. Geophys. Res.: Oceans, 119, 7190-7204\n\nDíez-Minguito, M., E. Contreras, M.J. Polo, and M.Á. Losada (2013) Spatio-temporal distribution, along-channel fluxes, and post-riverflood recovery of salinity in the Guadalquivir estuary (SW Spain). J. Geophys. Res.: Oceans, Vol. 118(5), 2267-2278.\n\nDíez-Minguito, M., A. Baquerizo, M. Ortega-Sánchez, G. Navarro, and M.Á. Losada (2012) Tide transformation in the Guadalquivir estuary (SW Spain) and process-based zonation. J. Geophys. Res.: Oceans, Vol. 117, No. C3, 2156-2202.\n\nLosada, M.Á., M. Díez-Minguito, M.Á. Reyes-Merlo (2016) Tidal-fluvial interaction in the Guadalquivir Estuary: Spatial and frequential response of currents and water levels. J. Geophys. Res.: Oceans. DOI: 10.1002/2016JC011984.\n\nNavarro, G., I.E. Huertas, E. Costas, S. Flecha, M. Díez-Minguito, I. Caballero, V. López-Rodas, L. Prieto, and J. Ruiz (2012) Use of a real-time remote monitoring network (RTRM) to characterize the Guadalquivir estuary (Spain). Sensors 12, 1398-1421, doi:10.3390/s120201398.\n\nNavarro, G., Gutiérrez F.J., Díez-Minguito, M., Losada M.A. y Ruiz, J. (2011) Temporal and spatial variability in the Guadalquivir estuary: a challenge for real-time telemetry. Ocean Dynamics DOI 10.1007/s10236-011-0379-6.\n\nPadilla, E.M., M. Díez-Minguito, M. Ortega-Sánchez, M.Á. Losada (2015) A subtidal model of temperature for a well-mixed narrow estuary: The Guadalquivir River Estuary (SW Spain). doi 10_1007s12237-015-0024-6. Estuaries and Coasts.\n\nReyes-Merlo, M.A., M. Díez-Minguito, M. Ortega-Sánchez, A. Baquerizo, M.Á. Losada (2013) On the relative influence of climate forcing agents on the saline intrusion in a well-mixed estuary: Medium-term Monte Carlo predictions. Journal of Coastal Research, Special Issue No. 65, pp.1200-1205.\n\nRuiz, J., Macías, D., Navarro, G. (2017) Natural forcings on a transformed territory overshoot thresholds of primary productivity in the Guadalquivir estuary, Continental Shelf Research, 148, 199-207.\n\nRuiz, J., D. Macías, M.A. Losada, M. Díez-Minguito, and L. Prieto (2013) A simple biogeochemical model for estuaries with high sediment loads: Application to the Guadalquivir river estuary (SW Iberia). Ecological modelling, 265, 194-206",
           "publication_date": "2019-09-25",
           "references": [
            "Navarro, G., Gutiérrez, F. J., Dı́ez-Minguito, M., Losada, M. A., & Ruiz, J. (2011). Temporal and spatial variability in the guadalquivir estuary: a challenge for real-time telemetry. Ocean Dynamics, 61 (6), 753–765.",
            "Navarro, G., Huertas, I. E., Costas, E., Flecha, S., Díez-Minguito, M., Caballero, I., López-Rodas, I., Prieto, L. & Ruiz, J. (2012). Use of a real-time remote monitoring network (RTRM) to characterize the Guadalquivir estuary (Spain). Sensors, 12(2), 1398-1421."
           ],
           "related_identifiers": [
            {
             "identifier": "10.5281/zenodo.3459609",
             "relation": "isVersionOf",
             "scheme": "doi"
            }
           ],
           "relations": {
            "version": [
             {
              "count": 1,
              "index": 0,
              "is_last": true,
              "last_child": {
               "pid_type": "recid",
               "pid_value": "3459610"
              },
              "parent": {
               "pid_type": "recid",
               "pid_value": "3459609"
              }
             }
            ]
           },
           "resource_type": {
            "title": "Dataset",
            "type": "dataset"
           },
           "title": "Atmospheric, hydrodynamic and water quality observations from environmental-quality stations, water level sensors, acoustic Doppler velocimeters, and meteorological stations located at the Guadalquivir river estuary (2008 - 2010)"
          },
          "owners": [
           78042
          ],
          "revision": 5,
          "stats": {
           "downloads": 114,
           "unique_downloads": 52,
           "unique_views": 73,
           "version_downloads": 112,
           "version_unique_downloads": 50,
           "version_unique_views": 71,
           "version_views": 81,
           "version_volume": 1584107562,
           "views": 83,
           "volume": 1600130136
          },
          "updated": "2020-01-24T19:24:40.160734+00:00"
         },
         {
          "conceptdoi": "10.5281/zenodo.3572716",
          "conceptrecid": "3572716",
          "created": "2020-01-21T16:34:45.414677+00:00",
          "doi": "10.5281/zenodo.3572717",
          "files": [
           {
            "bucket": "a0faaa24-2c8f-4916-a949-a548e100b8ca",
            "checksum": "md5:ea50f9579579c648c4923734b14b7224",
            "key": "F553A_2A-chainD-cluster1_2278.pdb",
            "links": {
             "self": "https://zenodo.org/api/files/a0faaa24-2c8f-4916-a949-a548e100b8ca/F553A_2A-chainD-cluster1_2278.pdb"
            },
            "size": 2115379,
            "type": "pdb"
           },
           {
            "bucket": "a0faaa24-2c8f-4916-a949-a548e100b8ca",
            "checksum": "md5:8fd556a7a137d176983d4163c234222d",
            "key": "HsGluN12AA_F553A_MD.tar.gz",
            "links": {
             "self": "https://zenodo.org/api/files/a0faaa24-2c8f-4916-a949-a548e100b8ca/HsGluN12AA_F553A_MD.tar.gz"
            },
            "size": 6793596645,
            "type": "gz"
           },
           {
            "bucket": "a0faaa24-2c8f-4916-a949-a548e100b8ca",
            "checksum": "md5:eb8cf45cb3c052207c8e525972f660fd",
            "key": "HsGluN12AA_used_1.pdb",
            "links": {
             "self": "https://zenodo.org/api/files/a0faaa24-2c8f-4916-a949-a548e100b8ca/HsGluN12AA_used_1.pdb"
            },
            "size": 2046020,
            "type": "pdb"
           },
           {
            "bucket": "a0faaa24-2c8f-4916-a949-a548e100b8ca",
            "checksum": "md5:b30700ca9a3120fed4793ca1630ee746",
            "key": "HsGluN12AA_WT_MD.tar.gz",
            "links": {
             "self": "https://zenodo.org/api/files/a0faaa24-2c8f-4916-a949-a548e100b8ca/HsGluN12AA_WT_MD.tar.gz"
            },
            "size": 6707368146,
            "type": "gz"
           },
           {
            "bucket": "a0faaa24-2c8f-4916-a949-a548e100b8ca",
            "checksum": "md5:35ab630cbacb2abd565a481cf639b130",
            "key": "WT_2A-chainD-cluster1_2178.pdb",
            "links": {
             "self": "https://zenodo.org/api/files/a0faaa24-2c8f-4916-a949-a548e100b8ca/WT_2A-chainD-cluster1_2178.pdb"
            },
            "size": 2116959,
            "type": "pdb"
           },
           {
            "bucket": "a0faaa24-2c8f-4916-a949-a548e100b8ca",
            "checksum": "md5:47bfc5798fd8eb1c0a4109115b6b34c6",
            "key": "WT_N1-chainA-cluster1_1856.pdb",
            "links": {
             "self": "https://zenodo.org/api/files/a0faaa24-2c8f-4916-a949-a548e100b8ca/WT_N1-chainA-cluster1_1856.pdb"
            },
            "size": 2116959,
            "type": "pdb"
           }
          ],
          "id": 3572717,
          "links": {
           "badge": "https://zenodo.org/badge/doi/10.5281/zenodo.3572717.svg",
           "bucket": "https://zenodo.org/api/files/a0faaa24-2c8f-4916-a949-a548e100b8ca",
           "conceptbadge": "https://zenodo.org/badge/doi/10.5281/zenodo.3572716.svg",
           "conceptdoi": "https://doi.org/10.5281/zenodo.3572716",
           "doi": "https://doi.org/10.5281/zenodo.3572717",
           "html": "https://zenodo.org/record/3572717",
           "latest": "https://zenodo.org/api/records/3572717",
           "latest_html": "https://zenodo.org/record/3572717",
           "self": "https://zenodo.org/api/records/3572717"
          },
          "metadata": {
           "access_right": "open",
           "access_right_category": "success",
           "creators": [
            {
             "name": "Burger"
            }
           ],
           "description": "<p>Molecular dynamics simulation of the HsGluN1/GluN2A WT and F553A (GluN2A) mutant</p>",
           "doi": "10.5281/zenodo.3572717",
           "license": {
            "id": "CC-BY-4.0"
           },
           "publication_date": "2019-12-19",
           "related_identifiers": [
            {
             "identifier": "10.5281/zenodo.3572716",
             "relation": "isVersionOf",
             "scheme": "doi"
            }
           ],
           "relations": {
            "version": [
             {
              "count": 1,
              "index": 0,
              "is_last": true,
              "last_child": {
               "pid_type": "recid",
               "pid_value": "3572717"
              },
              "parent": {
               "pid_type": "recid",
               "pid_value": "3572716"
              }
             }
            ]
           },
           "resource_type": {
            "title": "Dataset",
            "type": "dataset"
           },
           "title": "MD Simulations HsGluN1/GluN2A WT/F553A"
          },
          "owners": [
           85590
          ],
          "revision": 2,
          "stats": {
           "downloads": 22,
           "unique_downloads": 6,
           "unique_views": 23,
           "version_downloads": 22,
           "version_unique_downloads": 6,
           "version_unique_views": 23,
           "version_views": 25,
           "version_volume": 60738459281,
           "views": 25,
           "volume": 60738459281
          },
          "updated": "2020-01-24T19:25:08.239515+00:00"
         },
         {
          "conceptdoi": "10.5281/zenodo.2619705",
          "conceptrecid": "2619705",
          "created": "2019-04-01T04:43:14.556146+00:00",
          "doi": "10.5281/zenodo.2619706",
          "files": [
           {
            "bucket": "cb34223c-89ec-4ea5-8569-780eaf379edf",
            "checksum": "md5:1a8c3244964092c307b5081a61567078",
            "key": "dissertation_data.tar.gz",
            "links": {
             "self": "https://zenodo.org/api/files/cb34223c-89ec-4ea5-8569-780eaf379edf/dissertation_data.tar.gz"
            },
            "size": 18133329553,
            "type": "gz"
           }
          ],
          "id": 2619706,
          "links": {
           "badge": "https://zenodo.org/badge/doi/10.5281/zenodo.2619706.svg",
           "bucket": "https://zenodo.org/api/files/cb34223c-89ec-4ea5-8569-780eaf379edf",
           "conceptbadge": "https://zenodo.org/badge/doi/10.5281/zenodo.2619705.svg",
           "conceptdoi": "https://doi.org/10.5281/zenodo.2619705",
           "doi": "https://doi.org/10.5281/zenodo.2619706",
           "html": "https://zenodo.org/record/2619706",
           "latest": "https://zenodo.org/api/records/2619706",
           "latest_html": "https://zenodo.org/record/2619706",
           "self": "https://zenodo.org/api/records/2619706"
          },
          "metadata": {
           "access_right": "open",
           "access_right_category": "success",
           "creators": [
            {
             "affiliation": "Boise State University",
             "name": "Stephen Thomas",
             "orcid": "0000-0002-8562-2217"
            }
           ],
           "description": "<p>Data necessary to reproduce results in the dissertation : Thomas, Stephen, &quot;New Methods for Understanding and Controlling the Self-Assembly of Reacting Systems Using Coarse-Grained Molecular Dynamics&quot; (2018). <em>Boise State University Theses and Dissertations</em>. 1448.</p>\n\n<p>10.18122/td/1448/boisestate</p>",
           "doi": "10.5281/zenodo.2619706",
           "license": {
            "id": "CC-BY-4.0"
           },
           "publication_date": "2019-03-31",
           "related_identifiers": [
            {
             "identifier": "10.18122/td/1448/boisestate",
             "relation": "isSupplementTo",
             "scheme": "doi"
            },
            {
             "identifier": "10.5281/zenodo.2619705",
             "relation": "isVersionOf",
             "scheme": "doi"
            }
           ],
           "relations": {
            "version": [
             {
              "count": 1,
              "index": 0,
              "is_last": true,
              "last_child": {
               "pid_type": "recid",
               "pid_value": "2619706"
              },
              "parent": {
               "pid_type": "recid",
               "pid_value": "2619705"
              }
             }
            ]
           },
           "resource_type": {
            "title": "Dataset",
            "type": "dataset"
           },
           "subjects": [],
           "thesis": {
            "supervisors": [
             {
              "affiliation": "Boise State University",
              "name": "Dr. Eric Jankowski"
             }
            ],
            "university": "Boise State University"
           },
           "title": "Data For   New Methods for Understanding and Controlling the Self-Assembly of Reacting Systems Using Coarse-Grained Molecular Dynamics",
           "version": "1.0"
          },
          "owners": [
           37228
          ],
          "revision": 5,
          "stats": {
           "downloads": 4,
           "unique_downloads": 4,
           "unique_views": 14,
           "version_downloads": 4,
           "version_unique_downloads": 4,
           "version_unique_views": 14,
           "version_views": 17,
           "version_volume": 72533318212,
           "views": 17,
           "volume": 72533318212
          },
          "updated": "2020-01-21T07:22:50.231456+00:00"
         },
         {
          "conceptdoi": "10.5281/zenodo.2600689",
          "conceptrecid": "2600689",
          "created": "2019-03-21T08:47:31.304405+00:00",
          "doi": "10.5281/zenodo.2600690",
          "files": [
           {
            "bucket": "07c47602-3c27-4790-803b-bd3ff7ecc305",
            "checksum": "md5:bc1ed6f2162188a4340855084d70cb9b",
            "key": "7cel_modeled.pdb",
            "links": {
             "self": "https://zenodo.org/api/files/07c47602-3c27-4790-803b-bd3ff7ecc305/7cel_modeled.pdb"
            },
            "size": 486073,
            "type": "pdb"
           }
          ],
          "id": 2600690,
          "links": {
           "badge": "https://zenodo.org/badge/doi/10.5281/zenodo.2600690.svg",
           "bucket": "https://zenodo.org/api/files/07c47602-3c27-4790-803b-bd3ff7ecc305",
           "conceptbadge": "https://zenodo.org/badge/doi/10.5281/zenodo.2600689.svg",
           "conceptdoi": "https://doi.org/10.5281/zenodo.2600689",
           "doi": "https://doi.org/10.5281/zenodo.2600690",
           "html": "https://zenodo.org/record/2600690",
           "latest": "https://zenodo.org/api/records/2600690",
           "latest_html": "https://zenodo.org/record/2600690",
           "self": "https://zenodo.org/api/records/2600690"
          },
          "metadata": {
           "access_right": "open",
           "access_right_category": "success",
           "creators": [
            {
             "name": "Chris Barnett"
            }
           ],
           "description": "<p>Cellulase structure based on PDB code 7CEL, used for Galaxy molecular dynamics tutorial.</p>",
           "doi": "10.5281/zenodo.2600690",
           "license": {
            "id": "CC-BY-4.0"
           },
           "publication_date": "2019-03-21",
           "related_identifiers": [
            {
             "identifier": "10.5281/zenodo.2600689",
             "relation": "isVersionOf",
             "scheme": "doi"
            }
           ],
           "relations": {
            "version": [
             {
              "count": 1,
              "index": 0,
              "is_last": true,
              "last_child": {
               "pid_type": "recid",
               "pid_value": "2600690"
              },
              "parent": {
               "pid_type": "recid",
               "pid_value": "2600689"
              }
             }
            ]
           },
           "resource_type": {
            "title": "Dataset",
            "type": "dataset"
           },
           "title": "Modeled cellulase structure"
          },
          "owners": [
           63140
          ],
          "revision": 4,
          "stats": {
           "downloads": 36,
           "unique_downloads": 36,
           "unique_views": 9038,
           "version_downloads": 36,
           "version_unique_downloads": 36,
           "version_unique_views": 9023,
           "version_views": 10130,
           "version_volume": 17498628,
           "views": 10148,
           "volume": 17498628
          },
          "updated": "2020-01-24T19:25:42.109842+00:00"
         },
         {
          "conceptdoi": "10.5281/zenodo.3352029",
          "conceptrecid": "3352029",
          "created": "2019-08-06T10:08:24.454132+00:00",
          "doi": "10.5281/zenodo.3352030",
          "files": [
           {
            "bucket": "4ae3cd44-da68-46d6-8741-1b2f96e0db5d",
            "checksum": "md5:00589274ad0a2aa2aa56d986f793b305",
            "key": "ZENODO.zip",
            "links": {
             "self": "https://zenodo.org/api/files/4ae3cd44-da68-46d6-8741-1b2f96e0db5d/ZENODO.zip"
            },
            "size": 44644333109,
            "type": "zip"
           }
          ],
          "id": 3352030,
          "links": {
           "badge": "https://zenodo.org/badge/doi/10.5281/zenodo.3352030.svg",
           "bucket": "https://zenodo.org/api/files/4ae3cd44-da68-46d6-8741-1b2f96e0db5d",
           "conceptbadge": "https://zenodo.org/badge/doi/10.5281/zenodo.3352029.svg",
           "conceptdoi": "https://doi.org/10.5281/zenodo.3352029",
           "doi": "https://doi.org/10.5281/zenodo.3352030",
           "html": "https://zenodo.org/record/3352030",
           "latest": "https://zenodo.org/api/records/3352030",
           "latest_html": "https://zenodo.org/record/3352030",
           "self": "https://zenodo.org/api/records/3352030"
          },
          "metadata": {
           "access_right": "open",
           "access_right_category": "success",
           "creators": [
            {
             "affiliation": "Institute of Photonics and Electronics of the Czech Academy of Sciences, Prague, Czech Republic",
             "name": "Průša Jiří",
             "orcid": "0000-0001-6935-4964"
            },
            {
             "affiliation": "Institute of Photonics and Electronics of the Czech Academy of Sciences, Prague, Czech Republic",
             "name": "Cifra Michal",
             "orcid": "0000-0002-8853-9523"
            }
           ],
           "description": "<p>We present molecular dynamics (MD) trajectories of water solutions of eighth zwitterionic amino-acids (L- form) glycine (GLY), alanine (ALA), proline (PRO), threonine (THR), leucine (LEU), glutamine (GLN), histidine (HIS) and tyrosine (TYR) using various force field (OPLS-AA, Amber99ff-SB, GROMOS96 54a7, CHARMM19) and water model (SPC/E, TIP3P) combinations. Additionally, we present OPLS-AA molecular dynamics (MD) trajectories for alanine (ALA), leucine (LEU), glutamine (GLN), and tyrosine (TYR) varying the values of major force field parameters: charge on all amino acid atoms, bond length (all amino acid bonds), Lennard-Jones epsilon parameter and stiffness of bond angles. Our data enable to uncover sensitivity of molecular dynamics derived analysis to variation of force field and water models and force field parameters. This data set was used to understand the effect of molecular dynamics parameters on dielectric properties of amino acid solutions.</p>",
           "doi": "10.5281/zenodo.3352030",
           "keywords": [
            "Molecular dynamics",
            "Force field",
            "Amino acid",
            "Dielectric spectroscopy",
            "Biomolecules"
           ],
           "language": "eng",
           "license": {
            "id": "CC-BY-4.0"
           },
           "publication_date": "2019-07-31",
           "related_identifiers": [
            {
             "identifier": "10.5281/zenodo.3352029",
             "relation": "isVersionOf",
             "scheme": "doi"
            }
           ],
           "relations": {
            "version": [
             {
              "count": 1,
              "index": 0,
              "is_last": true,
              "last_child": {
               "pid_type": "recid",
               "pid_value": "3352030"
              },
              "parent": {
               "pid_type": "recid",
               "pid_value": "3352029"
              }
             }
            ]
           },
           "resource_type": {
            "title": "Dataset",
            "type": "dataset"
           },
           "title": "Dataset A1606 and A1905"
          },
          "owners": [
           72945
          ],
          "revision": 4,
          "stats": {
           "downloads": 31,
           "unique_downloads": 25,
           "unique_views": 28,
           "version_downloads": 31,
           "version_unique_downloads": 25,
           "version_unique_views": 28,
           "version_views": 33,
           "version_volume": 1383974326379,
           "views": 33,
           "volume": 1383974326379
          },
          "updated": "2020-01-24T19:24:37.541024+00:00"
         },
         {
          "conceptdoi": "10.5281/zenodo.3476168",
          "conceptrecid": "3476168",
          "created": "2019-10-08T11:27:58.424642+00:00",
          "doi": "10.5281/zenodo.3476169",
          "files": [
           {
            "bucket": "5886ea42-2992-4c27-90a2-cb3411fde9c6",
            "checksum": "md5:a91180773cb67555ff9d40358d11ae29",
            "key": "md_fit_dt100ps.xtc",
            "links": {
             "self": "https://zenodo.org/api/files/5886ea42-2992-4c27-90a2-cb3411fde9c6/md_fit_dt100ps.xtc"
            },
            "size": 1530136896,
            "type": "xtc"
           },
           {
            "bucket": "5886ea42-2992-4c27-90a2-cb3411fde9c6",
            "checksum": "md5:18c1bd9b8a29914826505ef928a4d1bc",
            "key": "md_fit.gro",
            "links": {
             "self": "https://zenodo.org/api/files/5886ea42-2992-4c27-90a2-cb3411fde9c6/md_fit.gro"
            },
            "size": 6135212,
            "type": "gro"
           },
           {
            "bucket": "5886ea42-2992-4c27-90a2-cb3411fde9c6",
            "checksum": "md5:5404a04f0ef22dfe161a79eb6d767165",
            "key": "stable_open.pdb",
            "links": {
             "self": "https://zenodo.org/api/files/5886ea42-2992-4c27-90a2-cb3411fde9c6/stable_open.pdb"
            },
            "size": 2164331,
            "type": "pdb"
           }
          ],
          "id": 3476169,
          "links": {
           "badge": "https://zenodo.org/badge/doi/10.5281/zenodo.3476169.svg",
           "bucket": "https://zenodo.org/api/files/5886ea42-2992-4c27-90a2-cb3411fde9c6",
           "conceptbadge": "https://zenodo.org/badge/doi/10.5281/zenodo.3476168.svg",
           "conceptdoi": "https://doi.org/10.5281/zenodo.3476168",
           "doi": "https://doi.org/10.5281/zenodo.3476169",
           "html": "https://zenodo.org/record/3476169",
           "latest": "https://zenodo.org/api/records/3476169",
           "latest_html": "https://zenodo.org/record/3476169",
           "self": "https://zenodo.org/api/records/3476169"
          },
          "metadata": {
           "access_right": "open",
           "access_right_category": "success",
           "creators": [
            {
             "affiliation": "University of Oxford",
             "name": "Dämgen, Marc A.",
             "orcid": "0000-0002-8229-7906"
            },
            {
             "affiliation": "University of Oxford",
             "name": "Biggin, Philip C.",
             "orcid": "0000-0001-5100-8836"
            }
           ],
           "description": "<p>Representative simulation trajectory and coordinate files (starting coordinates a representative structure) from the work which first appeared on bioRxiv:</p>\n\n<p>A Refined Open State of the Glycine Receptor Obtained Via Molecular Dynamics Simulations</p>\n\n<p>Marc A.&nbsp;D&auml;mgen,&nbsp;Philip C.&nbsp;Biggin</p>\n\n<p>bioRxiv&nbsp;668830;&nbsp;doi:&nbsp;https://doi.org/10.1101/668830</p>",
           "doi": "10.5281/zenodo.3476169",
           "keywords": [
            "molecular dynamics",
            "membrane protein",
            "cys-loop receptor",
            "computational",
            "gromacs"
           ],
           "license": {
            "id": "CC-BY-4.0"
           },
           "publication_date": "2019-10-08",
           "related_identifiers": [
            {
             "identifier": "10.5281/zenodo.3476168",
             "relation": "isVersionOf",
             "scheme": "doi"
            }
           ],
           "relations": {
            "version": [
             {
              "count": 1,
              "index": 0,
              "is_last": true,
              "last_child": {
               "pid_type": "recid",
               "pid_value": "3476169"
              },
              "parent": {
               "pid_type": "recid",
               "pid_value": "3476168"
              }
             }
            ]
           },
           "resource_type": {
            "title": "Dataset",
            "type": "dataset"
           },
           "title": "A Refined Open State of the Glycine Receptor Obtained Via Molecular Dynamics Simulations"
          },
          "owners": [
           23077
          ],
          "revision": 4,
          "stats": {
           "downloads": 40,
           "unique_downloads": 26,
           "unique_views": 72,
           "version_downloads": 38,
           "version_unique_downloads": 25,
           "version_unique_views": 72,
           "version_views": 74,
           "version_volume": 10829673986,
           "views": 74,
           "volume": 10837973529
          },
          "updated": "2020-01-24T19:25:36.701776+00:00"
         },
         {
          "conceptdoi": "10.5281/zenodo.2547670",
          "conceptrecid": "2547670",
          "created": "2019-01-25T15:34:53.146218+00:00",
          "doi": "10.5281/zenodo.2547671",
          "files": [
           {
            "bucket": "fab9c5da-a1fc-4358-ae14-50ca9b00e26c",
            "checksum": "md5:cb31fb62d3d32a9a06f97dbc8a65bbf6",
            "key": "S6-molecular dynamics,scripts.zip",
            "links": {
             "self": "https://zenodo.org/api/files/fab9c5da-a1fc-4358-ae14-50ca9b00e26c/S6-molecular%20dynamics%2Cscripts.zip"
            },
            "size": 16162492,
            "type": "zip"
           },
           {
            "bucket": "fab9c5da-a1fc-4358-ae14-50ca9b00e26c",
            "checksum": "md5:924f15017f84af743e37c32bda35c8d7",
            "key": "traj_centered_2_07.xtc",
            "links": {
             "self": "https://zenodo.org/api/files/fab9c5da-a1fc-4358-ae14-50ca9b00e26c/traj_centered_2_07.xtc"
            },
            "size": 20009382088,
            "type": "xtc"
           },
           {
            "bucket": "fab9c5da-a1fc-4358-ae14-50ca9b00e26c",
            "checksum": "md5:1ffe64396b3805ca8674f9855a8d004b",
            "key": "traj_centered_no_field.xtc",
            "links": {
             "self": "https://zenodo.org/api/files/fab9c5da-a1fc-4358-ae14-50ca9b00e26c/traj_centered_no_field.xtc"
            },
            "size": 19960782784,
            "type": "xtc"
           }
          ],
          "id": 2547671,
          "links": {
           "badge": "https://zenodo.org/badge/doi/10.5281/zenodo.2547671.svg",
           "bucket": "https://zenodo.org/api/files/fab9c5da-a1fc-4358-ae14-50ca9b00e26c",
           "conceptbadge": "https://zenodo.org/badge/doi/10.5281/zenodo.2547670.svg",
           "conceptdoi": "https://doi.org/10.5281/zenodo.2547670",
           "doi": "https://doi.org/10.5281/zenodo.2547671",
           "html": "https://zenodo.org/record/2547671",
           "latest": "https://zenodo.org/api/records/2547671",
           "latest_html": "https://zenodo.org/record/2547671",
           "self": "https://zenodo.org/api/records/2547671"
          },
          "metadata": {
           "access_right": "open",
           "access_right_category": "success",
           "creators": [
            {
             "affiliation": "Department of Information Engineering, Electronics, and Telecommunications, Sapienza University of Rome, Italy",
             "name": "Marracino, Paolo"
            },
            {
             "affiliation": "nstitute of Photonics and Electronics of the Czech Academy of Sciences, Czechia",
             "name": "Havelka, Daniel"
            },
            {
             "affiliation": "nstitute of Photonics and Electronics of the Czech Academy of Sciences, Czechia",
             "name": "Průša, Jiří"
            },
            {
             "affiliation": "Department of Information Engineering, Electronics, and Telecommunications, Sapienza University of Rome, Italy",
             "name": "Liberti, Micaela"
            },
            {
             "affiliation": "Department of Physics, University of Alberta, Canada",
             "name": "Tuszynski, Jack A."
            },
            {
             "affiliation": "Medicinal Chemistry Department, Heliopolis University, Egypt",
             "name": "Ayoub, Ahmed T."
            },
            {
             "affiliation": "Department of Information Engineering, Electronics, and Telecommunications, Sapienza University of Rome, Italy",
             "name": "Apollonio, Francesca",
             "orcid": "0000-0001-6937-9731"
            },
            {
             "affiliation": "nstitute of Photonics and Electronics of the Czech Academy of Sciences, Czechia",
             "name": "Cifra, Michal",
             "orcid": "0000-0002-8853-9523"
            }
           ],
           "description": "<p>Molecular dynamics simulation trajectories of tubulin in electric field</p>\n\n<p><a href=\"https://zenodo.org/api/files/81479d2b-9168-43d1-8573-9c979435b8f0/traj_centered_no_field.xtc\">traj_centered_no_field.xtc&nbsp;</a>&nbsp;no field</p>\n\n<p><a href=\"https://zenodo.org/api/files/81479d2b-9168-43d1-8573-9c979435b8f0/traj_centered_2_07.xtc\">traj_centered_2_07.xtc&nbsp;</a> 2e7 V/m</p>\n\n<p>&nbsp;</p>",
           "doi": "10.5281/zenodo.2547671",
           "license": {
            "id": "CC-BY-4.0"
           },
           "publication_date": "2019-01-24",
           "related_identifiers": [
            {
             "identifier": "10.5281/zenodo.2547670",
             "relation": "isVersionOf",
             "scheme": "doi"
            }
           ],
           "relations": {
            "version": [
             {
              "count": 1,
              "index": 0,
              "is_last": true,
              "last_child": {
               "pid_type": "recid",
               "pid_value": "2547671"
              },
              "parent": {
               "pid_type": "recid",
               "pid_value": "2547670"
              }
             }
            ]
           },
           "resource_type": {
            "title": "Dataset",
            "type": "dataset"
           },
           "title": "S6 molecular dynamics simulation trajectories of tubulin in electric field: no field, 2e7 V/m, A1604"
          },
          "owners": [
           59433
          ],
          "revision": 4,
          "stats": {
           "downloads": 12,
           "unique_downloads": 10,
           "unique_views": 47,
           "version_downloads": 12,
           "version_unique_downloads": 10,
           "version_unique_views": 47,
           "version_views": 55,
           "version_volume": 80118228984,
           "views": 55,
           "volume": 80118228984
          },
          "updated": "2020-01-21T07:22:03.935372+00:00"
         },
         {
          "conceptdoi": "10.5281/zenodo.3525950",
          "conceptrecid": "3525950",
          "created": "2019-11-08T11:13:34.121873+00:00",
          "doi": "10.5281/zenodo.3525951",
          "files": [
           {
            "bucket": "d8f7378d-b0b0-4789-9ee4-b2c6e748d884",
            "checksum": "md5:5a37188f8ec9c881f8d81f7c59003788",
            "key": "pure_2nip_pmi_out.opmd.ff.h5",
            "links": {
             "self": "https://zenodo.org/api/files/d8f7378d-b0b0-4789-9ee4-b2c6e748d884/pure_2nip_pmi_out.opmd.ff.h5"
            },
            "size": 12614900,
            "type": "h5"
           },
           {
            "bucket": "d8f7378d-b0b0-4789-9ee4-b2c6e748d884",
            "checksum": "md5:f54cffd24936a1a2a718c6ea4f9db10a",
            "key": "pure_2nip_pmi_out.opmd.h5",
            "links": {
             "self": "https://zenodo.org/api/files/d8f7378d-b0b0-4789-9ee4-b2c6e748d884/pure_2nip_pmi_out.opmd.h5"
            },
            "size": 11954104,
            "type": "h5"
           }
          ],
          "id": 3525951,
          "links": {
           "badge": "https://zenodo.org/badge/doi/10.5281/zenodo.3525951.svg",
           "bucket": "https://zenodo.org/api/files/d8f7378d-b0b0-4789-9ee4-b2c6e748d884",
           "conceptbadge": "https://zenodo.org/badge/doi/10.5281/zenodo.3525950.svg",
           "conceptdoi": "https://doi.org/10.5281/zenodo.3525950",
           "doi": "https://doi.org/10.5281/zenodo.3525951",
           "html": "https://zenodo.org/record/3525951",
           "latest": "https://zenodo.org/api/records/3525951",
           "latest_html": "https://zenodo.org/record/3525951",
           "self": "https://zenodo.org/api/records/3525951"
          },
          "metadata": {
           "access_right": "open",
           "access_right_category": "success",
           "communities": [
            {
             "id": "panosc"
            }
           ],
           "creators": [
            {
             "affiliation": "European XFEL GmbH",
             "name": "E, Juncheng",
             "orcid": "0000-0001-6061-5734"
            }
           ],
           "description": "<p>This dataset results from the molecular dynamics (MD) simulation of the photon-sample interaction. The photons are propagated through the SASE1 beamline and the SPB-SFX instrument at European XFEL, with an initial energy of 5 keV. The sample is the two-nitrogenase iron protein (2nip) with 4348 atoms. The simulation is performed with a demo version of XMDYN. The datasets were rewritten from the original XMDYN output into an hdf5 format that complies with the openPMD metadata standard for particle and mesh data and the proposed domain extension of this standard for MD data. The dataset &quot;pure_2nip_pmi_out.opmd.h5&quot; conforms the &nbsp;openPMD metadata MD domain extension strictly, while the dataset &quot;pure_2nip_pmi_out.opmd.ff.h5&quot; stores form factor results additionally for SingFEL diffraction simulation.</p>\n\n<p>This dataset is part of the Deliverable D5.1 in Workpackage 5 (Virtual Neutron and X-ray Laboratory) of the Photon and Neutron Open Science Cloud (PaNOSC).</p>\n\n<p>This project has received funding from the European Union&#39;s Horizon 2020 research and innovation programme under grant agreement No. 823852.<br>\n&nbsp;</p>",
           "doi": "10.5281/zenodo.3525951",
           "keywords": [
            "ViNYL"
           ],
           "license": {
            "id": "CC-BY-4.0"
           },
           "publication_date": "2019-11-08",
           "related_identifiers": [
            {
             "identifier": "10.5281/zenodo.3525950",
             "relation": "isVersionOf",
             "scheme": "doi"
            }
           ],
           "relations": {
            "version": [
             {
              "count": 1,
              "index": 0,
              "is_last": true,
              "last_child": {
               "pid_type": "recid",
               "pid_value": "3525951"
              },
              "parent": {
               "pid_type": "recid",
               "pid_value": "3525950"
              }
             }
            ]
           },
           "resource_type": {
            "title": "Dataset",
            "type": "dataset"
           },
           "title": "Example dataset for openPMD-conform molecular dynamics data (MD domain extension)",
           "version": "1.1"
          },
          "owners": [
           81716
          ],
          "revision": 3,
          "stats": {
           "downloads": 1,
           "unique_downloads": 1,
           "unique_views": 26,
           "version_downloads": 1,
           "version_unique_downloads": 1,
           "version_unique_views": 26,
           "version_views": 30,
           "version_volume": 12614900,
           "views": 30,
           "volume": 12614900
          },
          "updated": "2020-01-21T07:23:10.854906+00:00"
         }
        ],
        "total": 436
       },
       "links": {
        "next": "https://zenodo.org/api/records/?sort=bestmatch&q=%28title%3A%27molecular+dynamics%27+OR+description%3A%27molecular+dynamics%27%29+AND+publication_date%3A%5B2019-01-01+TO+2019-12-31%5D+AND+access_right%3Aopen&type=dataset&page=2&size=10",
        "self": "https://zenodo.org/api/records/?sort=bestmatch&q=%28title%3A%27molecular+dynamics%27+OR+description%3A%27molecular+dynamics%27%29+AND+publication_date%3A%5B2019-01-01+TO+2019-12-31%5D+AND+access_right%3Aopen&type=dataset&page=1&size=10"
       }
      },
      "text/plain": [
       "<IPython.core.display.JSON object>"
      ]
     },
     "execution_count": 5,
     "metadata": {
      "application/json": {
       "expanded": false,
       "root": "root"
      }
     },
     "output_type": "execute_result"
    }
   ],
   "source": [
    "resp_json = search_zenodo(hits_per_page=10, year=2019)\n",
    "JSON(resp_json)"
   ]
  },
  {
   "cell_type": "code",
   "execution_count": 6,
   "id": "black-edinburgh",
   "metadata": {},
   "outputs": [
    {
     "name": "stdout",
     "output_type": "stream",
     "text": [
      "Number of hits: 436\n"
     ]
    }
   ],
   "source": [
    "total_hits = resp_json[\"hits\"][\"total\"]\n",
    "print(f'Number of hits: {total_hits}')"
   ]
  },
  {
   "cell_type": "markdown",
   "id": "balanced-slovakia",
   "metadata": {},
   "source": [
    "### Anatomy of a record in json"
   ]
  },
  {
   "cell_type": "code",
   "execution_count": 7,
   "id": "usual-measure",
   "metadata": {},
   "outputs": [
    {
     "data": {
      "application/json": {
       "conceptrecid": "635750",
       "created": "2016-06-02T21:43:11+00:00",
       "doi": "10.5281/zenodo.53887",
       "files": [
        {
         "bucket": "b219544a-c4f7-4446-bd94-d2befd51db1f",
         "checksum": "md5:b9cbfbd08f816752a1bff72aac1526ee",
         "key": "ener.edr",
         "links": {
          "self": "https://zenodo.org/api/files/b219544a-c4f7-4446-bd94-d2befd51db1f/ener.edr"
         },
         "size": 208002116,
         "type": "edr"
        },
        {
         "bucket": "b219544a-c4f7-4446-bd94-d2befd51db1f",
         "checksum": "md5:b076dcdcc720529aafe8851224d037d9",
         "key": "traj.xtc",
         "links": {
          "self": "https://zenodo.org/api/files/b219544a-c4f7-4446-bd94-d2befd51db1f/traj.xtc"
         },
         "size": 3447568,
         "type": "xtc"
        },
        {
         "bucket": "b219544a-c4f7-4446-bd94-d2befd51db1f",
         "checksum": "md5:e2b8574fcf6e8fa037473ca92de87a53",
         "key": "md.log",
         "links": {
          "self": "https://zenodo.org/api/files/b219544a-c4f7-4446-bd94-d2befd51db1f/md.log"
         },
         "size": 26471,
         "type": "log"
        },
        {
         "bucket": "b219544a-c4f7-4446-bd94-d2befd51db1f",
         "checksum": "md5:368c528ff9d80451057f6ec880335a08",
         "key": "topol.tpr",
         "links": {
          "self": "https://zenodo.org/api/files/b219544a-c4f7-4446-bd94-d2befd51db1f/topol.tpr"
         },
         "size": 263824,
         "type": "tpr"
        }
       ],
       "id": 53887,
       "links": {
        "badge": "https://zenodo.org/badge/doi/10.5281/zenodo.53887.svg",
        "bucket": "https://zenodo.org/api/files/b219544a-c4f7-4446-bd94-d2befd51db1f",
        "doi": "https://doi.org/10.5281/zenodo.53887",
        "html": "https://zenodo.org/record/53887",
        "latest": "https://zenodo.org/api/records/53887",
        "latest_html": "https://zenodo.org/record/53887",
        "self": "https://zenodo.org/api/records/53887"
       },
       "metadata": {
        "access_right": "open",
        "access_right_category": "success",
        "creators": [
         {
          "affiliation": "Fed. Univ. Sao Paulo",
          "name": "Vitaly V. Chaban"
         }
        ],
        "description": "<p>Nanofluids are composed of certain nanoscale object immersed in the molecular or ionic liquid. Nanofluids generally exhibit higher thermal conductivities, as compared to conventional fluids. Therefore, they are interesting to applications, in which thermal conductivity is a cornerstone. Hereby, molecular dynamics simulations were used to study an energy exchange in one of the possible nanofluids: N-butylpyridinium tetrafluoroborate based solution of nanodiamonds. The data are given in the form of energy components versus time and atomistic trajectories versus time at a number of temperatures. The simulations were conducted in the constant energy ensemble to avoid efects of temperature coupling and pressure coupling. The dataset possesses&nbsp;both research and educational values.</p>",
        "doi": "10.5281/zenodo.53887",
        "keywords": [
         "ionic liquid",
         "nanofluid",
         "molecular dynamics",
         "nanodiamond"
        ],
        "license": {
         "id": "Sleepycat"
        },
        "publication_date": "2016-05-31",
        "relations": {
         "version": [
          {
           "count": 1,
           "index": 0,
           "is_last": true,
           "last_child": {
            "pid_type": "recid",
            "pid_value": "53887"
           },
           "parent": {
            "pid_type": "recid",
            "pid_value": "635750"
           }
          }
         ]
        },
        "resource_type": {
         "title": "Dataset",
         "type": "dataset"
        },
        "title": "Molecular Dynamics Study of the Vibrational Energy Exchange Between Nanodiamond and N-butylpyridinium Tetrafluoroborate Ionic Liquid"
       },
       "owners": [
        22362
       ],
       "revision": 9,
       "stats": {
        "downloads": 32,
        "unique_downloads": 30,
        "unique_views": 25,
        "version_downloads": 32,
        "version_unique_downloads": 30,
        "version_unique_views": 25,
        "version_views": 28,
        "version_volume": 209060070,
        "views": 28,
        "volume": 209060070
       },
       "updated": "2020-01-24T19:24:01.795989+00:00"
      },
      "text/plain": [
       "<IPython.core.display.JSON object>"
      ]
     },
     "execution_count": 7,
     "metadata": {
      "application/json": {
       "expanded": false,
       "root": "root"
      }
     },
     "output_type": "execute_result"
    }
   ],
   "source": [
    "response = requests.get(\"https://zenodo.org/api/records/53887\",\n",
    "                        params={\"access_token\": ACCESS_TOKEN})\n",
    "resp_json = response.json()\n",
    "JSON(resp_json)"
   ]
  },
  {
   "cell_type": "code",
   "execution_count": 8,
   "id": "second-diamond",
   "metadata": {},
   "outputs": [],
   "source": [
    "def extract_records(response_json):\n",
    "    records = []\n",
    "    files = []\n",
    "    for hit in response_json[\"hits\"][\"hits\"]:\n",
    "        record = {}\n",
    "        record[\"id\"] = hit[\"id\"]\n",
    "        record[\"conceptid\"] = hit[\"conceptrecid\"]\n",
    "        record[\"date_created\"] = hit[\"created\"]\n",
    "        record[\"date_updated\"] = hit[\"updated\"]\n",
    "        record[\"title\"] = hit[\"metadata\"][\"title\"]\n",
    "        record[\"description\"] = hit[\"metadata\"][\"description\"]\n",
    "        record[\"access_right\"] = hit[\"metadata\"][\"access_right\"]\n",
    "        if record[\"access_right\"] != \"open\":\n",
    "            continue\n",
    "        record[\"license\"] = hit[\"metadata\"][\"license\"][\"id\"]\n",
    "        records.append(record)\n",
    "        for file_in in hit[\"files\"]:\n",
    "            file_dict = {\"record_id\": record[\"id\"],\n",
    "                         \"name\": file_in[\"key\"],\n",
    "                         \"type\": file_in[\"type\"],\n",
    "                         \"size\": file_in[\"size\"]}\n",
    "            files.append(file_dict)\n",
    "    return records, files"
   ]
  },
  {
   "cell_type": "markdown",
   "id": "unexpected-defensive",
   "metadata": {},
   "source": [
    "## Search records\n",
    "\n",
    "There is a strong limit of 10 000 hits per query.\n",
    "\n",
    "On 2017-10-20, 12062 MD-related records have been published in Zenodo. One cannot retrieve them all."
   ]
  },
  {
   "cell_type": "code",
   "execution_count": 9,
   "id": "minor-tuesday",
   "metadata": {},
   "outputs": [
    {
     "name": "stdout",
     "output_type": "stream",
     "text": [
      "year 2010 -- page 1 / 1 (1)\n",
      "year 2011 -- page 1 / 1 (0)\n",
      "year 2012 -- page 1 / 1 (3)\n",
      "year 2013 -- page 1 / 1 (3)\n",
      "year 2014 -- page 1 / 1 (22)\n",
      "year 2015 -- page 1 / 1 (53)\n",
      "year 2016 -- page 1 / 1 (69)\n",
      "year 2017 -- page 1 / 123 (100)\n",
      "year 2017 -- page 2 / 123 (100)\n",
      "year 2017 -- page 3 / 123 (100)\n",
      "year 2017 -- page 4 / 123 (100)\n",
      "year 2017 -- page 5 / 123 (100)\n",
      "year 2017 -- page 6 / 123 (100)\n",
      "year 2017 -- page 7 / 123 (100)\n",
      "year 2017 -- page 8 / 123 (100)\n",
      "year 2017 -- page 9 / 123 (100)\n",
      "year 2017 -- page 10 / 123 (100)\n",
      "year 2017 -- page 11 / 123 (100)\n",
      "year 2017 -- page 12 / 123 (100)\n",
      "year 2017 -- page 13 / 123 (100)\n",
      "year 2017 -- page 14 / 123 (100)\n",
      "year 2017 -- page 15 / 123 (100)\n",
      "year 2017 -- page 16 / 123 (100)\n",
      "year 2017 -- page 17 / 123 (100)\n",
      "year 2017 -- page 18 / 123 (100)\n",
      "year 2017 -- page 19 / 123 (100)\n",
      "year 2017 -- page 20 / 123 (100)\n",
      "year 2017 -- page 21 / 123 (100)\n",
      "year 2017 -- page 22 / 123 (100)\n",
      "year 2017 -- page 23 / 123 (100)\n",
      "year 2017 -- page 24 / 123 (100)\n",
      "year 2017 -- page 25 / 123 (100)\n",
      "year 2017 -- page 26 / 123 (100)\n",
      "year 2017 -- page 27 / 123 (100)\n",
      "year 2017 -- page 28 / 123 (100)\n",
      "year 2017 -- page 29 / 123 (100)\n",
      "year 2017 -- page 30 / 123 (100)\n",
      "year 2017 -- page 31 / 123 (100)\n",
      "year 2017 -- page 32 / 123 (100)\n",
      "year 2017 -- page 33 / 123 (100)\n",
      "year 2017 -- page 34 / 123 (100)\n",
      "year 2017 -- page 35 / 123 (100)\n",
      "year 2017 -- page 36 / 123 (100)\n",
      "year 2017 -- page 37 / 123 (100)\n",
      "year 2017 -- page 38 / 123 (100)\n",
      "year 2017 -- page 39 / 123 (100)\n",
      "year 2017 -- page 40 / 123 (100)\n",
      "year 2017 -- page 41 / 123 (100)\n",
      "year 2017 -- page 42 / 123 (100)\n",
      "year 2017 -- page 43 / 123 (100)\n",
      "year 2017 -- page 44 / 123 (100)\n",
      "year 2017 -- page 45 / 123 (100)\n",
      "year 2017 -- page 46 / 123 (100)\n",
      "year 2017 -- page 47 / 123 (100)\n",
      "year 2017 -- page 48 / 123 (100)\n",
      "year 2017 -- page 49 / 123 (100)\n",
      "year 2017 -- page 50 / 123 (100)\n",
      "year 2017 -- page 51 / 123 (100)\n",
      "year 2017 -- page 52 / 123 (100)\n",
      "year 2017 -- page 53 / 123 (100)\n",
      "year 2017 -- page 54 / 123 (100)\n",
      "year 2017 -- page 55 / 123 (100)\n",
      "year 2017 -- page 56 / 123 (100)\n",
      "year 2017 -- page 57 / 123 (100)\n",
      "year 2017 -- page 58 / 123 (100)\n",
      "year 2017 -- page 59 / 123 (100)\n",
      "year 2017 -- page 60 / 123 (100)\n",
      "year 2017 -- page 61 / 123 (100)\n",
      "year 2017 -- page 62 / 123 (100)\n",
      "year 2017 -- page 63 / 123 (100)\n",
      "year 2017 -- page 64 / 123 (100)\n",
      "year 2017 -- page 65 / 123 (100)\n",
      "year 2017 -- page 66 / 123 (100)\n",
      "year 2017 -- page 67 / 123 (100)\n",
      "year 2017 -- page 68 / 123 (100)\n",
      "year 2017 -- page 69 / 123 (100)\n",
      "year 2017 -- page 70 / 123 (100)\n",
      "year 2017 -- page 71 / 123 (100)\n",
      "year 2017 -- page 72 / 123 (100)\n",
      "year 2017 -- page 73 / 123 (100)\n",
      "year 2017 -- page 74 / 123 (100)\n",
      "year 2017 -- page 75 / 123 (100)\n",
      "year 2017 -- page 76 / 123 (100)\n",
      "year 2017 -- page 77 / 123 (100)\n",
      "year 2017 -- page 78 / 123 (100)\n",
      "year 2017 -- page 79 / 123 (100)\n",
      "year 2017 -- page 80 / 123 (100)\n",
      "year 2017 -- page 81 / 123 (100)\n",
      "year 2017 -- page 82 / 123 (100)\n",
      "year 2017 -- page 83 / 123 (100)\n",
      "year 2017 -- page 84 / 123 (100)\n",
      "year 2017 -- page 85 / 123 (100)\n",
      "year 2017 -- page 86 / 123 (100)\n",
      "year 2017 -- page 87 / 123 (100)\n",
      "year 2017 -- page 88 / 123 (100)\n",
      "year 2017 -- page 89 / 123 (100)\n",
      "year 2017 -- page 90 / 123 (100)\n",
      "year 2017 -- page 91 / 123 (100)\n",
      "year 2017 -- page 92 / 123 (100)\n",
      "year 2017 -- page 93 / 123 (100)\n",
      "year 2017 -- page 94 / 123 (100)\n",
      "year 2017 -- page 95 / 123 (100)\n",
      "year 2017 -- page 96 / 123 (100)\n",
      "year 2017 -- page 97 / 123 (100)\n",
      "year 2017 -- page 98 / 123 (100)\n",
      "year 2017 -- page 99 / 123 (100)\n",
      "year 2017 -- page 100 / 123 (100)\n",
      "Max records per query reached!\n",
      "year 2018 -- page 1 / 4 (100)\n",
      "year 2018 -- page 2 / 4 (100)\n",
      "year 2018 -- page 3 / 4 (100)\n",
      "year 2018 -- page 4 / 4 (9)\n",
      "year 2019 -- page 1 / 5 (100)\n",
      "year 2019 -- page 2 / 5 (100)\n",
      "year 2019 -- page 3 / 5 (100)\n",
      "year 2019 -- page 4 / 5 (100)\n",
      "year 2019 -- page 5 / 5 (36)\n",
      "year 2020 -- page 1 / 15 (100)\n",
      "year 2020 -- page 2 / 15 (100)\n",
      "year 2020 -- page 3 / 15 (100)\n",
      "year 2020 -- page 4 / 15 (100)\n",
      "year 2020 -- page 5 / 15 (100)\n",
      "year 2020 -- page 6 / 15 (100)\n",
      "year 2020 -- page 7 / 15 (100)\n",
      "year 2020 -- page 8 / 15 (100)\n",
      "year 2020 -- page 9 / 15 (100)\n",
      "year 2020 -- page 10 / 15 (100)\n",
      "year 2020 -- page 11 / 15 (100)\n",
      "year 2020 -- page 12 / 15 (100)\n",
      "year 2020 -- page 13 / 15 (100)\n",
      "year 2020 -- page 14 / 15 (100)\n",
      "year 2020 -- page 15 / 15 (1)\n",
      "year 2021 -- page 1 / 5 (100)\n",
      "year 2021 -- page 2 / 5 (100)\n",
      "year 2021 -- page 3 / 5 (100)\n",
      "year 2021 -- page 4 / 5 (100)\n",
      "year 2021 -- page 5 / 5 (67)\n"
     ]
    }
   ],
   "source": [
    "zenodo_records = []\n",
    "zenodo_files = []\n",
    "max_hits_per_record = 10_000\n",
    "max_hits_per_page = 100\n",
    "for year in range(2010, 2022):\n",
    "    resp_json = search_zenodo(hits_per_page=1, year=year)\n",
    "    total_hits = resp_json[\"hits\"][\"total\"]\n",
    "    page_max = total_hits//max_hits_per_page + 1\n",
    "    for page in range(1, page_max+1):\n",
    "        resp_json = search_zenodo(page=page, hits_per_page=max_hits_per_page, year=year)\n",
    "        records_tmp, files_tmp = extract_records(resp_json)\n",
    "        zenodo_records += records_tmp\n",
    "        zenodo_files += files_tmp\n",
    "        print(f\"year {year} -- page {page} / {page_max} ({len(records_tmp)})\")\n",
    "        if (page * max_hits_per_page >= max_hits_per_record):\n",
    "            print(\"Max records per query reached!\")\n",
    "            break"
   ]
  },
  {
   "cell_type": "markdown",
   "id": "hawaiian-playback",
   "metadata": {},
   "source": [
    "## Store data in csv"
   ]
  },
  {
   "cell_type": "code",
   "execution_count": 10,
   "id": "multiple-indian",
   "metadata": {},
   "outputs": [
    {
     "name": "stdout",
     "output_type": "stream",
     "text": [
      "Number of Zenodo records found: 12764\n",
      "Number of files found: 61108\n"
     ]
    }
   ],
   "source": [
    "print(f\"Number of Zenodo records found: {len(zenodo_records)}\")\n",
    "print(f\"Number of files found: {len(zenodo_files)}\")"
   ]
  },
  {
   "cell_type": "code",
   "execution_count": 11,
   "id": "communist-atlas",
   "metadata": {},
   "outputs": [
    {
     "name": "stdout",
     "output_type": "stream",
     "text": [
      "(12764, 7)\n"
     ]
    },
    {
     "data": {
      "text/html": [
       "<div>\n",
       "<style scoped>\n",
       "    .dataframe tbody tr th:only-of-type {\n",
       "        vertical-align: middle;\n",
       "    }\n",
       "\n",
       "    .dataframe tbody tr th {\n",
       "        vertical-align: top;\n",
       "    }\n",
       "\n",
       "    .dataframe thead th {\n",
       "        text-align: right;\n",
       "    }\n",
       "</style>\n",
       "<table border=\"1\" class=\"dataframe\">\n",
       "  <thead>\n",
       "    <tr style=\"text-align: right;\">\n",
       "      <th></th>\n",
       "      <th>conceptid</th>\n",
       "      <th>date_created</th>\n",
       "      <th>date_updated</th>\n",
       "      <th>title</th>\n",
       "      <th>description</th>\n",
       "      <th>access_right</th>\n",
       "      <th>license</th>\n",
       "    </tr>\n",
       "    <tr>\n",
       "      <th>id</th>\n",
       "      <th></th>\n",
       "      <th></th>\n",
       "      <th></th>\n",
       "      <th></th>\n",
       "      <th></th>\n",
       "      <th></th>\n",
       "      <th></th>\n",
       "    </tr>\n",
       "  </thead>\n",
       "  <tbody>\n",
       "    <tr>\n",
       "      <th>3889686</th>\n",
       "      <td>3889685</td>\n",
       "      <td>2020-06-11T10:51:06.773153+00:00</td>\n",
       "      <td>2020-06-26T09:07:44.597779+00:00</td>\n",
       "      <td>Understanding ENSO dynamics through the explor...</td>\n",
       "      <td>&lt;p&gt;The palaeoclimate record shows that signifi...</td>\n",
       "      <td>open</td>\n",
       "      <td>CC-BY-4.0</td>\n",
       "    </tr>\n",
       "    <tr>\n",
       "      <th>46596</th>\n",
       "      <td>596093</td>\n",
       "      <td>2016-02-26T10:45:20+00:00</td>\n",
       "      <td>2020-01-24T19:24:50.388374+00:00</td>\n",
       "      <td>Modeling of the bacterial molecular chaperone ...</td>\n",
       "      <td>&lt;p&gt;These scripts demonstrate the use of IMP, M...</td>\n",
       "      <td>open</td>\n",
       "      <td>LGPL-2.1</td>\n",
       "    </tr>\n",
       "    <tr>\n",
       "      <th>3631074</th>\n",
       "      <td>3631073</td>\n",
       "      <td>2020-01-30T08:28:12.103446+00:00</td>\n",
       "      <td>2020-01-30T19:20:47.062665+00:00</td>\n",
       "      <td>Towards deciphering dynamic changes and evolut...</td>\n",
       "      <td>&lt;p&gt;&lt;strong&gt;Objectives :&lt;/strong&gt;&lt;/p&gt;\\n\\n&lt;p&gt;Exa...</td>\n",
       "      <td>open</td>\n",
       "      <td>CC-BY-4.0</td>\n",
       "    </tr>\n",
       "    <tr>\n",
       "      <th>901814</th>\n",
       "      <td>901813</td>\n",
       "      <td>2017-09-21T08:14:31.591951+00:00</td>\n",
       "      <td>2020-01-24T19:23:29.719156+00:00</td>\n",
       "      <td>Supplementary material 1 from: Gruber S, Hadda...</td>\n",
       "      <td>Giemsa-stained metaphases I. a. Aparasphenodon...</td>\n",
       "      <td>open</td>\n",
       "      <td>CC-BY-4.0</td>\n",
       "    </tr>\n",
       "    <tr>\n",
       "      <th>51635</th>\n",
       "      <td>633598</td>\n",
       "      <td>2016-05-22T21:27:58+00:00</td>\n",
       "      <td>2020-12-31T18:02:39.471208+00:00</td>\n",
       "      <td>Molecular dynamics simulation trajectory of a ...</td>\n",
       "      <td>&lt;p&gt;&lt;strong&gt;System:&amp;nbsp;&lt;/strong&gt;DMPC (dimyris...</td>\n",
       "      <td>open</td>\n",
       "      <td>CC-BY-4.0</td>\n",
       "    </tr>\n",
       "  </tbody>\n",
       "</table>\n",
       "</div>"
      ],
      "text/plain": [
       "        conceptid                      date_created  \\\n",
       "id                                                    \n",
       "3889686   3889685  2020-06-11T10:51:06.773153+00:00   \n",
       "46596      596093         2016-02-26T10:45:20+00:00   \n",
       "3631074   3631073  2020-01-30T08:28:12.103446+00:00   \n",
       "901814     901813  2017-09-21T08:14:31.591951+00:00   \n",
       "51635      633598         2016-05-22T21:27:58+00:00   \n",
       "\n",
       "                             date_updated  \\\n",
       "id                                          \n",
       "3889686  2020-06-26T09:07:44.597779+00:00   \n",
       "46596    2020-01-24T19:24:50.388374+00:00   \n",
       "3631074  2020-01-30T19:20:47.062665+00:00   \n",
       "901814   2020-01-24T19:23:29.719156+00:00   \n",
       "51635    2020-12-31T18:02:39.471208+00:00   \n",
       "\n",
       "                                                     title  \\\n",
       "id                                                           \n",
       "3889686  Understanding ENSO dynamics through the explor...   \n",
       "46596    Modeling of the bacterial molecular chaperone ...   \n",
       "3631074  Towards deciphering dynamic changes and evolut...   \n",
       "901814   Supplementary material 1 from: Gruber S, Hadda...   \n",
       "51635    Molecular dynamics simulation trajectory of a ...   \n",
       "\n",
       "                                               description access_right  \\\n",
       "id                                                                        \n",
       "3889686  <p>The palaeoclimate record shows that signifi...         open   \n",
       "46596    <p>These scripts demonstrate the use of IMP, M...         open   \n",
       "3631074  <p><strong>Objectives :</strong></p>\\n\\n<p>Exa...         open   \n",
       "901814   Giemsa-stained metaphases I. a. Aparasphenodon...         open   \n",
       "51635    <p><strong>System:&nbsp;</strong>DMPC (dimyris...         open   \n",
       "\n",
       "           license  \n",
       "id                  \n",
       "3889686  CC-BY-4.0  \n",
       "46596     LGPL-2.1  \n",
       "3631074  CC-BY-4.0  \n",
       "901814   CC-BY-4.0  \n",
       "51635    CC-BY-4.0  "
      ]
     },
     "execution_count": 11,
     "metadata": {},
     "output_type": "execute_result"
    }
   ],
   "source": [
    "records_df = pd.DataFrame(zenodo_records).set_index(\"id\")\n",
    "records_df.to_csv(\"zenodo_records.csv\")\n",
    "print(records_df.shape)\n",
    "records_df.head()"
   ]
  },
  {
   "cell_type": "code",
   "execution_count": 12,
   "id": "assisted-sunday",
   "metadata": {},
   "outputs": [
    {
     "name": "stdout",
     "output_type": "stream",
     "text": [
      "(61108, 3)\n"
     ]
    },
    {
     "data": {
      "text/html": [
       "<div>\n",
       "<style scoped>\n",
       "    .dataframe tbody tr th:only-of-type {\n",
       "        vertical-align: middle;\n",
       "    }\n",
       "\n",
       "    .dataframe tbody tr th {\n",
       "        vertical-align: top;\n",
       "    }\n",
       "\n",
       "    .dataframe thead th {\n",
       "        text-align: right;\n",
       "    }\n",
       "</style>\n",
       "<table border=\"1\" class=\"dataframe\">\n",
       "  <thead>\n",
       "    <tr style=\"text-align: right;\">\n",
       "      <th></th>\n",
       "      <th>name</th>\n",
       "      <th>type</th>\n",
       "      <th>size</th>\n",
       "    </tr>\n",
       "    <tr>\n",
       "      <th>record_id</th>\n",
       "      <th></th>\n",
       "      <th></th>\n",
       "      <th></th>\n",
       "    </tr>\n",
       "  </thead>\n",
       "  <tbody>\n",
       "    <tr>\n",
       "      <th>3889686</th>\n",
       "      <td>psl_0ka.nc</td>\n",
       "      <td>nc</td>\n",
       "      <td>172081168</td>\n",
       "    </tr>\n",
       "    <tr>\n",
       "      <th>3889686</th>\n",
       "      <td>psl_1ka.nc</td>\n",
       "      <td>nc</td>\n",
       "      <td>172081168</td>\n",
       "    </tr>\n",
       "    <tr>\n",
       "      <th>3889686</th>\n",
       "      <td>psl_2ka.nc</td>\n",
       "      <td>nc</td>\n",
       "      <td>172081168</td>\n",
       "    </tr>\n",
       "    <tr>\n",
       "      <th>3889686</th>\n",
       "      <td>psl_3ka.nc</td>\n",
       "      <td>nc</td>\n",
       "      <td>172081168</td>\n",
       "    </tr>\n",
       "    <tr>\n",
       "      <th>3889686</th>\n",
       "      <td>psl_4ka.nc</td>\n",
       "      <td>nc</td>\n",
       "      <td>172081168</td>\n",
       "    </tr>\n",
       "  </tbody>\n",
       "</table>\n",
       "</div>"
      ],
      "text/plain": [
       "                 name type       size\n",
       "record_id                            \n",
       "3889686    psl_0ka.nc   nc  172081168\n",
       "3889686    psl_1ka.nc   nc  172081168\n",
       "3889686    psl_2ka.nc   nc  172081168\n",
       "3889686    psl_3ka.nc   nc  172081168\n",
       "3889686    psl_4ka.nc   nc  172081168"
      ]
     },
     "execution_count": 12,
     "metadata": {},
     "output_type": "execute_result"
    }
   ],
   "source": [
    "files_df = pd.DataFrame(zenodo_files).set_index(\"record_id\")\n",
    "files_df.to_csv(\"zenodo_files.csv\")\n",
    "print(files_df.shape)\n",
    "files_df.head()"
   ]
  }
 ],
 "metadata": {
  "kernelspec": {
   "display_name": "Python 3",
   "language": "python",
   "name": "python3"
  },
  "language_info": {
   "codemirror_mode": {
    "name": "ipython",
    "version": 3
   },
   "file_extension": ".py",
   "mimetype": "text/x-python",
   "name": "python",
   "nbconvert_exporter": "python",
   "pygments_lexer": "ipython3",
   "version": "3.8.8"
  }
 },
 "nbformat": 4,
 "nbformat_minor": 5
}
