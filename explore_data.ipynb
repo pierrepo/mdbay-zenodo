{
 "cells": [
  {
   "cell_type": "markdown",
   "id": "caroline-hormone",
   "metadata": {},
   "source": [
    "# Explore molecular dynamics datasets retrieved from Zenodo"
   ]
  },
  {
   "cell_type": "code",
   "execution_count": 1,
   "id": "forty-conversion",
   "metadata": {},
   "outputs": [],
   "source": [
    "import matplotlib.pyplot as plt\n",
    "import pandas as pd"
   ]
  },
  {
   "cell_type": "markdown",
   "id": "preceding-requirement",
   "metadata": {},
   "source": [
    "## Load data"
   ]
  },
  {
   "cell_type": "code",
   "execution_count": 2,
   "id": "appointed-letters",
   "metadata": {},
   "outputs": [
    {
     "name": "stdout",
     "output_type": "stream",
     "text": [
      "<class 'pandas.core.frame.DataFrame'>\n",
      "Int64Index: 304 entries, 51635 to 4419985\n",
      "Data columns (total 7 columns):\n",
      " #   Column        Non-Null Count  Dtype \n",
      "---  ------        --------------  ----- \n",
      " 0   conceptid     304 non-null    int64 \n",
      " 1   date_created  304 non-null    object\n",
      " 2   date_updated  304 non-null    object\n",
      " 3   title         304 non-null    object\n",
      " 4   description   304 non-null    object\n",
      " 5   access_right  304 non-null    object\n",
      " 6   license       304 non-null    object\n",
      "dtypes: int64(1), object(6)\n",
      "memory usage: 583.4 KB\n",
      "None\n"
     ]
    },
    {
     "data": {
      "text/html": [
       "<div>\n",
       "<style scoped>\n",
       "    .dataframe tbody tr th:only-of-type {\n",
       "        vertical-align: middle;\n",
       "    }\n",
       "\n",
       "    .dataframe tbody tr th {\n",
       "        vertical-align: top;\n",
       "    }\n",
       "\n",
       "    .dataframe thead th {\n",
       "        text-align: right;\n",
       "    }\n",
       "</style>\n",
       "<table border=\"1\" class=\"dataframe\">\n",
       "  <thead>\n",
       "    <tr style=\"text-align: right;\">\n",
       "      <th></th>\n",
       "      <th>conceptid</th>\n",
       "      <th>date_created</th>\n",
       "      <th>date_updated</th>\n",
       "      <th>title</th>\n",
       "      <th>description</th>\n",
       "      <th>access_right</th>\n",
       "      <th>license</th>\n",
       "    </tr>\n",
       "    <tr>\n",
       "      <th>id</th>\n",
       "      <th></th>\n",
       "      <th></th>\n",
       "      <th></th>\n",
       "      <th></th>\n",
       "      <th></th>\n",
       "      <th></th>\n",
       "      <th></th>\n",
       "    </tr>\n",
       "  </thead>\n",
       "  <tbody>\n",
       "    <tr>\n",
       "      <th>51635</th>\n",
       "      <td>633598</td>\n",
       "      <td>2016-05-22T21:27:58+00:00</td>\n",
       "      <td>2020-12-31T18:02:39.471208+00:00</td>\n",
       "      <td>Molecular dynamics simulation trajectory of a ...</td>\n",
       "      <td>&lt;p&gt;&lt;strong&gt;System:&amp;nbsp;&lt;/strong&gt;DMPC (dimyris...</td>\n",
       "      <td>open</td>\n",
       "      <td>CC-BY-4.0</td>\n",
       "    </tr>\n",
       "    <tr>\n",
       "      <th>8431</th>\n",
       "      <td>642967</td>\n",
       "      <td>2015-05-07T17:26:58+00:00</td>\n",
       "      <td>2020-01-24T19:21:43.576503+00:00</td>\n",
       "      <td>Molecular dynamics derived side chain order pa...</td>\n",
       "      <td>&lt;p&gt;This dataset contains tab-delimited text fi...</td>\n",
       "      <td>open</td>\n",
       "      <td>CC0-1.0</td>\n",
       "    </tr>\n",
       "    <tr>\n",
       "      <th>13393</th>\n",
       "      <td>605455</td>\n",
       "      <td>2015-01-06T13:40:44+00:00</td>\n",
       "      <td>2020-01-24T19:24:42.558489+00:00</td>\n",
       "      <td>POPC @ 298K, Model by Kukol</td>\n",
       "      <td>&lt;p&gt;Files&amp;nbsp;required&amp;nbsp;for a simulation o...</td>\n",
       "      <td>open</td>\n",
       "      <td>CC0-1.0</td>\n",
       "    </tr>\n",
       "    <tr>\n",
       "      <th>573033</th>\n",
       "      <td>800331</td>\n",
       "      <td>2017-05-09T06:05:34.703109+00:00</td>\n",
       "      <td>2020-01-24T19:23:25.053804+00:00</td>\n",
       "      <td>Long-Term Single Cell Analysis of S. pombe on ...</td>\n",
       "      <td>&lt;p&gt;Although &lt;em&gt;Schyzosaccharomyces pombe&lt;/em&gt;...</td>\n",
       "      <td>open</td>\n",
       "      <td>CC-BY-4.0</td>\n",
       "    </tr>\n",
       "    <tr>\n",
       "      <th>20561</th>\n",
       "      <td>611511</td>\n",
       "      <td>2015-07-16T20:53:30+00:00</td>\n",
       "      <td>2020-01-24T19:22:24.254587+00:00</td>\n",
       "      <td>Simulation trajectories for the article \"Molec...</td>\n",
       "      <td>&lt;p&gt;Simulation trajectories for the article &amp;qu...</td>\n",
       "      <td>open</td>\n",
       "      <td>CC0-1.0</td>\n",
       "    </tr>\n",
       "  </tbody>\n",
       "</table>\n",
       "</div>"
      ],
      "text/plain": [
       "        conceptid                      date_created  \\\n",
       "id                                                    \n",
       "51635      633598         2016-05-22T21:27:58+00:00   \n",
       "8431       642967         2015-05-07T17:26:58+00:00   \n",
       "13393      605455         2015-01-06T13:40:44+00:00   \n",
       "573033     800331  2017-05-09T06:05:34.703109+00:00   \n",
       "20561      611511         2015-07-16T20:53:30+00:00   \n",
       "\n",
       "                            date_updated  \\\n",
       "id                                         \n",
       "51635   2020-12-31T18:02:39.471208+00:00   \n",
       "8431    2020-01-24T19:21:43.576503+00:00   \n",
       "13393   2020-01-24T19:24:42.558489+00:00   \n",
       "573033  2020-01-24T19:23:25.053804+00:00   \n",
       "20561   2020-01-24T19:22:24.254587+00:00   \n",
       "\n",
       "                                                    title  \\\n",
       "id                                                          \n",
       "51635   Molecular dynamics simulation trajectory of a ...   \n",
       "8431    Molecular dynamics derived side chain order pa...   \n",
       "13393                         POPC @ 298K, Model by Kukol   \n",
       "573033  Long-Term Single Cell Analysis of S. pombe on ...   \n",
       "20561   Simulation trajectories for the article \"Molec...   \n",
       "\n",
       "                                              description access_right  \\\n",
       "id                                                                       \n",
       "51635   <p><strong>System:&nbsp;</strong>DMPC (dimyris...         open   \n",
       "8431    <p>This dataset contains tab-delimited text fi...         open   \n",
       "13393   <p>Files&nbsp;required&nbsp;for a simulation o...         open   \n",
       "573033  <p>Although <em>Schyzosaccharomyces pombe</em>...         open   \n",
       "20561   <p>Simulation trajectories for the article &qu...         open   \n",
       "\n",
       "          license  \n",
       "id                 \n",
       "51635   CC-BY-4.0  \n",
       "8431      CC0-1.0  \n",
       "13393     CC0-1.0  \n",
       "573033  CC-BY-4.0  \n",
       "20561     CC0-1.0  "
      ]
     },
     "execution_count": 2,
     "metadata": {},
     "output_type": "execute_result"
    }
   ],
   "source": [
    "records_df = pd.read_csv(\"zenodo_records.csv\", index_col=\"id\")\n",
    "print(records_df.info(memory_usage=\"deep\"))\n",
    "records_df.head()"
   ]
  },
  {
   "cell_type": "code",
   "execution_count": 3,
   "id": "varied-reverse",
   "metadata": {},
   "outputs": [
    {
     "name": "stdout",
     "output_type": "stream",
     "text": [
      "<class 'pandas.core.frame.DataFrame'>\n",
      "Int64Index: 2857 entries, 51635 to 4419985\n",
      "Data columns (total 3 columns):\n",
      " #   Column  Non-Null Count  Dtype \n",
      "---  ------  --------------  ----- \n",
      " 0   name    2857 non-null   object\n",
      " 1   type    2844 non-null   object\n",
      " 2   size    2857 non-null   int64 \n",
      "dtypes: int64(1), object(2)\n",
      "memory usage: 441.3 KB\n",
      "None\n"
     ]
    },
    {
     "data": {
      "text/html": [
       "<div>\n",
       "<style scoped>\n",
       "    .dataframe tbody tr th:only-of-type {\n",
       "        vertical-align: middle;\n",
       "    }\n",
       "\n",
       "    .dataframe tbody tr th {\n",
       "        vertical-align: top;\n",
       "    }\n",
       "\n",
       "    .dataframe thead th {\n",
       "        text-align: right;\n",
       "    }\n",
       "</style>\n",
       "<table border=\"1\" class=\"dataframe\">\n",
       "  <thead>\n",
       "    <tr style=\"text-align: right;\">\n",
       "      <th></th>\n",
       "      <th>name</th>\n",
       "      <th>type</th>\n",
       "      <th>size</th>\n",
       "    </tr>\n",
       "    <tr>\n",
       "      <th>record_id</th>\n",
       "      <th></th>\n",
       "      <th></th>\n",
       "      <th></th>\n",
       "    </tr>\n",
       "  </thead>\n",
       "  <tbody>\n",
       "    <tr>\n",
       "      <th>51635</th>\n",
       "      <td>ffgmx.atp</td>\n",
       "      <td>atp</td>\n",
       "      <td>2633</td>\n",
       "    </tr>\n",
       "    <tr>\n",
       "      <th>51635</th>\n",
       "      <td>dmpc128W.mdp</td>\n",
       "      <td>mdp</td>\n",
       "      <td>935</td>\n",
       "    </tr>\n",
       "    <tr>\n",
       "      <th>51635</th>\n",
       "      <td>ffgmx.itp</td>\n",
       "      <td>itp</td>\n",
       "      <td>169</td>\n",
       "    </tr>\n",
       "    <tr>\n",
       "      <th>51635</th>\n",
       "      <td>dmpc128W_1ns.tpr</td>\n",
       "      <td>tpr</td>\n",
       "      <td>3351488</td>\n",
       "    </tr>\n",
       "    <tr>\n",
       "      <th>51635</th>\n",
       "      <td>ffgmxbon.itp</td>\n",
       "      <td>itp</td>\n",
       "      <td>30883</td>\n",
       "    </tr>\n",
       "  </tbody>\n",
       "</table>\n",
       "</div>"
      ],
      "text/plain": [
       "                       name type     size\n",
       "record_id                                \n",
       "51635             ffgmx.atp  atp     2633\n",
       "51635          dmpc128W.mdp  mdp      935\n",
       "51635             ffgmx.itp  itp      169\n",
       "51635      dmpc128W_1ns.tpr  tpr  3351488\n",
       "51635          ffgmxbon.itp  itp    30883"
      ]
     },
     "execution_count": 3,
     "metadata": {},
     "output_type": "execute_result"
    }
   ],
   "source": [
    "files_df = pd.read_csv(\"zenodo_files.csv\", index_col=\"record_id\")\n",
    "print(files_df.info(memory_usage=\"deep\"))\n",
    "files_df.head()"
   ]
  },
  {
   "cell_type": "markdown",
   "id": "taken-greensboro",
   "metadata": {},
   "source": [
    "## Select 'interesting' file types"
   ]
  },
  {
   "cell_type": "code",
   "execution_count": 4,
   "id": "bronze-webster",
   "metadata": {},
   "outputs": [
    {
     "data": {
      "text/html": [
       "<div>\n",
       "<style scoped>\n",
       "    .dataframe tbody tr th:only-of-type {\n",
       "        vertical-align: middle;\n",
       "    }\n",
       "\n",
       "    .dataframe tbody tr th {\n",
       "        vertical-align: top;\n",
       "    }\n",
       "\n",
       "    .dataframe thead th {\n",
       "        text-align: right;\n",
       "    }\n",
       "</style>\n",
       "<table border=\"1\" class=\"dataframe\">\n",
       "  <thead>\n",
       "    <tr style=\"text-align: right;\">\n",
       "      <th></th>\n",
       "      <th>name</th>\n",
       "      <th>type</th>\n",
       "      <th>size</th>\n",
       "    </tr>\n",
       "    <tr>\n",
       "      <th>record_id</th>\n",
       "      <th></th>\n",
       "      <th></th>\n",
       "      <th></th>\n",
       "    </tr>\n",
       "  </thead>\n",
       "  <tbody>\n",
       "    <tr>\n",
       "      <th>51635</th>\n",
       "      <td>dmpc128W.mdp</td>\n",
       "      <td>mdp</td>\n",
       "      <td>935</td>\n",
       "    </tr>\n",
       "    <tr>\n",
       "      <th>51635</th>\n",
       "      <td>dmpc128W_1ns.tpr</td>\n",
       "      <td>tpr</td>\n",
       "      <td>3351488</td>\n",
       "    </tr>\n",
       "    <tr>\n",
       "      <th>51635</th>\n",
       "      <td>dmpc128W_21-130ns.xtc</td>\n",
       "      <td>xtc</td>\n",
       "      <td>853617948</td>\n",
       "    </tr>\n",
       "    <tr>\n",
       "      <th>8431</th>\n",
       "      <td>2RN2.apo.pdb</td>\n",
       "      <td>pdb</td>\n",
       "      <td>194415</td>\n",
       "    </tr>\n",
       "    <tr>\n",
       "      <th>8431</th>\n",
       "      <td>2RN2.MG.siteB.pdb</td>\n",
       "      <td>pdb</td>\n",
       "      <td>194415</td>\n",
       "    </tr>\n",
       "  </tbody>\n",
       "</table>\n",
       "</div>"
      ],
      "text/plain": [
       "                            name type       size\n",
       "record_id                                       \n",
       "51635               dmpc128W.mdp  mdp        935\n",
       "51635           dmpc128W_1ns.tpr  tpr    3351488\n",
       "51635      dmpc128W_21-130ns.xtc  xtc  853617948\n",
       "8431                2RN2.apo.pdb  pdb     194415\n",
       "8431           2RN2.MG.siteB.pdb  pdb     194415"
      ]
     },
     "execution_count": 4,
     "metadata": {},
     "output_type": "execute_result"
    }
   ],
   "source": [
    "interest_df = files_df[ files_df[\"type\"].isin([\"mdp\", \"xtc\", \"pdb\", \"tpr\", \"trj\"]) ]\n",
    "interest_df.head()"
   ]
  },
  {
   "cell_type": "markdown",
   "id": "cosmetic-twelve",
   "metadata": {},
   "source": [
    "## Number of files per file type"
   ]
  },
  {
   "cell_type": "code",
   "execution_count": 5,
   "id": "practical-paste",
   "metadata": {},
   "outputs": [],
   "source": [
    "file_types = interest_df[\"type\"].value_counts()"
   ]
  },
  {
   "cell_type": "code",
   "execution_count": 6,
   "id": "eastern-glucose",
   "metadata": {},
   "outputs": [
    {
     "data": {
      "text/plain": [
       "Text(0.5, 0, 'Number of files')"
      ]
     },
     "execution_count": 6,
     "metadata": {},
     "output_type": "execute_result"
    },
    {
     "data": {
      "image/png": "[encoded data removed]",
      "text/plain": [
       "<Figure size 432x288 with 1 Axes>"
      ]
     },
     "metadata": {
      "needs_background": "light"
     },
     "output_type": "display_data"
    }
   ],
   "source": [
    "plt.barh(file_types.index, file_types.values, height=0.6)\n",
    "plt.xlabel(\"Number of files\")"
   ]
  },
  {
   "cell_type": "markdown",
   "id": "ready-cardiff",
   "metadata": {},
   "source": [
    "## Average file size per file type (in Mo)"
   ]
  },
  {
   "cell_type": "code",
   "execution_count": 7,
   "id": "composite-special",
   "metadata": {},
   "outputs": [
    {
     "data": {
      "text/plain": [
       "type\n",
       "mdp       0.002064\n",
       "pdb     206.748547\n",
       "tpr       1.179836\n",
       "xtc    2159.645214\n",
       "Name: size, dtype: float64"
      ]
     },
     "execution_count": 7,
     "metadata": {},
     "output_type": "execute_result"
    }
   ],
   "source": [
    "interest_df.groupby(\"type\")[\"size\"].mean()/(1024*1024)"
   ]
  },
  {
   "cell_type": "code",
   "execution_count": null,
   "id": "special-pressure",
   "metadata": {},
   "outputs": [],
   "source": []
  }
 ],
 "metadata": {
  "kernelspec": {
   "display_name": "Python 3",
   "language": "python",
   "name": "python3"
  },
  "language_info": {
   "codemirror_mode": {
    "name": "ipython",
    "version": 3
   },
   "file_extension": ".py",
   "mimetype": "text/x-python",
   "name": "python",
   "nbconvert_exporter": "python",
   "pygments_lexer": "ipython3",
   "version": "3.8.8"
  }
 },
 "nbformat": 4,
 "nbformat_minor": 5
}
