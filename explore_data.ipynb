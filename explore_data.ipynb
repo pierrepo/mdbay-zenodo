{
 "cells": [
  {
   "cell_type": "markdown",
   "id": "governing-armenia",
   "metadata": {},
   "source": [
    "# Explore molecular dynamics datasets retrieved from Zenodo"
   ]
  },
  {
   "cell_type": "code",
   "execution_count": 1,
   "id": "sharing-grounds",
   "metadata": {},
   "outputs": [],
   "source": [
    "import matplotlib.pyplot as plt\n",
    "import pandas as pd"
   ]
  },
  {
   "cell_type": "markdown",
   "id": "curious-musician",
   "metadata": {},
   "source": [
    "## Load data"
   ]
  },
  {
   "cell_type": "code",
   "execution_count": 10,
   "id": "processed-member",
   "metadata": {},
   "outputs": [
    {
     "name": "stdout",
     "output_type": "stream",
     "text": [
      "<class 'pandas.core.frame.DataFrame'>\n",
      "Int64Index: 9898 entries, 3994120 to 1017210\n",
      "Data columns (total 7 columns):\n",
      " #   Column        Non-Null Count  Dtype \n",
      "---  ------        --------------  ----- \n",
      " 0   conceptid     9898 non-null   int64 \n",
      " 1   date_created  9898 non-null   object\n",
      " 2   date_updated  9898 non-null   object\n",
      " 3   title         9898 non-null   object\n",
      " 4   description   9898 non-null   object\n",
      " 5   access_right  9898 non-null   object\n",
      " 6   license       9898 non-null   object\n",
      "dtypes: int64(1), object(6)\n",
      "memory usage: 20.6 MB\n",
      "None\n"
     ]
    },
    {
     "data": {
      "text/html": [
       "<div>\n",
       "<style scoped>\n",
       "    .dataframe tbody tr th:only-of-type {\n",
       "        vertical-align: middle;\n",
       "    }\n",
       "\n",
       "    .dataframe tbody tr th {\n",
       "        vertical-align: top;\n",
       "    }\n",
       "\n",
       "    .dataframe thead th {\n",
       "        text-align: right;\n",
       "    }\n",
       "</style>\n",
       "<table border=\"1\" class=\"dataframe\">\n",
       "  <thead>\n",
       "    <tr style=\"text-align: right;\">\n",
       "      <th></th>\n",
       "      <th>conceptid</th>\n",
       "      <th>date_created</th>\n",
       "      <th>date_updated</th>\n",
       "      <th>title</th>\n",
       "      <th>description</th>\n",
       "      <th>access_right</th>\n",
       "      <th>license</th>\n",
       "    </tr>\n",
       "    <tr>\n",
       "      <th>id</th>\n",
       "      <th></th>\n",
       "      <th></th>\n",
       "      <th></th>\n",
       "      <th></th>\n",
       "      <th></th>\n",
       "      <th></th>\n",
       "      <th></th>\n",
       "    </tr>\n",
       "  </thead>\n",
       "  <tbody>\n",
       "    <tr>\n",
       "      <th>3994120</th>\n",
       "      <td>3769669</td>\n",
       "      <td>2020-08-21T08:29:25.541119+00:00</td>\n",
       "      <td>2020-08-21T12:59:23.565442+00:00</td>\n",
       "      <td>Atom coordinates for molecular dynamics</td>\n",
       "      <td>&lt;p&gt;Atom coordinates for molecular dynamics. Fo...</td>\n",
       "      <td>open</td>\n",
       "      <td>CC-BY-4.0</td>\n",
       "    </tr>\n",
       "    <tr>\n",
       "      <th>3676936</th>\n",
       "      <td>3676935</td>\n",
       "      <td>2020-02-20T15:31:03.462343+00:00</td>\n",
       "      <td>2020-02-21T07:20:55.837749+00:00</td>\n",
       "      <td>A1904 molecular dynamics trajectories data</td>\n",
       "      <td>&lt;p&gt;Molecular dynamics (MD) trajectories of wat...</td>\n",
       "      <td>open</td>\n",
       "      <td>CC-BY-4.0</td>\n",
       "    </tr>\n",
       "    <tr>\n",
       "      <th>3956408</th>\n",
       "      <td>3956407</td>\n",
       "      <td>2020-07-22T13:59:14.275412+00:00</td>\n",
       "      <td>2020-07-23T12:59:24.058110+00:00</td>\n",
       "      <td>Complementary data to \"Molecular dynamics traj...</td>\n",
       "      <td>&lt;p&gt;Missing data from &amp;quot;Molecular dynamics ...</td>\n",
       "      <td>open</td>\n",
       "      <td>CC-BY-4.0</td>\n",
       "    </tr>\n",
       "    <tr>\n",
       "      <th>4106362</th>\n",
       "      <td>4106361</td>\n",
       "      <td>2020-10-19T11:14:34.208998+00:00</td>\n",
       "      <td>2020-10-19T12:26:57.171108+00:00</td>\n",
       "      <td>Vibrational Spectra of a N719-Chromophore/Tita...</td>\n",
       "      <td>&lt;p&gt;A dye-sensitized solar cell was solvated by...</td>\n",
       "      <td>open</td>\n",
       "      <td>CC-BY-4.0</td>\n",
       "    </tr>\n",
       "    <tr>\n",
       "      <th>4632366</th>\n",
       "      <td>4632365</td>\n",
       "      <td>2021-03-23T21:29:35.435986+00:00</td>\n",
       "      <td>2021-03-24T00:27:31.798745+00:00</td>\n",
       "      <td>Molecular Dynamics Simulations of Water Format...</td>\n",
       "      <td>&lt;p&gt;Dataset support &amp;quot;Molecular Dynamics Si...</td>\n",
       "      <td>open</td>\n",
       "      <td>CC-BY-4.0</td>\n",
       "    </tr>\n",
       "  </tbody>\n",
       "</table>\n",
       "</div>"
      ],
      "text/plain": [
       "         conceptid                      date_created  \\\n",
       "id                                                     \n",
       "3994120    3769669  2020-08-21T08:29:25.541119+00:00   \n",
       "3676936    3676935  2020-02-20T15:31:03.462343+00:00   \n",
       "3956408    3956407  2020-07-22T13:59:14.275412+00:00   \n",
       "4106362    4106361  2020-10-19T11:14:34.208998+00:00   \n",
       "4632366    4632365  2021-03-23T21:29:35.435986+00:00   \n",
       "\n",
       "                             date_updated  \\\n",
       "id                                          \n",
       "3994120  2020-08-21T12:59:23.565442+00:00   \n",
       "3676936  2020-02-21T07:20:55.837749+00:00   \n",
       "3956408  2020-07-23T12:59:24.058110+00:00   \n",
       "4106362  2020-10-19T12:26:57.171108+00:00   \n",
       "4632366  2021-03-24T00:27:31.798745+00:00   \n",
       "\n",
       "                                                     title  \\\n",
       "id                                                           \n",
       "3994120            Atom coordinates for molecular dynamics   \n",
       "3676936         A1904 molecular dynamics trajectories data   \n",
       "3956408  Complementary data to \"Molecular dynamics traj...   \n",
       "4106362  Vibrational Spectra of a N719-Chromophore/Tita...   \n",
       "4632366  Molecular Dynamics Simulations of Water Format...   \n",
       "\n",
       "                                               description access_right  \\\n",
       "id                                                                        \n",
       "3994120  <p>Atom coordinates for molecular dynamics. Fo...         open   \n",
       "3676936  <p>Molecular dynamics (MD) trajectories of wat...         open   \n",
       "3956408  <p>Missing data from &quot;Molecular dynamics ...         open   \n",
       "4106362  <p>A dye-sensitized solar cell was solvated by...         open   \n",
       "4632366  <p>Dataset support &quot;Molecular Dynamics Si...         open   \n",
       "\n",
       "           license  \n",
       "id                  \n",
       "3994120  CC-BY-4.0  \n",
       "3676936  CC-BY-4.0  \n",
       "3956408  CC-BY-4.0  \n",
       "4106362  CC-BY-4.0  \n",
       "4632366  CC-BY-4.0  "
      ]
     },
     "execution_count": 10,
     "metadata": {},
     "output_type": "execute_result"
    }
   ],
   "source": [
    "records_df = pd.read_csv(\"zenodo_records.csv\", index_col=\"id\")\n",
    "print(records_df.info(memory_usage=\"deep\"))\n",
    "records_df.head()"
   ]
  },
  {
   "cell_type": "code",
   "execution_count": 11,
   "id": "statutory-appendix",
   "metadata": {},
   "outputs": [
    {
     "name": "stdout",
     "output_type": "stream",
     "text": [
      "<class 'pandas.core.frame.DataFrame'>\n",
      "Int64Index: 50353 entries, 3994120 to 1017210\n",
      "Data columns (total 3 columns):\n",
      " #   Column  Non-Null Count  Dtype \n",
      "---  ------  --------------  ----- \n",
      " 0   name    50353 non-null  object\n",
      " 1   type    50173 non-null  object\n",
      " 2   size    50353 non-null  int64 \n",
      "dtypes: int64(1), object(2)\n",
      "memory usage: 8.4 MB\n",
      "None\n"
     ]
    },
    {
     "data": {
      "text/html": [
       "<div>\n",
       "<style scoped>\n",
       "    .dataframe tbody tr th:only-of-type {\n",
       "        vertical-align: middle;\n",
       "    }\n",
       "\n",
       "    .dataframe tbody tr th {\n",
       "        vertical-align: top;\n",
       "    }\n",
       "\n",
       "    .dataframe thead th {\n",
       "        text-align: right;\n",
       "    }\n",
       "</style>\n",
       "<table border=\"1\" class=\"dataframe\">\n",
       "  <thead>\n",
       "    <tr style=\"text-align: right;\">\n",
       "      <th></th>\n",
       "      <th>name</th>\n",
       "      <th>type</th>\n",
       "      <th>size</th>\n",
       "    </tr>\n",
       "    <tr>\n",
       "      <th>record_id</th>\n",
       "      <th></th>\n",
       "      <th></th>\n",
       "      <th></th>\n",
       "    </tr>\n",
       "  </thead>\n",
       "  <tbody>\n",
       "    <tr>\n",
       "      <th>3994120</th>\n",
       "      <td>amorphous_silica_1.data</td>\n",
       "      <td>data</td>\n",
       "      <td>47318077</td>\n",
       "    </tr>\n",
       "    <tr>\n",
       "      <th>3994120</th>\n",
       "      <td>amorphous_silica_1.zjson</td>\n",
       "      <td>zjson</td>\n",
       "      <td>405</td>\n",
       "    </tr>\n",
       "    <tr>\n",
       "      <th>3994120</th>\n",
       "      <td>ch_blob_10nm.data</td>\n",
       "      <td>data</td>\n",
       "      <td>1450543</td>\n",
       "    </tr>\n",
       "    <tr>\n",
       "      <th>3994120</th>\n",
       "      <td>vashishta_1990_like_amorphous_silica_amorphous...</td>\n",
       "      <td>in</td>\n",
       "      <td>2290</td>\n",
       "    </tr>\n",
       "    <tr>\n",
       "      <th>3994120</th>\n",
       "      <td>vashishta_1990_like_amorphous_silica_log.lammps</td>\n",
       "      <td>lammps</td>\n",
       "      <td>1659433</td>\n",
       "    </tr>\n",
       "  </tbody>\n",
       "</table>\n",
       "</div>"
      ],
      "text/plain": [
       "                                                        name    type      size\n",
       "record_id                                                                     \n",
       "3994120                              amorphous_silica_1.data    data  47318077\n",
       "3994120                             amorphous_silica_1.zjson   zjson       405\n",
       "3994120                                    ch_blob_10nm.data    data   1450543\n",
       "3994120    vashishta_1990_like_amorphous_silica_amorphous...      in      2290\n",
       "3994120      vashishta_1990_like_amorphous_silica_log.lammps  lammps   1659433"
      ]
     },
     "execution_count": 11,
     "metadata": {},
     "output_type": "execute_result"
    }
   ],
   "source": [
    "files_df = pd.read_csv(\"zenodo_files.csv\", index_col=\"record_id\")\n",
    "print(files_df.info(memory_usage=\"deep\"))\n",
    "files_df.head()"
   ]
  },
  {
   "cell_type": "markdown",
   "id": "familiar-capital",
   "metadata": {},
   "source": [
    "## Select 'interesting' file types"
   ]
  },
  {
   "cell_type": "code",
   "execution_count": 12,
   "id": "upset-preserve",
   "metadata": {},
   "outputs": [
    {
     "data": {
      "text/html": [
       "<div>\n",
       "<style scoped>\n",
       "    .dataframe tbody tr th:only-of-type {\n",
       "        vertical-align: middle;\n",
       "    }\n",
       "\n",
       "    .dataframe tbody tr th {\n",
       "        vertical-align: top;\n",
       "    }\n",
       "\n",
       "    .dataframe thead th {\n",
       "        text-align: right;\n",
       "    }\n",
       "</style>\n",
       "<table border=\"1\" class=\"dataframe\">\n",
       "  <thead>\n",
       "    <tr style=\"text-align: right;\">\n",
       "      <th></th>\n",
       "      <th>name</th>\n",
       "      <th>type</th>\n",
       "      <th>size</th>\n",
       "    </tr>\n",
       "    <tr>\n",
       "      <th>record_id</th>\n",
       "      <th></th>\n",
       "      <th></th>\n",
       "      <th></th>\n",
       "    </tr>\n",
       "  </thead>\n",
       "  <tbody>\n",
       "    <tr>\n",
       "      <th>267916</th>\n",
       "      <td>300ns_setup_I_all.pdb</td>\n",
       "      <td>pdb</td>\n",
       "      <td>65072770</td>\n",
       "    </tr>\n",
       "    <tr>\n",
       "      <th>267916</th>\n",
       "      <td>300ns_setup_II_all.pdb</td>\n",
       "      <td>pdb</td>\n",
       "      <td>65072454</td>\n",
       "    </tr>\n",
       "    <tr>\n",
       "      <th>3696800</th>\n",
       "      <td>COSAN-cis.pdb</td>\n",
       "      <td>pdb</td>\n",
       "      <td>3630</td>\n",
       "    </tr>\n",
       "    <tr>\n",
       "      <th>4509425</th>\n",
       "      <td>ptz_cbp_box.pdb</td>\n",
       "      <td>pdb</td>\n",
       "      <td>1169747</td>\n",
       "    </tr>\n",
       "    <tr>\n",
       "      <th>4509425</th>\n",
       "      <td>ptz_pyd2_box.pdb</td>\n",
       "      <td>pdb</td>\n",
       "      <td>1171923</td>\n",
       "    </tr>\n",
       "  </tbody>\n",
       "</table>\n",
       "</div>"
      ],
      "text/plain": [
       "                             name type      size\n",
       "record_id                                       \n",
       "267916      300ns_setup_I_all.pdb  pdb  65072770\n",
       "267916     300ns_setup_II_all.pdb  pdb  65072454\n",
       "3696800             COSAN-cis.pdb  pdb      3630\n",
       "4509425           ptz_cbp_box.pdb  pdb   1169747\n",
       "4509425          ptz_pyd2_box.pdb  pdb   1171923"
      ]
     },
     "execution_count": 12,
     "metadata": {},
     "output_type": "execute_result"
    }
   ],
   "source": [
    "interest_df = files_df[ files_df[\"type\"].isin([\"mdp\", \"xtc\", \"pdb\", \"tpr\", \"trj\"]) ]\n",
    "interest_df.head()"
   ]
  },
  {
   "cell_type": "markdown",
   "id": "verbal-pacific",
   "metadata": {},
   "source": [
    "## Number of files per file type"
   ]
  },
  {
   "cell_type": "code",
   "execution_count": 13,
   "id": "stock-viking",
   "metadata": {},
   "outputs": [],
   "source": [
    "file_types = interest_df[\"type\"].value_counts()"
   ]
  },
  {
   "cell_type": "code",
   "execution_count": 14,
   "id": "human-journalist",
   "metadata": {},
   "outputs": [
    {
     "data": {
      "text/plain": [
       "Text(0.5, 0, 'Number of files')"
      ]
     },
     "execution_count": 14,
     "metadata": {},
     "output_type": "execute_result"
    },
    {
     "data": {
      "image/png": "[encoded data removed]",
      "text/plain": [
       "<Figure size 432x288 with 1 Axes>"
      ]
     },
     "metadata": {
      "needs_background": "light"
     },
     "output_type": "display_data"
    }
   ],
   "source": [
    "plt.barh(file_types.index, file_types.values, height=0.6)\n",
    "plt.xlabel(\"Number of files\")"
   ]
  },
  {
   "cell_type": "markdown",
   "id": "abandoned-theme",
   "metadata": {},
   "source": [
    "## Average file size per file type (in Mo)"
   ]
  },
  {
   "cell_type": "code",
   "execution_count": 17,
   "id": "august-healing",
   "metadata": {},
   "outputs": [
    {
     "data": {
      "text/plain": [
       "type\n",
       "mdp       0.005353\n",
       "pdb     167.227174\n",
       "tpr       2.000739\n",
       "xtc    3523.631786\n",
       "Name: size, dtype: float64"
      ]
     },
     "execution_count": 17,
     "metadata": {},
     "output_type": "execute_result"
    }
   ],
   "source": [
    "interest_df.groupby(\"type\")[\"size\"].mean()/(1024*1024)"
   ]
  },
  {
   "cell_type": "code",
   "execution_count": null,
   "id": "given-concord",
   "metadata": {},
   "outputs": [],
   "source": []
  }
 ],
 "metadata": {
  "kernelspec": {
   "display_name": "Python 3",
   "language": "python",
   "name": "python3"
  },
  "language_info": {
   "codemirror_mode": {
    "name": "ipython",
    "version": 3
   },
   "file_extension": ".py",
   "mimetype": "text/x-python",
   "name": "python",
   "nbconvert_exporter": "python",
   "pygments_lexer": "ipython3",
   "version": "3.8.8"
  }
 },
 "nbformat": 4,
 "nbformat_minor": 5
}
